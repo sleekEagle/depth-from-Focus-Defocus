{
 "cells": [
  {
   "cell_type": "code",
   "execution_count": 1,
   "metadata": {},
   "outputs": [],
   "source": [
    "from __future__ import print_function\n",
    "import argparse\n",
    "import os\n",
    "import random\n",
    "import torch\n",
    "import torch.nn as nn\n",
    "import torch.backends.cudnn as cudnn\n",
    "import torch.optim as optim\n",
    "import torch.utils.data\n",
    "from torch.autograd import Variable\n",
    "import torch.nn.functional as F\n",
    "import time\n",
    "import models\n",
    "from utils import logger, write_log\n",
    "torch.backends.cudnn.benchmark=True\n",
    "from glob import glob\n",
    "import importlib\n",
    "%load_ext autoreload\n",
    "%autoreload 2\n",
    "%matplotlib inline\n",
    "import matplotlib.pyplot as plt\n",
    "from models import DFFNet"
   ]
  },
  {
   "cell_type": "code",
   "execution_count": 26,
   "metadata": {},
   "outputs": [],
   "source": [
    "import torch, os, sys, cv2\n",
    "import torch.nn as nn\n",
    "from torch.nn import init\n",
    "import functools\n",
    "import torch.optim as optim\n",
    "\n",
    "from torch.utils.data import Dataset, DataLoader\n",
    "from torch.nn import functional as func\n",
    "from PIL import Image\n",
    "\n",
    "import torchvision.transforms as transforms\n",
    "import numpy as np\n",
    "import torch"
   ]
  },
  {
   "cell_type": "code",
   "execution_count": 27,
   "metadata": {},
   "outputs": [],
   "source": [
    "#dynamic architecture\n",
    "class RecurrentBlock(nn.Module):\n",
    "\n",
    "    def __init__(self, input_nc, output_nc, downsampling=False, bottleneck=False, upsampling=False):\n",
    "        super(RecurrentBlock, self).__init__()\n",
    "\n",
    "        self.input_nc = input_nc\n",
    "        self.output_nc = output_nc\n",
    "\n",
    "        self.downsampling = downsampling\n",
    "        self.upsampling = upsampling\n",
    "        self.bottleneck = bottleneck\n",
    "\n",
    "        self.hidden = None\n",
    "\n",
    "        if self.downsampling:\n",
    "            self.l1 = nn.Sequential(\n",
    "                    nn.Conv2d(input_nc, output_nc, 3, padding=1),\n",
    "                    nn.LeakyReLU(negative_slope=0.1)\n",
    "                )\n",
    "            self.l2 = nn.Sequential(\n",
    "                    nn.Conv2d(2 * output_nc, output_nc, 3, padding=1),\n",
    "                    nn.LeakyReLU(negative_slope=0.1),\n",
    "                    nn.Conv2d(output_nc, output_nc, 3, padding=1),\n",
    "                    nn.LeakyReLU(negative_slope=0.1),\n",
    "                )\n",
    "        elif self.upsampling:\n",
    "            self.l1 = nn.Sequential(\n",
    "                    nn.Upsample(scale_factor=2, mode='nearest'),\n",
    "                    nn.Conv2d(2 * input_nc, output_nc, 3, padding=1),\n",
    "                    nn.LeakyReLU(negative_slope=0.1),\n",
    "                    nn.Conv2d(output_nc, output_nc, 3, padding=1),\n",
    "                    nn.LeakyReLU(negative_slope=0.1),\n",
    "                )\n",
    "        elif self.bottleneck:\n",
    "            self.l1 = nn.Sequential(\n",
    "                    nn.Conv2d(input_nc, output_nc, 3, padding=1),\n",
    "                    nn.LeakyReLU(negative_slope=0.1)\n",
    "                )\n",
    "            self.l2 = nn.Sequential(\n",
    "                    nn.Conv2d(2 * output_nc, output_nc, 3, padding=1),\n",
    "                    nn.LeakyReLU(negative_slope=0.1),\n",
    "                    nn.Conv2d(output_nc, output_nc, 3, padding=1),\n",
    "                    nn.LeakyReLU(negative_slope=0.1),\n",
    "                )\n",
    "\n",
    "    def forward(self, inp):\n",
    "\n",
    "        if self.downsampling:\n",
    "            op1 = self.l1(inp)\n",
    "            op2 = self.l2(torch.cat((op1, self.hidden), dim=1))\n",
    "\n",
    "            self.hidden = op2\n",
    "\n",
    "            return op2\n",
    "        elif self.upsampling:\n",
    "            op1 = self.l1(inp)\n",
    "\n",
    "            return op1\n",
    "        elif self.bottleneck:\n",
    "            op1 = self.l1(inp)\n",
    "            op2 = self.l2(torch.cat((op1, self.hidden), dim=1))\n",
    "\n",
    "            self.hidden = op2\n",
    "\n",
    "            return op2\n",
    "\n",
    "    def reset_hidden(self, inp, dfac):\n",
    "        size = list(inp.size())\n",
    "        size[1] = self.output_nc\n",
    "        size[2] /= dfac\n",
    "        size[3] /= dfac\n",
    "\n",
    "        for s in range(len(size)):\n",
    "            size[s] = int(size[s])\n",
    "\n",
    "        self.hidden_size = size\n",
    "        self.hidden = torch.zeros(*(size)).to('cuda:0')\n",
    "\n",
    "\n",
    "\n",
    "class RecurrentAE(nn.Module):\n",
    "\n",
    "    def __init__(self, input_nc):\n",
    "        super(RecurrentAE, self).__init__()\n",
    "        self.d1 = RecurrentBlock(input_nc=input_nc, output_nc=32, downsampling=True)\n",
    "        self.d2 = RecurrentBlock(input_nc=32, output_nc=43, downsampling=True)\n",
    "        self.d3 = RecurrentBlock(input_nc=43, output_nc=57, downsampling=True)\n",
    "        self.d4 = RecurrentBlock(input_nc=57, output_nc=76, downsampling=True)\n",
    "        self.d5 = RecurrentBlock(input_nc=76, output_nc=101, downsampling=True)\n",
    "\n",
    "        self.bottleneck = RecurrentBlock(input_nc=101, output_nc=101, bottleneck=True)\n",
    "\n",
    "        self.u5 = RecurrentBlock(input_nc=101, output_nc=76, upsampling=True)\n",
    "        self.u4 = RecurrentBlock(input_nc=76, output_nc=57, upsampling=True)\n",
    "        self.u3 = RecurrentBlock(input_nc=57, output_nc=43, upsampling=True)\n",
    "        self.u2 = RecurrentBlock(input_nc=43, output_nc=32, upsampling=True)\n",
    "        self.u1 = RecurrentBlock(input_nc=32, output_nc=1, upsampling=True)\n",
    "\n",
    "    def set_input(self, inp):\n",
    "        self.inp = inp['A']\n",
    "\n",
    "    def forward(self):\n",
    "        d1 = func.max_pool2d(input=self.d1(self.inp), kernel_size=2)\n",
    "        d2 = func.max_pool2d(input=self.d2(d1), kernel_size=2)\n",
    "        d3 = func.max_pool2d(input=self.d3(d2), kernel_size=2)\n",
    "        d4 = func.max_pool2d(input=self.d4(d3), kernel_size=2)\n",
    "        d5 = func.max_pool2d(input=self.d5(d4), kernel_size=2)\n",
    "\n",
    "        b = self.bottleneck(d5)\n",
    "\n",
    "        u5 = self.u5(torch.cat((b, d5), dim=1))\n",
    "        u4 = self.u4(torch.cat((u5, d4), dim=1))\n",
    "        u3 = self.u3(torch.cat((u4, d3), dim=1))\n",
    "        u2 = self.u2(torch.cat((u3, d2), dim=1))\n",
    "        u1 = self.u1(torch.cat((u2, d1), dim=1))\n",
    "\n",
    "        return b\n",
    "\n",
    "    def reset_hidden(self):\n",
    "        self.d1.reset_hidden(self.inp, dfac=1)\n",
    "        self.d2.reset_hidden(self.inp, dfac=2)\n",
    "        self.d3.reset_hidden(self.inp, dfac=4)\n",
    "        self.d4.reset_hidden(self.inp, dfac=8)\n",
    "        self.d5.reset_hidden(self.inp, dfac=16)\n",
    "\n",
    "        self.bottleneck.reset_hidden(self.inp, dfac=32)\n",
    "\n",
    "        self.u4.reset_hidden(self.inp, dfac=16)\n",
    "        self.u3.reset_hidden(self.inp, dfac=8)\n",
    "        self.u5.reset_hidden(self.inp, dfac=4)\n",
    "        self.u2.reset_hidden(self.inp, dfac=2)\n",
    "        self.u1.reset_hidden(self.inp, dfac=1)"
   ]
  },
  {
   "cell_type": "code",
   "execution_count": 89,
   "metadata": {},
   "outputs": [],
   "source": [
    "class CNNLSTM(nn.Module):\n",
    "    def __init__(self):\n",
    "        super(CNNLSTM, self).__init__()\n",
    "        self.conv1 = torch.nn.Conv2d(in_channels=1, out_channels=64, kernel_size=5)\n",
    "        self.conv2 = torch.nn.Conv2d(in_channels=64,out_channels=32, kernel_size=5)\n",
    "        self.conv3 = torch.nn.Conv2d(in_channels=32, out_channels=16, kernel_size=5)\n",
    "        self.conv4 = torch.nn.Conv2d(in_channels=16, out_channels=8, kernel_size=5)\n",
    "        self.lstm1 = torch.nn.LSTM(\n",
    "            input_size= 346112,\n",
    "            hidden_size=512,\n",
    "            num_layers=2,\n",
    "        )\n",
    "        self.conv5 = torch.nn.Conv2d(in_channels=8, out_channels=1, kernel_size=5)\n",
    "        self.fc2 = torch.nn.Linear(128, 6)\n",
    "\n",
    "    def forward(self, x):\n",
    "        b,s,h,w=x.shape\n",
    "        print(x.shape)\n",
    "        x=x.reshape(b*s,1,h,w)\n",
    "        print(x.shape)\n",
    "        x = F.relu(self.conv1(x))\n",
    "        x = F.relu(self.conv2(x))\n",
    "        x = F.relu(self.conv3(x))\n",
    "        x = F.relu(self.conv4(x))\n",
    "        print(x.shape)\n",
    "        bs,c,h,w=x.shape\n",
    "        x=x.reshape(b,s,c*h*w)\n",
    "        print(x.shape)\n",
    "        x,_ = self.lstm1(x)\n",
    "        print(x.shape)\n",
    "        x=x.reshape(bs,c,h,w)\n",
    "        print(x.shape)\n",
    "        x=self.conv5(x)\n",
    "        print(x.shape)\n",
    "        #x = x[:, -1, :]\n",
    "        #x = self.fc2(x)\n",
    "        return x"
   ]
  },
  {
   "cell_type": "code",
   "execution_count": 90,
   "metadata": {},
   "outputs": [
    {
     "name": "stdout",
     "output_type": "stream",
     "text": [
      "torch.Size([10, 5, 224, 224])\n",
      "torch.Size([50, 1, 224, 224])\n",
      "torch.Size([50, 8, 208, 208])\n",
      "torch.Size([10, 5, 346112])\n",
      "torch.Size([10, 5, 512])\n"
     ]
    },
    {
     "ename": "RuntimeError",
     "evalue": "shape '[50, 8, 208, 208]' is invalid for input of size 25600",
     "output_type": "error",
     "traceback": [
      "\u001b[0;31m---------------------------------------------------------------------------\u001b[0m",
      "\u001b[0;31mRuntimeError\u001b[0m                              Traceback (most recent call last)",
      "\u001b[0;32m<ipython-input-90-b0b1fec5a002>\u001b[0m in \u001b[0;36m<module>\u001b[0;34m\u001b[0m\n\u001b[1;32m      1\u001b[0m \u001b[0mimg\u001b[0m\u001b[0;34m=\u001b[0m\u001b[0mtorch\u001b[0m\u001b[0;34m.\u001b[0m\u001b[0mrand\u001b[0m\u001b[0;34m(\u001b[0m\u001b[0;34m(\u001b[0m\u001b[0;36m10\u001b[0m\u001b[0;34m,\u001b[0m\u001b[0;36m5\u001b[0m\u001b[0;34m,\u001b[0m\u001b[0;36m224\u001b[0m\u001b[0;34m,\u001b[0m\u001b[0;36m224\u001b[0m\u001b[0;34m)\u001b[0m\u001b[0;34m)\u001b[0m\u001b[0;34m\u001b[0m\u001b[0;34m\u001b[0m\u001b[0m\n\u001b[1;32m      2\u001b[0m \u001b[0mmodel\u001b[0m\u001b[0;34m=\u001b[0m\u001b[0mCNNLSTM\u001b[0m\u001b[0;34m(\u001b[0m\u001b[0;34m)\u001b[0m\u001b[0;34m\u001b[0m\u001b[0;34m\u001b[0m\u001b[0m\n\u001b[0;32m----> 3\u001b[0;31m \u001b[0mmodel\u001b[0m\u001b[0;34m(\u001b[0m\u001b[0mimg\u001b[0m\u001b[0;34m)\u001b[0m\u001b[0;34m.\u001b[0m\u001b[0mshape\u001b[0m\u001b[0;34m\u001b[0m\u001b[0;34m\u001b[0m\u001b[0m\n\u001b[0m",
      "\u001b[0;32m/opt/conda/lib/python3.7/site-packages/torch/nn/modules/module.py\u001b[0m in \u001b[0;36m__call__\u001b[0;34m(self, *input, **kwargs)\u001b[0m\n\u001b[1;32m    548\u001b[0m             \u001b[0mresult\u001b[0m \u001b[0;34m=\u001b[0m \u001b[0mself\u001b[0m\u001b[0;34m.\u001b[0m\u001b[0m_slow_forward\u001b[0m\u001b[0;34m(\u001b[0m\u001b[0;34m*\u001b[0m\u001b[0minput\u001b[0m\u001b[0;34m,\u001b[0m \u001b[0;34m**\u001b[0m\u001b[0mkwargs\u001b[0m\u001b[0;34m)\u001b[0m\u001b[0;34m\u001b[0m\u001b[0;34m\u001b[0m\u001b[0m\n\u001b[1;32m    549\u001b[0m         \u001b[0;32melse\u001b[0m\u001b[0;34m:\u001b[0m\u001b[0;34m\u001b[0m\u001b[0;34m\u001b[0m\u001b[0m\n\u001b[0;32m--> 550\u001b[0;31m             \u001b[0mresult\u001b[0m \u001b[0;34m=\u001b[0m \u001b[0mself\u001b[0m\u001b[0;34m.\u001b[0m\u001b[0mforward\u001b[0m\u001b[0;34m(\u001b[0m\u001b[0;34m*\u001b[0m\u001b[0minput\u001b[0m\u001b[0;34m,\u001b[0m \u001b[0;34m**\u001b[0m\u001b[0mkwargs\u001b[0m\u001b[0;34m)\u001b[0m\u001b[0;34m\u001b[0m\u001b[0;34m\u001b[0m\u001b[0m\n\u001b[0m\u001b[1;32m    551\u001b[0m         \u001b[0;32mfor\u001b[0m \u001b[0mhook\u001b[0m \u001b[0;32min\u001b[0m \u001b[0mself\u001b[0m\u001b[0;34m.\u001b[0m\u001b[0m_forward_hooks\u001b[0m\u001b[0;34m.\u001b[0m\u001b[0mvalues\u001b[0m\u001b[0;34m(\u001b[0m\u001b[0;34m)\u001b[0m\u001b[0;34m:\u001b[0m\u001b[0;34m\u001b[0m\u001b[0;34m\u001b[0m\u001b[0m\n\u001b[1;32m    552\u001b[0m             \u001b[0mhook_result\u001b[0m \u001b[0;34m=\u001b[0m \u001b[0mhook\u001b[0m\u001b[0;34m(\u001b[0m\u001b[0mself\u001b[0m\u001b[0;34m,\u001b[0m \u001b[0minput\u001b[0m\u001b[0;34m,\u001b[0m \u001b[0mresult\u001b[0m\u001b[0;34m)\u001b[0m\u001b[0;34m\u001b[0m\u001b[0;34m\u001b[0m\u001b[0m\n",
      "\u001b[0;32m<ipython-input-89-2793d7d72555>\u001b[0m in \u001b[0;36mforward\u001b[0;34m(self, x)\u001b[0m\n\u001b[1;32m     29\u001b[0m         \u001b[0mx\u001b[0m\u001b[0;34m,\u001b[0m\u001b[0m_\u001b[0m \u001b[0;34m=\u001b[0m \u001b[0mself\u001b[0m\u001b[0;34m.\u001b[0m\u001b[0mlstm1\u001b[0m\u001b[0;34m(\u001b[0m\u001b[0mx\u001b[0m\u001b[0;34m)\u001b[0m\u001b[0;34m\u001b[0m\u001b[0;34m\u001b[0m\u001b[0m\n\u001b[1;32m     30\u001b[0m         \u001b[0mprint\u001b[0m\u001b[0;34m(\u001b[0m\u001b[0mx\u001b[0m\u001b[0;34m.\u001b[0m\u001b[0mshape\u001b[0m\u001b[0;34m)\u001b[0m\u001b[0;34m\u001b[0m\u001b[0;34m\u001b[0m\u001b[0m\n\u001b[0;32m---> 31\u001b[0;31m         \u001b[0mx\u001b[0m\u001b[0;34m=\u001b[0m\u001b[0mx\u001b[0m\u001b[0;34m.\u001b[0m\u001b[0mreshape\u001b[0m\u001b[0;34m(\u001b[0m\u001b[0mbs\u001b[0m\u001b[0;34m,\u001b[0m\u001b[0mc\u001b[0m\u001b[0;34m,\u001b[0m\u001b[0mh\u001b[0m\u001b[0;34m,\u001b[0m\u001b[0mw\u001b[0m\u001b[0;34m)\u001b[0m\u001b[0;34m\u001b[0m\u001b[0;34m\u001b[0m\u001b[0m\n\u001b[0m\u001b[1;32m     32\u001b[0m         \u001b[0mprint\u001b[0m\u001b[0;34m(\u001b[0m\u001b[0mx\u001b[0m\u001b[0;34m.\u001b[0m\u001b[0mshape\u001b[0m\u001b[0;34m)\u001b[0m\u001b[0;34m\u001b[0m\u001b[0;34m\u001b[0m\u001b[0m\n\u001b[1;32m     33\u001b[0m         \u001b[0mx\u001b[0m\u001b[0;34m=\u001b[0m\u001b[0mself\u001b[0m\u001b[0;34m.\u001b[0m\u001b[0mconv5\u001b[0m\u001b[0;34m(\u001b[0m\u001b[0mx\u001b[0m\u001b[0;34m)\u001b[0m\u001b[0;34m\u001b[0m\u001b[0;34m\u001b[0m\u001b[0m\n",
      "\u001b[0;31mRuntimeError\u001b[0m: shape '[50, 8, 208, 208]' is invalid for input of size 25600"
     ]
    }
   ],
   "source": [
    "img=torch.rand((10,5,224,224))\n",
    "model=CNNLSTM()\n",
    "model(img).shape"
   ]
  },
  {
   "cell_type": "code",
   "execution_count": 17,
   "metadata": {},
   "outputs": [],
   "source": [
    "rnn = nn.LSTM(input_size=10,hidden_size=20,num_layers=2)\n",
    "input = torch.randn(5, 3, 10) #seq,batch,size\n",
    "h0 = torch.randn(2, 3, 20) #layers,batch,hiddensize\n",
    "c0 = torch.randn(2, 3, 20)\n",
    "output, (hn, cn) = rnn(input, (h0, c0))"
   ]
  },
  {
   "cell_type": "code",
   "execution_count": 12,
   "metadata": {},
   "outputs": [
    {
     "data": {
      "text/plain": [
       "(torch.Size([5, 3, 20]), torch.Size([2, 3, 20]), torch.Size([2, 3, 20]))"
      ]
     },
     "execution_count": 12,
     "metadata": {},
     "output_type": "execute_result"
    }
   ],
   "source": [
    "output.shape,hn.shape,cn.shape"
   ]
  },
  {
   "cell_type": "code",
   "execution_count": 28,
   "metadata": {},
   "outputs": [],
   "source": [
    "img=torch.rand((10,5,224,224))\n",
    "img=img.cuda()\n",
    "inp={'A':img}\n",
    "recmodel=RecurrentAE(5)\n",
    "recmodel=recmodel.cuda()\n",
    "recmodel.set_input(inp)"
   ]
  },
  {
   "cell_type": "code",
   "execution_count": 29,
   "metadata": {},
   "outputs": [],
   "source": [
    "recmodel.reset_hidden()"
   ]
  },
  {
   "cell_type": "code",
   "execution_count": 30,
   "metadata": {},
   "outputs": [
    {
     "data": {
      "text/plain": [
       "torch.Size([10, 101, 7, 7])"
      ]
     },
     "execution_count": 30,
     "metadata": {},
     "output_type": "execute_result"
    }
   ],
   "source": [
    "recmodel().shape"
   ]
  },
  {
   "cell_type": "code",
   "execution_count": null,
   "metadata": {},
   "outputs": [],
   "source": []
  },
  {
   "cell_type": "code",
   "execution_count": 2,
   "metadata": {},
   "outputs": [
    {
     "name": "stderr",
     "output_type": "stream",
     "text": [
      "/opt/conda/lib/python3.7/site-packages/torch/nn/functional.py:2796: UserWarning: nn.functional.upsample is deprecated. Use nn.functional.interpolate instead.\n",
      "  warnings.warn(\"nn.functional.upsample is deprecated. Use nn.functional.interpolate instead.\")\n",
      "/opt/conda/lib/python3.7/site-packages/torch/nn/functional.py:2973: UserWarning: Default upsampling behavior when mode=bilinear is changed to align_corners=False since 0.4.0. Please specify align_corners=True if the old behavior is desired. See the documentation of nn.Upsample for details.\n",
      "  \"See the documentation of nn.Upsample for details.\".format(mode))\n",
      "/opt/conda/lib/python3.7/site-packages/torch/nn/functional.py:2973: UserWarning: Default upsampling behavior when mode=trilinear is changed to align_corners=False since 0.4.0. Please specify align_corners=True if the old behavior is desired. See the documentation of nn.Upsample for details.\n",
      "  \"See the documentation of nn.Upsample for details.\".format(mode))\n"
     ]
    },
    {
     "name": "stdout",
     "output_type": "stream",
     "text": [
      "losstensor(11.1343, device='cuda:0', grad_fn=<AddBackward0>)\n",
      "grad before clippingtensor(23.8954, device='cuda:0')\n",
      "grad tensor(0.0007, device='cuda:0')\n",
      "mean weight tensor(0.0152, device='cuda:0', grad_fn=<MeanBackward0>)\n",
      "epoch 0:  0/ 40 f_loss = 0.000000 , b_loss = 0.000000 , d_loss = 11.134308 \n",
      "losstensor(4.5836, device='cuda:0', grad_fn=<AddBackward0>)\n",
      "grad before clippingtensor(1.7910, device='cuda:0')\n",
      "grad tensor(0.0002, device='cuda:0')\n",
      "mean weight tensor(0.0152, device='cuda:0', grad_fn=<MeanBackward0>)\n",
      "losstensor(2.8296, device='cuda:0', grad_fn=<AddBackward0>)\n",
      "grad before clippingtensor(1.6366, device='cuda:0')\n",
      "grad tensor(0.0007, device='cuda:0')\n",
      "mean weight tensor(0.0152, device='cuda:0', grad_fn=<MeanBackward0>)\n",
      "losstensor(2.1353, device='cuda:0', grad_fn=<AddBackward0>)\n",
      "grad before clippingtensor(1.4454, device='cuda:0')\n",
      "grad tensor(0.0010, device='cuda:0')\n",
      "mean weight tensor(0.0152, device='cuda:0', grad_fn=<MeanBackward0>)\n",
      "losstensor(1.2051, device='cuda:0', grad_fn=<AddBackward0>)\n",
      "grad before clippingtensor(0.5065, device='cuda:0')\n",
      "grad tensor(0.0016, device='cuda:0')\n",
      "mean weight tensor(0.0152, device='cuda:0', grad_fn=<MeanBackward0>)\n",
      "losstensor(0.8457, device='cuda:0', grad_fn=<AddBackward0>)\n",
      "grad before clippingtensor(0.3902, device='cuda:0')\n",
      "grad tensor(0.0015, device='cuda:0')\n",
      "mean weight tensor(0.0152, device='cuda:0', grad_fn=<MeanBackward0>)\n",
      "losstensor(0.6103, device='cuda:0', grad_fn=<AddBackward0>)\n",
      "grad before clippingtensor(0.2200, device='cuda:0')\n",
      "grad tensor(0.0008, device='cuda:0')\n",
      "mean weight tensor(0.0152, device='cuda:0', grad_fn=<MeanBackward0>)\n",
      "losstensor(0.4085, device='cuda:0', grad_fn=<AddBackward0>)\n",
      "grad before clippingtensor(0.2893, device='cuda:0')\n",
      "grad tensor(0.0005, device='cuda:0')\n",
      "mean weight tensor(0.0152, device='cuda:0', grad_fn=<MeanBackward0>)\n",
      "losstensor(0.2534, device='cuda:0', grad_fn=<AddBackward0>)\n",
      "grad before clippingtensor(0.1400, device='cuda:0')\n",
      "grad tensor(0.0017, device='cuda:0')\n",
      "mean weight tensor(0.0152, device='cuda:0', grad_fn=<MeanBackward0>)\n",
      "losstensor(0.1219, device='cuda:0', grad_fn=<AddBackward0>)\n",
      "grad before clippingtensor(0.0464, device='cuda:0')\n",
      "grad tensor(0.0014, device='cuda:0')\n",
      "mean weight tensor(0.0152, device='cuda:0', grad_fn=<MeanBackward0>)\n",
      "losstensor(0.0979, device='cuda:0', grad_fn=<AddBackward0>)\n",
      "grad before clippingtensor(0.4845, device='cuda:0')\n",
      "grad tensor(0.0135, device='cuda:0')\n",
      "mean weight tensor(0.0152, device='cuda:0', grad_fn=<MeanBackward0>)\n",
      "epoch 0:  10/ 40 f_loss = 0.000000 , b_loss = 0.000000 , d_loss = 0.097933 \n",
      "losstensor(0.0574, device='cuda:0', grad_fn=<AddBackward0>)\n",
      "grad before clippingtensor(0.0653, device='cuda:0')\n",
      "grad tensor(0.0052, device='cuda:0')\n",
      "mean weight tensor(0.0152, device='cuda:0', grad_fn=<MeanBackward0>)\n",
      "losstensor(0.0418, device='cuda:0', grad_fn=<AddBackward0>)\n",
      "grad before clippingtensor(0.0432, device='cuda:0')\n",
      "grad tensor(0.0018, device='cuda:0')\n",
      "mean weight tensor(0.0152, device='cuda:0', grad_fn=<MeanBackward0>)\n",
      "losstensor(0.0468, device='cuda:0', grad_fn=<AddBackward0>)\n",
      "grad before clippingtensor(0.0807, device='cuda:0')\n",
      "grad tensor(0.0024, device='cuda:0')\n",
      "mean weight tensor(0.0152, device='cuda:0', grad_fn=<MeanBackward0>)\n",
      "losstensor(0.0340, device='cuda:0', grad_fn=<AddBackward0>)\n",
      "grad before clippingtensor(0.0420, device='cuda:0')\n",
      "grad tensor(0.0103, device='cuda:0')\n",
      "mean weight tensor(0.0152, device='cuda:0', grad_fn=<MeanBackward0>)\n",
      "losstensor(0.0322, device='cuda:0', grad_fn=<AddBackward0>)\n",
      "grad before clippingtensor(0.0520, device='cuda:0')\n",
      "grad tensor(0.0201, device='cuda:0')\n",
      "mean weight tensor(0.0152, device='cuda:0', grad_fn=<MeanBackward0>)\n",
      "losstensor(0.0251, device='cuda:0', grad_fn=<AddBackward0>)\n",
      "grad before clippingtensor(0.0257, device='cuda:0')\n",
      "grad tensor(0.0095, device='cuda:0')\n",
      "mean weight tensor(0.0152, device='cuda:0', grad_fn=<MeanBackward0>)\n",
      "losstensor(0.0224, device='cuda:0', grad_fn=<AddBackward0>)\n",
      "grad before clippingtensor(0.0112, device='cuda:0')\n",
      "grad tensor(0.0039, device='cuda:0')\n",
      "mean weight tensor(0.0152, device='cuda:0', grad_fn=<MeanBackward0>)\n",
      "losstensor(0.0208, device='cuda:0', grad_fn=<AddBackward0>)\n",
      "grad before clippingtensor(0.0186, device='cuda:0')\n",
      "grad tensor(0.0134, device='cuda:0')\n",
      "mean weight tensor(0.0152, device='cuda:0', grad_fn=<MeanBackward0>)\n",
      "losstensor(0.0182, device='cuda:0', grad_fn=<AddBackward0>)\n",
      "grad before clippingtensor(0.0144, device='cuda:0')\n",
      "grad tensor(0.0144, device='cuda:0')\n",
      "mean weight tensor(0.0152, device='cuda:0', grad_fn=<MeanBackward0>)\n",
      "losstensor(0.0131, device='cuda:0', grad_fn=<AddBackward0>)\n",
      "grad before clippingtensor(0.0086, device='cuda:0')\n",
      "grad tensor(0.0086, device='cuda:0')\n",
      "mean weight tensor(0.0152, device='cuda:0', grad_fn=<MeanBackward0>)\n",
      "epoch 0:  20/ 40 f_loss = 0.000000 , b_loss = 0.000000 , d_loss = 0.013123 \n",
      "losstensor(0.0255, device='cuda:0', grad_fn=<AddBackward0>)\n",
      "grad before clippingtensor(0.0149, device='cuda:0')\n",
      "grad tensor(0.0149, device='cuda:0')\n",
      "mean weight tensor(0.0152, device='cuda:0', grad_fn=<MeanBackward0>)\n",
      "losstensor(0.0153, device='cuda:0', grad_fn=<AddBackward0>)\n",
      "grad before clippingtensor(0.0103, device='cuda:0')\n",
      "grad tensor(0.0103, device='cuda:0')\n",
      "mean weight tensor(0.0152, device='cuda:0', grad_fn=<MeanBackward0>)\n",
      "losstensor(0.0132, device='cuda:0', grad_fn=<AddBackward0>)\n",
      "grad before clippingtensor(0.0303, device='cuda:0')\n",
      "grad tensor(0.0301, device='cuda:0')\n",
      "mean weight tensor(0.0152, device='cuda:0', grad_fn=<MeanBackward0>)\n",
      "losstensor(0.0150, device='cuda:0', grad_fn=<AddBackward0>)\n",
      "grad before clippingtensor(0.0088, device='cuda:0')\n",
      "grad tensor(0.0088, device='cuda:0')\n",
      "mean weight tensor(0.0152, device='cuda:0', grad_fn=<MeanBackward0>)\n",
      "losstensor(0.0112, device='cuda:0', grad_fn=<AddBackward0>)\n",
      "grad before clippingtensor(0.0442, device='cuda:0')\n",
      "grad tensor(0.0334, device='cuda:0')\n",
      "mean weight tensor(0.0152, device='cuda:0', grad_fn=<MeanBackward0>)\n",
      "losstensor(0.0153, device='cuda:0', grad_fn=<AddBackward0>)\n",
      "grad before clippingtensor(0.0057, device='cuda:0')\n",
      "grad tensor(0.0057, device='cuda:0')\n",
      "mean weight tensor(0.0152, device='cuda:0', grad_fn=<MeanBackward0>)\n",
      "losstensor(0.0159, device='cuda:0', grad_fn=<AddBackward0>)\n",
      "grad before clippingtensor(0.0144, device='cuda:0')\n",
      "grad tensor(0.0144, device='cuda:0')\n",
      "mean weight tensor(0.0152, device='cuda:0', grad_fn=<MeanBackward0>)\n",
      "losstensor(0.0160, device='cuda:0', grad_fn=<AddBackward0>)\n",
      "grad before clippingtensor(0.0254, device='cuda:0')\n",
      "grad tensor(0.0254, device='cuda:0')\n",
      "mean weight tensor(0.0152, device='cuda:0', grad_fn=<MeanBackward0>)\n",
      "losstensor(0.0089, device='cuda:0', grad_fn=<AddBackward0>)\n",
      "grad before clippingtensor(0.0070, device='cuda:0')\n",
      "grad tensor(0.0070, device='cuda:0')\n",
      "mean weight tensor(0.0152, device='cuda:0', grad_fn=<MeanBackward0>)\n",
      "losstensor(0.0200, device='cuda:0', grad_fn=<AddBackward0>)\n",
      "grad before clippingtensor(0.0358, device='cuda:0')\n",
      "grad tensor(0.0348, device='cuda:0')\n",
      "mean weight tensor(0.0152, device='cuda:0', grad_fn=<MeanBackward0>)\n",
      "epoch 0:  30/ 40 f_loss = 0.000000 , b_loss = 0.000000 , d_loss = 0.020022 \n",
      "losstensor(0.0158, device='cuda:0', grad_fn=<AddBackward0>)\n",
      "grad before clippingtensor(0.0254, device='cuda:0')\n",
      "grad tensor(0.0254, device='cuda:0')\n",
      "mean weight tensor(0.0152, device='cuda:0', grad_fn=<MeanBackward0>)\n",
      "losstensor(0.0112, device='cuda:0', grad_fn=<AddBackward0>)\n",
      "grad before clippingtensor(0.0121, device='cuda:0')\n",
      "grad tensor(0.0121, device='cuda:0')\n",
      "mean weight tensor(0.0152, device='cuda:0', grad_fn=<MeanBackward0>)\n",
      "losstensor(0.0176, device='cuda:0', grad_fn=<AddBackward0>)\n",
      "grad before clippingtensor(0.0420, device='cuda:0')\n",
      "grad tensor(0.0345, device='cuda:0')\n",
      "mean weight tensor(0.0152, device='cuda:0', grad_fn=<MeanBackward0>)\n",
      "losstensor(0.0125, device='cuda:0', grad_fn=<AddBackward0>)\n",
      "grad before clippingtensor(0.0119, device='cuda:0')\n",
      "grad tensor(0.0119, device='cuda:0')\n",
      "mean weight tensor(0.0152, device='cuda:0', grad_fn=<MeanBackward0>)\n",
      "losstensor(0.0157, device='cuda:0', grad_fn=<AddBackward0>)\n",
      "grad before clippingtensor(0.0082, device='cuda:0')\n",
      "grad tensor(0.0082, device='cuda:0')\n",
      "mean weight tensor(0.0152, device='cuda:0', grad_fn=<MeanBackward0>)\n",
      "losstensor(0.0114, device='cuda:0', grad_fn=<AddBackward0>)\n",
      "grad before clippingtensor(0.0142, device='cuda:0')\n",
      "grad tensor(0.0142, device='cuda:0')\n",
      "mean weight tensor(0.0152, device='cuda:0', grad_fn=<MeanBackward0>)\n"
     ]
    },
    {
     "name": "stdout",
     "output_type": "stream",
     "text": [
      "losstensor(0.0139, device='cuda:0', grad_fn=<AddBackward0>)\n",
      "grad before clippingtensor(0.0318, device='cuda:0')\n",
      "grad tensor(0.0309, device='cuda:0')\n",
      "mean weight tensor(0.0152, device='cuda:0', grad_fn=<MeanBackward0>)\n",
      "losstensor(0.0137, device='cuda:0', grad_fn=<AddBackward0>)\n",
      "grad before clippingtensor(0.0218, device='cuda:0')\n",
      "grad tensor(0.0218, device='cuda:0')\n",
      "mean weight tensor(0.0152, device='cuda:0', grad_fn=<MeanBackward0>)\n",
      "losstensor(0.0121, device='cuda:0', grad_fn=<AddBackward0>)\n",
      "grad before clippingtensor(0.0115, device='cuda:0')\n",
      "grad tensor(0.0115, device='cuda:0')\n",
      "mean weight tensor(0.0152, device='cuda:0', grad_fn=<MeanBackward0>)\n",
      "losstensor(0.0129, device='cuda:0', grad_fn=<AddBackward0>)\n",
      "grad before clippingtensor(0.0230, device='cuda:0')\n",
      "grad tensor(0.0230, device='cuda:0')\n",
      "mean weight tensor(0.0152, device='cuda:0', grad_fn=<MeanBackward0>)\n",
      "epoch 1:  0/ 40 f_loss = 0.000000 , b_loss = 0.000000 , d_loss = 0.012853 \n",
      "losstensor(0.0156, device='cuda:0', grad_fn=<AddBackward0>)\n",
      "grad before clippingtensor(0.0403, device='cuda:0')\n",
      "grad tensor(0.0335, device='cuda:0')\n",
      "mean weight tensor(0.0152, device='cuda:0', grad_fn=<MeanBackward0>)\n",
      "losstensor(0.0120, device='cuda:0', grad_fn=<AddBackward0>)\n",
      "grad before clippingtensor(0.0227, device='cuda:0')\n",
      "grad tensor(0.0227, device='cuda:0')\n",
      "mean weight tensor(0.0152, device='cuda:0', grad_fn=<MeanBackward0>)\n",
      "losstensor(0.0120, device='cuda:0', grad_fn=<AddBackward0>)\n",
      "grad before clippingtensor(0.0172, device='cuda:0')\n",
      "grad tensor(0.0172, device='cuda:0')\n",
      "mean weight tensor(0.0152, device='cuda:0', grad_fn=<MeanBackward0>)\n",
      "losstensor(0.0120, device='cuda:0', grad_fn=<AddBackward0>)\n",
      "grad before clippingtensor(0.0397, device='cuda:0')\n",
      "grad tensor(0.0322, device='cuda:0')\n",
      "mean weight tensor(0.0152, device='cuda:0', grad_fn=<MeanBackward0>)\n",
      "losstensor(0.0115, device='cuda:0', grad_fn=<AddBackward0>)\n",
      "grad before clippingtensor(0.0325, device='cuda:0')\n",
      "grad tensor(0.0312, device='cuda:0')\n",
      "mean weight tensor(0.0152, device='cuda:0', grad_fn=<MeanBackward0>)\n",
      "losstensor(0.0135, device='cuda:0', grad_fn=<AddBackward0>)\n",
      "grad before clippingtensor(0.0133, device='cuda:0')\n",
      "grad tensor(0.0133, device='cuda:0')\n",
      "mean weight tensor(0.0152, device='cuda:0', grad_fn=<MeanBackward0>)\n",
      "losstensor(0.0122, device='cuda:0', grad_fn=<AddBackward0>)\n",
      "grad before clippingtensor(0.0043, device='cuda:0')\n",
      "grad tensor(0.0043, device='cuda:0')\n",
      "mean weight tensor(0.0152, device='cuda:0', grad_fn=<MeanBackward0>)\n",
      "losstensor(0.0092, device='cuda:0', grad_fn=<AddBackward0>)\n",
      "grad before clippingtensor(0.0066, device='cuda:0')\n",
      "grad tensor(0.0066, device='cuda:0')\n",
      "mean weight tensor(0.0152, device='cuda:0', grad_fn=<MeanBackward0>)\n",
      "losstensor(0.0110, device='cuda:0', grad_fn=<AddBackward0>)\n",
      "grad before clippingtensor(0.0118, device='cuda:0')\n",
      "grad tensor(0.0118, device='cuda:0')\n",
      "mean weight tensor(0.0152, device='cuda:0', grad_fn=<MeanBackward0>)\n",
      "losstensor(0.0093, device='cuda:0', grad_fn=<AddBackward0>)\n",
      "grad before clippingtensor(0.0097, device='cuda:0')\n",
      "grad tensor(0.0097, device='cuda:0')\n",
      "mean weight tensor(0.0152, device='cuda:0', grad_fn=<MeanBackward0>)\n",
      "epoch 1:  10/ 40 f_loss = 0.000000 , b_loss = 0.000000 , d_loss = 0.009292 \n",
      "losstensor(0.0098, device='cuda:0', grad_fn=<AddBackward0>)\n",
      "grad before clippingtensor(0.0101, device='cuda:0')\n",
      "grad tensor(0.0101, device='cuda:0')\n",
      "mean weight tensor(0.0152, device='cuda:0', grad_fn=<MeanBackward0>)\n",
      "losstensor(0.0105, device='cuda:0', grad_fn=<AddBackward0>)\n",
      "grad before clippingtensor(0.0102, device='cuda:0')\n",
      "grad tensor(0.0102, device='cuda:0')\n",
      "mean weight tensor(0.0152, device='cuda:0', grad_fn=<MeanBackward0>)\n",
      "losstensor(0.0114, device='cuda:0', grad_fn=<AddBackward0>)\n",
      "grad before clippingtensor(0.0117, device='cuda:0')\n",
      "grad tensor(0.0117, device='cuda:0')\n",
      "mean weight tensor(0.0152, device='cuda:0', grad_fn=<MeanBackward0>)\n",
      "losstensor(0.0130, device='cuda:0', grad_fn=<AddBackward0>)\n",
      "grad before clippingtensor(0.0187, device='cuda:0')\n",
      "grad tensor(0.0187, device='cuda:0')\n",
      "mean weight tensor(0.0152, device='cuda:0', grad_fn=<MeanBackward0>)\n",
      "losstensor(0.0111, device='cuda:0', grad_fn=<AddBackward0>)\n",
      "grad before clippingtensor(0.0102, device='cuda:0')\n",
      "grad tensor(0.0102, device='cuda:0')\n",
      "mean weight tensor(0.0152, device='cuda:0', grad_fn=<MeanBackward0>)\n",
      "losstensor(0.0087, device='cuda:0', grad_fn=<AddBackward0>)\n",
      "grad before clippingtensor(0.0054, device='cuda:0')\n",
      "grad tensor(0.0054, device='cuda:0')\n",
      "mean weight tensor(0.0152, device='cuda:0', grad_fn=<MeanBackward0>)\n",
      "losstensor(0.0106, device='cuda:0', grad_fn=<AddBackward0>)\n",
      "grad before clippingtensor(0.0086, device='cuda:0')\n",
      "grad tensor(0.0086, device='cuda:0')\n",
      "mean weight tensor(0.0152, device='cuda:0', grad_fn=<MeanBackward0>)\n",
      "losstensor(0.0083, device='cuda:0', grad_fn=<AddBackward0>)\n",
      "grad before clippingtensor(0.0065, device='cuda:0')\n",
      "grad tensor(0.0065, device='cuda:0')\n",
      "mean weight tensor(0.0152, device='cuda:0', grad_fn=<MeanBackward0>)\n",
      "losstensor(0.0121, device='cuda:0', grad_fn=<AddBackward0>)\n",
      "grad before clippingtensor(0.0089, device='cuda:0')\n",
      "grad tensor(0.0089, device='cuda:0')\n",
      "mean weight tensor(0.0152, device='cuda:0', grad_fn=<MeanBackward0>)\n",
      "losstensor(0.0099, device='cuda:0', grad_fn=<AddBackward0>)\n",
      "grad before clippingtensor(0.0027, device='cuda:0')\n",
      "grad tensor(0.0027, device='cuda:0')\n",
      "mean weight tensor(0.0152, device='cuda:0', grad_fn=<MeanBackward0>)\n",
      "epoch 1:  20/ 40 f_loss = 0.000000 , b_loss = 0.000000 , d_loss = 0.009865 \n",
      "losstensor(0.0083, device='cuda:0', grad_fn=<AddBackward0>)\n",
      "grad before clippingtensor(0.0150, device='cuda:0')\n",
      "grad tensor(0.0150, device='cuda:0')\n",
      "mean weight tensor(0.0152, device='cuda:0', grad_fn=<MeanBackward0>)\n",
      "losstensor(0.0116, device='cuda:0', grad_fn=<AddBackward0>)\n",
      "grad before clippingtensor(0.0066, device='cuda:0')\n",
      "grad tensor(0.0066, device='cuda:0')\n",
      "mean weight tensor(0.0152, device='cuda:0', grad_fn=<MeanBackward0>)\n",
      "losstensor(0.0115, device='cuda:0', grad_fn=<AddBackward0>)\n",
      "grad before clippingtensor(0.0042, device='cuda:0')\n",
      "grad tensor(0.0042, device='cuda:0')\n",
      "mean weight tensor(0.0152, device='cuda:0', grad_fn=<MeanBackward0>)\n",
      "losstensor(0.0096, device='cuda:0', grad_fn=<AddBackward0>)\n",
      "grad before clippingtensor(0.0073, device='cuda:0')\n",
      "grad tensor(0.0073, device='cuda:0')\n",
      "mean weight tensor(0.0152, device='cuda:0', grad_fn=<MeanBackward0>)\n",
      "losstensor(0.0083, device='cuda:0', grad_fn=<AddBackward0>)\n",
      "grad before clippingtensor(0.0056, device='cuda:0')\n",
      "grad tensor(0.0056, device='cuda:0')\n",
      "mean weight tensor(0.0152, device='cuda:0', grad_fn=<MeanBackward0>)\n",
      "losstensor(0.0081, device='cuda:0', grad_fn=<AddBackward0>)\n",
      "grad before clippingtensor(0.0024, device='cuda:0')\n",
      "grad tensor(0.0024, device='cuda:0')\n",
      "mean weight tensor(0.0152, device='cuda:0', grad_fn=<MeanBackward0>)\n",
      "losstensor(0.0079, device='cuda:0', grad_fn=<AddBackward0>)\n",
      "grad before clippingtensor(0.0015, device='cuda:0')\n",
      "grad tensor(0.0015, device='cuda:0')\n",
      "mean weight tensor(0.0152, device='cuda:0', grad_fn=<MeanBackward0>)\n",
      "losstensor(0.0077, device='cuda:0', grad_fn=<AddBackward0>)\n",
      "grad before clippingtensor(0.0008, device='cuda:0')\n",
      "grad tensor(0.0008, device='cuda:0')\n",
      "mean weight tensor(0.0152, device='cuda:0', grad_fn=<MeanBackward0>)\n",
      "losstensor(0.0118, device='cuda:0', grad_fn=<AddBackward0>)\n",
      "grad before clippingtensor(0.0276, device='cuda:0')\n",
      "grad tensor(0.0276, device='cuda:0')\n",
      "mean weight tensor(0.0152, device='cuda:0', grad_fn=<MeanBackward0>)\n",
      "losstensor(0.0077, device='cuda:0', grad_fn=<AddBackward0>)\n",
      "grad before clippingtensor(0.0021, device='cuda:0')\n",
      "grad tensor(0.0021, device='cuda:0')\n",
      "mean weight tensor(0.0152, device='cuda:0', grad_fn=<MeanBackward0>)\n",
      "epoch 1:  30/ 40 f_loss = 0.000000 , b_loss = 0.000000 , d_loss = 0.007750 \n",
      "losstensor(0.0093, device='cuda:0', grad_fn=<AddBackward0>)\n",
      "grad before clippingtensor(0.0014, device='cuda:0')\n",
      "grad tensor(0.0014, device='cuda:0')\n",
      "mean weight tensor(0.0152, device='cuda:0', grad_fn=<MeanBackward0>)\n",
      "losstensor(0.0062, device='cuda:0', grad_fn=<AddBackward0>)\n",
      "grad before clippingtensor(0.0014, device='cuda:0')\n",
      "grad tensor(0.0014, device='cuda:0')\n",
      "mean weight tensor(0.0152, device='cuda:0', grad_fn=<MeanBackward0>)\n",
      "losstensor(0.0110, device='cuda:0', grad_fn=<AddBackward0>)\n",
      "grad before clippingtensor(0.0166, device='cuda:0')\n",
      "grad tensor(0.0166, device='cuda:0')\n",
      "mean weight tensor(0.0152, device='cuda:0', grad_fn=<MeanBackward0>)\n"
     ]
    },
    {
     "name": "stdout",
     "output_type": "stream",
     "text": [
      "losstensor(0.0091, device='cuda:0', grad_fn=<AddBackward0>)\n",
      "grad before clippingtensor(0.0020, device='cuda:0')\n",
      "grad tensor(0.0020, device='cuda:0')\n",
      "mean weight tensor(0.0152, device='cuda:0', grad_fn=<MeanBackward0>)\n",
      "losstensor(0.0099, device='cuda:0', grad_fn=<AddBackward0>)\n",
      "grad before clippingtensor(0.0044, device='cuda:0')\n",
      "grad tensor(0.0044, device='cuda:0')\n",
      "mean weight tensor(0.0152, device='cuda:0', grad_fn=<MeanBackward0>)\n",
      "losstensor(0.0082, device='cuda:0', grad_fn=<AddBackward0>)\n",
      "grad before clippingtensor(0.0081, device='cuda:0')\n",
      "grad tensor(0.0081, device='cuda:0')\n",
      "mean weight tensor(0.0152, device='cuda:0', grad_fn=<MeanBackward0>)\n",
      "losstensor(0.0077, device='cuda:0', grad_fn=<AddBackward0>)\n",
      "grad before clippingtensor(0.0071, device='cuda:0')\n",
      "grad tensor(0.0071, device='cuda:0')\n",
      "mean weight tensor(0.0152, device='cuda:0', grad_fn=<MeanBackward0>)\n",
      "losstensor(0.0075, device='cuda:0', grad_fn=<AddBackward0>)\n",
      "grad before clippingtensor(0.0045, device='cuda:0')\n",
      "grad tensor(0.0045, device='cuda:0')\n",
      "mean weight tensor(0.0152, device='cuda:0', grad_fn=<MeanBackward0>)\n",
      "losstensor(0.0081, device='cuda:0', grad_fn=<AddBackward0>)\n",
      "grad before clippingtensor(0.0064, device='cuda:0')\n",
      "grad tensor(0.0064, device='cuda:0')\n",
      "mean weight tensor(0.0152, device='cuda:0', grad_fn=<MeanBackward0>)\n",
      "losstensor(0.0073, device='cuda:0', grad_fn=<AddBackward0>)\n",
      "grad before clippingtensor(0.0021, device='cuda:0')\n",
      "grad tensor(0.0021, device='cuda:0')\n",
      "mean weight tensor(0.0152, device='cuda:0', grad_fn=<MeanBackward0>)\n",
      "epoch 2:  0/ 40 f_loss = 0.000000 , b_loss = 0.000000 , d_loss = 0.007250 \n"
     ]
    },
    {
     "ename": "KeyboardInterrupt",
     "evalue": "",
     "output_type": "error",
     "traceback": [
      "\u001b[0;31m---------------------------------------------------------------------------\u001b[0m",
      "\u001b[0;31mKeyboardInterrupt\u001b[0m                         Traceback (most recent call last)",
      "\u001b[0;32m<ipython-input-2-3fe91a38ee11>\u001b[0m in \u001b[0;36m<module>\u001b[0;34m\u001b[0m\n\u001b[1;32m    116\u001b[0m     \u001b[0;32mfor\u001b[0m \u001b[0mbatch_idx\u001b[0m\u001b[0;34m,\u001b[0m \u001b[0;34m(\u001b[0m\u001b[0mimg_stack\u001b[0m\u001b[0;34m,\u001b[0m\u001b[0mdepth\u001b[0m\u001b[0;34m,\u001b[0m\u001b[0mblur\u001b[0m\u001b[0;34m,\u001b[0m\u001b[0mfoc_dist\u001b[0m\u001b[0;34m)\u001b[0m \u001b[0;32min\u001b[0m \u001b[0menumerate\u001b[0m\u001b[0;34m(\u001b[0m\u001b[0mTrainImgLoader\u001b[0m\u001b[0;34m)\u001b[0m\u001b[0;34m:\u001b[0m\u001b[0;34m\u001b[0m\u001b[0;34m\u001b[0m\u001b[0m\n\u001b[1;32m    117\u001b[0m         \u001b[0;31m#print(str(torch.mean(img_stack)) + ' ' + str(torch.mean(depth))+ ' ' + str(torch.mean(blur))+ ' ' + str(torch.mean(foc_dist)))\u001b[0m\u001b[0;34m\u001b[0m\u001b[0;34m\u001b[0m\u001b[0;34m\u001b[0m\u001b[0m\n\u001b[0;32m--> 118\u001b[0;31m         \u001b[0mfloss\u001b[0m\u001b[0;34m,\u001b[0m\u001b[0mbloss\u001b[0m\u001b[0;34m,\u001b[0m\u001b[0mdloss\u001b[0m\u001b[0;34m,\u001b[0m\u001b[0mfdlossvalue\u001b[0m\u001b[0;34m,\u001b[0m\u001b[0mviz\u001b[0m\u001b[0;34m=\u001b[0m\u001b[0mtrain\u001b[0m\u001b[0;34m(\u001b[0m\u001b[0mimg_stack\u001b[0m\u001b[0;34m,\u001b[0m\u001b[0mblur\u001b[0m\u001b[0;34m,\u001b[0m\u001b[0mdepth\u001b[0m\u001b[0;34m,\u001b[0m\u001b[0mfoc_dist\u001b[0m\u001b[0;34m)\u001b[0m\u001b[0;34m\u001b[0m\u001b[0;34m\u001b[0m\u001b[0m\n\u001b[0m\u001b[1;32m    119\u001b[0m         \u001b[0;32mif\u001b[0m \u001b[0mtotal_iters\u001b[0m \u001b[0;34m%\u001b[0m\u001b[0;36m10\u001b[0m \u001b[0;34m==\u001b[0m \u001b[0;36m0\u001b[0m\u001b[0;34m:\u001b[0m\u001b[0;34m\u001b[0m\u001b[0;34m\u001b[0m\u001b[0m\n\u001b[1;32m    120\u001b[0m                 \u001b[0mtorch\u001b[0m\u001b[0;34m.\u001b[0m\u001b[0mcuda\u001b[0m\u001b[0;34m.\u001b[0m\u001b[0msynchronize\u001b[0m\u001b[0;34m(\u001b[0m\u001b[0;34m)\u001b[0m\u001b[0;34m\u001b[0m\u001b[0;34m\u001b[0m\u001b[0m\n",
      "\u001b[0;32m<ipython-input-2-3fe91a38ee11>\u001b[0m in \u001b[0;36mtrain\u001b[0;34m(img_stack_in, blur_stack, gt_disp, foc_dist)\u001b[0m\n\u001b[1;32m     54\u001b[0m \u001b[0;34m\u001b[0m\u001b[0m\n\u001b[1;32m     55\u001b[0m     \u001b[0mloss\u001b[0m\u001b[0;34m.\u001b[0m\u001b[0mbackward\u001b[0m\u001b[0;34m(\u001b[0m\u001b[0;34m)\u001b[0m\u001b[0;34m\u001b[0m\u001b[0;34m\u001b[0m\u001b[0m\n\u001b[0;32m---> 56\u001b[0;31m     \u001b[0mprint\u001b[0m\u001b[0;34m(\u001b[0m\u001b[0;34m'loss'\u001b[0m \u001b[0;34m+\u001b[0m\u001b[0mstr\u001b[0m\u001b[0;34m(\u001b[0m\u001b[0mloss\u001b[0m\u001b[0;34m)\u001b[0m\u001b[0;34m)\u001b[0m\u001b[0;34m\u001b[0m\u001b[0;34m\u001b[0m\u001b[0m\n\u001b[0m\u001b[1;32m     57\u001b[0m \u001b[0;34m\u001b[0m\u001b[0m\n\u001b[1;32m     58\u001b[0m     \u001b[0mg\u001b[0m\u001b[0;34m=\u001b[0m\u001b[0mmodel\u001b[0m\u001b[0;34m.\u001b[0m\u001b[0mmodule\u001b[0m\u001b[0;34m.\u001b[0m\u001b[0mdepthNet\u001b[0m\u001b[0;34m[\u001b[0m\u001b[0;36m0\u001b[0m\u001b[0;34m]\u001b[0m\u001b[0;34m.\u001b[0m\u001b[0mweight\u001b[0m\u001b[0;34m.\u001b[0m\u001b[0mgrad\u001b[0m\u001b[0;34m\u001b[0m\u001b[0;34m\u001b[0m\u001b[0m\n",
      "\u001b[0;32m/opt/conda/lib/python3.7/site-packages/torch/tensor.py\u001b[0m in \u001b[0;36m__repr__\u001b[0;34m(self)\u001b[0m\n\u001b[1;32m    160\u001b[0m         \u001b[0;31m# characters to replace unicode characters with.\u001b[0m\u001b[0;34m\u001b[0m\u001b[0;34m\u001b[0m\u001b[0;34m\u001b[0m\u001b[0m\n\u001b[1;32m    161\u001b[0m         \u001b[0;32mif\u001b[0m \u001b[0msys\u001b[0m\u001b[0;34m.\u001b[0m\u001b[0mversion_info\u001b[0m \u001b[0;34m>\u001b[0m \u001b[0;34m(\u001b[0m\u001b[0;36m3\u001b[0m\u001b[0;34m,\u001b[0m\u001b[0;34m)\u001b[0m\u001b[0;34m:\u001b[0m\u001b[0;34m\u001b[0m\u001b[0;34m\u001b[0m\u001b[0m\n\u001b[0;32m--> 162\u001b[0;31m             \u001b[0;32mreturn\u001b[0m \u001b[0mtorch\u001b[0m\u001b[0;34m.\u001b[0m\u001b[0m_tensor_str\u001b[0m\u001b[0;34m.\u001b[0m\u001b[0m_str\u001b[0m\u001b[0;34m(\u001b[0m\u001b[0mself\u001b[0m\u001b[0;34m)\u001b[0m\u001b[0;34m\u001b[0m\u001b[0;34m\u001b[0m\u001b[0m\n\u001b[0m\u001b[1;32m    163\u001b[0m         \u001b[0;32melse\u001b[0m\u001b[0;34m:\u001b[0m\u001b[0;34m\u001b[0m\u001b[0;34m\u001b[0m\u001b[0m\n\u001b[1;32m    164\u001b[0m             \u001b[0;32mif\u001b[0m \u001b[0mhasattr\u001b[0m\u001b[0;34m(\u001b[0m\u001b[0msys\u001b[0m\u001b[0;34m.\u001b[0m\u001b[0mstdout\u001b[0m\u001b[0;34m,\u001b[0m \u001b[0;34m'encoding'\u001b[0m\u001b[0;34m)\u001b[0m\u001b[0;34m:\u001b[0m\u001b[0;34m\u001b[0m\u001b[0;34m\u001b[0m\u001b[0m\n",
      "\u001b[0;32m/opt/conda/lib/python3.7/site-packages/torch/_tensor_str.py\u001b[0m in \u001b[0;36m_str\u001b[0;34m(self)\u001b[0m\n\u001b[1;32m    313\u001b[0m                 \u001b[0mtensor_str\u001b[0m \u001b[0;34m=\u001b[0m \u001b[0m_tensor_str\u001b[0m\u001b[0;34m(\u001b[0m\u001b[0mself\u001b[0m\u001b[0;34m.\u001b[0m\u001b[0mto_dense\u001b[0m\u001b[0;34m(\u001b[0m\u001b[0;34m)\u001b[0m\u001b[0;34m,\u001b[0m \u001b[0mindent\u001b[0m\u001b[0;34m)\u001b[0m\u001b[0;34m\u001b[0m\u001b[0;34m\u001b[0m\u001b[0m\n\u001b[1;32m    314\u001b[0m             \u001b[0;32melse\u001b[0m\u001b[0;34m:\u001b[0m\u001b[0;34m\u001b[0m\u001b[0;34m\u001b[0m\u001b[0m\n\u001b[0;32m--> 315\u001b[0;31m                 \u001b[0mtensor_str\u001b[0m \u001b[0;34m=\u001b[0m \u001b[0m_tensor_str\u001b[0m\u001b[0;34m(\u001b[0m\u001b[0mself\u001b[0m\u001b[0;34m,\u001b[0m \u001b[0mindent\u001b[0m\u001b[0;34m)\u001b[0m\u001b[0;34m\u001b[0m\u001b[0;34m\u001b[0m\u001b[0m\n\u001b[0m\u001b[1;32m    316\u001b[0m \u001b[0;34m\u001b[0m\u001b[0m\n\u001b[1;32m    317\u001b[0m     \u001b[0;32mif\u001b[0m \u001b[0mself\u001b[0m\u001b[0;34m.\u001b[0m\u001b[0mlayout\u001b[0m \u001b[0;34m!=\u001b[0m \u001b[0mtorch\u001b[0m\u001b[0;34m.\u001b[0m\u001b[0mstrided\u001b[0m\u001b[0;34m:\u001b[0m\u001b[0;34m\u001b[0m\u001b[0;34m\u001b[0m\u001b[0m\n",
      "\u001b[0;32m/opt/conda/lib/python3.7/site-packages/torch/_tensor_str.py\u001b[0m in \u001b[0;36m_tensor_str\u001b[0;34m(self, indent)\u001b[0m\n\u001b[1;32m    211\u001b[0m     \u001b[0;32mif\u001b[0m \u001b[0mself\u001b[0m\u001b[0;34m.\u001b[0m\u001b[0mdtype\u001b[0m \u001b[0;32mis\u001b[0m \u001b[0mtorch\u001b[0m\u001b[0;34m.\u001b[0m\u001b[0mfloat16\u001b[0m \u001b[0;32mor\u001b[0m \u001b[0mself\u001b[0m\u001b[0;34m.\u001b[0m\u001b[0mdtype\u001b[0m \u001b[0;32mis\u001b[0m \u001b[0mtorch\u001b[0m\u001b[0;34m.\u001b[0m\u001b[0mbfloat16\u001b[0m\u001b[0;34m:\u001b[0m\u001b[0;34m\u001b[0m\u001b[0;34m\u001b[0m\u001b[0m\n\u001b[1;32m    212\u001b[0m         \u001b[0mself\u001b[0m \u001b[0;34m=\u001b[0m \u001b[0mself\u001b[0m\u001b[0;34m.\u001b[0m\u001b[0mfloat\u001b[0m\u001b[0;34m(\u001b[0m\u001b[0;34m)\u001b[0m\u001b[0;34m\u001b[0m\u001b[0;34m\u001b[0m\u001b[0m\n\u001b[0;32m--> 213\u001b[0;31m     \u001b[0mformatter\u001b[0m \u001b[0;34m=\u001b[0m \u001b[0m_Formatter\u001b[0m\u001b[0;34m(\u001b[0m\u001b[0mget_summarized_data\u001b[0m\u001b[0;34m(\u001b[0m\u001b[0mself\u001b[0m\u001b[0;34m)\u001b[0m \u001b[0;32mif\u001b[0m \u001b[0msummarize\u001b[0m \u001b[0;32melse\u001b[0m \u001b[0mself\u001b[0m\u001b[0;34m)\u001b[0m\u001b[0;34m\u001b[0m\u001b[0;34m\u001b[0m\u001b[0m\n\u001b[0m\u001b[1;32m    214\u001b[0m     \u001b[0;32mreturn\u001b[0m \u001b[0m_tensor_str_with_formatter\u001b[0m\u001b[0;34m(\u001b[0m\u001b[0mself\u001b[0m\u001b[0;34m,\u001b[0m \u001b[0mindent\u001b[0m\u001b[0;34m,\u001b[0m \u001b[0mformatter\u001b[0m\u001b[0;34m,\u001b[0m \u001b[0msummarize\u001b[0m\u001b[0;34m)\u001b[0m\u001b[0;34m\u001b[0m\u001b[0;34m\u001b[0m\u001b[0m\n\u001b[1;32m    215\u001b[0m \u001b[0;34m\u001b[0m\u001b[0m\n",
      "\u001b[0;32m/opt/conda/lib/python3.7/site-packages/torch/_tensor_str.py\u001b[0m in \u001b[0;36m__init__\u001b[0;34m(self, tensor)\u001b[0m\n\u001b[1;32m     86\u001b[0m \u001b[0;34m\u001b[0m\u001b[0m\n\u001b[1;32m     87\u001b[0m         \u001b[0;32melse\u001b[0m\u001b[0;34m:\u001b[0m\u001b[0;34m\u001b[0m\u001b[0;34m\u001b[0m\u001b[0m\n\u001b[0;32m---> 88\u001b[0;31m             \u001b[0mnonzero_finite_vals\u001b[0m \u001b[0;34m=\u001b[0m \u001b[0mtorch\u001b[0m\u001b[0;34m.\u001b[0m\u001b[0mmasked_select\u001b[0m\u001b[0;34m(\u001b[0m\u001b[0mtensor_view\u001b[0m\u001b[0;34m,\u001b[0m \u001b[0mtorch\u001b[0m\u001b[0;34m.\u001b[0m\u001b[0misfinite\u001b[0m\u001b[0;34m(\u001b[0m\u001b[0mtensor_view\u001b[0m\u001b[0;34m)\u001b[0m \u001b[0;34m&\u001b[0m \u001b[0mtensor_view\u001b[0m\u001b[0;34m.\u001b[0m\u001b[0mne\u001b[0m\u001b[0;34m(\u001b[0m\u001b[0;36m0\u001b[0m\u001b[0;34m)\u001b[0m\u001b[0;34m)\u001b[0m\u001b[0;34m\u001b[0m\u001b[0;34m\u001b[0m\u001b[0m\n\u001b[0m\u001b[1;32m     89\u001b[0m \u001b[0;34m\u001b[0m\u001b[0m\n\u001b[1;32m     90\u001b[0m             \u001b[0;32mif\u001b[0m \u001b[0mnonzero_finite_vals\u001b[0m\u001b[0;34m.\u001b[0m\u001b[0mnumel\u001b[0m\u001b[0;34m(\u001b[0m\u001b[0;34m)\u001b[0m \u001b[0;34m==\u001b[0m \u001b[0;36m0\u001b[0m\u001b[0;34m:\u001b[0m\u001b[0;34m\u001b[0m\u001b[0;34m\u001b[0m\u001b[0m\n",
      "\u001b[0;31mKeyboardInterrupt\u001b[0m: "
     ]
    }
   ],
   "source": [
    "fuse=1\n",
    "use_blur=0\n",
    "model = DFFNet(clean=False,level=4,dchlist=[10,64,1],dkernel=3,dpool=0,fuse=fuse)\n",
    "model = nn.DataParallel(model)\n",
    "model.cuda()\n",
    "optimizer = optim.Adam(model.parameters(), lr=0.0001, betas=(0.9, 0.999))\n",
    "def train(img_stack_in, blur_stack,gt_disp, foc_dist):\n",
    "    model.train()\n",
    "    img_stack_in=Variable(torch.FloatTensor(img_stack_in))\n",
    "    gt_disp=Variable(torch.FloatTensor(gt_disp))\n",
    "    img_stack,gt_disp,foc_dist,blur_stack=img_stack_in.cuda(),gt_disp.cuda(),foc_dist.cuda(),blur_stack.cuda()\n",
    "    focus=1./(blur_stack+1)\n",
    "    #---------\n",
    "    max_val = torch.where(foc_dist>=100, torch.zeros_like(foc_dist), foc_dist) # exclude padding value\n",
    "    min_val = torch.where(foc_dist<=0, torch.ones_like(foc_dist)*10, foc_dist)  # exclude padding value\n",
    "    mask = (gt_disp >= min_val.min(dim=1)[0].view(-1,1,1,1)) & (gt_disp <= max_val.max(dim=1)[0].view(-1,1,1,1)) #\n",
    "    mask_tiled=torch.repeat_interleave(mask,repeats=5,dim=1)\n",
    "    mask_blur=torch.repeat_interleave(mask,repeats=1,dim=1)\n",
    "    mask.detach_()\n",
    "    mask_tiled.detach_()\n",
    "    mask_blur.detach_()\n",
    "    #----\n",
    "\n",
    "    optimizer.zero_grad()\n",
    "    beta_scale = 1 # smooth l1 do not have beta in 1.6, so we increase the input to and then scale back -- no significant improve according to our trials\n",
    "    fstacked,dstacked,fdstacked,stds,cost= model(img_stack, foc_dist)\n",
    "    floss,dloss,fdloss,bloss=0,0,0,0\n",
    "    lvl_w=[8./15, 4./15, 2./15, 1./15]\n",
    "    for i in range(len(fstacked)):\n",
    "        if(fuse==0 or fuse==2):\n",
    "            _cur_floss = F.smooth_l1_loss(fstacked[i][mask] * beta_scale, gt_disp[mask]* beta_scale, reduction='none') / beta_scale\n",
    "            floss = floss + lvl_w[i] * _cur_floss.mean()\n",
    "        if(use_blur):\n",
    "            _cur_bloss=F.mse_loss(cost[i][mask_tiled],focus[mask_tiled],reduction='none').mean()\n",
    "            bloss = bloss + lvl_w[i] * _cur_bloss.mean()\n",
    "        if(fuse==1):\n",
    "            _cur_dloss = F.smooth_l1_loss(dstacked[i][mask] * beta_scale, gt_disp[mask]* beta_scale, reduction='none').mean()/beta_scale\n",
    "            dloss = dloss + lvl_w[i] * _cur_dloss.mean()\n",
    "    \n",
    "    if(fuse==0):\n",
    "        loss=floss\n",
    "        #print(\"floss=\"+str(loss.clone().detach().cpu().item()))\n",
    "    if(fuse==1):\n",
    "        loss=dloss\n",
    "        #print(\"dloss=\"+str((dloss*1e-1).clone().detach().cpu().item()))\n",
    "    if(fuse==2):\n",
    "        loss=fdloss\n",
    "    if(use_blur):\n",
    "        loss=loss+bloss\n",
    "        #print(\"bloss=\"+str((bloss*1e-2).clone().detach().cpu().item()))\n",
    "    #print(\"dloss=\"+str(dloss.detach().cpu().item())+\" bloss=\"+str(bloss.detach().cpu().item()))\n",
    "    #print(\"loss=\"+str(loss.clone().detach().cpu().item()))\n",
    "    #print('******')\n",
    "    \n",
    "    loss.backward()\n",
    "    print('loss' +str(loss)) \n",
    "    \n",
    "    g=model.module.depthNet[0].weight.grad\n",
    "    if(g is not None):\n",
    "        print('grad before clipping'+str(torch.max(g)))\n",
    "        \n",
    "    torch.nn.utils.clip_grad_norm_(model.module.parameters(), max_norm=0.5)\n",
    "    #torch.nn.utils.clip_grad_norm_(model.module.depthNet.convs[0].parameters(), max_norm=0.5)\n",
    "    #torch.nn.utils.clip_grad_norm_(model.module.depthNet.convs[2].parameters(), max_norm=0.5)\n",
    "\n",
    "    g=model.module.depthNet[0].weight.grad\n",
    "    if(g is not None):\n",
    "        print(\"grad \" +str(torch.max(g)))\n",
    "    g=model.module.depthNet[0].weight\n",
    "    if(g is not None):\n",
    "        print(\"mean weight \"+str(torch.mean(g)))\n",
    "    optimizer.step()\n",
    "    vis={}\n",
    "    if(fuse==0):\n",
    "        vis['pred']=fstacked[0].detach().cpu()\n",
    "    if(fuse==1):\n",
    "        vis['pred']=dstacked[0].detach().cpu()\n",
    "    if(fuse==2):\n",
    "        vis['pred']=fdstacked[0].detach().cpu()\n",
    "    vis['mask']=mask.type(torch.float).detach().cpu()\n",
    "\n",
    "    flossvalue,blossvalue,dlossvalue,fdlossvalue=0,0,0,0\n",
    "    if(type(floss)==torch.Tensor):\n",
    "        flossvalue=floss.data\n",
    "    if(type(bloss)==torch.Tensor):\n",
    "        blossvalue=bloss.data\n",
    "    if(type(dloss)==torch.Tensor):\n",
    "        dlossvalue=dloss.data\n",
    "    if(type(fdloss)==torch.Tensor):\n",
    "        fdlossvalue=fdloss.data\n",
    "    del fstacked,dstacked,fdstacked\n",
    "    return flossvalue,blossvalue,dlossvalue,fdlossvalue,vis\n",
    "\n",
    "from dataloader import DDFF12Loader\n",
    "from dataloader import FoD500Loader\n",
    "\n",
    "database = '/scratch/lnw8px/depth-from-Focus-Defocus/data/my_ddff_trainVal.h5' \n",
    "DDFF12_train = DDFF12Loader(database, stack_key=\"stack_train\", disp_key=\"disp_train\", n_stack=5,\n",
    "                             min_disp=0.02, max_disp=0.28)\n",
    "DDFF12_val = DDFF12Loader(database, stack_key=\"stack_val\", disp_key=\"disp_val\", n_stack=5,\n",
    "                                  min_disp=0.02, max_disp=0.28, b_test=False)\n",
    "DDFF12_train, DDFF12_val = [DDFF12_train], [DDFF12_val]\n",
    "\n",
    "database = '/scratch/lnw8px/depth-from-Focus-Defocus/defocus-net/data/fs_6/' \n",
    "FoD500_train, FoD500_val = FoD500Loader(database, n_stack=5, scale=1)\n",
    "FoD500_train, FoD500_val =  [FoD500_train], [FoD500_val]\n",
    "\n",
    "dataset_train = torch.utils.data.ConcatDataset(DDFF12_train+FoD500_train)\n",
    "dataset_val = torch.utils.data.ConcatDataset(DDFF12_val) # we use the model perform better on  DDFF12_val\n",
    "\n",
    "TrainImgLoader = torch.utils.data.DataLoader(dataset=dataset_train, num_workers=4, batch_size=20, shuffle=True, drop_last=True)\n",
    "ValImgLoader = torch.utils.data.DataLoader(dataset=dataset_val, num_workers=1, batch_size=12, shuffle=False, drop_last=True)\n",
    "\n",
    "total_iters=0\n",
    "for epoch in range(700):\n",
    "    for batch_idx, (img_stack,depth,blur,foc_dist) in enumerate(TrainImgLoader):\n",
    "        #print(str(torch.mean(img_stack)) + ' ' + str(torch.mean(depth))+ ' ' + str(torch.mean(blur))+ ' ' + str(torch.mean(foc_dist)))\n",
    "        floss,bloss,dloss,fdlossvalue,viz=train(img_stack,blur,depth,foc_dist)\n",
    "        if total_iters %10 == 0:\n",
    "                torch.cuda.synchronize()\n",
    "                print('epoch %d:  %d/ %d f_loss = %.6f , b_loss = %.6f , d_loss = %.6f ' % (epoch, batch_idx, len(TrainImgLoader), floss,bloss,dloss))\n",
    "        total_iters+=1"
   ]
  },
  {
   "cell_type": "code",
   "execution_count": 2,
   "metadata": {},
   "outputs": [
    {
     "name": "stdout",
     "output_type": "stream",
     "text": [
      "depth net:\n",
      "depthDecoder(\n",
      "  (sm): Softmax(dim=1)\n",
      "  (sig): Sigmoid()\n",
      "  (convs): Sequential(\n",
      "    (0): Conv2d(10, 64, kernel_size=(3, 3), stride=(1, 1), bias=False)\n",
      "    (1): Upsample(size=(224, 224), mode=nearest)\n",
      "    (2): Conv2d(64, 1, kernel_size=(3, 3), stride=(1, 1), bias=False)\n",
      "    (3): Upsample(size=(224, 224), mode=nearest)\n",
      "  )\n",
      ")\n"
     ]
    }
   ],
   "source": [
    "fuse=1\n",
    "use_blur=1\n",
    "model = DFFNet(clean=False,level=4,dchlist=[10,64,1],dkernel=3,dpool=0,fuse=fuse)"
   ]
  },
  {
   "cell_type": "code",
   "execution_count": 3,
   "metadata": {},
   "outputs": [],
   "source": [
    "from __future__ import print_function\n",
    "import torch\n",
    "import torch.nn as nn\n",
    "import torch.utils.data\n",
    "from models.submodule import *\n",
    "import pdb\n",
    "from models.featExactor2 import FeatExactor\n",
    "\n",
    "class depthDecoder(nn.Module):\n",
    "    def __init__(self,chlist,kernel_size,conv_stride=(1,1),pool_stride=(2,2),up=False, nstride=1,pool=False,bias=False,softmax=False):\n",
    "        super(depthDecoder, self).__init__()\n",
    "        self.sm=nn.Softmax(dim=1)\n",
    "        self.layers=[]\n",
    "        self.sig=nn.Sigmoid()\n",
    "        for i in range(len(chlist)-1):\n",
    "            self.layers.append(nn.Conv2d(chlist[i],chlist[i+1],kernel_size,conv_stride,bias=bias))\n",
    "            if pool:\n",
    "                self.layers.append(nn.MaxPool2d(kernel_size,pool_stride))\n",
    "            self.layers.append(nn.Upsample(size=(224,224)))\n",
    "        if softmax:\n",
    "            self.layers.append(self.sm)\n",
    "        self.convs = nn.Sequential(*self.layers)\n",
    "      \n",
    "    def forward(self,x):\n",
    "        out=self.convs(x)\n",
    "        out=self.sig(out)\n",
    "        return out\n",
    "\n",
    "# Ours-FV (use_diff=0) and Ours-DFV (use_diff=1) model\n",
    "\n",
    "class DFFNet(nn.Module):\n",
    "    def __init__(self, clean,level=1, use_diff=1,dkernel=(3,3),dchlist=[10,64,1],dpool=False,fuse=0):\n",
    "        super(DFFNet, self).__init__()\n",
    "\n",
    "        self.clean = clean\n",
    "        self.feature_extraction = FeatExactor()\n",
    "        self.level = level\n",
    "        self.fuse=fuse\n",
    "        self.sig=nn.Sigmoid()\n",
    "\n",
    "        self.use_diff = use_diff\n",
    "        assert level >= 1 and level <= 4\n",
    "        assert use_diff == 0 or use_diff == 1\n",
    "\n",
    "        if level == 1:\n",
    "            self.decoder3 = decoderBlock(2,16,16, stride=(1,1,1),up=False, nstride=1)\n",
    "        elif level == 2:\n",
    "            self.decoder3 = decoderBlock(2,32,32, stride=(1,1,1),up=False, nstride=1)\n",
    "            self.decoder4 =  decoderBlock(2,32,32, up=True)\n",
    "        elif level == 3:\n",
    "            self.decoder3 = decoderBlock(2, 32, 32, stride=(1, 1, 1), up=False, nstride=1)\n",
    "            self.decoder4 = decoderBlock(2, 64, 32, up=True)\n",
    "            self.decoder5 = decoderBlock(2, 64, 64, up=True, pool=True)\n",
    "        else:\n",
    "            self.decoder3 = decoderBlock(2, 32, 32, stride=(1, 1, 1), up=False, nstride=1)\n",
    "            self.decoder4 = decoderBlock(2, 64, 32,  up=True)\n",
    "            self.decoder5 = decoderBlock(2, 128, 64, up=True, pool=True)\n",
    "            self.decoder6 = decoderBlock(2, 128, 128, up=True, pool=True)\n",
    "\n",
    "        # reg\n",
    "        self.disp_reg = disparityregression(1)\n",
    "        \n",
    "        #depth\n",
    "        self.depthNet=depthDecoder(dchlist,dkernel,pool=dpool)\n",
    "        #confidence for depth\n",
    "        self.depthConfNet=depthDecoder([5,16,2],dkernel,pool=True,softmax=True)\n",
    "\n",
    "\n",
    "    def diff_feat_volume1(self, vol):\n",
    "        vol_out = vol[:,:, :-1] - vol[:, :, 1:]\n",
    "        return torch.cat([vol_out, vol[:,:, -1:]], dim=2) # last elem is  vol[:,:, -1] - 0\n",
    "\n",
    "    def forward(self, stack, focal_dist):\n",
    "        b, n, c, h, w = stack.shape\n",
    "        input_stack = stack.reshape(b*n, c, h , w)\n",
    "\n",
    "        conv4, conv3, conv2, conv1  = self.feature_extraction(input_stack)\n",
    "        # conv3d take b, c, d, h, w\n",
    "        _vol4, _vol3, _vol2, _vol1  = conv4.reshape(b, n, -1, h//32, w//32).permute(0, 2, 1, 3, 4), \\\n",
    "                                 conv3.reshape(b, n, -1, h//16, w//16).permute(0, 2, 1, 3, 4),\\\n",
    "                                 conv2.reshape(b, n, -1, h//8, w//8).permute(0, 2, 1, 3, 4),\\\n",
    "                                 conv1.reshape(b, n, -1, h//4, w//4).permute(0, 2, 1, 3, 4)\n",
    "\n",
    "        #d=_vol1.shape[0]*_vol1.shape[1]*_vol1.shape[2]\n",
    "        #n=_vol1.reshape(d,_vol1.shape[3],_vol1.shape[4])\n",
    "        \n",
    "        if self.use_diff == 1:\n",
    "            vol4, vol3, vol2, vol1 = self.diff_feat_volume1(_vol4), self.diff_feat_volume1(_vol3),\\\n",
    "                                     self.diff_feat_volume1(_vol2), self.diff_feat_volume1(_vol1)\n",
    "        else:\n",
    "            vol4, vol3, vol2, vol1 =  _vol4, _vol3, _vol2, _vol1\n",
    "\n",
    "        if self.level == 1:\n",
    "            _, cost3 = self.decoder3(vol1)\n",
    "\n",
    "        elif self.level == 2:\n",
    "            feat4_2x, cost4 = self.decoder4(vol2)\n",
    "            feat3 = torch.cat((feat4_2x, vol1), dim=1)\n",
    "            _, cost3 = self.decoder3(feat3)\n",
    "\n",
    "        elif self.level == 3:\n",
    "            feat5_2x, cost5 = self.decoder5(vol3)\n",
    "            feat4 = torch.cat((feat5_2x, vol2), dim=1)\n",
    "\n",
    "            feat4_2x, cost4 = self.decoder4(feat4)\n",
    "            feat3 = torch.cat((feat4_2x, vol1), dim=1)\n",
    "            _, cost3 = self.decoder3(feat3)\n",
    "\n",
    "        else:\n",
    "            feat6_2x, cost6 = self.decoder6(vol4)\n",
    "            feat5 = torch.cat((feat6_2x, vol3), dim=1)\n",
    "            feat5_2x, cost5 = self.decoder5(feat5)\n",
    "            feat4 = torch.cat((feat5_2x, vol2), dim=1)\n",
    "\n",
    "            feat4_2x, cost4 = self.decoder4(feat4)\n",
    "            feat3 = torch.cat((feat4_2x, vol1), dim=1)\n",
    "            _, cost3 = self.decoder3(feat3)\n",
    "        \n",
    "        cost3=self.sig(cost3)\n",
    "        cost3=F.interpolate(cost3, [h, w], mode='bilinear')\n",
    "        fdepth3,ddepth3,fddepth3,std3=-1,-1,-1,-1\n",
    "        if(self.fuse==0 or self.fuse==2):\n",
    "            fdepth3,std3=self.disp_reg(F.softmax(cost3,1),focal_dist, uncertainty=True)\n",
    "        if(self.fuse==2):\n",
    "            fddepth3=(fdepth3+ddepth3)*0.5\n",
    "        #for defocus-based method, calculate depth from blur\n",
    "        if(self.fuse==1 or self.fuse==2):\n",
    "            blur3=1./cost3 -1\n",
    "            foc_ar=focal_dist.unsqueeze(dim=2).unsqueeze(dim=3).\\\n",
    "            repeat_interleave(blur3.shape[2],dim=2).\\\n",
    "            repeat_interleave(blur3.shape[3],dim=3)\n",
    "            bf3=torch.cat((blur3,foc_ar),dim=1)\n",
    "            ddepth3=self.depthNet(bf3)\n",
    "            \n",
    "        \n",
    "        # different output based on level for training\n",
    "        fstacked=[fdepth3]\n",
    "        dstacked=[ddepth3]\n",
    "        fdstacked=[fddepth3]\n",
    "        stds=[std3]\n",
    "        cost_stacked=[cost3]\n",
    "        \n",
    "        #if training the model\n",
    "        if self.training :\n",
    "            if self.level >= 2:\n",
    "                cost4=self.sig(cost4)\n",
    "                cost4=F.interpolate(cost4, [h, w], mode='bilinear')\n",
    "                cost_stacked.append(cost4)\n",
    "                if(self.fuse==1 or self.fuse==2):\n",
    "                    blur4=1./cost4 -1\n",
    "                    bf4=torch.cat((blur4,foc_ar),dim=1)\n",
    "                    ddepth4=self.depthNet(bf4)\n",
    "                    dstacked.append(ddepth4)\n",
    "                if(self.fuse==0 or self.fuse==2):\n",
    "                    fdepth4,std4=self.disp_reg(F.softmax(cost4, 1), focal_dist, uncertainty=True)  \n",
    "                    stds.append(std4)\n",
    "                    fstacked.append(fdepth4)\n",
    "                if(self.fuse==2):\n",
    "                    pred4=(fdepth4+ddepth4)*0.5\n",
    "                    fdstacked.append(pred4)\n",
    "                \n",
    "                #total_depth=torch.cat((pred4,depth),dim=1)        \n",
    "                #pred4=total_depth*conf\n",
    "                \n",
    "                if self.level >=3 :\n",
    "                    cost5=self.sig(cost5)\n",
    "                    cost5 = F.interpolate((cost5).unsqueeze(1), [focal_dist.shape[1], h, w], mode='trilinear').squeeze(1)\n",
    "                    cost_stacked.append(cost5)\n",
    "                    if(self.fuse==1 or self.fuse==2):\n",
    "                        blur5=1./cost5 -1\n",
    "                        bf5=torch.cat((blur5,foc_ar),dim=1)\n",
    "                        ddepth5=self.depthNet(bf5)\n",
    "                        dstacked.append(ddepth5)\n",
    "                    if(self.fuse==0 or self.fuse==2):\n",
    "                        fdepth5,std5=self.disp_reg(F.softmax(cost5, 1), focal_dist, uncertainty=True)  \n",
    "                        stds.append(std5)\n",
    "                        fstacked.append(fdepth5)\n",
    "                    if(self.fuse==2):\n",
    "                        pred5=(fdepth5+ddepth5)*0.5\n",
    "                        fdstacked.append(pred5)\n",
    "\n",
    "                    if self.level >=4 :\n",
    "                        cost6=self.sig(cost6)\n",
    "                        cost6 = F.interpolate((cost6).unsqueeze(1), [focal_dist.shape[1], h, w], mode='trilinear').squeeze(1)\n",
    "                        cost_stacked.append(cost6)\n",
    "                        if(self.fuse==1 or self.fuse==2):\n",
    "                            blur6=1./cost6 -1\n",
    "                            bf6=torch.cat((blur6,foc_ar),dim=1)\n",
    "                            ddepth6=self.depthNet(bf6)\n",
    "                            dstacked.append(ddepth6)\n",
    "                        if(self.fuse==0 or self.fuse==2):\n",
    "                            fdepth6,std6=self.disp_reg(F.softmax(cost6, 1), focal_dist, uncertainty=True)  \n",
    "                            stds.append(std6)\n",
    "                            fstacked.append(fdepth6)\n",
    "                        if(self.fuse==2):\n",
    "                            pred6=(fdepth6+ddepth6)*0.5\n",
    "                            fdstacked.append(pred6)\n",
    "                        \n",
    "            return fstacked,dstacked,fdstacked,stds,cost_stacked\n",
    "        #if evaluating the model\n",
    "        else:\n",
    "            return fdepth3,ddepth3,fddepth3,stds,cost3"
   ]
  },
  {
   "cell_type": "code",
   "execution_count": 41,
   "metadata": {},
   "outputs": [
    {
     "name": "stdout",
     "output_type": "stream",
     "text": [
      "ere\n"
     ]
    }
   ],
   "source": [
    "fuse=1\n",
    "use_blur=0\n",
    "model = DFFNet(clean=False,level=4,dchlist=[10,16,1],dkernel=3,dpool=0,fuse=fuse,use_diff=0)\n",
    "model = nn.DataParallel(model)\n",
    "model.cuda()\n",
    "\n",
    "model.train()\n",
    "img_stack_in=Variable(torch.FloatTensor(img_stack))\n",
    "gt_disp=Variable(torch.FloatTensor(depth))\n",
    "img_stack,gt_disp,foc_dist,blur_stack=img_stack_in.cuda(),gt_disp.cuda(),foc_dist.cuda(),blur.cuda()\n",
    "focus=1./(blur_stack+1)\n",
    "\n",
    "fstacked,dstacked,fdstacked,stds,cost3,blur3= model(img_stack, foc_dist)\n",
    "#cost3,blur3= model(img_stack, foc_dist)"
   ]
  },
  {
   "cell_type": "code",
   "execution_count": 42,
   "metadata": {},
   "outputs": [
    {
     "data": {
      "text/plain": [
       "tensor(0.3638, device='cuda:0', grad_fn=<SelectBackward>)"
      ]
     },
     "execution_count": 42,
     "metadata": {},
     "output_type": "execute_result"
    }
   ],
   "source": [
    "cost3[0,0,0,0]"
   ]
  },
  {
   "cell_type": "code",
   "execution_count": 43,
   "metadata": {},
   "outputs": [
    {
     "data": {
      "text/plain": [
       "tensor(1.7484, device='cuda:0', grad_fn=<SelectBackward>)"
      ]
     },
     "execution_count": 43,
     "metadata": {},
     "output_type": "execute_result"
    }
   ],
   "source": [
    "blur3[0,0,0,0]"
   ]
  },
  {
   "cell_type": "code",
   "execution_count": 44,
   "metadata": {},
   "outputs": [
    {
     "data": {
      "text/plain": [
       "tensor(1.7484, device='cuda:0', grad_fn=<SubBackward0>)"
      ]
     },
     "execution_count": 44,
     "metadata": {},
     "output_type": "execute_result"
    }
   ],
   "source": [
    "1./abs(cost3[0,0,0,0])-1"
   ]
  },
  {
   "cell_type": "code",
   "execution_count": 18,
   "metadata": {},
   "outputs": [
    {
     "data": {
      "text/plain": [
       "torch.Size([320, 56, 56])"
      ]
     },
     "execution_count": 18,
     "metadata": {},
     "output_type": "execute_result"
    }
   ],
   "source": [
    "r=torch.rand(4,16,5,56,56)\n",
    "d=r.shape[0]*r.shape[1]*r.shape[2]\n",
    "r.view(d,r.shape[3],r.shape[4]).shape"
   ]
  },
  {
   "cell_type": "code",
   "execution_count": 6,
   "metadata": {},
   "outputs": [],
   "source": [
    "from dataloader import DDFF12Loader\n",
    "database = '/scratch/lnw8px/depth-from-Focus-Defocus/data/my_ddff_trainVal.h5'\n",
    "DDFF12_train = DDFF12Loader(database, stack_key=\"stack_train\", disp_key=\"disp_train\", n_stack=5,\n",
    "                             min_disp=0.02, max_disp=0.28)\n",
    "DDFF12_val = DDFF12Loader(database, stack_key=\"stack_val\", disp_key=\"disp_val\", n_stack=5,\n",
    "                                  min_disp=0.02, max_disp=0.28, b_test=False)\n",
    "DDFF12_train, DDFF12_val = [DDFF12_train], [DDFF12_val]\n",
    "dataset_train = torch.utils.data.ConcatDataset(DDFF12_train)\n",
    "dataset_val = torch.utils.data.ConcatDataset(DDFF12_val)\n",
    "TrainImgLoader = torch.utils.data.DataLoader(dataset=dataset_train, num_workers=4, batch_size=4, shuffle=True, drop_last=True)\n",
    "ValImgLoader = torch.utils.data.DataLoader(dataset=dataset_val, num_workers=1, batch_size=5, shuffle=False, drop_last=True)\n",
    "\n",
    "\n",
    "disp_l=torch.empty((0,1,224,224))\n",
    "f_l=torch.empty((0,5))\n",
    "b_l=torch.empty((0,5,224,224))\n",
    "img_l=torch.empty((0,5,3,224,224))\n",
    "for batch_idx, (img_stack,depth,blur,foc_dist) in enumerate(TrainImgLoader):\n",
    "    disp_l=torch.cat((disp_l,depth),0)\n",
    "    f_l=torch.cat((f_l,foc_dist),0)\n",
    "    b_l=torch.cat((b_l,blur),0)\n",
    "    img_l=torch.cat((img_l,img_stack),0)"
   ]
  },
  {
   "cell_type": "code",
   "execution_count": 7,
   "metadata": {},
   "outputs": [
    {
     "data": {
      "text/plain": [
       "(tensor(-2.1179),\n",
       " tensor(2.6400),\n",
       " tensor(0.),\n",
       " tensor(1.3523),\n",
       " tensor(6.8844e-06),\n",
       " tensor(1.),\n",
       " tensor(0.0714),\n",
       " tensor(1.))"
      ]
     },
     "execution_count": 7,
     "metadata": {},
     "output_type": "execute_result"
    }
   ],
   "source": [
    "torch.min(img_l),torch.max(img_l),torch.min(disp_l),torch.max(disp_l),torch.min(b_l),torch.max(b_l),torch.min(f_l),torch.max(f_l)"
   ]
  },
  {
   "cell_type": "code",
   "execution_count": 8,
   "metadata": {},
   "outputs": [],
   "source": [
    "from dataloader import DDFF12Loader\n",
    "database = '/scratch/lnw8px/depth-from-Focus-Defocus/defocus-net/data/fs_6/' \n",
    "FoD500_train, FoD500_val = FoD500Loader(database, n_stack=5, scale=1)\n",
    "FoD500_train, FoD500_val =  [FoD500_train], [FoD500_val]\n",
    "\n",
    "dataset_train = torch.utils.data.ConcatDataset(FoD500_train)\n",
    "dataset_val = torch.utils.data.ConcatDataset(DDFF12_val)\n",
    "TrainImgLoader = torch.utils.data.DataLoader(dataset=dataset_train, num_workers=4, batch_size=20, shuffle=True, drop_last=True)\n",
    "ValImgLoader = torch.utils.data.DataLoader(dataset=dataset_val, num_workers=1, batch_size=12, shuffle=False, drop_last=True)\n",
    "\n",
    "\n",
    "disp_l=torch.empty((0,1,224,224))\n",
    "f_l=torch.empty((0,5))\n",
    "b_l=torch.empty((0,5,224,224))\n",
    "img_l=torch.empty((0,5,3,224,224))\n",
    "for batch_idx, (img_stack,depth,blur,foc_dist) in enumerate(TrainImgLoader):\n",
    "    disp_l=torch.cat((disp_l,depth),0)\n",
    "    f_l=torch.cat((f_l,foc_dist),0)\n",
    "    b_l=torch.cat((b_l,blur),0)\n",
    "    img_l=torch.cat((img_l,img_stack),0)"
   ]
  },
  {
   "cell_type": "code",
   "execution_count": 9,
   "metadata": {},
   "outputs": [
    {
     "data": {
      "text/plain": [
       "(tensor(-2.1179),\n",
       " tensor(2.6400),\n",
       " tensor(0.0667),\n",
       " tensor(1.8936),\n",
       " tensor(0.),\n",
       " tensor(1.),\n",
       " tensor(0.0667),\n",
       " tensor(1.))"
      ]
     },
     "execution_count": 9,
     "metadata": {},
     "output_type": "execute_result"
    }
   ],
   "source": [
    "torch.min(img_l),torch.max(img_l),torch.min(disp_l),torch.max(disp_l),torch.min(b_l),torch.max(b_l),torch.min(f_l),torch.max(f_l)"
   ]
  },
  {
   "cell_type": "code",
   "execution_count": 8,
   "metadata": {},
   "outputs": [
    {
     "data": {
      "text/plain": [
       "Sequential(\n",
       "  (0): Conv2d(10, 32, kernel_size=(1, 1), stride=(1, 1), bias=False)\n",
       "  (1): Conv2d(32, 1, kernel_size=(1, 1), stride=(1, 1), bias=False)\n",
       "  (2): Upsample(size=(224, 224), mode=nearest)\n",
       ")"
      ]
     },
     "execution_count": 8,
     "metadata": {},
     "output_type": "execute_result"
    }
   ],
   "source": [
    "model = DFFNet(clean=False,level=4,dchlist=[10,64,1],dkernel=3,dpool=0,fuse=fuse)\n",
    "model = nn.DataParallel(model)\n",
    "model.module.depthNet"
   ]
  },
  {
   "cell_type": "code",
   "execution_count": 2,
   "metadata": {},
   "outputs": [],
   "source": [
    "fuse=1\n",
    "use_blur=0\n",
    "model = DFFNet(clean=False,level=4,dchlist=[10,64,1],dkernel=3,dpool=0,fuse=fuse)\n",
    "model = nn.DataParallel(model)\n",
    "model.cuda()\n",
    "optimizer = optim.Adam(model.parameters(), lr=0.0001, betas=(0.9, 0.999))\n",
    "def train(img_stack_in, blur_stack,gt_disp, foc_dist):\n",
    "    model.train()\n",
    "    img_stack_in=Variable(torch.FloatTensor(img_stack_in))\n",
    "    gt_disp=Variable(torch.FloatTensor(gt_disp))\n",
    "    img_stack,gt_disp,foc_dist,blur_stack=img_stack_in.cuda(),gt_disp.cuda(),foc_dist.cuda(),blur_stack.cuda()\n",
    "    focus=1./(blur_stack+1)\n",
    "    #---------\n",
    "    max_val = torch.where(foc_dist>=100, torch.zeros_like(foc_dist), foc_dist) # exclude padding value\n",
    "    min_val = torch.where(foc_dist<=0, torch.ones_like(foc_dist)*10, foc_dist)  # exclude padding value\n",
    "    mask = (gt_disp >= min_val.min(dim=1)[0].view(-1,1,1,1)) & (gt_disp <= max_val.max(dim=1)[0].view(-1,1,1,1)) #\n",
    "    mask_tiled=torch.repeat_interleave(mask,repeats=5,dim=1)\n",
    "    mask_blur=torch.repeat_interleave(mask,repeats=1,dim=1)\n",
    "    mask.detach_()\n",
    "    mask_tiled.detach_()\n",
    "    mask_blur.detach_()\n",
    "    #----\n",
    "\n",
    "    optimizer.zero_grad()\n",
    "    beta_scale = 1 # smooth l1 do not have beta in 1.6, so we increase the input to and then scale back -- no significant improve according to our trials\n",
    "    fstacked,dstacked,fdstacked,stds,cost= model(img_stack, foc_dist)\n",
    "    floss,dloss,fdloss,bloss=0,0,0,0\n",
    "    lvl_w=[8./15, 4./15, 2./15, 1./15]\n",
    "    for i in range(len(fstacked)):\n",
    "        if(fuse==0 or fuse==2):\n",
    "            _cur_floss = F.smooth_l1_loss(fstacked[i][mask] * beta_scale, gt_disp[mask]* beta_scale, reduction='none') / beta_scale\n",
    "            floss = floss + lvl_w[i] * _cur_floss.mean()\n",
    "        if(use_blur):\n",
    "            _cur_bloss=F.mse_loss(cost[i][mask_tiled],focus[mask_tiled],reduction='none').mean()\n",
    "            bloss = bloss + lvl_w[i] * _cur_bloss.mean()\n",
    "        if(fuse==1):\n",
    "            _cur_dloss = F.smooth_l1_loss(dstacked[i][mask] * beta_scale, gt_disp[mask]* beta_scale, reduction='none').mean()/beta_scale\n",
    "            dloss = dloss + lvl_w[i] * _cur_dloss.mean()\n",
    "    \n",
    "    if(fuse==0):\n",
    "        loss=floss\n",
    "        #print(\"floss=\"+str(loss.clone().detach().cpu().item()))\n",
    "    if(fuse==1):\n",
    "        loss=dloss\n",
    "        #print(\"dloss=\"+str((dloss*1e-1).clone().detach().cpu().item()))\n",
    "    if(fuse==2):\n",
    "        loss=fdloss\n",
    "    if(use_blur):\n",
    "        loss=loss+bloss\n",
    "        #print(\"bloss=\"+str((bloss*1e-2).clone().detach().cpu().item()))\n",
    "    #print(\"dloss=\"+str(dloss.detach().cpu().item())+\" bloss=\"+str(bloss.detach().cpu().item()))\n",
    "    #print(\"loss=\"+str(loss.clone().detach().cpu().item()))\n",
    "    #print('******')\n",
    "    \n",
    "    loss.backward()\n",
    "    print('loss' +str(loss)) \n",
    "    \n",
    "    g=model.module.depthNet[0].weight.grad\n",
    "    if(g is not None):\n",
    "        print('grad before clipping'+str(torch.max(g)))\n",
    "        \n",
    "    torch.nn.utils.clip_grad_norm_(model.module.parameters(), max_norm=0.5)\n",
    "    #torch.nn.utils.clip_grad_norm_(model.module.depthNet.convs[0].parameters(), max_norm=0.5)\n",
    "    #torch.nn.utils.clip_grad_norm_(model.module.depthNet.convs[2].parameters(), max_norm=0.5)\n",
    "\n",
    "    g=model.module.depthNet[0].weight.grad\n",
    "    if(g is not None):\n",
    "        print(\"grad \" +str(torch.max(g)))\n",
    "    g=model.module.depthNet[0].weight\n",
    "    if(g is not None):\n",
    "        print(\"mean weight \"+str(torch.mean(g)))\n",
    "    optimizer.step()\n",
    "    vis={}\n",
    "    if(fuse==0):\n",
    "        vis['pred']=fstacked[0].detach().cpu()\n",
    "    if(fuse==1):\n",
    "        vis['pred']=dstacked[0].detach().cpu()\n",
    "    if(fuse==2):\n",
    "        vis['pred']=fdstacked[0].detach().cpu()\n",
    "    vis['mask']=mask.type(torch.float).detach().cpu()\n",
    "\n",
    "    flossvalue,blossvalue,dlossvalue,fdlossvalue=0,0,0,0\n",
    "    if(type(floss)==torch.Tensor):\n",
    "        flossvalue=floss.data\n",
    "    if(type(bloss)==torch.Tensor):\n",
    "        blossvalue=bloss.data\n",
    "    if(type(dloss)==torch.Tensor):\n",
    "        dlossvalue=dloss.data\n",
    "    if(type(fdloss)==torch.Tensor):\n",
    "        fdlossvalue=fdloss.data\n",
    "    del fstacked,dstacked,fdstacked\n",
    "    return flossvalue,blossvalue,dlossvalue,fdlossvalue,vis"
   ]
  },
  {
   "cell_type": "code",
   "execution_count": 12,
   "metadata": {},
   "outputs": [],
   "source": [
    "del model"
   ]
  },
  {
   "cell_type": "code",
   "execution_count": 3,
   "metadata": {},
   "outputs": [
    {
     "name": "stderr",
     "output_type": "stream",
     "text": [
      "/opt/conda/lib/python3.7/site-packages/torch/nn/functional.py:2796: UserWarning: nn.functional.upsample is deprecated. Use nn.functional.interpolate instead.\n",
      "  warnings.warn(\"nn.functional.upsample is deprecated. Use nn.functional.interpolate instead.\")\n",
      "/opt/conda/lib/python3.7/site-packages/torch/nn/functional.py:2973: UserWarning: Default upsampling behavior when mode=bilinear is changed to align_corners=False since 0.4.0. Please specify align_corners=True if the old behavior is desired. See the documentation of nn.Upsample for details.\n",
      "  \"See the documentation of nn.Upsample for details.\".format(mode))\n",
      "/opt/conda/lib/python3.7/site-packages/torch/nn/functional.py:2973: UserWarning: Default upsampling behavior when mode=trilinear is changed to align_corners=False since 0.4.0. Please specify align_corners=True if the old behavior is desired. See the documentation of nn.Upsample for details.\n",
      "  \"See the documentation of nn.Upsample for details.\".format(mode))\n"
     ]
    },
    {
     "name": "stdout",
     "output_type": "stream",
     "text": [
      "losstensor(1.6871e+08, device='cuda:0', grad_fn=<AddBackward0>)\n",
      "grad before clippingtensor(51887264., device='cuda:0')\n",
      "grad tensor(8.0880e-05, device='cuda:0')\n",
      "mean weight tensor(-0.0004, device='cuda:0', grad_fn=<MeanBackward0>)\n",
      "epoch 0:  0/ 40 f_loss = 0.000000 , b_loss = 0.000000 , d_loss = 168707808.000000 \n",
      "losstensor(7232114.5000, device='cuda:0', grad_fn=<AddBackward0>)\n",
      "grad before clippingtensor(4465159.5000, device='cuda:0')\n",
      "grad tensor(6.9764e-05, device='cuda:0')\n",
      "mean weight tensor(-0.0004, device='cuda:0', grad_fn=<MeanBackward0>)\n",
      "losstensor(59832084., device='cuda:0', grad_fn=<AddBackward0>)\n",
      "grad before clippingtensor(58339808., device='cuda:0')\n",
      "grad tensor(0.0005, device='cuda:0')\n",
      "mean weight tensor(-0.0004, device='cuda:0', grad_fn=<MeanBackward0>)\n",
      "losstensor(66648.5000, device='cuda:0', grad_fn=<AddBackward0>)\n",
      "grad before clippingtensor(35648.4766, device='cuda:0')\n",
      "grad tensor(0.0001, device='cuda:0')\n",
      "mean weight tensor(-0.0004, device='cuda:0', grad_fn=<MeanBackward0>)\n",
      "losstensor(607258.4375, device='cuda:0', grad_fn=<AddBackward0>)\n",
      "grad before clippingtensor(577639.7500, device='cuda:0')\n",
      "grad tensor(0.0003, device='cuda:0')\n",
      "mean weight tensor(-0.0004, device='cuda:0', grad_fn=<MeanBackward0>)\n",
      "losstensor(2159146.5000, device='cuda:0', grad_fn=<AddBackward0>)\n",
      "grad before clippingtensor(1374260.7500, device='cuda:0')\n",
      "grad tensor(0.0011, device='cuda:0')\n",
      "mean weight tensor(-0.0004, device='cuda:0', grad_fn=<MeanBackward0>)\n",
      "losstensor(23971562., device='cuda:0', grad_fn=<AddBackward0>)\n",
      "grad before clippingtensor(16288541., device='cuda:0')\n",
      "grad tensor(0.0006, device='cuda:0')\n",
      "mean weight tensor(-0.0004, device='cuda:0', grad_fn=<MeanBackward0>)\n",
      "losstensor(393301.3438, device='cuda:0', grad_fn=<AddBackward0>)\n",
      "grad before clippingtensor(596430.8750, device='cuda:0')\n",
      "grad tensor(0.0011, device='cuda:0')\n",
      "mean weight tensor(-0.0004, device='cuda:0', grad_fn=<MeanBackward0>)\n",
      "losstensor(3.6659e+08, device='cuda:0', grad_fn=<AddBackward0>)\n",
      "grad before clippingtensor(2.5906e+08, device='cuda:0')\n",
      "grad tensor(0.0007, device='cuda:0')\n",
      "mean weight tensor(-0.0004, device='cuda:0', grad_fn=<MeanBackward0>)\n",
      "losstensor(5994228.5000, device='cuda:0', grad_fn=<AddBackward0>)\n",
      "grad before clippingtensor(4894975.5000, device='cuda:0')\n",
      "grad tensor(0.0004, device='cuda:0')\n",
      "mean weight tensor(-0.0004, device='cuda:0', grad_fn=<MeanBackward0>)\n",
      "losstensor(6695930.5000, device='cuda:0', grad_fn=<AddBackward0>)\n",
      "grad before clippingtensor(3936811.2500, device='cuda:0')\n",
      "grad tensor(0.0009, device='cuda:0')\n",
      "mean weight tensor(-0.0004, device='cuda:0', grad_fn=<MeanBackward0>)\n",
      "epoch 0:  10/ 40 f_loss = 0.000000 , b_loss = 0.000000 , d_loss = 6695930.500000 \n",
      "losstensor(3.1336e+12, device='cuda:0', grad_fn=<AddBackward0>)\n",
      "grad before clippingtensor(2.5035e+12, device='cuda:0')\n",
      "grad tensor(0.0005, device='cuda:0')\n",
      "mean weight tensor(-0.0004, device='cuda:0', grad_fn=<MeanBackward0>)\n",
      "losstensor(1.3056e+09, device='cuda:0', grad_fn=<AddBackward0>)\n",
      "grad before clippingtensor(1.3041e+09, device='cuda:0')\n",
      "grad tensor(0.0002, device='cuda:0')\n",
      "mean weight tensor(-0.0004, device='cuda:0', grad_fn=<MeanBackward0>)\n",
      "losstensor(1.8882e+10, device='cuda:0', grad_fn=<AddBackward0>)\n",
      "grad before clippingtensor(1.8870e+10, device='cuda:0')\n",
      "grad tensor(0.0007, device='cuda:0')\n",
      "mean weight tensor(-0.0004, device='cuda:0', grad_fn=<MeanBackward0>)\n",
      "losstensor(3.0599e+16, device='cuda:0', grad_fn=<AddBackward0>)\n",
      "grad before clippingtensor(2.4026e+16, device='cuda:0')\n",
      "grad tensor(2.4026e+16, device='cuda:0')\n",
      "mean weight tensor(-0.0004, device='cuda:0', grad_fn=<MeanBackward0>)\n",
      "losstensor(nan, device='cuda:0', grad_fn=<AddBackward0>)\n",
      "grad before clippingtensor(nan, device='cuda:0')\n",
      "grad tensor(nan, device='cuda:0')\n",
      "mean weight tensor(-0.0004, device='cuda:0', grad_fn=<MeanBackward0>)\n",
      "losstensor(nan, device='cuda:0', grad_fn=<AddBackward0>)\n",
      "grad before clippingtensor(nan, device='cuda:0')\n",
      "grad tensor(nan, device='cuda:0')\n",
      "mean weight tensor(nan, device='cuda:0', grad_fn=<MeanBackward0>)\n",
      "losstensor(nan, device='cuda:0', grad_fn=<AddBackward0>)\n",
      "grad before clippingtensor(nan, device='cuda:0')\n",
      "grad tensor(nan, device='cuda:0')\n",
      "mean weight tensor(nan, device='cuda:0', grad_fn=<MeanBackward0>)\n",
      "losstensor(nan, device='cuda:0', grad_fn=<AddBackward0>)\n",
      "grad before clippingtensor(nan, device='cuda:0')\n",
      "grad tensor(nan, device='cuda:0')\n",
      "mean weight tensor(nan, device='cuda:0', grad_fn=<MeanBackward0>)\n",
      "losstensor(nan, device='cuda:0', grad_fn=<AddBackward0>)\n",
      "grad before clippingtensor(nan, device='cuda:0')\n",
      "grad tensor(nan, device='cuda:0')\n",
      "mean weight tensor(nan, device='cuda:0', grad_fn=<MeanBackward0>)\n",
      "losstensor(nan, device='cuda:0', grad_fn=<AddBackward0>)\n",
      "grad before clippingtensor(nan, device='cuda:0')\n",
      "grad tensor(nan, device='cuda:0')\n",
      "mean weight tensor(nan, device='cuda:0', grad_fn=<MeanBackward0>)\n",
      "epoch 0:  20/ 40 f_loss = 0.000000 , b_loss = 0.000000 , d_loss = nan \n",
      "losstensor(nan, device='cuda:0', grad_fn=<AddBackward0>)\n",
      "grad before clippingtensor(nan, device='cuda:0')\n",
      "grad tensor(nan, device='cuda:0')\n",
      "mean weight tensor(nan, device='cuda:0', grad_fn=<MeanBackward0>)\n",
      "losstensor(nan, device='cuda:0', grad_fn=<AddBackward0>)\n",
      "grad before clippingtensor(nan, device='cuda:0')\n",
      "grad tensor(nan, device='cuda:0')\n",
      "mean weight tensor(nan, device='cuda:0', grad_fn=<MeanBackward0>)\n",
      "losstensor(nan, device='cuda:0', grad_fn=<AddBackward0>)\n",
      "grad before clippingtensor(nan, device='cuda:0')\n",
      "grad tensor(nan, device='cuda:0')\n",
      "mean weight tensor(nan, device='cuda:0', grad_fn=<MeanBackward0>)\n"
     ]
    },
    {
     "ename": "KeyboardInterrupt",
     "evalue": "",
     "output_type": "error",
     "traceback": [
      "\u001b[0;31m---------------------------------------------------------------------------\u001b[0m",
      "\u001b[0;31mKeyboardInterrupt\u001b[0m                         Traceback (most recent call last)",
      "\u001b[0;32m<ipython-input-3-02dcfedf9770>\u001b[0m in \u001b[0;36m<module>\u001b[0;34m\u001b[0m\n\u001b[1;32m     23\u001b[0m     \u001b[0;32mfor\u001b[0m \u001b[0mbatch_idx\u001b[0m\u001b[0;34m,\u001b[0m \u001b[0;34m(\u001b[0m\u001b[0mimg_stack\u001b[0m\u001b[0;34m,\u001b[0m\u001b[0mdepth\u001b[0m\u001b[0;34m,\u001b[0m\u001b[0mblur\u001b[0m\u001b[0;34m,\u001b[0m\u001b[0mfoc_dist\u001b[0m\u001b[0;34m)\u001b[0m \u001b[0;32min\u001b[0m \u001b[0menumerate\u001b[0m\u001b[0;34m(\u001b[0m\u001b[0mTrainImgLoader\u001b[0m\u001b[0;34m)\u001b[0m\u001b[0;34m:\u001b[0m\u001b[0;34m\u001b[0m\u001b[0;34m\u001b[0m\u001b[0m\n\u001b[1;32m     24\u001b[0m         \u001b[0;31m#print(str(torch.mean(img_stack)) + ' ' + str(torch.mean(depth))+ ' ' + str(torch.mean(blur))+ ' ' + str(torch.mean(foc_dist)))\u001b[0m\u001b[0;34m\u001b[0m\u001b[0;34m\u001b[0m\u001b[0;34m\u001b[0m\u001b[0m\n\u001b[0;32m---> 25\u001b[0;31m         \u001b[0mfloss\u001b[0m\u001b[0;34m,\u001b[0m\u001b[0mbloss\u001b[0m\u001b[0;34m,\u001b[0m\u001b[0mdloss\u001b[0m\u001b[0;34m,\u001b[0m\u001b[0mfdlossvalue\u001b[0m\u001b[0;34m,\u001b[0m\u001b[0mviz\u001b[0m\u001b[0;34m=\u001b[0m\u001b[0mtrain\u001b[0m\u001b[0;34m(\u001b[0m\u001b[0mimg_stack\u001b[0m\u001b[0;34m,\u001b[0m\u001b[0mblur\u001b[0m\u001b[0;34m,\u001b[0m\u001b[0mdepth\u001b[0m\u001b[0;34m,\u001b[0m\u001b[0mfoc_dist\u001b[0m\u001b[0;34m)\u001b[0m\u001b[0;34m\u001b[0m\u001b[0;34m\u001b[0m\u001b[0m\n\u001b[0m\u001b[1;32m     26\u001b[0m         \u001b[0;32mif\u001b[0m \u001b[0mtotal_iters\u001b[0m \u001b[0;34m%\u001b[0m\u001b[0;36m10\u001b[0m \u001b[0;34m==\u001b[0m \u001b[0;36m0\u001b[0m\u001b[0;34m:\u001b[0m\u001b[0;34m\u001b[0m\u001b[0;34m\u001b[0m\u001b[0m\n\u001b[1;32m     27\u001b[0m                 \u001b[0mtorch\u001b[0m\u001b[0;34m.\u001b[0m\u001b[0mcuda\u001b[0m\u001b[0;34m.\u001b[0m\u001b[0msynchronize\u001b[0m\u001b[0;34m(\u001b[0m\u001b[0;34m)\u001b[0m\u001b[0;34m\u001b[0m\u001b[0;34m\u001b[0m\u001b[0m\n",
      "\u001b[0;32m<ipython-input-2-eba980199e36>\u001b[0m in \u001b[0;36mtrain\u001b[0;34m(img_stack_in, blur_stack, gt_disp, foc_dist)\u001b[0m\n\u001b[1;32m     53\u001b[0m     \u001b[0;31m#print('******')\u001b[0m\u001b[0;34m\u001b[0m\u001b[0;34m\u001b[0m\u001b[0;34m\u001b[0m\u001b[0m\n\u001b[1;32m     54\u001b[0m \u001b[0;34m\u001b[0m\u001b[0m\n\u001b[0;32m---> 55\u001b[0;31m     \u001b[0mloss\u001b[0m\u001b[0;34m.\u001b[0m\u001b[0mbackward\u001b[0m\u001b[0;34m(\u001b[0m\u001b[0;34m)\u001b[0m\u001b[0;34m\u001b[0m\u001b[0;34m\u001b[0m\u001b[0m\n\u001b[0m\u001b[1;32m     56\u001b[0m     \u001b[0mprint\u001b[0m\u001b[0;34m(\u001b[0m\u001b[0;34m'loss'\u001b[0m \u001b[0;34m+\u001b[0m\u001b[0mstr\u001b[0m\u001b[0;34m(\u001b[0m\u001b[0mloss\u001b[0m\u001b[0;34m)\u001b[0m\u001b[0;34m)\u001b[0m\u001b[0;34m\u001b[0m\u001b[0;34m\u001b[0m\u001b[0m\n\u001b[1;32m     57\u001b[0m \u001b[0;34m\u001b[0m\u001b[0m\n",
      "\u001b[0;32m/opt/conda/lib/python3.7/site-packages/torch/tensor.py\u001b[0m in \u001b[0;36mbackward\u001b[0;34m(self, gradient, retain_graph, create_graph)\u001b[0m\n\u001b[1;32m    196\u001b[0m                 \u001b[0mproducts\u001b[0m\u001b[0;34m.\u001b[0m \u001b[0mDefaults\u001b[0m \u001b[0mto\u001b[0m\u001b[0;31m \u001b[0m\u001b[0;31m`\u001b[0m\u001b[0;31m`\u001b[0m\u001b[0;32mFalse\u001b[0m\u001b[0;31m`\u001b[0m\u001b[0;31m`\u001b[0m\u001b[0;34m.\u001b[0m\u001b[0;34m\u001b[0m\u001b[0;34m\u001b[0m\u001b[0m\n\u001b[1;32m    197\u001b[0m         \"\"\"\n\u001b[0;32m--> 198\u001b[0;31m         \u001b[0mtorch\u001b[0m\u001b[0;34m.\u001b[0m\u001b[0mautograd\u001b[0m\u001b[0;34m.\u001b[0m\u001b[0mbackward\u001b[0m\u001b[0;34m(\u001b[0m\u001b[0mself\u001b[0m\u001b[0;34m,\u001b[0m \u001b[0mgradient\u001b[0m\u001b[0;34m,\u001b[0m \u001b[0mretain_graph\u001b[0m\u001b[0;34m,\u001b[0m \u001b[0mcreate_graph\u001b[0m\u001b[0;34m)\u001b[0m\u001b[0;34m\u001b[0m\u001b[0;34m\u001b[0m\u001b[0m\n\u001b[0m\u001b[1;32m    199\u001b[0m \u001b[0;34m\u001b[0m\u001b[0m\n\u001b[1;32m    200\u001b[0m     \u001b[0;32mdef\u001b[0m \u001b[0mregister_hook\u001b[0m\u001b[0;34m(\u001b[0m\u001b[0mself\u001b[0m\u001b[0;34m,\u001b[0m \u001b[0mhook\u001b[0m\u001b[0;34m)\u001b[0m\u001b[0;34m:\u001b[0m\u001b[0;34m\u001b[0m\u001b[0;34m\u001b[0m\u001b[0m\n",
      "\u001b[0;32m/opt/conda/lib/python3.7/site-packages/torch/autograd/__init__.py\u001b[0m in \u001b[0;36mbackward\u001b[0;34m(tensors, grad_tensors, retain_graph, create_graph, grad_variables)\u001b[0m\n\u001b[1;32m     98\u001b[0m     Variable._execution_engine.run_backward(\n\u001b[1;32m     99\u001b[0m         \u001b[0mtensors\u001b[0m\u001b[0;34m,\u001b[0m \u001b[0mgrad_tensors\u001b[0m\u001b[0;34m,\u001b[0m \u001b[0mretain_graph\u001b[0m\u001b[0;34m,\u001b[0m \u001b[0mcreate_graph\u001b[0m\u001b[0;34m,\u001b[0m\u001b[0;34m\u001b[0m\u001b[0;34m\u001b[0m\u001b[0m\n\u001b[0;32m--> 100\u001b[0;31m         allow_unreachable=True)  # allow_unreachable flag\n\u001b[0m\u001b[1;32m    101\u001b[0m \u001b[0;34m\u001b[0m\u001b[0m\n\u001b[1;32m    102\u001b[0m \u001b[0;34m\u001b[0m\u001b[0m\n",
      "\u001b[0;31mKeyboardInterrupt\u001b[0m: "
     ]
    }
   ],
   "source": [
    "from dataloader import DDFF12Loader\n",
    "from dataloader import FoD500Loader\n",
    "\n",
    "database = '/scratch/lnw8px/depth-from-Focus-Defocus/data/my_ddff_trainVal.h5' \n",
    "DDFF12_train = DDFF12Loader(database, stack_key=\"stack_train\", disp_key=\"disp_train\", n_stack=5,\n",
    "                             min_disp=0.02, max_disp=0.28)\n",
    "DDFF12_val = DDFF12Loader(database, stack_key=\"stack_val\", disp_key=\"disp_val\", n_stack=5,\n",
    "                                  min_disp=0.02, max_disp=0.28, b_test=False)\n",
    "DDFF12_train, DDFF12_val = [DDFF12_train], [DDFF12_val]\n",
    "\n",
    "database = '/scratch/lnw8px/depth-from-Focus-Defocus/defocus-net/data/fs_6/' \n",
    "FoD500_train, FoD500_val = FoD500Loader(database, n_stack=5, scale=1)\n",
    "FoD500_train, FoD500_val =  [FoD500_train], [FoD500_val]\n",
    "\n",
    "dataset_train = torch.utils.data.ConcatDataset(DDFF12_train+FoD500_train)\n",
    "dataset_val = torch.utils.data.ConcatDataset(DDFF12_val) # we use the model perform better on  DDFF12_val\n",
    "\n",
    "TrainImgLoader = torch.utils.data.DataLoader(dataset=dataset_train, num_workers=4, batch_size=20, shuffle=True, drop_last=True)\n",
    "ValImgLoader = torch.utils.data.DataLoader(dataset=dataset_val, num_workers=1, batch_size=12, shuffle=False, drop_last=True)\n",
    "\n",
    "total_iters=0\n",
    "for epoch in range(700):\n",
    "    for batch_idx, (img_stack,depth,blur,foc_dist) in enumerate(TrainImgLoader):\n",
    "        #print(str(torch.mean(img_stack)) + ' ' + str(torch.mean(depth))+ ' ' + str(torch.mean(blur))+ ' ' + str(torch.mean(foc_dist)))\n",
    "        floss,bloss,dloss,fdlossvalue,viz=train(img_stack,blur,depth,foc_dist)\n",
    "        if total_iters %10 == 0:\n",
    "                torch.cuda.synchronize()\n",
    "                print('epoch %d:  %d/ %d f_loss = %.6f , b_loss = %.6f , d_loss = %.6f ' % (epoch, batch_idx, len(TrainImgLoader), floss,bloss,dloss))\n",
    "        total_iters+=1"
   ]
  },
  {
   "cell_type": "code",
   "execution_count": null,
   "metadata": {},
   "outputs": [],
   "source": []
  },
  {
   "cell_type": "code",
   "execution_count": 20,
   "metadata": {},
   "outputs": [
    {
     "ename": "TypeError",
     "evalue": "'int' object is not subscriptable",
     "output_type": "error",
     "traceback": [
      "\u001b[0;31m---------------------------------------------------------------------------\u001b[0m",
      "\u001b[0;31mTypeError\u001b[0m                                 Traceback (most recent call last)",
      "\u001b[0;32m<ipython-input-20-6529a3769db1>\u001b[0m in \u001b[0;36m<module>\u001b[0;34m\u001b[0m\n\u001b[0;32m----> 1\u001b[0;31m \u001b[0mtrain\u001b[0m\u001b[0;34m(\u001b[0m\u001b[0mimg_stack\u001b[0m\u001b[0;34m,\u001b[0m\u001b[0mblur\u001b[0m\u001b[0;34m,\u001b[0m\u001b[0mdepth\u001b[0m\u001b[0;34m,\u001b[0m\u001b[0mfoc_dist\u001b[0m\u001b[0;34m)\u001b[0m\u001b[0;34m\u001b[0m\u001b[0;34m\u001b[0m\u001b[0m\n\u001b[0m",
      "\u001b[0;32m<ipython-input-19-ee2d666ca39f>\u001b[0m in \u001b[0;36mtrain\u001b[0;34m(img_stack_in, blur_stack, gt_disp, foc_dist)\u001b[0m\n\u001b[1;32m     34\u001b[0m \u001b[0;34m\u001b[0m\u001b[0m\n\u001b[1;32m     35\u001b[0m         \u001b[0;32mif\u001b[0m\u001b[0;34m(\u001b[0m\u001b[0mfuse\u001b[0m\u001b[0;34m==\u001b[0m\u001b[0;36m1\u001b[0m\u001b[0;34m)\u001b[0m\u001b[0;34m:\u001b[0m\u001b[0;34m\u001b[0m\u001b[0;34m\u001b[0m\u001b[0m\n\u001b[0;32m---> 36\u001b[0;31m             \u001b[0m_cur_dloss\u001b[0m \u001b[0;34m=\u001b[0m \u001b[0mF\u001b[0m\u001b[0;34m.\u001b[0m\u001b[0msmooth_l1_loss\u001b[0m\u001b[0;34m(\u001b[0m\u001b[0mdstacked\u001b[0m\u001b[0;34m[\u001b[0m\u001b[0mi\u001b[0m\u001b[0;34m]\u001b[0m\u001b[0;34m[\u001b[0m\u001b[0mmask\u001b[0m\u001b[0;34m]\u001b[0m \u001b[0;34m*\u001b[0m \u001b[0mbeta_scale\u001b[0m\u001b[0;34m,\u001b[0m \u001b[0mgt_disp\u001b[0m\u001b[0;34m[\u001b[0m\u001b[0mmask\u001b[0m\u001b[0;34m]\u001b[0m\u001b[0;34m*\u001b[0m \u001b[0mbeta_scale\u001b[0m\u001b[0;34m,\u001b[0m \u001b[0mreduction\u001b[0m\u001b[0;34m=\u001b[0m\u001b[0;34m'none'\u001b[0m\u001b[0;34m)\u001b[0m \u001b[0;34m/\u001b[0m \u001b[0mbeta_scale\u001b[0m\u001b[0;34m\u001b[0m\u001b[0;34m\u001b[0m\u001b[0m\n\u001b[0m\u001b[1;32m     37\u001b[0m             \u001b[0mdloss\u001b[0m \u001b[0;34m=\u001b[0m \u001b[0mdloss\u001b[0m \u001b[0;34m+\u001b[0m \u001b[0mlvl_w\u001b[0m\u001b[0;34m[\u001b[0m\u001b[0mi\u001b[0m\u001b[0;34m]\u001b[0m \u001b[0;34m*\u001b[0m \u001b[0m_cur_dloss\u001b[0m\u001b[0;34m.\u001b[0m\u001b[0mmean\u001b[0m\u001b[0;34m(\u001b[0m\u001b[0;34m)\u001b[0m\u001b[0;34m\u001b[0m\u001b[0;34m\u001b[0m\u001b[0m\n\u001b[1;32m     38\u001b[0m         \u001b[0;32mif\u001b[0m\u001b[0;34m(\u001b[0m\u001b[0mfuse\u001b[0m\u001b[0;34m==\u001b[0m\u001b[0;36m2\u001b[0m\u001b[0;34m)\u001b[0m\u001b[0;34m:\u001b[0m\u001b[0;34m\u001b[0m\u001b[0;34m\u001b[0m\u001b[0m\n",
      "\u001b[0;31mTypeError\u001b[0m: 'int' object is not subscriptable"
     ]
    }
   ],
   "source": [
    "train(img_stack,blur,depth,foc_dist)"
   ]
  },
  {
   "cell_type": "code",
   "execution_count": 11,
   "metadata": {},
   "outputs": [
    {
     "name": "stdout",
     "output_type": "stream",
     "text": [
      "depth net:\n",
      "depthDecoder(\n",
      "  (sm): Softmax(dim=1)\n",
      "  (convs): Sequential(\n",
      "    (0): Conv2d(10, 32, kernel_size=(3, 3), stride=(1, 1), bias=False)\n",
      "    (1): Upsample(size=(224, 224), mode=nearest)\n",
      "    (2): Conv2d(32, 1, kernel_size=(3, 3), stride=(1, 1), bias=False)\n",
      "    (3): Upsample(size=(224, 224), mode=nearest)\n",
      "  )\n",
      ")\n"
     ]
    }
   ],
   "source": [
    "fuse=0\n",
    "model = DFFNet(clean=False,level=4,dchlist=[10,32,1],dkernel=3,dpool=0,fuse=fuse)\n",
    "model = nn.DataParallel(model)\n",
    "model.cuda()\n",
    "optimizer = optim.Adam(model.parameters(), lr=0.0001, betas=(0.9, 0.999))"
   ]
  },
  {
   "cell_type": "code",
   "execution_count": 2,
   "metadata": {},
   "outputs": [],
   "source": [
    "#! /usr/bin/python3\n",
    "\n",
    "import os\n",
    "import numpy as np\n",
    "from torch.utils.data import Dataset\n",
    "import torchvision\n",
    "import torch\n",
    "import h5py\n",
    "from dataloader import CameraLens\n",
    "\n",
    "# code adopted from https://github.com/soyers/ddff-pytorch/blob/master/python/ddff/dataproviders/datareaders/FocalStackDDFFH5Reader.py\n",
    "\n",
    "\n",
    "class DDFF12Loader(Dataset):\n",
    "\n",
    "    def __init__(self, hdf5_filename,  stack_key=\"stack_train\", disp_key=\"disp_train\", transform=None,\n",
    "                 n_stack=10, min_disp=0.02, max_disp=0.28, b_test=False):\n",
    "        \"\"\"\n",
    "        Args:\n",
    "            root_dir_fs (string): Directory with all focal stacks of all image datasets.\n",
    "            root_dir_depth (string): Directory with all depth images of all image datasets.\n",
    "            transform (callable, optional): Optional transform to be applied\n",
    "                on a sample.\n",
    "        \"\"\"\n",
    "        # Disable opencv threading since it leads to deadlocks in PyTorch DataLoader\n",
    "        self.hdf5 = h5py.File(hdf5_filename, 'r')\n",
    "        self.stack_key = stack_key\n",
    "        self.disp_key = disp_key\n",
    "        self.max_n_stack = 10\n",
    "        self.b_test = b_test\n",
    "        self.camera=CameraLens(9.5*1e-3,f_number=2)\n",
    "        self.max_disp=max_disp\n",
    "\n",
    "        assert n_stack <= self.max_n_stack, 'DDFF12 has maximum 10 images per stack!'\n",
    "        self.n_stack = n_stack\n",
    "        self.disp_dist = torch.linspace(max_disp,min_disp, steps=self.max_n_stack)/max_disp\n",
    "\n",
    "        if transform is None:\n",
    "            if 'train' in self.stack_key:\n",
    "                self.transform = self.__create_preprocessing(crop_size=(224, 224), cliprange=None, b_filp=True)\n",
    "            else:\n",
    "                transform_test = [DDFF12Loader.ToTensor(),\n",
    "                                  DDFF12Loader.PadSamples((384, 576)),\n",
    "                                  DDFF12Loader.Normalize(mean_input=[0.485, 0.456, 0.406],\n",
    "                                                         std_input=[0.229, 0.224, 0.225])]\n",
    "                self.transform =  torchvision.transforms.Compose(transform_test) #self.__create_preprocessing()\n",
    "        else:\n",
    "            self.transform = transform\n",
    "\n",
    "    def __len__(self):\n",
    "        return self.hdf5[self.stack_key].shape[0]\n",
    "\n",
    "    def __getitem__(self, idx):\n",
    "        # Create sample dict\n",
    "        try:\n",
    "            if 'test' in self.stack_key:\n",
    "                sample =  {'input': self.hdf5[self.stack_key][idx].astype(float), 'output': np.ones([2,2])}\n",
    "            else:\n",
    "                sample = {'input': self.hdf5[self.stack_key][idx].astype(float), 'output': self.hdf5[self.disp_key][idx]}\n",
    "        except:\n",
    "            sample = None\n",
    "            for _ in range(100):\n",
    "                sample = {'input': self.hdf5[self.stack_key][idx].astype(float), 'output': self.hdf5[self.disp_key][idx]}\n",
    "                if sample is not None:\n",
    "                    break\n",
    "            if sample is None:\n",
    "                a =  self.hdf5[self.stack_key][idx].astype(float)\n",
    "                b = self.hdf5[self.disp_key][idx]\n",
    "                print(len(self.hdf5[self.stack_key]), idx, a is None, b is None)\n",
    "                exit(1)\n",
    "        sample['output']=sample['output']/self.max_disp   \n",
    "        blur_list=[]\n",
    "        for i in range(self.max_n_stack):\n",
    "            blur = self.camera.get_coc(self.disp_dist[i].item(), sample['output'])\n",
    "            blur = np.clip(blur, 0, 6.908e-4)/6.908e-4\n",
    "            blur_list.append(blur)\n",
    "        blur_list=np.stack(blur_list).squeeze()\n",
    "        print('begining')\n",
    "        sample['blur']=blur_list\n",
    "        # Transform sample with data augmentation transformers\n",
    "        if self.transform :\n",
    "            sample_out = self.transform(sample)\n",
    "        \n",
    "        # we do not experiment more than 10\n",
    "        if self.n_stack < self.max_n_stack:\n",
    "            if 'train' in self.disp_key:\n",
    "                rand_idx = np.random.choice(self.max_n_stack, self.n_stack, replace=False) # this will shuffle order as well\n",
    "                rand_idx = np.sort(rand_idx)\n",
    "            else:\n",
    "                rand_idx = np.linspace(0, 9, self.n_stack)\n",
    "\n",
    "            out_imgs = sample_out['input'][rand_idx]\n",
    "            out_disp = sample_out['output']\n",
    "            disp_dist = self.disp_dist[rand_idx]\n",
    "            blur_imgs=sample_out['blur'][rand_idx]\n",
    "        else:\n",
    "            out_imgs=sample_out['input']\n",
    "            out_disp=sample_out['output']\n",
    "            disp_dist=self.disp_dist\n",
    "            blur_imgs=sample_out['blur']\n",
    "\n",
    "        if 'val' in self.disp_key and (not self.b_test):\n",
    "            out_disp = out_disp[:, :256, :256]\n",
    "            out_imgs = out_imgs[:,:, :256, :256]\n",
    "            blur_imgs=blur_imgs[:, :256, :256]\n",
    "        \n",
    "        \n",
    "        return out_imgs,out_disp,blur_imgs,disp_dist\n",
    "    \n",
    "    def __create_preprocessing(self, crop_size=None, cliprange=[0.0202, 0.2825], mean=[0.485, 0.456, 0.406],\n",
    "                               std=[0.229, 0.224, 0.225], b_filp=True):\n",
    "        # The real data mean and std\n",
    "        # mean [0.40134945 0.48795037 0.45252803], std [0.14938343, 0.15709994, 0.1496986]\n",
    "        if b_filp:\n",
    "            transform = [self.RandomFilp(), self.ToTensor()]\n",
    "        else:\n",
    "            transform = [self.ToTensor()]\n",
    "\n",
    "        if cliprange is not None:\n",
    "            transform += [self.ClipGroundTruth(cliprange[0], cliprange[1])]\n",
    "        if crop_size is not None:\n",
    "            transform += [self.RandomCrop(crop_size)]\n",
    "        if mean is not None and std is not None:\n",
    "            transform += [self.Normalize(mean_input=mean, std_input=std)]\n",
    "        transform = torchvision.transforms.Compose(transform)\n",
    "        return transform\n",
    "\n",
    "    def get_stack_size(self):\n",
    "        return self.__getitem__(0)['input'].shape[0]\n",
    "\n",
    "    class ToTensor(object):\n",
    "        \"\"\"Convert ndarrays in sample to Tensors.\"\"\"\n",
    "\n",
    "        def __call__(self, sample):\n",
    "            print('totensor')\n",
    "            # Add color dimension to depth map\n",
    "            sample['output'] = np.expand_dims(sample['output'], axis=0)\n",
    "            # swap color axis because\n",
    "            # numpy image: H x W x C\n",
    "            # torch image: C X H X W\n",
    "            sample['input'] = torch.from_numpy(sample['input'].transpose((0, 3, 1, 2))).float().div(255) #I add div 255\n",
    "            sample['output'] = torch.from_numpy(sample['output']).float()\n",
    "            print(sample['blur'].shape)\n",
    "            sample['blur']=torch.from_numpy(sample['blur'])\n",
    "            return sample\n",
    "\n",
    "    class Normalize(object):\n",
    "        def __init__(self, mean_input, std_input, mean_output=None, std_output=None):\n",
    "            self.mean_input = mean_input\n",
    "            self.std_input = std_input\n",
    "            self.mean_output = mean_output\n",
    "            self.std_output = std_output\n",
    "\n",
    "        def __call__(self, sample):\n",
    "            img_lst = []\n",
    "            samples = sample['input']\n",
    "\n",
    "            for i, sample_input in enumerate(samples):\n",
    "                img_lst.append(torchvision.transforms.functional.normalize(sample_input, mean=self.mean_input, std=self.std_input))\n",
    "            input_images = torch.stack(img_lst)\n",
    "\n",
    "            if self.mean_output is None or self.std_output is None:\n",
    "                output_image = sample['output']\n",
    "            else:\n",
    "                output_image = torchvision.transforms.functional.normalize(sample['output'], mean=self.mean_output,\n",
    "                                                                    std=self.std_output)\n",
    "\n",
    "\n",
    "            return {'input': input_images, 'output': output_image,'blur':sample['blur']}\n",
    "\n",
    "    class ClipGroundTruth(object):\n",
    "        def __init__(self, lower_bound, upper_bound):\n",
    "            self.lower_bound = lower_bound\n",
    "            self.upper_bound = upper_bound\n",
    "\n",
    "        def __call__(self, sample):\n",
    "            sample['output'][sample['output'] < self.lower_bound] = 0.0\n",
    "            sample['output'][sample['output'] > self.upper_bound] = 0.0\n",
    "            return sample\n",
    "\n",
    "    class RandomFilp(object):\n",
    "        \"\"\" Randomly crop images\n",
    "        \"\"\"\n",
    "\n",
    "        def __init__(self, ratio=0.5):\n",
    "            self.ratio = ratio\n",
    "\n",
    "        def __call__(self, sample):\n",
    "            inputs, target,blur = sample['input'], sample['output'],sample['blur']\n",
    "\n",
    "            # hori filp\n",
    "            if np.random.binomial(1, self.ratio):\n",
    "                inputs = inputs[:, :, ::-1]\n",
    "                blur = blur[:, :, ::-1]\n",
    "                target = target[:, ::-1]\n",
    "\n",
    "            # vert flip\n",
    "            if np.random.binomial(1, self.ratio):\n",
    "                inputs = inputs[:, ::-1]\n",
    "                blur = blur[:, ::-1]\n",
    "                target = target[::-1]\n",
    "\n",
    "            return {'input': np.ascontiguousarray(inputs), 'output': np.ascontiguousarray(target),'blur':np.ascontiguousarray(blur)}\n",
    "\n",
    "\n",
    "    class RandomCrop(object):\n",
    "        def __init__(self, output_size, valid_crop_threshold=0.8):\n",
    "            assert isinstance(output_size, (int, tuple))\n",
    "            if isinstance(output_size, int):\n",
    "                self.output_size = (output_size, output_size)\n",
    "            else:\n",
    "                assert len(output_size) == 2\n",
    "                self.output_size = output_size\n",
    "            self.valid_crop_threshold = valid_crop_threshold\n",
    "\n",
    "        def __is_valid_crop(self, output_image, valid_pixel_cond=lambda x: x >= 0.01):\n",
    "            valid_occurrances = valid_pixel_cond(output_image).sum()\n",
    "            all_occurances = np.prod(output_image.shape)\n",
    "            return (float(valid_occurrances) / float(all_occurances)) >= self.valid_crop_threshold\n",
    "\n",
    "        def __call__(self, sample):\n",
    "            h, w = sample['input'].shape[2:4]\n",
    "            new_h, new_w = self.output_size\n",
    "\n",
    "            # Generate list of possible random crops\n",
    "            candidates = np.asarray([(x, y) for y in range(h - new_h) for x in range(w - new_w)])\n",
    "            np.random.shuffle(candidates)\n",
    "\n",
    "            # Iterate through candidates and choose forst valid crop\n",
    "            for x, y in candidates:\n",
    "                output_image = sample['output'][:, y:(y + new_h), x:(x + new_w)]\n",
    "                if self.__is_valid_crop(output_image):\n",
    "                    input_images = sample['input'][:, :, y:(y + new_h), x:(x + new_w)]\n",
    "                    blur = sample['blur'][:, y:(y + new_h), x:(x + new_w)]\n",
    "                    return {'input': input_images, 'output': output_image,'blur':blur}\n",
    "\n",
    "            # No valid crop found. Return any crop\n",
    "            top = np.random.randint(0, h - new_h)\n",
    "            left = np.random.randint(0, w - new_w)\n",
    "            input_images =  sample['input'][:, :, top:(top + new_h), left:(left + new_w)]\n",
    "            blur =  sample['blur'][:, top:(top + new_h), left:(left + new_w)]\n",
    "            output_image = sample['output'][:, top:(top + new_h), left:(left + new_w)]\n",
    "            return {'input': input_images, 'output': output_image,'blur':blur}\n",
    "\n",
    "    class PadSamples(object):\n",
    "        def __init__(self, output_size, ground_truth_pad_value=0.0):\n",
    "            assert isinstance(output_size, (int, tuple))\n",
    "            if isinstance(output_size, int):\n",
    "                self.output_size = (output_size, output_size)\n",
    "            else:\n",
    "                assert len(output_size) == 2\n",
    "                self.output_size = output_size\n",
    "            self.ground_truth_pad_value = ground_truth_pad_value\n",
    "\n",
    "        def __call__(self, sample):\n",
    "            h, w = sample['input'].shape[2:4]\n",
    "            new_h, new_w = self.output_size\n",
    "            padh = np.int32(new_h - h)\n",
    "            padw = np.int32(new_w - w)\n",
    "            sample['input'] = torch.stack(\n",
    "                [torch.from_numpy(np.pad(sample_input.numpy(), ((0, 0), (0, padh), (0, padw)), mode=\"reflect\")).float()\n",
    "                 for sample_input in sample['input']])\n",
    "            print(type(sample['blur']))\n",
    "            print(sample['blur'].shape)\n",
    "            sample['blur'] = torch.stack(\n",
    "                [torch.from_numpy(np.pad(sample_input.numpy(), ((0, padh), (0, padw)), mode=\"constant\")).float()\n",
    "                 for sample_input in sample['blur']])\n",
    "            sample['output'] = torch.from_numpy(\n",
    "                np.pad(sample['output'].numpy(), ((0, 0), (0, padh), (0, padw)), mode=\"constant\",\n",
    "                       constant_values=self.ground_truth_pad_value)).float()\n",
    "            print('ended')\n",
    "            return sample\n",
    "\n",
    "    class RandomSubStack(object):\n",
    "        def __init__(self, output_size):\n",
    "            self.output_size = output_size\n",
    "\n",
    "        def __call__(self, sample):\n",
    "            sample['input'] = torch.stack([sample['input'][i] for i in\n",
    "                                           np.random.choice(sample['input'].shape[0], self.output_size, replace=False)])\n",
    "            sample['blur'] = torch.stack([sample['blur'][i] for i in\n",
    "                                           np.random.choice(sample['blur'].shape[0], self.output_size, replace=False)])\n",
    "            return sample\n",
    "database = '/scratch/lnw8px/depth-from-Focus-Defocus/data/my_ddff_trainVal.h5'\n",
    "DDFF12_train = DDFF12Loader(database, stack_key=\"stack_train\", disp_key=\"disp_train\", n_stack=5,\n",
    "                             min_disp=0.02, max_disp=0.28)\n",
    "DDFF12_val = DDFF12Loader(database, stack_key=\"stack_val\", disp_key=\"disp_val\", n_stack=5,\n",
    "                                  min_disp=0.02, max_disp=0.28, b_test=False)\n",
    "DDFF12_train, DDFF12_val = [DDFF12_train], [DDFF12_val]\n",
    "dataset_train = torch.utils.data.ConcatDataset(DDFF12_train)\n",
    "dataset_val = torch.utils.data.ConcatDataset(DDFF12_val)\n",
    "TrainImgLoader = torch.utils.data.DataLoader(dataset=dataset_train, num_workers=4, batch_size=4, shuffle=True, drop_last=True)\n",
    "ValImgLoader = torch.utils.data.DataLoader(dataset=dataset_val, num_workers=1, batch_size=5, shuffle=False, drop_last=True)"
   ]
  },
  {
   "cell_type": "code",
   "execution_count": 2,
   "metadata": {},
   "outputs": [],
   "source": [
    "from dataloader import DDFF12Loader\n",
    "database = '/scratch/lnw8px/depth-from-Focus-Defocus/data/my_ddff_trainVal.h5'\n",
    "DDFF12_train = DDFF12Loader(database, stack_key=\"stack_train\", disp_key=\"disp_train\", n_stack=5,\n",
    "                             min_disp=0.02, max_disp=0.28)\n",
    "DDFF12_val = DDFF12Loader(database, stack_key=\"stack_val\", disp_key=\"disp_val\", n_stack=5,\n",
    "                                  min_disp=0.02, max_disp=0.28, b_test=False)\n",
    "DDFF12_train, DDFF12_val = [DDFF12_train], [DDFF12_val]\n",
    "dataset_train = torch.utils.data.ConcatDataset(DDFF12_train)\n",
    "dataset_val = torch.utils.data.ConcatDataset(DDFF12_val)\n",
    "TrainImgLoader = torch.utils.data.DataLoader(dataset=dataset_train, num_workers=4, batch_size=4, shuffle=True, drop_last=True)\n",
    "ValImgLoader = torch.utils.data.DataLoader(dataset=dataset_val, num_workers=1, batch_size=5, shuffle=False, drop_last=True)"
   ]
  },
  {
   "cell_type": "code",
   "execution_count": 61,
   "metadata": {},
   "outputs": [
    {
     "name": "stdout",
     "output_type": "stream",
     "text": [
      "torch.Size([382, 552])\n"
     ]
    },
    {
     "data": {
      "text/plain": [
       "torch.Size([394, 563])"
      ]
     },
     "execution_count": 61,
     "metadata": {},
     "output_type": "execute_result"
    }
   ],
   "source": [
    "item=d[0]\n",
    "print(item.shape)\n",
    "torch.from_numpy(np.pad(item.numpy(), ((0, padh), (0, padw)), mode=\"constant\")).shape"
   ]
  },
  {
   "cell_type": "code",
   "execution_count": 53,
   "metadata": {},
   "outputs": [
    {
     "ename": "ValueError",
     "evalue": "operands could not be broadcast together with remapped shapes [original->remapped]: (3,2) and requested shape (2,2)",
     "output_type": "error",
     "traceback": [
      "\u001b[0;31m---------------------------------------------------------------------------\u001b[0m",
      "\u001b[0;31mValueError\u001b[0m                                Traceback (most recent call last)",
      "\u001b[0;32m<ipython-input-53-6047413baf94>\u001b[0m in \u001b[0;36m<module>\u001b[0;34m\u001b[0m\n\u001b[1;32m      3\u001b[0m \u001b[0mpadw\u001b[0m \u001b[0;34m=\u001b[0m \u001b[0mnp\u001b[0m\u001b[0;34m.\u001b[0m\u001b[0mint32\u001b[0m\u001b[0;34m(\u001b[0m\u001b[0;36m11\u001b[0m\u001b[0;34m)\u001b[0m\u001b[0;34m\u001b[0m\u001b[0;34m\u001b[0m\u001b[0m\n\u001b[1;32m      4\u001b[0m torch.stack([torch.from_numpy(np.pad(sample_input.numpy(), ((0, 0), (0, padh), (0, padw)), mode=\"constant\")).float()\n\u001b[0;32m----> 5\u001b[0;31m                  for sample_input in d])\n\u001b[0m",
      "\u001b[0;32m<ipython-input-53-6047413baf94>\u001b[0m in \u001b[0;36m<listcomp>\u001b[0;34m(.0)\u001b[0m\n\u001b[1;32m      3\u001b[0m \u001b[0mpadw\u001b[0m \u001b[0;34m=\u001b[0m \u001b[0mnp\u001b[0m\u001b[0;34m.\u001b[0m\u001b[0mint32\u001b[0m\u001b[0;34m(\u001b[0m\u001b[0;36m11\u001b[0m\u001b[0;34m)\u001b[0m\u001b[0;34m\u001b[0m\u001b[0;34m\u001b[0m\u001b[0m\n\u001b[1;32m      4\u001b[0m torch.stack([torch.from_numpy(np.pad(sample_input.numpy(), ((0, 0), (0, padh), (0, padw)), mode=\"constant\")).float()\n\u001b[0;32m----> 5\u001b[0;31m                  for sample_input in d])\n\u001b[0m",
      "\u001b[0;32m<__array_function__ internals>\u001b[0m in \u001b[0;36mpad\u001b[0;34m(*args, **kwargs)\u001b[0m\n",
      "\u001b[0;32m~/.local/lib/python3.7/site-packages/numpy/lib/arraypad.py\u001b[0m in \u001b[0;36mpad\u001b[0;34m(array, pad_width, mode, **kwargs)\u001b[0m\n\u001b[1;32m    746\u001b[0m \u001b[0;34m\u001b[0m\u001b[0m\n\u001b[1;32m    747\u001b[0m     \u001b[0;31m# Broadcast to shape (array.ndim, 2)\u001b[0m\u001b[0;34m\u001b[0m\u001b[0;34m\u001b[0m\u001b[0;34m\u001b[0m\u001b[0m\n\u001b[0;32m--> 748\u001b[0;31m     \u001b[0mpad_width\u001b[0m \u001b[0;34m=\u001b[0m \u001b[0m_as_pairs\u001b[0m\u001b[0;34m(\u001b[0m\u001b[0mpad_width\u001b[0m\u001b[0;34m,\u001b[0m \u001b[0marray\u001b[0m\u001b[0;34m.\u001b[0m\u001b[0mndim\u001b[0m\u001b[0;34m,\u001b[0m \u001b[0mas_index\u001b[0m\u001b[0;34m=\u001b[0m\u001b[0;32mTrue\u001b[0m\u001b[0;34m)\u001b[0m\u001b[0;34m\u001b[0m\u001b[0;34m\u001b[0m\u001b[0m\n\u001b[0m\u001b[1;32m    749\u001b[0m \u001b[0;34m\u001b[0m\u001b[0m\n\u001b[1;32m    750\u001b[0m     \u001b[0;32mif\u001b[0m \u001b[0mcallable\u001b[0m\u001b[0;34m(\u001b[0m\u001b[0mmode\u001b[0m\u001b[0;34m)\u001b[0m\u001b[0;34m:\u001b[0m\u001b[0;34m\u001b[0m\u001b[0;34m\u001b[0m\u001b[0m\n",
      "\u001b[0;32m~/.local/lib/python3.7/site-packages/numpy/lib/arraypad.py\u001b[0m in \u001b[0;36m_as_pairs\u001b[0;34m(x, ndim, as_index)\u001b[0m\n\u001b[1;32m    521\u001b[0m     \u001b[0;31m# Converting the array with `tolist` seems to improve performance\u001b[0m\u001b[0;34m\u001b[0m\u001b[0;34m\u001b[0m\u001b[0;34m\u001b[0m\u001b[0m\n\u001b[1;32m    522\u001b[0m     \u001b[0;31m# when iterating and indexing the result (see usage in `pad`)\u001b[0m\u001b[0;34m\u001b[0m\u001b[0;34m\u001b[0m\u001b[0;34m\u001b[0m\u001b[0m\n\u001b[0;32m--> 523\u001b[0;31m     \u001b[0;32mreturn\u001b[0m \u001b[0mnp\u001b[0m\u001b[0;34m.\u001b[0m\u001b[0mbroadcast_to\u001b[0m\u001b[0;34m(\u001b[0m\u001b[0mx\u001b[0m\u001b[0;34m,\u001b[0m \u001b[0;34m(\u001b[0m\u001b[0mndim\u001b[0m\u001b[0;34m,\u001b[0m \u001b[0;36m2\u001b[0m\u001b[0;34m)\u001b[0m\u001b[0;34m)\u001b[0m\u001b[0;34m.\u001b[0m\u001b[0mtolist\u001b[0m\u001b[0;34m(\u001b[0m\u001b[0;34m)\u001b[0m\u001b[0;34m\u001b[0m\u001b[0;34m\u001b[0m\u001b[0m\n\u001b[0m\u001b[1;32m    524\u001b[0m \u001b[0;34m\u001b[0m\u001b[0m\n\u001b[1;32m    525\u001b[0m \u001b[0;34m\u001b[0m\u001b[0m\n",
      "\u001b[0;32m<__array_function__ internals>\u001b[0m in \u001b[0;36mbroadcast_to\u001b[0;34m(*args, **kwargs)\u001b[0m\n",
      "\u001b[0;32m~/.local/lib/python3.7/site-packages/numpy/lib/stride_tricks.py\u001b[0m in \u001b[0;36mbroadcast_to\u001b[0;34m(array, shape, subok)\u001b[0m\n\u001b[1;32m    180\u001b[0m            [1, 2, 3]])\n\u001b[1;32m    181\u001b[0m     \"\"\"\n\u001b[0;32m--> 182\u001b[0;31m     \u001b[0;32mreturn\u001b[0m \u001b[0m_broadcast_to\u001b[0m\u001b[0;34m(\u001b[0m\u001b[0marray\u001b[0m\u001b[0;34m,\u001b[0m \u001b[0mshape\u001b[0m\u001b[0;34m,\u001b[0m \u001b[0msubok\u001b[0m\u001b[0;34m=\u001b[0m\u001b[0msubok\u001b[0m\u001b[0;34m,\u001b[0m \u001b[0mreadonly\u001b[0m\u001b[0;34m=\u001b[0m\u001b[0;32mTrue\u001b[0m\u001b[0;34m)\u001b[0m\u001b[0;34m\u001b[0m\u001b[0;34m\u001b[0m\u001b[0m\n\u001b[0m\u001b[1;32m    183\u001b[0m \u001b[0;34m\u001b[0m\u001b[0m\n\u001b[1;32m    184\u001b[0m \u001b[0;34m\u001b[0m\u001b[0m\n",
      "\u001b[0;32m~/.local/lib/python3.7/site-packages/numpy/lib/stride_tricks.py\u001b[0m in \u001b[0;36m_broadcast_to\u001b[0;34m(array, shape, subok, readonly)\u001b[0m\n\u001b[1;32m    125\u001b[0m     it = np.nditer(\n\u001b[1;32m    126\u001b[0m         \u001b[0;34m(\u001b[0m\u001b[0marray\u001b[0m\u001b[0;34m,\u001b[0m\u001b[0;34m)\u001b[0m\u001b[0;34m,\u001b[0m \u001b[0mflags\u001b[0m\u001b[0;34m=\u001b[0m\u001b[0;34m[\u001b[0m\u001b[0;34m'multi_index'\u001b[0m\u001b[0;34m,\u001b[0m \u001b[0;34m'refs_ok'\u001b[0m\u001b[0;34m,\u001b[0m \u001b[0;34m'zerosize_ok'\u001b[0m\u001b[0;34m]\u001b[0m \u001b[0;34m+\u001b[0m \u001b[0mextras\u001b[0m\u001b[0;34m,\u001b[0m\u001b[0;34m\u001b[0m\u001b[0;34m\u001b[0m\u001b[0m\n\u001b[0;32m--> 127\u001b[0;31m         op_flags=['readonly'], itershape=shape, order='C')\n\u001b[0m\u001b[1;32m    128\u001b[0m     \u001b[0;32mwith\u001b[0m \u001b[0mit\u001b[0m\u001b[0;34m:\u001b[0m\u001b[0;34m\u001b[0m\u001b[0;34m\u001b[0m\u001b[0m\n\u001b[1;32m    129\u001b[0m         \u001b[0;31m# never really has writebackifcopy semantics\u001b[0m\u001b[0;34m\u001b[0m\u001b[0;34m\u001b[0m\u001b[0;34m\u001b[0m\u001b[0m\n",
      "\u001b[0;31mValueError\u001b[0m: operands could not be broadcast together with remapped shapes [original->remapped]: (3,2) and requested shape (2,2)"
     ]
    }
   ],
   "source": [
    "d=torch.rand((10,382,552))\n",
    "padh = np.int32(12)\n",
    "padw = np.int32(11)\n",
    "torch.stack([torch.from_numpy(np.pad(sample_input.numpy(), ((0, 0), (0, padh), (0, padw)), mode=\"constant\")).float()\n",
    "                 for sample_input in d])"
   ]
  },
  {
   "cell_type": "code",
   "execution_count": 45,
   "metadata": {},
   "outputs": [
    {
     "data": {
      "text/plain": [
       "tensor(0.)"
      ]
     },
     "execution_count": 45,
     "metadata": {},
     "output_type": "execute_result"
    }
   ],
   "source": [
    "torch.min(disp_l)"
   ]
  },
  {
   "cell_type": "code",
   "execution_count": 3,
   "metadata": {},
   "outputs": [],
   "source": [
    "disp_l=torch.empty((0,1,224,224))\n",
    "f_l=torch.empty((0,5))\n",
    "b_l=torch.empty((0,5,224,224))\n",
    "img_l=torch.empty((0,5,3,224,224))\n",
    "for batch_idx, (img_stack,depth,blur,foc_dist) in enumerate(TrainImgLoader):\n",
    "    disp_l=torch.cat((disp_l,depth),0)\n",
    "    f_l=torch.cat((f_l,foc_dist),0)\n",
    "    b_l=torch.cat((b_l,blur),0)\n",
    "    img_l=torch.cat((img_l,img_stack),0)\n",
    "    break"
   ]
  },
  {
   "cell_type": "code",
   "execution_count": 2,
   "metadata": {},
   "outputs": [],
   "source": [
    "lmd=0.2\n",
    "fuse=2\n",
    "use_blur=1\n",
    "\n",
    "def train(img_stack_in, blur_stack,gt_disp, foc_dist):\n",
    "    model.train()\n",
    "    img_stack_in=Variable(torch.FloatTensor(img_stack_in))\n",
    "    gt_disp=Variable(torch.FloatTensor(gt_disp))\n",
    "    img_stack,gt_disp,foc_dist,blur_stack=img_stack_in.cuda(),gt_disp.cuda(),foc_dist.cuda(),blur_stack.cuda()\n",
    "    focus=1./(blur_stack+1)\n",
    "\n",
    "    #---------\n",
    "    max_val = torch.where(foc_dist>=100, torch.zeros_like(foc_dist), foc_dist) # exclude padding value\n",
    "    min_val = torch.where(foc_dist<=0, torch.ones_like(foc_dist)*10, foc_dist)  # exclude padding value\n",
    "    mask = (gt_disp >= min_val.min(dim=1)[0].view(-1,1,1,1)) & (gt_disp <= max_val.max(dim=1)[0].view(-1,1,1,1)) #\n",
    "    mask_tiled=torch.repeat_interleave(mask,repeats=5,dim=1)\n",
    "    mask.detach_()\n",
    "    mask_tiled.detach_()\n",
    "    #----\n",
    "\n",
    "    optimizer.zero_grad()\n",
    "    beta_scale = 1 # smooth l1 do not have beta in 1.6, so we increase the input to and then scale back -- no significant improve according to our trials\n",
    "    fstacked,dstacked,fdstacked,stds,cost_stacked= model(img_stack, foc_dist)\n",
    "\n",
    "    floss,dloss,fdloss,bloss=0,0,0,0\n",
    "    lvl_w=[8./15, 4./15, 2./15, 1./15]\n",
    "    print(len(cost_stacked))\n",
    "    for i in range(len(cost_stacked)):\n",
    "        if(fuse==0 or fuse==2):\n",
    "            _cur_floss = F.smooth_l1_loss(fstacked[i][mask] * beta_scale, gt_disp[mask]* beta_scale, reduction='none') / beta_scale\n",
    "            floss = floss + lvl_w[i] * _cur_floss.mean()\n",
    "            \n",
    "        if(use_blur):\n",
    "            _cur_bloss=F.mse_loss(cost_stacked[i][mask_tiled],focus[mask_tiled],reduction='none')\n",
    "            bloss = bloss + lvl_w[i] * _cur_bloss.mean()\n",
    "            \n",
    "        if(fuse==1):\n",
    "            _cur_dloss = F.smooth_l1_loss(dstacked[i][mask] * beta_scale, gt_disp[mask]* beta_scale, reduction='none') / beta_scale\n",
    "            dloss = dloss + lvl_w[i] * _cur_dloss.mean()\n",
    "        if(fuse==2):\n",
    "            _cur_fdloss = F.smooth_l1_loss(fdstacked[i][mask] * beta_scale, gt_disp[mask]* beta_scale, reduction='none') / beta_scale\n",
    "            fdloss = fdloss + lvl_w[i] * _cur_fdloss.mean()\n",
    "            \n",
    "    print(floss,dloss,fdloss,bloss)\n",
    "    if(fuse==0):\n",
    "        loss=floss\n",
    "    if(fuse==1):\n",
    "        loss=dloss\n",
    "    if(fuse==2):\n",
    "        loss=fdloss\n",
    "    if(use_blur):\n",
    "        loss+=bloss*1e-2\n",
    "    print(loss)\n",
    "    loss.backward()\n",
    "    torch.nn.utils.clip_grad_norm_(model.parameters(), 0.5)\n",
    "    optimizer.step()\n",
    "    vis={}\n",
    "    if(fuse==0):\n",
    "        vis['pred']=fstacked[0].detach().cpu()\n",
    "    if(fuse==1):\n",
    "        vis['pred']=dstacked[0].detach().cpu()\n",
    "    if(fuse==2):\n",
    "        vis['pred']=fdstacked[0].detach().cpu()\n",
    "    vis['mask']=mask.type(torch.float).detach().cpu()\n",
    "\n",
    "    flossvalue,blossvalue,dlossvalue,fdlossvalue=0,0,0,0\n",
    "    if(type(floss)==torch.Tensor):\n",
    "        flossvalue=floss.data\n",
    "    if(type(bloss)==torch.Tensor):\n",
    "        blossvalue=bloss.data\n",
    "    if(type(dloss)==torch.Tensor):\n",
    "        dlossvalue=dloss.data\n",
    "    if(type(fdloss)==torch.Tensor):\n",
    "        fdlossvalue=fdloss.data\n",
    "\n",
    "    del fstacked,dstacked,fdstacked\n",
    "    del cost_stacked\n",
    "    return flossvalue,blossvalue,dlossvalue,fdlossvalue,vis\n"
   ]
  },
  {
   "cell_type": "code",
   "execution_count": 11,
   "metadata": {},
   "outputs": [],
   "source": [
    "lmd=0.2\n",
    "fuse=2\n",
    "use_blur=1\n",
    "\n",
    "def valid(img_stack_in, blur_stack,disp, foc_dist):\n",
    "    model.eval()\n",
    "    img_stack_in=Variable(torch.FloatTensor(img_stack_in))\n",
    "    gt_disp=Variable(torch.FloatTensor(disp))\n",
    "    img_stack,gt_disp,foc_dist,blur_stack=img_stack_in.cuda(),gt_disp.cuda(),foc_dist.cuda(),blur_stack.cuda()\n",
    "    \n",
    "    #---------\n",
    "    mask = gt_disp > 0\n",
    "    mask.detach_()\n",
    "    #----\n",
    "    with torch.no_grad():\n",
    "        fstacked,dstacked,fdstacked,stds,cost_stacked= model(img_stack, foc_dist)\n",
    "        if(fuse==0):\n",
    "            loss=(F.mse_loss(fstacked[mask] , gt_disp[mask] , reduction='mean')) # use MSE loss for val\n",
    "        if(fuse==1):\n",
    "            loss=(F.mse_loss(dstacked[mask] , gt_disp[mask] , reduction='mean'))\n",
    "        if(fuse==2):\n",
    "            loss=(F.mse_loss(fdstacked[mask] , gt_disp[mask] , reduction='mean'))\n",
    "            \n",
    "\n",
    "    vis = {}\n",
    "    vis['mask'] = mask.type(torch.float).detach().cpu()\n",
    "    if(fuse==0):\n",
    "        vis[\"pred\"]=fstacked.detach().cpu()\n",
    "    if(fuse==1):\n",
    "        vis[\"pred\"]=dstacked.detach().cpu()\n",
    "    if(fuse==2):\n",
    "        vis[\"pred\"]=fdstacked.detach().cpu()\n",
    "    \n",
    "    return loss, vis"
   ]
  },
  {
   "cell_type": "code",
   "execution_count": 17,
   "metadata": {},
   "outputs": [],
   "source": [
    "from dataloader import DDFF12Loader\n",
    "database = '/scratch/lnw8px/depth-from-Focus-Defocus/data/my_ddff_trainVal.h5'\n",
    "DDFF12_train = DDFF12Loader(database, stack_key=\"stack_train\", disp_key=\"disp_train\", n_stack=5,\n",
    "                             min_disp=0.02, max_disp=0.28)\n",
    "DDFF12_val = DDFF12Loader(database, stack_key=\"stack_val\", disp_key=\"disp_val\", n_stack=5,\n",
    "                                  min_disp=0.02, max_disp=0.28, b_test=False)\n",
    "DDFF12_train, DDFF12_val = [DDFF12_train], [DDFF12_val]\n",
    "dataset_train = torch.utils.data.ConcatDataset(DDFF12_train)\n",
    "dataset_val = torch.utils.data.ConcatDataset(DDFF12_val)\n",
    "TrainImgLoader = torch.utils.data.DataLoader(dataset=dataset_train, num_workers=4, batch_size=4, shuffle=True, drop_last=True)\n",
    "ValImgLoader = torch.utils.data.DataLoader(dataset=dataset_val, num_workers=1, batch_size=5, shuffle=False, drop_last=True)"
   ]
  },
  {
   "cell_type": "code",
   "execution_count": 18,
   "metadata": {},
   "outputs": [
    {
     "ename": "AttributeError",
     "evalue": "Caught AttributeError in DataLoader worker process 0.\nOriginal Traceback (most recent call last):\n  File \"/opt/conda/lib/python3.7/site-packages/torch/utils/data/_utils/worker.py\", line 178, in _worker_loop\n    data = fetcher.fetch(index)\n  File \"/opt/conda/lib/python3.7/site-packages/torch/utils/data/_utils/fetch.py\", line 44, in fetch\n    data = [self.dataset[idx] for idx in possibly_batched_index]\n  File \"/opt/conda/lib/python3.7/site-packages/torch/utils/data/_utils/fetch.py\", line 44, in <listcomp>\n    data = [self.dataset[idx] for idx in possibly_batched_index]\n  File \"/opt/conda/lib/python3.7/site-packages/torch/utils/data/dataset.py\", line 207, in __getitem__\n    return self.datasets[dataset_idx][sample_idx]\n  File \"/scratch/lnw8px/depth-from-Focus-Defocus/DFV/dataloader/DDFF12.py\", line 82, in __getitem__\n    sample_out = self.transform(sample)\n  File \"/opt/conda/lib/python3.7/site-packages/torchvision/transforms/transforms.py\", line 61, in __call__\n    img = t(img)\n  File \"/scratch/lnw8px/depth-from-Focus-Defocus/DFV/dataloader/DDFF12.py\", line 262, in __call__\n    for sample_input in sample['blur']])\n  File \"/scratch/lnw8px/depth-from-Focus-Defocus/DFV/dataloader/DDFF12.py\", line 262, in <listcomp>\n    for sample_input in sample['blur']])\nAttributeError: 'numpy.ndarray' object has no attribute 'numpy'\n",
     "output_type": "error",
     "traceback": [
      "\u001b[0;31m---------------------------------------------------------------------------\u001b[0m",
      "\u001b[0;31mAttributeError\u001b[0m                            Traceback (most recent call last)",
      "\u001b[0;32m<ipython-input-18-a76dbc938f59>\u001b[0m in \u001b[0;36m<module>\u001b[0;34m\u001b[0m\n\u001b[1;32m      3\u001b[0m \u001b[0mb_l\u001b[0m\u001b[0;34m=\u001b[0m\u001b[0mtorch\u001b[0m\u001b[0;34m.\u001b[0m\u001b[0mempty\u001b[0m\u001b[0;34m(\u001b[0m\u001b[0;34m(\u001b[0m\u001b[0;36m0\u001b[0m\u001b[0;34m,\u001b[0m\u001b[0;36m5\u001b[0m\u001b[0;34m,\u001b[0m\u001b[0;36m224\u001b[0m\u001b[0;34m,\u001b[0m\u001b[0;36m224\u001b[0m\u001b[0;34m)\u001b[0m\u001b[0;34m)\u001b[0m\u001b[0;34m\u001b[0m\u001b[0;34m\u001b[0m\u001b[0m\n\u001b[1;32m      4\u001b[0m \u001b[0mimg_l\u001b[0m\u001b[0;34m=\u001b[0m\u001b[0mtorch\u001b[0m\u001b[0;34m.\u001b[0m\u001b[0mempty\u001b[0m\u001b[0;34m(\u001b[0m\u001b[0;34m(\u001b[0m\u001b[0;36m0\u001b[0m\u001b[0;34m,\u001b[0m\u001b[0;36m5\u001b[0m\u001b[0;34m,\u001b[0m\u001b[0;36m3\u001b[0m\u001b[0;34m,\u001b[0m\u001b[0;36m224\u001b[0m\u001b[0;34m,\u001b[0m\u001b[0;36m224\u001b[0m\u001b[0;34m)\u001b[0m\u001b[0;34m)\u001b[0m\u001b[0;34m\u001b[0m\u001b[0;34m\u001b[0m\u001b[0m\n\u001b[0;32m----> 5\u001b[0;31m \u001b[0;32mfor\u001b[0m \u001b[0mbatch_idx\u001b[0m\u001b[0;34m,\u001b[0m \u001b[0;34m(\u001b[0m\u001b[0mimg_stack\u001b[0m\u001b[0;34m,\u001b[0m\u001b[0mdepth\u001b[0m\u001b[0;34m,\u001b[0m\u001b[0mblur\u001b[0m\u001b[0;34m,\u001b[0m\u001b[0mfoc_dist\u001b[0m\u001b[0;34m)\u001b[0m \u001b[0;32min\u001b[0m \u001b[0menumerate\u001b[0m\u001b[0;34m(\u001b[0m\u001b[0mValImgLoader\u001b[0m\u001b[0;34m)\u001b[0m\u001b[0;34m:\u001b[0m\u001b[0;34m\u001b[0m\u001b[0;34m\u001b[0m\u001b[0m\n\u001b[0m\u001b[1;32m      6\u001b[0m     \u001b[0mdisp_l\u001b[0m\u001b[0;34m=\u001b[0m\u001b[0mtorch\u001b[0m\u001b[0;34m.\u001b[0m\u001b[0mcat\u001b[0m\u001b[0;34m(\u001b[0m\u001b[0;34m(\u001b[0m\u001b[0mdisp_l\u001b[0m\u001b[0;34m,\u001b[0m\u001b[0mdepth\u001b[0m\u001b[0;34m)\u001b[0m\u001b[0;34m,\u001b[0m\u001b[0;36m0\u001b[0m\u001b[0;34m)\u001b[0m\u001b[0;34m\u001b[0m\u001b[0;34m\u001b[0m\u001b[0m\n\u001b[1;32m      7\u001b[0m     \u001b[0mf_l\u001b[0m\u001b[0;34m=\u001b[0m\u001b[0mtorch\u001b[0m\u001b[0;34m.\u001b[0m\u001b[0mcat\u001b[0m\u001b[0;34m(\u001b[0m\u001b[0;34m(\u001b[0m\u001b[0mf_l\u001b[0m\u001b[0;34m,\u001b[0m\u001b[0mfoc_dist\u001b[0m\u001b[0;34m)\u001b[0m\u001b[0;34m,\u001b[0m\u001b[0;36m0\u001b[0m\u001b[0;34m)\u001b[0m\u001b[0;34m\u001b[0m\u001b[0;34m\u001b[0m\u001b[0m\n",
      "\u001b[0;32m/opt/conda/lib/python3.7/site-packages/torch/utils/data/dataloader.py\u001b[0m in \u001b[0;36m__next__\u001b[0;34m(self)\u001b[0m\n\u001b[1;32m    343\u001b[0m \u001b[0;34m\u001b[0m\u001b[0m\n\u001b[1;32m    344\u001b[0m     \u001b[0;32mdef\u001b[0m \u001b[0m__next__\u001b[0m\u001b[0;34m(\u001b[0m\u001b[0mself\u001b[0m\u001b[0;34m)\u001b[0m\u001b[0;34m:\u001b[0m\u001b[0;34m\u001b[0m\u001b[0;34m\u001b[0m\u001b[0m\n\u001b[0;32m--> 345\u001b[0;31m         \u001b[0mdata\u001b[0m \u001b[0;34m=\u001b[0m \u001b[0mself\u001b[0m\u001b[0;34m.\u001b[0m\u001b[0m_next_data\u001b[0m\u001b[0;34m(\u001b[0m\u001b[0;34m)\u001b[0m\u001b[0;34m\u001b[0m\u001b[0;34m\u001b[0m\u001b[0m\n\u001b[0m\u001b[1;32m    346\u001b[0m         \u001b[0mself\u001b[0m\u001b[0;34m.\u001b[0m\u001b[0m_num_yielded\u001b[0m \u001b[0;34m+=\u001b[0m \u001b[0;36m1\u001b[0m\u001b[0;34m\u001b[0m\u001b[0;34m\u001b[0m\u001b[0m\n\u001b[1;32m    347\u001b[0m         \u001b[0;32mif\u001b[0m \u001b[0mself\u001b[0m\u001b[0;34m.\u001b[0m\u001b[0m_dataset_kind\u001b[0m \u001b[0;34m==\u001b[0m \u001b[0m_DatasetKind\u001b[0m\u001b[0;34m.\u001b[0m\u001b[0mIterable\u001b[0m \u001b[0;32mand\u001b[0m\u001b[0;31m \u001b[0m\u001b[0;31m\\\u001b[0m\u001b[0;34m\u001b[0m\u001b[0;34m\u001b[0m\u001b[0m\n",
      "\u001b[0;32m/opt/conda/lib/python3.7/site-packages/torch/utils/data/dataloader.py\u001b[0m in \u001b[0;36m_next_data\u001b[0;34m(self)\u001b[0m\n\u001b[1;32m    854\u001b[0m             \u001b[0;32melse\u001b[0m\u001b[0;34m:\u001b[0m\u001b[0;34m\u001b[0m\u001b[0;34m\u001b[0m\u001b[0m\n\u001b[1;32m    855\u001b[0m                 \u001b[0;32mdel\u001b[0m \u001b[0mself\u001b[0m\u001b[0;34m.\u001b[0m\u001b[0m_task_info\u001b[0m\u001b[0;34m[\u001b[0m\u001b[0midx\u001b[0m\u001b[0;34m]\u001b[0m\u001b[0;34m\u001b[0m\u001b[0;34m\u001b[0m\u001b[0m\n\u001b[0;32m--> 856\u001b[0;31m                 \u001b[0;32mreturn\u001b[0m \u001b[0mself\u001b[0m\u001b[0;34m.\u001b[0m\u001b[0m_process_data\u001b[0m\u001b[0;34m(\u001b[0m\u001b[0mdata\u001b[0m\u001b[0;34m)\u001b[0m\u001b[0;34m\u001b[0m\u001b[0;34m\u001b[0m\u001b[0m\n\u001b[0m\u001b[1;32m    857\u001b[0m \u001b[0;34m\u001b[0m\u001b[0m\n\u001b[1;32m    858\u001b[0m     \u001b[0;32mdef\u001b[0m \u001b[0m_try_put_index\u001b[0m\u001b[0;34m(\u001b[0m\u001b[0mself\u001b[0m\u001b[0;34m)\u001b[0m\u001b[0;34m:\u001b[0m\u001b[0;34m\u001b[0m\u001b[0;34m\u001b[0m\u001b[0m\n",
      "\u001b[0;32m/opt/conda/lib/python3.7/site-packages/torch/utils/data/dataloader.py\u001b[0m in \u001b[0;36m_process_data\u001b[0;34m(self, data)\u001b[0m\n\u001b[1;32m    879\u001b[0m         \u001b[0mself\u001b[0m\u001b[0;34m.\u001b[0m\u001b[0m_try_put_index\u001b[0m\u001b[0;34m(\u001b[0m\u001b[0;34m)\u001b[0m\u001b[0;34m\u001b[0m\u001b[0;34m\u001b[0m\u001b[0m\n\u001b[1;32m    880\u001b[0m         \u001b[0;32mif\u001b[0m \u001b[0misinstance\u001b[0m\u001b[0;34m(\u001b[0m\u001b[0mdata\u001b[0m\u001b[0;34m,\u001b[0m \u001b[0mExceptionWrapper\u001b[0m\u001b[0;34m)\u001b[0m\u001b[0;34m:\u001b[0m\u001b[0;34m\u001b[0m\u001b[0;34m\u001b[0m\u001b[0m\n\u001b[0;32m--> 881\u001b[0;31m             \u001b[0mdata\u001b[0m\u001b[0;34m.\u001b[0m\u001b[0mreraise\u001b[0m\u001b[0;34m(\u001b[0m\u001b[0;34m)\u001b[0m\u001b[0;34m\u001b[0m\u001b[0;34m\u001b[0m\u001b[0m\n\u001b[0m\u001b[1;32m    882\u001b[0m         \u001b[0;32mreturn\u001b[0m \u001b[0mdata\u001b[0m\u001b[0;34m\u001b[0m\u001b[0;34m\u001b[0m\u001b[0m\n\u001b[1;32m    883\u001b[0m \u001b[0;34m\u001b[0m\u001b[0m\n",
      "\u001b[0;32m/opt/conda/lib/python3.7/site-packages/torch/_utils.py\u001b[0m in \u001b[0;36mreraise\u001b[0;34m(self)\u001b[0m\n\u001b[1;32m    393\u001b[0m             \u001b[0;31m# (https://bugs.python.org/issue2651), so we work around it.\u001b[0m\u001b[0;34m\u001b[0m\u001b[0;34m\u001b[0m\u001b[0;34m\u001b[0m\u001b[0m\n\u001b[1;32m    394\u001b[0m             \u001b[0mmsg\u001b[0m \u001b[0;34m=\u001b[0m \u001b[0mKeyErrorMessage\u001b[0m\u001b[0;34m(\u001b[0m\u001b[0mmsg\u001b[0m\u001b[0;34m)\u001b[0m\u001b[0;34m\u001b[0m\u001b[0;34m\u001b[0m\u001b[0m\n\u001b[0;32m--> 395\u001b[0;31m         \u001b[0;32mraise\u001b[0m \u001b[0mself\u001b[0m\u001b[0;34m.\u001b[0m\u001b[0mexc_type\u001b[0m\u001b[0;34m(\u001b[0m\u001b[0mmsg\u001b[0m\u001b[0;34m)\u001b[0m\u001b[0;34m\u001b[0m\u001b[0;34m\u001b[0m\u001b[0m\n\u001b[0m",
      "\u001b[0;31mAttributeError\u001b[0m: Caught AttributeError in DataLoader worker process 0.\nOriginal Traceback (most recent call last):\n  File \"/opt/conda/lib/python3.7/site-packages/torch/utils/data/_utils/worker.py\", line 178, in _worker_loop\n    data = fetcher.fetch(index)\n  File \"/opt/conda/lib/python3.7/site-packages/torch/utils/data/_utils/fetch.py\", line 44, in fetch\n    data = [self.dataset[idx] for idx in possibly_batched_index]\n  File \"/opt/conda/lib/python3.7/site-packages/torch/utils/data/_utils/fetch.py\", line 44, in <listcomp>\n    data = [self.dataset[idx] for idx in possibly_batched_index]\n  File \"/opt/conda/lib/python3.7/site-packages/torch/utils/data/dataset.py\", line 207, in __getitem__\n    return self.datasets[dataset_idx][sample_idx]\n  File \"/scratch/lnw8px/depth-from-Focus-Defocus/DFV/dataloader/DDFF12.py\", line 82, in __getitem__\n    sample_out = self.transform(sample)\n  File \"/opt/conda/lib/python3.7/site-packages/torchvision/transforms/transforms.py\", line 61, in __call__\n    img = t(img)\n  File \"/scratch/lnw8px/depth-from-Focus-Defocus/DFV/dataloader/DDFF12.py\", line 262, in __call__\n    for sample_input in sample['blur']])\n  File \"/scratch/lnw8px/depth-from-Focus-Defocus/DFV/dataloader/DDFF12.py\", line 262, in <listcomp>\n    for sample_input in sample['blur']])\nAttributeError: 'numpy.ndarray' object has no attribute 'numpy'\n"
     ]
    }
   ],
   "source": [
    "disp_l=torch.empty((0,1,224,224))\n",
    "f_l=torch.empty((0,5))\n",
    "b_l=torch.empty((0,5,224,224))\n",
    "img_l=torch.empty((0,5,3,224,224))\n",
    "for batch_idx, (img_stack,depth,blur,foc_dist) in enumerate(ValImgLoader):\n",
    "    disp_l=torch.cat((disp_l,depth),0)\n",
    "    f_l=torch.cat((f_l,foc_dist),0)\n",
    "    b_l=torch.cat((b_l,blur),0)\n",
    "    img_l=torch.cat((img_l,img_stack),0)\n",
    "    break"
   ]
  },
  {
   "cell_type": "code",
   "execution_count": 7,
   "metadata": {},
   "outputs": [
    {
     "name": "stdout",
     "output_type": "stream",
     "text": [
      "depth net:\n",
      "depthDecoder(\n",
      "  (sm): Softmax(dim=1)\n",
      "  (convs): Sequential(\n",
      "    (0): Conv2d(10, 32, kernel_size=(3, 3), stride=(1, 1), bias=False)\n",
      "    (1): Upsample(size=(224, 224), mode=nearest)\n",
      "    (2): Conv2d(32, 1, kernel_size=(3, 3), stride=(1, 1), bias=False)\n",
      "    (3): Upsample(size=(224, 224), mode=nearest)\n",
      "  )\n",
      ")\n"
     ]
    }
   ],
   "source": [
    "model = DFFNet(clean=False,level=4,dchlist=[10,32,1],dkernel=3,dpool=0,fuse=fuse)\n",
    "model = nn.DataParallel(model)\n",
    "model.cuda()\n",
    "optimizer = optim.Adam(model.parameters(), lr=0.0001, betas=(0.9, 0.999))"
   ]
  },
  {
   "cell_type": "code",
   "execution_count": null,
   "metadata": {},
   "outputs": [],
   "source": []
  },
  {
   "cell_type": "code",
   "execution_count": 12,
   "metadata": {},
   "outputs": [
    {
     "data": {
      "text/plain": [
       "(tensor(0.3021, device='cuda:0'),\n",
       " {'mask': tensor([[[[1., 1., 1.,  ..., 1., 1., 1.],\n",
       "            [1., 1., 1.,  ..., 1., 1., 1.],\n",
       "            [1., 1., 1.,  ..., 1., 1., 1.],\n",
       "            ...,\n",
       "            [1., 1., 1.,  ..., 1., 1., 1.],\n",
       "            [1., 1., 1.,  ..., 1., 1., 1.],\n",
       "            [1., 1., 1.,  ..., 1., 1., 1.]]],\n",
       "  \n",
       "  \n",
       "          [[[1., 1., 1.,  ..., 1., 1., 1.],\n",
       "            [1., 1., 1.,  ..., 1., 1., 1.],\n",
       "            [1., 1., 1.,  ..., 1., 1., 1.],\n",
       "            ...,\n",
       "            [0., 0., 0.,  ..., 0., 0., 0.],\n",
       "            [0., 0., 0.,  ..., 0., 0., 0.],\n",
       "            [0., 0., 0.,  ..., 0., 0., 0.]]],\n",
       "  \n",
       "  \n",
       "          [[[1., 1., 1.,  ..., 1., 1., 1.],\n",
       "            [1., 1., 1.,  ..., 1., 1., 1.],\n",
       "            [1., 1., 1.,  ..., 1., 1., 1.],\n",
       "            ...,\n",
       "            [1., 1., 1.,  ..., 1., 1., 1.],\n",
       "            [1., 1., 0.,  ..., 1., 1., 1.],\n",
       "            [1., 0., 0.,  ..., 1., 1., 1.]]],\n",
       "  \n",
       "  \n",
       "          [[[1., 1., 1.,  ..., 0., 0., 0.],\n",
       "            [1., 1., 1.,  ..., 0., 0., 0.],\n",
       "            [1., 1., 1.,  ..., 0., 0., 0.],\n",
       "            ...,\n",
       "            [0., 0., 0.,  ..., 1., 1., 1.],\n",
       "            [0., 0., 0.,  ..., 1., 1., 1.],\n",
       "            [0., 0., 0.,  ..., 1., 1., 1.]]]]),\n",
       "  'pred': tensor([[[[-0.3241, -0.3241, -0.3232,  ..., -0.3149, -0.3158, -0.3158],\n",
       "            [-0.3241, -0.3241, -0.3232,  ..., -0.3149, -0.3158, -0.3158],\n",
       "            [-0.3241, -0.3241, -0.3230,  ..., -0.3128, -0.3135, -0.3135],\n",
       "            ...,\n",
       "            [-0.3158, -0.3158, -0.3168,  ..., -0.3159, -0.3149, -0.3149],\n",
       "            [-0.3170, -0.3170, -0.3183,  ..., -0.3163, -0.3152, -0.3152],\n",
       "            [-0.3170, -0.3170, -0.3183,  ..., -0.3163, -0.3152, -0.3152]]],\n",
       "  \n",
       "  \n",
       "          [[[-0.2588, -0.2588, -0.2563,  ..., -0.2432, -0.2432, -0.2432],\n",
       "            [-0.2588, -0.2588, -0.2563,  ..., -0.2432, -0.2432, -0.2432],\n",
       "            [-0.2576, -0.2576, -0.2550,  ..., -0.2397, -0.2396, -0.2396],\n",
       "            ...,\n",
       "            [-0.2522, -0.2522, -0.2530,  ..., -0.2361, -0.2340, -0.2340],\n",
       "            [-0.2538, -0.2538, -0.2549,  ..., -0.2373, -0.2352, -0.2352],\n",
       "            [-0.2538, -0.2538, -0.2549,  ..., -0.2373, -0.2352, -0.2352]]],\n",
       "  \n",
       "  \n",
       "          [[[-0.1311, -0.1311, -0.1300,  ..., -0.1120, -0.1118, -0.1118],\n",
       "            [-0.1311, -0.1311, -0.1300,  ..., -0.1120, -0.1118, -0.1118],\n",
       "            [-0.1308, -0.1308, -0.1295,  ..., -0.1100, -0.1098, -0.1098],\n",
       "            ...,\n",
       "            [-0.1179, -0.1179, -0.1184,  ..., -0.1191, -0.1179, -0.1179],\n",
       "            [-0.1187, -0.1187, -0.1192,  ..., -0.1207, -0.1195, -0.1195],\n",
       "            [-0.1187, -0.1187, -0.1192,  ..., -0.1207, -0.1195, -0.1195]]],\n",
       "  \n",
       "  \n",
       "          [[[-0.2682, -0.2682, -0.2660,  ..., -0.2578, -0.2576, -0.2576],\n",
       "            [-0.2682, -0.2682, -0.2660,  ..., -0.2578, -0.2576, -0.2576],\n",
       "            [-0.2672, -0.2672, -0.2648,  ..., -0.2545, -0.2543, -0.2543],\n",
       "            ...,\n",
       "            [-0.2679, -0.2679, -0.2689,  ..., -0.2437, -0.2414, -0.2414],\n",
       "            [-0.2686, -0.2686, -0.2702,  ..., -0.2451, -0.2428, -0.2428],\n",
       "            [-0.2686, -0.2686, -0.2702,  ..., -0.2451, -0.2428, -0.2428]]]])})"
      ]
     },
     "execution_count": 12,
     "metadata": {},
     "output_type": "execute_result"
    }
   ],
   "source": [
    "valid(img_stack,blur,depth,foc_dist)"
   ]
  },
  {
   "cell_type": "code",
   "execution_count": null,
   "metadata": {},
   "outputs": [],
   "source": []
  },
  {
   "cell_type": "code",
   "execution_count": null,
   "metadata": {},
   "outputs": [],
   "source": []
  },
  {
   "cell_type": "code",
   "execution_count": null,
   "metadata": {},
   "outputs": [],
   "source": []
  },
  {
   "cell_type": "code",
   "execution_count": null,
   "metadata": {},
   "outputs": [],
   "source": []
  },
  {
   "cell_type": "code",
   "execution_count": 7,
   "metadata": {},
   "outputs": [],
   "source": [
    "from dataloader import CameraLens"
   ]
  },
  {
   "cell_type": "code",
   "execution_count": 8,
   "metadata": {},
   "outputs": [
    {
     "data": {
      "text/plain": [
       "0.0006908186114017978"
      ]
     },
     "execution_count": 8,
     "metadata": {},
     "output_type": "execute_result"
    }
   ],
   "source": [
    "camera=CameraLens(9.5*1e-3,f_number=2)\n",
    "camera.get_coc(0.0714, 1.3633)"
   ]
  },
  {
   "cell_type": "code",
   "execution_count": 22,
   "metadata": {},
   "outputs": [
    {
     "data": {
      "text/plain": [
       "array([1, 9, 0, 6, 4])"
      ]
     },
     "execution_count": 22,
     "metadata": {},
     "output_type": "execute_result"
    }
   ],
   "source": [
    "import numpy as np\n",
    "np.random.choice(10, 5, replace=False)"
   ]
  },
  {
   "cell_type": "code",
   "execution_count": 21,
   "metadata": {},
   "outputs": [],
   "source": [
    "from dataloader import DDFF12Loader\n",
    "database = '/scratch/lnw8px/depth-from-Focus-Defocus/data/my_ddff_trainVal.h5'\n",
    "DDFF12_train = DDFF12Loader(database, stack_key=\"stack_train\", disp_key=\"disp_train\", n_stack=5,\n",
    "                             min_disp=0.02, max_disp=0.28)\n",
    "DDFF12_val = DDFF12Loader(database, stack_key=\"stack_val\", disp_key=\"disp_val\", n_stack=5,\n",
    "                                  min_disp=0.02, max_disp=0.28, b_test=False)\n",
    "DDFF12_train, DDFF12_val = [DDFF12_train], [DDFF12_val]\n",
    "dataset_train = torch.utils.data.ConcatDataset(DDFF12_train)\n",
    "dataset_val = torch.utils.data.ConcatDataset(DDFF12_val)\n",
    "TrainImgLoader = torch.utils.data.DataLoader(dataset=dataset_train, num_workers=4, batch_size=4, shuffle=True, drop_last=True)\n",
    "ValImgLoader = torch.utils.data.DataLoader(dataset=dataset_val, num_workers=1, batch_size=5, shuffle=False, drop_last=True)"
   ]
  },
  {
   "cell_type": "code",
   "execution_count": 20,
   "metadata": {},
   "outputs": [],
   "source": [
    "lmd=0.2\n",
    "fuse=0\n",
    "use_blur=0\n",
    "\n",
    "def train(img_stack_in, blur_stack,gt_disp, foc_dist):\n",
    "    model.train()\n",
    "    img_stack_in=Variable(torch.FloatTensor(img_stack_in))\n",
    "    gt_disp=Variable(torch.FloatTensor(gt_disp))\n",
    "    img_stack,gt_disp,foc_dist,blur_stack=img_stack_in.cuda(),gt_disp.cuda(),foc_dist.cuda(),blur_stack.cuda()\n",
    "    focus=1./(blur_stack+1)\n",
    "\n",
    "    #---------\n",
    "    max_val = torch.where(foc_dist>=100, torch.zeros_like(foc_dist), foc_dist) # exclude padding value\n",
    "    min_val = torch.where(foc_dist<=0, torch.ones_like(foc_dist)*10, foc_dist)  # exclude padding value\n",
    "    mask = (gt_disp >= min_val.min(dim=1)[0].view(-1,1,1,1)) & (gt_disp <= max_val.max(dim=1)[0].view(-1,1,1,1)) #\n",
    "    mask_tiled=torch.repeat_interleave(mask,repeats=5,dim=1)\n",
    "    mask.detach_()\n",
    "    mask_tiled.detach_()\n",
    "    #----\n",
    "\n",
    "    optimizer.zero_grad()\n",
    "    beta_scale = 1 # smooth l1 do not have beta in 1.6, so we increase the input to and then scale back -- no significant improve according to our trials\n",
    "    fstacked,dstacked,fdstacked,stds,cost_stacked= model(img_stack, foc_dist)\n",
    "\n",
    "    floss,dloss,fdloss,bloss=0,0,0,0\n",
    "    lvl_w=[8./15, 4./15, 2./15, 1./15]\n",
    "    print(len(cost_stacked))\n",
    "    for i in range(len(cost_stacked)):\n",
    "        if(fuse==0 or fuse==2):\n",
    "            _cur_floss = F.smooth_l1_loss(fstacked[i][mask] * beta_scale, gt_disp[mask]* beta_scale, reduction='none') / beta_scale\n",
    "            floss = floss + lvl_w[i] * _cur_floss.mean()\n",
    "            \n",
    "        if(use_blur):\n",
    "            _cur_bloss=F.mse_loss(cost_stacked[i][mask_tiled],focus[mask_tiled],reduction='none')\n",
    "            bloss = bloss + lvl_w[i] * _cur_bloss.mean()\n",
    "            \n",
    "        if(fuse==1):\n",
    "            _cur_dloss = F.smooth_l1_loss(dstacked[i][mask] * beta_scale, gt_disp[mask]* beta_scale, reduction='none') / beta_scale\n",
    "            dloss = dloss + lvl_w[i] * _cur_dloss.mean()\n",
    "        if(fuse==2):\n",
    "            _cur_fdloss = F.smooth_l1_loss(fdstacked[i][mask] * beta_scale, gt_disp[mask]* beta_scale, reduction='none') / beta_scale\n",
    "            fdloss = fdloss + lvl_w[i] * _cur_fdloss.mean()\n",
    "            \n",
    "    if(fuse==0):\n",
    "        loss=floss\n",
    "    if(fuse==1):\n",
    "        loss=dloss\n",
    "    if(fuse==2):\n",
    "        loss=fdloss\n",
    "    if(use_blur):\n",
    "        loss+=bloss*1e-2\n",
    "    print(floss,dloss,fdloss,bloss)\n",
    "    print(loss)\n",
    "    loss.backward()\n",
    "    torch.nn.utils.clip_grad_norm_(model.parameters(), 0.5)\n",
    "    optimizer.step()\n",
    "    vis={}\n",
    "    if(fuse==0):\n",
    "        vis['pred']=fstacked[0].detach().cpu()\n",
    "    if(fuse==1):\n",
    "        vis['pred']=dstacked[0].detach().cpu()\n",
    "    if(fuse==2):\n",
    "        vis['pred']=fdstacked[0].detach().cpu()\n",
    "    vis['mask']=mask.type(torch.float).detach().cpu()\n",
    "\n",
    "    flossvalue,blossvalue,dlossvalue,fdlossvalue=0,0,0,0\n",
    "    if(type(floss)==torch.Tensor):\n",
    "        flossvalue=floss.data\n",
    "    if(type(bloss)==torch.Tensor):\n",
    "        blossvalue=bloss.data\n",
    "    if(type(dloss)==torch.Tensor):\n",
    "        dlossvalue=dloss.data\n",
    "    if(type(fdloss)==torch.Tensor):\n",
    "        fdlossvalue=fdloss.data\n",
    "\n",
    "    del fstacked,dstacked,fdstacked\n",
    "    del cost_stacked\n",
    "    return flossvalue,blossvalue,dlossvalue,fdlossvalue,vis\n"
   ]
  },
  {
   "cell_type": "code",
   "execution_count": 16,
   "metadata": {},
   "outputs": [],
   "source": [
    "disp_l=torch.empty((0,1,224,224))\n",
    "f_l=torch.empty((0,5))\n",
    "b_l=torch.empty((0,5,224,224))\n",
    "img_l=torch.empty((0,5,3,224,224))\n",
    "for batch_idx, (img_stack,depth,blur,foc_dist) in enumerate(TrainImgLoader):\n",
    "    disp_l=torch.cat((disp_l,depth),0)\n",
    "    f_l=torch.cat((f_l,foc_dist),0)\n",
    "    b_l=torch.cat((b_l,blur),0)\n",
    "    img_l=torch.cat((img_l,img_stack),0)\n",
    "    break"
   ]
  },
  {
   "cell_type": "code",
   "execution_count": null,
   "metadata": {},
   "outputs": [],
   "source": [
    "train(img_stack,blur,depth,foc_dist)"
   ]
  },
  {
   "cell_type": "code",
   "execution_count": 17,
   "metadata": {},
   "outputs": [
    {
     "ename": "TypeError",
     "evalue": "expected CPUTensorId (got DispatchKeySet(CUDATensorId))",
     "output_type": "error",
     "traceback": [
      "\u001b[0;31m---------------------------------------------------------------------------\u001b[0m",
      "\u001b[0;31mTypeError\u001b[0m                                 Traceback (most recent call last)",
      "\u001b[0;32m<ipython-input-17-1684641c24c3>\u001b[0m in \u001b[0;36m<module>\u001b[0;34m\u001b[0m\n\u001b[1;32m      5\u001b[0m \u001b[0mfocus\u001b[0m\u001b[0;34m=\u001b[0m\u001b[0;36m1.\u001b[0m\u001b[0;34m/\u001b[0m\u001b[0;34m(\u001b[0m\u001b[0mblur_stack\u001b[0m\u001b[0;34m+\u001b[0m\u001b[0;36m1\u001b[0m\u001b[0;34m)\u001b[0m\u001b[0;34m\u001b[0m\u001b[0;34m\u001b[0m\u001b[0m\n\u001b[1;32m      6\u001b[0m \u001b[0mfstacked\u001b[0m\u001b[0;34m,\u001b[0m\u001b[0mdstacked\u001b[0m\u001b[0;34m,\u001b[0m\u001b[0mfdstacked\u001b[0m\u001b[0;34m,\u001b[0m\u001b[0mstds\u001b[0m\u001b[0;34m,\u001b[0m\u001b[0mcost_stacked\u001b[0m\u001b[0;34m=\u001b[0m \u001b[0mmodel\u001b[0m\u001b[0;34m(\u001b[0m\u001b[0mimg_stack\u001b[0m\u001b[0;34m,\u001b[0m \u001b[0mfoc_dist\u001b[0m\u001b[0;34m)\u001b[0m\u001b[0;34m\u001b[0m\u001b[0;34m\u001b[0m\u001b[0m\n\u001b[0;32m----> 7\u001b[0;31m \u001b[0mtrain\u001b[0m\u001b[0;34m(\u001b[0m\u001b[0mimg_stack\u001b[0m\u001b[0;34m,\u001b[0m\u001b[0mblur\u001b[0m\u001b[0;34m,\u001b[0m\u001b[0mdepth\u001b[0m\u001b[0;34m,\u001b[0m\u001b[0mfoc_dist\u001b[0m\u001b[0;34m)\u001b[0m\u001b[0;34m\u001b[0m\u001b[0;34m\u001b[0m\u001b[0m\n\u001b[0m",
      "\u001b[0;32m<ipython-input-15-c19649b1685a>\u001b[0m in \u001b[0;36mtrain\u001b[0;34m(img_stack_in, blur_stack, gt_disp, foc_dist)\u001b[0m\n\u001b[1;32m      5\u001b[0m \u001b[0;32mdef\u001b[0m \u001b[0mtrain\u001b[0m\u001b[0;34m(\u001b[0m\u001b[0mimg_stack_in\u001b[0m\u001b[0;34m,\u001b[0m \u001b[0mblur_stack\u001b[0m\u001b[0;34m,\u001b[0m\u001b[0mgt_disp\u001b[0m\u001b[0;34m,\u001b[0m \u001b[0mfoc_dist\u001b[0m\u001b[0;34m)\u001b[0m\u001b[0;34m:\u001b[0m\u001b[0;34m\u001b[0m\u001b[0;34m\u001b[0m\u001b[0m\n\u001b[1;32m      6\u001b[0m     \u001b[0mmodel\u001b[0m\u001b[0;34m.\u001b[0m\u001b[0mtrain\u001b[0m\u001b[0;34m(\u001b[0m\u001b[0;34m)\u001b[0m\u001b[0;34m\u001b[0m\u001b[0;34m\u001b[0m\u001b[0m\n\u001b[0;32m----> 7\u001b[0;31m     \u001b[0mimg_stack_in\u001b[0m\u001b[0;34m=\u001b[0m\u001b[0mVariable\u001b[0m\u001b[0;34m(\u001b[0m\u001b[0mtorch\u001b[0m\u001b[0;34m.\u001b[0m\u001b[0mFloatTensor\u001b[0m\u001b[0;34m(\u001b[0m\u001b[0mimg_stack_in\u001b[0m\u001b[0;34m)\u001b[0m\u001b[0;34m)\u001b[0m\u001b[0;34m\u001b[0m\u001b[0;34m\u001b[0m\u001b[0m\n\u001b[0m\u001b[1;32m      8\u001b[0m     \u001b[0mgt_disp\u001b[0m\u001b[0;34m=\u001b[0m\u001b[0mVariable\u001b[0m\u001b[0;34m(\u001b[0m\u001b[0mtorch\u001b[0m\u001b[0;34m.\u001b[0m\u001b[0mFloatTensor\u001b[0m\u001b[0;34m(\u001b[0m\u001b[0mgt_disp\u001b[0m\u001b[0;34m)\u001b[0m\u001b[0;34m)\u001b[0m\u001b[0;34m\u001b[0m\u001b[0;34m\u001b[0m\u001b[0m\n\u001b[1;32m      9\u001b[0m     \u001b[0mimg_stack\u001b[0m\u001b[0;34m,\u001b[0m\u001b[0mgt_disp\u001b[0m\u001b[0;34m,\u001b[0m\u001b[0mfoc_dist\u001b[0m\u001b[0;34m,\u001b[0m\u001b[0mblur_stack\u001b[0m\u001b[0;34m=\u001b[0m\u001b[0mimg_stack_in\u001b[0m\u001b[0;34m.\u001b[0m\u001b[0mcuda\u001b[0m\u001b[0;34m(\u001b[0m\u001b[0;34m)\u001b[0m\u001b[0;34m,\u001b[0m\u001b[0mgt_disp\u001b[0m\u001b[0;34m.\u001b[0m\u001b[0mcuda\u001b[0m\u001b[0;34m(\u001b[0m\u001b[0;34m)\u001b[0m\u001b[0;34m,\u001b[0m\u001b[0mfoc_dist\u001b[0m\u001b[0;34m.\u001b[0m\u001b[0mcuda\u001b[0m\u001b[0;34m(\u001b[0m\u001b[0;34m)\u001b[0m\u001b[0;34m,\u001b[0m\u001b[0mblur_stack\u001b[0m\u001b[0;34m.\u001b[0m\u001b[0mcuda\u001b[0m\u001b[0;34m(\u001b[0m\u001b[0;34m)\u001b[0m\u001b[0;34m\u001b[0m\u001b[0;34m\u001b[0m\u001b[0m\n",
      "\u001b[0;31mTypeError\u001b[0m: expected CPUTensorId (got DispatchKeySet(CUDATensorId))"
     ]
    }
   ],
   "source": [
    "model.train()\n",
    "img_stack_in=Variable(torch.FloatTensor(img_stack))\n",
    "gt_disp=Variable(torch.FloatTensor(depth))\n",
    "img_stack,gt_disp,foc_dist,blur_stack=img_stack_in.cuda(),gt_disp.cuda(),foc_dist.cuda(),blur.cuda()\n",
    "focus=1./(blur_stack+1)\n",
    "fstacked,dstacked,fdstacked,stds,cost_stacked= model(img_stack, foc_dist)\n",
    "train(img_stack,blur,depth,foc_dist)"
   ]
  },
  {
   "cell_type": "code",
   "execution_count": 7,
   "metadata": {},
   "outputs": [
    {
     "data": {
      "text/plain": [
       "4"
      ]
     },
     "execution_count": 7,
     "metadata": {},
     "output_type": "execute_result"
    }
   ],
   "source": [
    "len(dstacked)"
   ]
  },
  {
   "cell_type": "code",
   "execution_count": 11,
   "metadata": {},
   "outputs": [],
   "source": [
    "fstacked,dstacked,fdstacked,stds,cost_stacked= model(img_stack, foc_dist)"
   ]
  },
  {
   "cell_type": "code",
   "execution_count": 12,
   "metadata": {},
   "outputs": [
    {
     "data": {
      "text/plain": [
       "4"
      ]
     },
     "execution_count": 12,
     "metadata": {},
     "output_type": "execute_result"
    }
   ],
   "source": [
    "len(fstacked)"
   ]
  },
  {
   "cell_type": "code",
   "execution_count": 7,
   "metadata": {},
   "outputs": [],
   "source": [
    "disp_l=torch.empty((0,1,224,224))\n",
    "f_l=torch.empty((0,5))\n",
    "b_l=torch.empty((0,5,224,224))\n",
    "img_l=torch.empty((0,5,3,224,224))\n",
    "for batch_idx, (img_stack,depth,blur,foc_dist) in enumerate(TrainImgLoader):\n",
    "    disp_l=torch.cat((disp_l,depth),0)\n",
    "    f_l=torch.cat((f_l,foc_dist),0)\n",
    "    b_l=torch.cat((b_l,blur),0)\n",
    "    img_l=torch.cat((img_l,img_stack),0)\n",
    "    break"
   ]
  },
  {
   "cell_type": "code",
   "execution_count": 38,
   "metadata": {},
   "outputs": [
    {
     "data": {
      "text/plain": [
       "(tensor(0.), tensor(1.3102))"
      ]
     },
     "execution_count": 38,
     "metadata": {},
     "output_type": "execute_result"
    }
   ],
   "source": [
    "torch.min(disp_l),torch.max(disp_l)"
   ]
  },
  {
   "cell_type": "code",
   "execution_count": 44,
   "metadata": {},
   "outputs": [
    {
     "data": {
      "image/png": "[encoded data removed]",
      "text/plain": [
       "<Figure size 432x288 with 1 Axes>"
      ]
     },
     "metadata": {
      "needs_background": "light"
     },
     "output_type": "display_data"
    },
    {
     "data": {
      "image/png": "[encoded data removed]",
      "text/plain": [
       "<Figure size 432x288 with 1 Axes>"
      ]
     },
     "metadata": {
      "needs_background": "light"
     },
     "output_type": "display_data"
    },
    {
     "data": {
      "image/png": "[encoded data removed]",
      "text/plain": [
       "<Figure size 432x288 with 1 Axes>"
      ]
     },
     "metadata": {
      "needs_background": "light"
     },
     "output_type": "display_data"
    }
   ],
   "source": [
    "n=29\n",
    "plt.imshow(img_l[n,3,0,:,:].cpu().detach().numpy())\n",
    "plt.show()\n",
    "plt.imshow(disp_l[n,0,:,:].cpu().detach().numpy())\n",
    "plt.show()\n",
    "plt.imshow(b_l[n,3,:,:].cpu().detach().numpy())\n",
    "plt.show()"
   ]
  },
  {
   "cell_type": "code",
   "execution_count": 15,
   "metadata": {},
   "outputs": [
    {
     "data": {
      "text/plain": [
       "<matplotlib.image.AxesImage at 0x7fdbf1955950>"
      ]
     },
     "execution_count": 15,
     "metadata": {},
     "output_type": "execute_result"
    },
    {
     "data": {
      "image/png": "[encoded data removed]",
      "text/plain": [
       "<Figure size 432x288 with 1 Axes>"
      ]
     },
     "metadata": {
      "needs_background": "light"
     },
     "output_type": "display_data"
    }
   ],
   "source": []
  },
  {
   "cell_type": "code",
   "execution_count": 16,
   "metadata": {},
   "outputs": [
    {
     "data": {
      "text/plain": [
       "<matplotlib.image.AxesImage at 0x7fdbefae39d0>"
      ]
     },
     "execution_count": 16,
     "metadata": {},
     "output_type": "execute_result"
    },
    {
     "data": {
      "image/png": "[encoded data removed]",
      "text/plain": [
       "<Figure size 432x288 with 1 Axes>"
      ]
     },
     "metadata": {
      "needs_background": "light"
     },
     "output_type": "display_data"
    }
   ],
   "source": []
  },
  {
   "cell_type": "code",
   "execution_count": 20,
   "metadata": {},
   "outputs": [],
   "source": [
    "from dataloader import FoD500Loader\n",
    "database = '/scratch/lnw8px/depth-from-Focus-Defocus/defocus-net/data/fs_6/'\n",
    "FoD500_train, FoD500_val = FoD500Loader(database, n_stack=5, scale=1)\n",
    "FoD500_train, FoD500_val =  [FoD500_train], [FoD500_val]\n",
    "dataset_train = torch.utils.data.ConcatDataset(FoD500_train)\n",
    "dataset_val = torch.utils.data.ConcatDataset(FoD500_val)\n",
    "TrainImgLoader = torch.utils.data.DataLoader(dataset=dataset_train, num_workers=4, batch_size=20, shuffle=True, drop_last=True)\n",
    "ValImgLoader = torch.utils.data.DataLoader(dataset=dataset_val, num_workers=1, batch_size=5, shuffle=False, drop_last=True)\n",
    "\n",
    "train_log = logger.Logger( os.path.abspath('/scratch/lnw8px/depth-from-Focus-Defocus/DFV/'), name='ppp/train')\n",
    "val_log = logger.Logger( os.path.abspath('/scratch/lnw8px/depth-from-Focus-Defocus/DFV/'), name='ppp/val')\n",
    "\n",
    "model = DFFNet(clean=False,level=4, use_diff=True)\n",
    "model = nn.DataParallel(model)\n",
    "model.cuda()\n",
    "optimizer = optim.Adam(model.parameters(), lr=0.0001, betas=(0.9, 0.999))"
   ]
  },
  {
   "cell_type": "code",
   "execution_count": 24,
   "metadata": {},
   "outputs": [],
   "source": [
    "disp_l=torch.empty((4,0,224,224))\n",
    "f_l=torch.empty((0,5))\n",
    "b_l=torch.empty((0,5,224,224))\n",
    "for batch_idx, (img_stack,gt_disp,b,foc_dist) in enumerate(TrainImgLoader):\n",
    "    disp_l=torch.cat((disp_l,disp),1)\n",
    "    f_l=torch.cat((f_l,foc_dist),0)\n",
    "    b_l=torch.cat((b_l,b),0)\n",
    "    break"
   ]
  },
  {
   "cell_type": "code",
   "execution_count": 59,
   "metadata": {},
   "outputs": [],
   "source": [
    "from models.submodule import *\n"
   ]
  },
  {
   "cell_type": "code",
   "execution_count": 27,
   "metadata": {},
   "outputs": [
    {
     "data": {
      "text/plain": [
       "torch.Size([20, 5])"
      ]
     },
     "execution_count": 27,
     "metadata": {},
     "output_type": "execute_result"
    }
   ],
   "source": [
    "foc_dist.shape"
   ]
  },
  {
   "cell_type": "code",
   "execution_count": 57,
   "metadata": {},
   "outputs": [],
   "source": [
    "foc_ar=foc_dist.unsqueeze(dim=2).unsqueeze(dim=2)\n",
    "foc_ar=torch.repeat_interleave(foc_ar,b.shape[-1],dim=-1).repeat_interleave(b.shape[-2],dim=-2)\n",
    "bf=torch.cat((b,foc_ar),2)"
   ]
  },
  {
   "cell_type": "code",
   "execution_count": 58,
   "metadata": {},
   "outputs": [
    {
     "data": {
      "text/plain": [
       "(torch.Size([20, 5, 224, 224]),\n",
       " torch.Size([20, 5, 224, 224]),\n",
       " torch.Size([20, 5, 448, 224]))"
      ]
     },
     "execution_count": 58,
     "metadata": {},
     "output_type": "execute_result"
    }
   ],
   "source": [
    "foc_ar.shape,b.shape,bf.shape"
   ]
  },
  {
   "cell_type": "code",
   "execution_count": 56,
   "metadata": {},
   "outputs": [],
   "source": []
  },
  {
   "cell_type": "code",
   "execution_count": 22,
   "metadata": {},
   "outputs": [],
   "source": [
    "img_stack_in   = Variable(torch.FloatTensor(img_stack))\n",
    "gt_disp    = Variable(torch.FloatTensor(gt_disp))\n",
    "img_stack, gt_disp, foc_dist = img_stack_in.cuda(),  gt_disp.cuda(), foc_dist.cuda()\n",
    "\n",
    "#---------\n",
    "max_val = torch.where(foc_dist>=100, torch.zeros_like(foc_dist), foc_dist) # exclude padding value\n",
    "min_val = torch.where(foc_dist<=0, torch.ones_like(foc_dist)*10, foc_dist)  # exclude padding value\n",
    "mask = (gt_disp >= min_val.min(dim=1)[0].view(-1,1,1,1)) & (gt_disp <= max_val.max(dim=1)[0].view(-1,1,1,1)) #\n",
    "mask.detach_()\n",
    "#----\n",
    "model.train()\n",
    "stacked, stds, _,cost3 = model(img_stack, foc_dist)"
   ]
  },
  {
   "cell_type": "code",
   "execution_count": 23,
   "metadata": {},
   "outputs": [
    {
     "data": {
      "text/plain": [
       "torch.Size([20, 5, 224, 224])"
      ]
     },
     "execution_count": 23,
     "metadata": {},
     "output_type": "execute_result"
    }
   ],
   "source": [
    "cost3[1].shape"
   ]
  },
  {
   "cell_type": "code",
   "execution_count": 5,
   "metadata": {},
   "outputs": [
    {
     "data": {
      "text/plain": [
       "(tensor(4.7585e-09), tensor(inf))"
      ]
     },
     "execution_count": 5,
     "metadata": {},
     "output_type": "execute_result"
    }
   ],
   "source": [
    "torch.min(b_l),torch.max(b_l)"
   ]
  },
  {
   "cell_type": "code",
   "execution_count": 6,
   "metadata": {},
   "outputs": [
    {
     "data": {
      "text/plain": [
       "(tensor(0.), tensor(1.3633))"
      ]
     },
     "execution_count": 6,
     "metadata": {},
     "output_type": "execute_result"
    }
   ],
   "source": [
    "torch.min(disp_l),torch.max(disp_l)"
   ]
  },
  {
   "cell_type": "code",
   "execution_count": 5,
   "metadata": {},
   "outputs": [
    {
     "data": {
      "text/plain": [
       "(tensor(0.0714), tensor(1.))"
      ]
     },
     "execution_count": 5,
     "metadata": {},
     "output_type": "execute_result"
    }
   ],
   "source": [
    "torch.min(f_l),torch.max(f_l)"
   ]
  },
  {
   "cell_type": "code",
   "execution_count": 4,
   "metadata": {},
   "outputs": [
    {
     "data": {
      "text/plain": [
       "torch.Size([4, 5, 3, 224, 224])"
      ]
     },
     "execution_count": 4,
     "metadata": {},
     "output_type": "execute_result"
    }
   ],
   "source": [
    "img_stack_in.shape"
   ]
  },
  {
   "cell_type": "code",
   "execution_count": 19,
   "metadata": {},
   "outputs": [],
   "source": [
    "for batch_idx, (img_stack, gt_disp, b,foc_dist) in enumerate(TrainImgLoader):\n",
    "    break"
   ]
  },
  {
   "cell_type": "code",
   "execution_count": 25,
   "metadata": {},
   "outputs": [
    {
     "data": {
      "text/plain": [
       "(tensor(0.5028), tensor(1.))"
      ]
     },
     "execution_count": 25,
     "metadata": {},
     "output_type": "execute_result"
    }
   ],
   "source": [
    "torch.min(1/(b+1)) , torch.max(1/(b+1))"
   ]
  },
  {
   "cell_type": "code",
   "execution_count": 24,
   "metadata": {},
   "outputs": [
    {
     "data": {
      "text/plain": [
       "(tensor(0.), tensor(0.9888))"
      ]
     },
     "execution_count": 24,
     "metadata": {},
     "output_type": "execute_result"
    }
   ],
   "source": [
    "torch.min(b) , torch.max(b)"
   ]
  },
  {
   "cell_type": "code",
   "execution_count": 17,
   "metadata": {},
   "outputs": [],
   "source": [
    "img_stack_in   = Variable(torch.FloatTensor(img_stack))\n",
    "gt_disp    = Variable(torch.FloatTensor(gt_disp))\n",
    "img_stack, gt_disp, foc_dist = img_stack_in.cuda(),  gt_disp.cuda(), foc_dist.cuda()\n",
    "\n",
    "#---------\n",
    "max_val = torch.where(foc_dist>=100, torch.zeros_like(foc_dist), foc_dist) # exclude padding value\n",
    "min_val = torch.where(foc_dist<=0, torch.ones_like(foc_dist)*10, foc_dist)  # exclude padding value\n",
    "mask = (gt_disp >= min_val.min(dim=1)[0].view(-1,1,1,1)) & (gt_disp <= max_val.max(dim=1)[0].view(-1,1,1,1)) #\n",
    "mask.detach_()\n",
    "#----\n",
    "model.eval()\n",
    "stacked, stds, _,cost3 = model(img_stack, foc_dist)"
   ]
  },
  {
   "cell_type": "code",
   "execution_count": 18,
   "metadata": {},
   "outputs": [
    {
     "data": {
      "text/plain": [
       "tensor([[0.0667, 0.1000, 0.2000, 0.4667, 1.0000],\n",
       "        [0.0667, 0.1000, 0.2000, 0.4667, 1.0000],\n",
       "        [0.0667, 0.1000, 0.2000, 0.4667, 1.0000],\n",
       "        [0.0667, 0.1000, 0.2000, 0.4667, 1.0000]], device='cuda:0')"
      ]
     },
     "execution_count": 18,
     "metadata": {},
     "output_type": "execute_result"
    }
   ],
   "source": [
    "foc_dist"
   ]
  },
  {
   "cell_type": "code",
   "execution_count": 12,
   "metadata": {},
   "outputs": [
    {
     "data": {
      "text/plain": [
       "(tensor(0.0200), tensor(0.2800))"
      ]
     },
     "execution_count": 12,
     "metadata": {},
     "output_type": "execute_result"
    }
   ],
   "source": [
    "max_val = torch.where(f_l>=100, torch.zeros_like(f_l), f_l)\n",
    "torch.min(max_val),torch.max(max_val)"
   ]
  },
  {
   "cell_type": "code",
   "execution_count": 13,
   "metadata": {},
   "outputs": [
    {
     "data": {
      "text/plain": [
       "tensor([[0., 0., 0., 0., 0.],\n",
       "        [0., 0., 0., 0., 0.],\n",
       "        [0., 0., 0., 0., 0.],\n",
       "        ...,\n",
       "        [0., 0., 0., 0., 0.],\n",
       "        [0., 0., 0., 0., 0.],\n",
       "        [0., 0., 0., 0., 0.]])"
      ]
     },
     "execution_count": 13,
     "metadata": {},
     "output_type": "execute_result"
    }
   ],
   "source": [
    "torch.zeros_like(f_l)"
   ]
  },
  {
   "cell_type": "code",
   "execution_count": 6,
   "metadata": {},
   "outputs": [
    {
     "data": {
      "text/plain": [
       "torch.Size([4, 1, 224, 224])"
      ]
     },
     "execution_count": 6,
     "metadata": {},
     "output_type": "execute_result"
    }
   ],
   "source": [
    "img_stack_in=Variable(torch.FloatTensor(img_stack_in))\n",
    "gt_disp=Variable(torch.FloatTensor(disp))\n",
    "img_stack,gt_disp,foc_dist=img_stack_in.cuda(),gt_disp.cuda(),foc_dist.cuda()\n",
    "\n",
    "#---------\n",
    "max_val = torch.where(foc_dist>=100, torch.zeros_like(foc_dist), foc_dist) # exclude padding value\n",
    "min_val = torch.where(foc_dist<=0, torch.ones_like(foc_dist)*10, foc_dist)  # exclude padding value\n",
    "mask = (gt_disp >= min_val.min(dim=1)[0].view(-1,1,1,1)) & (gt_disp <= max_val.max(dim=1)[0].view(-1,1,1,1)) #\n",
    "mask_tiled=torch.repeat_interleave(mask,repeats=5,dim=1)\n",
    "mask.detach_()\n",
    "mask_tiled.detach_()\n",
    "mask.shape"
   ]
  },
  {
   "cell_type": "code",
   "execution_count": 11,
   "metadata": {},
   "outputs": [
    {
     "data": {
      "text/plain": [
       "(tensor(0.0845), tensor(0.8960))"
      ]
     },
     "execution_count": 11,
     "metadata": {},
     "output_type": "execute_result"
    }
   ],
   "source": [
    "torch.min(disp[mask]),torch.max(disp[mask])"
   ]
  },
  {
   "cell_type": "code",
   "execution_count": 3,
   "metadata": {},
   "outputs": [],
   "source": [
    "blur=torch.empty((0,5,224,224))\n",
    "disp=torch.empty((4,0,224,224))\n",
    "for batch_idx, (img_stack, gt_disp,blur_stack,foc_dist) in enumerate(TrainImgLoader):\n",
    "    blur=torch.cat((blur,blur_stack),0)\n",
    "    disp=torch.cat((disp,gt_disp),1)"
   ]
  },
  {
   "cell_type": "code",
   "execution_count": 5,
   "metadata": {},
   "outputs": [
    {
     "data": {
      "text/plain": [
       "(tensor(0.), tensor(1.))"
      ]
     },
     "execution_count": 5,
     "metadata": {},
     "output_type": "execute_result"
    }
   ],
   "source": [
    "torch.min(blur),torch.max(blur)"
   ]
  },
  {
   "cell_type": "code",
   "execution_count": 4,
   "metadata": {},
   "outputs": [
    {
     "data": {
      "text/plain": [
       "(tensor(0.), tensor(0.3956))"
      ]
     },
     "execution_count": 4,
     "metadata": {},
     "output_type": "execute_result"
    }
   ],
   "source": [
    "torch.min(disp),torch.max(disp)"
   ]
  },
  {
   "cell_type": "code",
   "execution_count": 49,
   "metadata": {},
   "outputs": [
    {
     "data": {
      "text/plain": [
       "(tensor(0.5448), tensor(1.))"
      ]
     },
     "execution_count": 49,
     "metadata": {},
     "output_type": "execute_result"
    }
   ],
   "source": [
    "focus=1./(blur_stack+1)\n",
    "torch.min(bb),torch.max(bb)"
   ]
  },
  {
   "cell_type": "code",
   "execution_count": 20,
   "metadata": {},
   "outputs": [
    {
     "data": {
      "text/plain": [
       "tensor([[[[True, True, True,  ..., True, True, True],\n",
       "          [True, True, True,  ..., True, True, True],\n",
       "          [True, True, True,  ..., True, True, True],\n",
       "          ...,\n",
       "          [True, True, True,  ..., True, True, True],\n",
       "          [True, True, True,  ..., True, True, True],\n",
       "          [True, True, True,  ..., True, True, True]]],\n",
       "\n",
       "\n",
       "        [[[True, True, True,  ..., True, True, True],\n",
       "          [True, True, True,  ..., True, True, True],\n",
       "          [True, True, True,  ..., True, True, True],\n",
       "          ...,\n",
       "          [True, True, True,  ..., True, True, True],\n",
       "          [True, True, True,  ..., True, True, True],\n",
       "          [True, True, True,  ..., True, True, True]]],\n",
       "\n",
       "\n",
       "        [[[True, True, True,  ..., True, True, True],\n",
       "          [True, True, True,  ..., True, True, True],\n",
       "          [True, True, True,  ..., True, True, True],\n",
       "          ...,\n",
       "          [True, True, True,  ..., True, True, True],\n",
       "          [True, True, True,  ..., True, True, True],\n",
       "          [True, True, True,  ..., True, True, True]]],\n",
       "\n",
       "\n",
       "        [[[True, True, True,  ..., True, True, True],\n",
       "          [True, True, True,  ..., True, True, True],\n",
       "          [True, True, True,  ..., True, True, True],\n",
       "          ...,\n",
       "          [True, True, True,  ..., True, True, True],\n",
       "          [True, True, True,  ..., True, True, True],\n",
       "          [True, True, True,  ..., True, True, True]]]], device='cuda:0')"
      ]
     },
     "execution_count": 20,
     "metadata": {},
     "output_type": "execute_result"
    }
   ],
   "source": []
  },
  {
   "cell_type": "code",
   "execution_count": 17,
   "metadata": {},
   "outputs": [],
   "source": [
    "class disparityregression(nn.Module):\n",
    "    def __init__(self, divisor):\n",
    "        super(disparityregression, self).__init__()\n",
    "        self.divisor = divisor\n",
    "\n",
    "    def forward(self, x, focal_dist=None, uncertainty=False):\n",
    "        disp = focal_dist.unsqueeze(-1).unsqueeze(-1)\n",
    "        out = torch.sum(x*disp,1, keepdim=True) * self.divisor\n",
    "\n",
    "        if uncertainty:\n",
    "            with torch.no_grad():\n",
    "                std = torch.sqrt(torch.sum(x * (out - disp)**2, 1, keepdim=True))\n",
    "            return out, std.detach()\n",
    "        else:\n",
    "            return out"
   ]
  },
  {
   "cell_type": "code",
   "execution_count": 18,
   "metadata": {},
   "outputs": [],
   "source": [
    "disp_reg = disparityregression(1)"
   ]
  },
  {
   "cell_type": "code",
   "execution_count": 24,
   "metadata": {},
   "outputs": [
    {
     "data": {
      "text/plain": [
       "(tensor(-31.1020, grad_fn=<MinBackward1>),\n",
       " tensor(23.3735, grad_fn=<MaxBackward1>))"
      ]
     },
     "execution_count": 24,
     "metadata": {},
     "output_type": "execute_result"
    }
   ],
   "source": [
    "res=disp_reg(cost3.cpu(),foc_dist)\n",
    "torch.min(res),torch.max(res)"
   ]
  },
  {
   "cell_type": "code",
   "execution_count": 28,
   "metadata": {},
   "outputs": [
    {
     "data": {
      "text/plain": [
       "(tensor(0.1000, device='cuda:0', grad_fn=<MinBackward1>),\n",
       " tensor(1.5000, device='cuda:0', grad_fn=<MaxBackward1>))"
      ]
     },
     "execution_count": 28,
     "metadata": {},
     "output_type": "execute_result"
    }
   ],
   "source": [
    "torch.min(stacked[3]),torch.max(stacked[3])"
   ]
  },
  {
   "cell_type": "code",
   "execution_count": 4,
   "metadata": {},
   "outputs": [
    {
     "name": "stderr",
     "output_type": "stream",
     "text": [
      "/opt/conda/lib/python3.7/site-packages/torch/nn/functional.py:2796: UserWarning: nn.functional.upsample is deprecated. Use nn.functional.interpolate instead.\n",
      "  warnings.warn(\"nn.functional.upsample is deprecated. Use nn.functional.interpolate instead.\")\n",
      "/opt/conda/lib/python3.7/site-packages/torch/nn/functional.py:2973: UserWarning: Default upsampling behavior when mode=bilinear is changed to align_corners=False since 0.4.0. Please specify align_corners=True if the old behavior is desired. See the documentation of nn.Upsample for details.\n",
      "  \"See the documentation of nn.Upsample for details.\".format(mode))\n",
      "/opt/conda/lib/python3.7/site-packages/torch/nn/functional.py:2973: UserWarning: Default upsampling behavior when mode=trilinear is changed to align_corners=False since 0.4.0. Please specify align_corners=True if the old behavior is desired. See the documentation of nn.Upsample for details.\n",
      "  \"See the documentation of nn.Upsample for details.\".format(mode))\n"
     ]
    }
   ],
   "source": [
    "optimizer.zero_grad()\n",
    "beta_scale = 1 # smooth l1 do not have beta in 1.6, so we increase the input to and then scale back -- no significant improve according to our trials\n",
    "stacked, stds, _,cost3 = model(img_stack, foc_dist)"
   ]
  },
  {
   "cell_type": "code",
   "execution_count": 15,
   "metadata": {},
   "outputs": [
    {
     "data": {
      "text/plain": [
       "tensor(0.0125, device='cuda:0', grad_fn=<MaxBackward1>)"
      ]
     },
     "execution_count": 15,
     "metadata": {},
     "output_type": "execute_result"
    }
   ],
   "source": [
    "torch.max(1./(cost3+100))"
   ]
  },
  {
   "cell_type": "code",
   "execution_count": 8,
   "metadata": {},
   "outputs": [
    {
     "data": {
      "text/plain": [
       "(tensor(-20.2014, device='cuda:0', grad_fn=<MinBackward1>),\n",
       " tensor(33.3205, device='cuda:0', grad_fn=<MaxBackward1>))"
      ]
     },
     "execution_count": 8,
     "metadata": {},
     "output_type": "execute_result"
    }
   ],
   "source": [
    "torch.min(cost3),torch.max(cost3)"
   ]
  },
  {
   "cell_type": "code",
   "execution_count": 10,
   "metadata": {},
   "outputs": [],
   "source": [
    "floss,bloss,vis = train(img_stack, blur_stack,gt_disp, foc_dist)\n"
   ]
  },
  {
   "cell_type": "code",
   "execution_count": 11,
   "metadata": {},
   "outputs": [
    {
     "data": {
      "text/plain": [
       "(tensor(0.1057, device='cuda:0', grad_fn=<AddBackward0>),\n",
       " tensor(0.2279, device='cuda:0', grad_fn=<MulBackward0>))"
      ]
     },
     "execution_count": 11,
     "metadata": {},
     "output_type": "execute_result"
    }
   ],
   "source": [
    "floss,bloss"
   ]
  },
  {
   "cell_type": "code",
   "execution_count": null,
   "metadata": {},
   "outputs": [],
   "source": [
    "model.train()\n",
    "img_stack_in=Variable(torch.FloatTensor(img_stack_in))\n",
    "gt_disp=Variable(torch.FloatTensor(disp))\n",
    "img_stack,gt_disp,foc_dist,blur_stack=img_stack_in.cuda(),gt_disp.cuda(),foc_dist.cuda(),blur_stack.cuda()\n",
    "\n",
    "#---------\n",
    "mask = gt_disp > 0\n",
    "mask.detach_()\n",
    "#----"
   ]
  },
  {
   "cell_type": "code",
   "execution_count": 43,
   "metadata": {},
   "outputs": [],
   "source": [
    "loss,vis=valid(img_stack, blur_stack,gt_disp, foc_dist)"
   ]
  },
  {
   "cell_type": "code",
   "execution_count": 36,
   "metadata": {},
   "outputs": [
    {
     "data": {
      "text/plain": [
       "tensor(0.1194, device='cuda:0')"
      ]
     },
     "execution_count": 36,
     "metadata": {},
     "output_type": "execute_result"
    }
   ],
   "source": [
    "loss"
   ]
  },
  {
   "cell_type": "code",
   "execution_count": 19,
   "metadata": {},
   "outputs": [],
   "source": [
    "stacked, stds, _ ,cost_stacked= model(img_stack, foc_dist)"
   ]
  },
  {
   "cell_type": "code",
   "execution_count": 24,
   "metadata": {},
   "outputs": [
    {
     "data": {
      "text/plain": [
       "(torch.Size([4, 5, 224, 224]), torch.Size([4, 5, 224, 224]))"
      ]
     },
     "execution_count": 24,
     "metadata": {},
     "output_type": "execute_result"
    }
   ],
   "source": [
    "cost_stacked[0].shape,blur_stack.shape"
   ]
  },
  {
   "cell_type": "code",
   "execution_count": 30,
   "metadata": {},
   "outputs": [
    {
     "data": {
      "text/plain": [
       "(torch.Size([4, 5, 224, 224]), torch.Size([4, 5, 224, 224]))"
      ]
     },
     "execution_count": 30,
     "metadata": {},
     "output_type": "execute_result"
    }
   ],
   "source": [
    "cost_stacked[0].shape,blur_stack.shape"
   ]
  },
  {
   "cell_type": "code",
   "execution_count": 27,
   "metadata": {},
   "outputs": [
    {
     "data": {
      "text/plain": [
       "torch.Size([4, 1, 224, 224])"
      ]
     },
     "execution_count": 27,
     "metadata": {},
     "output_type": "execute_result"
    }
   ],
   "source": [
    "max_val = torch.where(foc_dist>=100, torch.zeros_like(foc_dist), foc_dist) # exclude padding value\n",
    "min_val = torch.where(foc_dist<=0, torch.ones_like(foc_dist)*10, foc_dist)  # exclude padding value\n",
    "mask = (gt_disp >= min_val.min(dim=1)[0].view(-1,1,1,1)) & (gt_disp <= max_val.max(dim=1)[0].view(-1,1,1,1)) #\n",
    "mask.detach_()\n",
    "mask.shape"
   ]
  },
  {
   "cell_type": "code",
   "execution_count": 32,
   "metadata": {},
   "outputs": [
    {
     "data": {
      "text/plain": [
       "torch.Size([4, 5, 224, 224])"
      ]
     },
     "execution_count": 32,
     "metadata": {},
     "output_type": "execute_result"
    }
   ],
   "source": [
    "mask_tiled=torch.repeat_interleave(mask,repeats=5,dim=1)\n",
    "mask_tiled.shape"
   ]
  },
  {
   "cell_type": "code",
   "execution_count": 33,
   "metadata": {},
   "outputs": [
    {
     "data": {
      "text/plain": [
       "tensor([ 0.1378,  0.1378,  0.1421,  ..., -3.1049, -3.1847, -3.1847],\n",
       "       device='cuda:0', grad_fn=<IndexBackward>)"
      ]
     },
     "execution_count": 33,
     "metadata": {},
     "output_type": "execute_result"
    }
   ],
   "source": [
    "cost_stacked[0][mask_tiled]"
   ]
  },
  {
   "cell_type": "code",
   "execution_count": 34,
   "metadata": {},
   "outputs": [
    {
     "ename": "RuntimeError",
     "evalue": "expected device cuda:0 but got device cpu",
     "output_type": "error",
     "traceback": [
      "\u001b[0;31m---------------------------------------------------------------------------\u001b[0m",
      "\u001b[0;31mRuntimeError\u001b[0m                              Traceback (most recent call last)",
      "\u001b[0;32m<ipython-input-34-72774a49bdf4>\u001b[0m in \u001b[0;36m<module>\u001b[0;34m\u001b[0m\n\u001b[0;32m----> 1\u001b[0;31m \u001b[0mF\u001b[0m\u001b[0;34m.\u001b[0m\u001b[0mmse_loss\u001b[0m\u001b[0;34m(\u001b[0m\u001b[0mcost_stacked\u001b[0m\u001b[0;34m[\u001b[0m\u001b[0;36m0\u001b[0m\u001b[0;34m]\u001b[0m\u001b[0;34m[\u001b[0m\u001b[0mmask_tiled\u001b[0m\u001b[0;34m]\u001b[0m\u001b[0;34m,\u001b[0m\u001b[0mblur_stack\u001b[0m\u001b[0;34m[\u001b[0m\u001b[0mmask_tiled\u001b[0m\u001b[0;34m]\u001b[0m\u001b[0;34m,\u001b[0m\u001b[0mreduction\u001b[0m\u001b[0;34m=\u001b[0m\u001b[0;34m'none'\u001b[0m\u001b[0;34m)\u001b[0m\u001b[0;34m\u001b[0m\u001b[0;34m\u001b[0m\u001b[0m\n\u001b[0m",
      "\u001b[0;32m/opt/conda/lib/python3.7/site-packages/torch/nn/functional.py\u001b[0m in \u001b[0;36mmse_loss\u001b[0;34m(input, target, size_average, reduce, reduction)\u001b[0m\n\u001b[1;32m   2541\u001b[0m     \u001b[0;32melse\u001b[0m\u001b[0;34m:\u001b[0m\u001b[0;34m\u001b[0m\u001b[0;34m\u001b[0m\u001b[0m\n\u001b[1;32m   2542\u001b[0m         \u001b[0mexpanded_input\u001b[0m\u001b[0;34m,\u001b[0m \u001b[0mexpanded_target\u001b[0m \u001b[0;34m=\u001b[0m \u001b[0mtorch\u001b[0m\u001b[0;34m.\u001b[0m\u001b[0mbroadcast_tensors\u001b[0m\u001b[0;34m(\u001b[0m\u001b[0minput\u001b[0m\u001b[0;34m,\u001b[0m \u001b[0mtarget\u001b[0m\u001b[0;34m)\u001b[0m\u001b[0;34m\u001b[0m\u001b[0;34m\u001b[0m\u001b[0m\n\u001b[0;32m-> 2543\u001b[0;31m         \u001b[0mret\u001b[0m \u001b[0;34m=\u001b[0m \u001b[0mtorch\u001b[0m\u001b[0;34m.\u001b[0m\u001b[0m_C\u001b[0m\u001b[0;34m.\u001b[0m\u001b[0m_nn\u001b[0m\u001b[0;34m.\u001b[0m\u001b[0mmse_loss\u001b[0m\u001b[0;34m(\u001b[0m\u001b[0mexpanded_input\u001b[0m\u001b[0;34m,\u001b[0m \u001b[0mexpanded_target\u001b[0m\u001b[0;34m,\u001b[0m \u001b[0m_Reduction\u001b[0m\u001b[0;34m.\u001b[0m\u001b[0mget_enum\u001b[0m\u001b[0;34m(\u001b[0m\u001b[0mreduction\u001b[0m\u001b[0;34m)\u001b[0m\u001b[0;34m)\u001b[0m\u001b[0;34m\u001b[0m\u001b[0;34m\u001b[0m\u001b[0m\n\u001b[0m\u001b[1;32m   2544\u001b[0m     \u001b[0;32mreturn\u001b[0m \u001b[0mret\u001b[0m\u001b[0;34m\u001b[0m\u001b[0;34m\u001b[0m\u001b[0m\n\u001b[1;32m   2545\u001b[0m \u001b[0;34m\u001b[0m\u001b[0m\n",
      "\u001b[0;31mRuntimeError\u001b[0m: expected device cuda:0 but got device cpu"
     ]
    }
   ],
   "source": [
    "F.mse_loss(cost_stacked[0][mask_tiled],blur_stack[mask_tiled],reduction='none')"
   ]
  },
  {
   "cell_type": "code",
   "execution_count": 42,
   "metadata": {},
   "outputs": [],
   "source": [
    "def valid(img_stack_in, blur_stack,disp, foc_dist):\n",
    "    model.eval()\n",
    "    img_stack_in=Variable(torch.FloatTensor(img_stack_in))\n",
    "    gt_disp=Variable(torch.FloatTensor(disp))\n",
    "    img_stack,gt_disp,foc_dist,blur_stack=img_stack_in.cuda(),gt_disp.cuda(),foc_dist.cuda(),blur_stack.cuda()\n",
    "\n",
    "    #---------\n",
    "    mask = gt_disp > 0\n",
    "    mask.detach_()\n",
    "    #----\n",
    "    with torch.no_grad():\n",
    "        pred_disp, stds, _ ,cost= model(img_stack, foc_dist)\n",
    "        loss = (F.mse_loss(pred_disp[mask] , gt_disp[mask] , reduction='mean')) # use MSE loss for val\n",
    "\n",
    "    vis = {}\n",
    "    vis['mask'] = mask.type(torch.float).detach().cpu()\n",
    "    vis[\"pred\"] = pred_disp.detach().cpu()\n",
    "\n",
    "    return loss, vis"
   ]
  },
  {
   "cell_type": "code",
   "execution_count": 8,
   "metadata": {},
   "outputs": [],
   "source": [
    "def train(img_stack_in, blur_stack,disp, foc_dist):\n",
    "    model.train()\n",
    "    img_stack_in=Variable(torch.FloatTensor(img_stack_in))\n",
    "    gt_disp=Variable(torch.FloatTensor(disp))\n",
    "    img_stack,gt_disp,foc_dist,blur_stack=img_stack_in.cuda(),gt_disp.cuda(),foc_dist.cuda(),blur_stack.cuda()\n",
    "    focus=1./(blur_stack+1)\n",
    "\n",
    "    #---------\n",
    "    max_val = torch.where(foc_dist>=100, torch.zeros_like(foc_dist), foc_dist) # exclude padding value\n",
    "    min_val = torch.where(foc_dist<=0, torch.ones_like(foc_dist)*10, foc_dist)  # exclude padding value\n",
    "    mask = (gt_disp >= min_val.min(dim=1)[0].view(-1,1,1,1)) & (gt_disp <= max_val.max(dim=1)[0].view(-1,1,1,1)) #\n",
    "    mask_tiled=torch.repeat_interleave(mask,repeats=5,dim=1)\n",
    "    mask.detach_()\n",
    "    mask_tiled.detach_()\n",
    "    #----\n",
    "\n",
    "    optimizer.zero_grad()\n",
    "    beta_scale = 1 # smooth l1 do not have beta in 1.6, so we increase the input to and then scale back -- no significant improve according to our trials\n",
    "    stacked, stds, _ ,cost_stacked= model(img_stack, foc_dist)\n",
    "\n",
    "\n",
    "    floss,bloss=0,0\n",
    "    lvl_w=[8./15, 4./15, 2./15, 1./15]\n",
    "    for i, (pred, std) in enumerate(zip(stacked, stds)):\n",
    "        _cur_floss = F.smooth_l1_loss(pred[mask] * beta_scale, gt_disp[mask]* beta_scale, reduction='none') / beta_scale\n",
    "        floss = floss + lvl_w[i] * _cur_floss.mean()\n",
    "        \n",
    "        _cur_bloss=F.mse_loss(cost_stacked[0][mask_tiled],focus[mask_tiled],reduction='none')\n",
    "        bloss = bloss + lvl_w[i] * _cur_bloss.mean()\n",
    "    bloss=bloss*1e-2\n",
    "    loss=floss+bloss\n",
    "    loss.backward()\n",
    "    torch.nn.utils.clip_grad_norm_(model.parameters(), 0.5)\n",
    "    optimizer.step()\n",
    "    vis={}\n",
    "    vis['pred']=stacked[0].detach().cpu()\n",
    "    vis['mask']=mask.type(torch.float).detach().cpu()\n",
    "    flossvalue=floss.data\n",
    "    blossvalue=bloss.data\n",
    "\n",
    "    del stacked\n",
    "    #del floss\n",
    "    #del bloss\n",
    "    del cost_stacked\n",
    "    return floss,bloss,vis"
   ]
  },
  {
   "cell_type": "code",
   "execution_count": 38,
   "metadata": {},
   "outputs": [],
   "source": [
    "import os\n",
    "import numpy as np\n",
    "from torch.utils.data import Dataset\n",
    "import torchvision\n",
    "import torch\n",
    "from PIL import Image\n",
    "\n",
    "from torchvision import transforms\n",
    "import random\n",
    "import numbers\n",
    "import OpenEXR\n",
    "from os import listdir, mkdir\n",
    "from os.path import isfile, join, isdir\n",
    "import cv2\n",
    "\n",
    "def _abs_val(x):\n",
    "    if isinstance(x, np.ndarray) or isinstance(x, float) or isinstance(x, int):\n",
    "        return np.abs(x)\n",
    "    else:\n",
    "        return x.abs()\n",
    "    \n",
    "# to calculate circle of confusion\n",
    "class CameraLens:\n",
    "    def __init__(self, focal_length, sensor_size_full=(0, 0), resolution=(1, 1), aperture_diameter=None, f_number=None, depth_scale=1):\n",
    "        self.focal_length = focal_length\n",
    "        self.depth_scale = depth_scale\n",
    "        self.sensor_size_full = sensor_size_full\n",
    "\n",
    "        if aperture_diameter is not None:\n",
    "            self.aperture_diameter = aperture_diameter\n",
    "            self.f_number = (focal_length / aperture_diameter) if aperture_diameter != 0 else 0\n",
    "        else:\n",
    "            self.f_number = f_number\n",
    "            self.aperture_diameter = focal_length / f_number\n",
    "\n",
    "        if self.sensor_size_full is not None:\n",
    "            self.resolution = resolution\n",
    "            self.aspect_ratio = resolution[0] / resolution[1]\n",
    "            self.sensor_size = [self.sensor_size_full[0], self.sensor_size_full[0] / self.aspect_ratio]\n",
    "        else:\n",
    "            self.resolution = None\n",
    "            self.aspect_ratio = None\n",
    "            self.sensor_size = None\n",
    "            self.fov = None\n",
    "            self.focal_length_pixel = None\n",
    "\n",
    "    def _get_indep_fac(self, focus_distance):\n",
    "        return (self.aperture_diameter * self.focal_length) / (focus_distance - self.focal_length)\n",
    "\n",
    "    def get_coc(self, focus_distance, depth):\n",
    "        if isinstance(focus_distance, torch.Tensor):\n",
    "            for _ in range(len(depth.shape) - len(focus_distance.shape)):\n",
    "                focus_distance = focus_distance.unsqueeze(-1)\n",
    "\n",
    "        return (_abs_val(depth - focus_distance) / (depth+1e-4)) * self._get_indep_fac(focus_distance)\n",
    "    "
   ]
  },
  {
   "cell_type": "code",
   "execution_count": 37,
   "metadata": {},
   "outputs": [
    {
     "data": {
      "text/plain": [
       "<__main__.CameraLens at 0x7f881dbf9710>"
      ]
     },
     "execution_count": 37,
     "metadata": {},
     "output_type": "execute_result"
    }
   ],
   "source": [
    "camera=CameraLens(2.9*1e-3,f_number=1)\n",
    "camera"
   ]
  },
  {
   "cell_type": "code",
   "execution_count": 1,
   "metadata": {},
   "outputs": [],
   "source": [
    "from __future__ import print_function\n",
    "import argparse\n",
    "import os\n",
    "import random\n",
    "import torch\n",
    "import torch.nn as nn\n",
    "import torch.backends.cudnn as cudnn\n",
    "import torch.optim as optim\n",
    "import torch.utils.data\n",
    "from torch.autograd import Variable\n",
    "import torch.nn.functional as F\n",
    "import time\n",
    "import models\n",
    "from utils import logger, write_log\n",
    "torch.backends.cudnn.benchmark=True\n",
    "from glob import glob\n",
    "import importlib\n",
    "%load_ext autoreload\n",
    "%autoreload 2\n",
    "%matplotlib inline\n",
    "import matplotlib.pyplot as plt\n",
    "from models import DFFNet"
   ]
  },
  {
   "cell_type": "code",
   "execution_count": 2,
   "metadata": {},
   "outputs": [],
   "source": [
    "from dataloader import FoD500Loader\n",
    "from dataloader import DDFF12Loader\n",
    "from dataloader import CameraLens\n",
    "\n",
    "database = '/scratch/lnw8px/depth-from-Focus-Defocus/data/my_ddff_trainVal.h5' \n",
    "DDFF12_train = DDFF12Loader(database, stack_key=\"stack_train\", disp_key=\"disp_train\", n_stack=5,\n",
    "                             min_disp=0.02, max_disp=0.28)\n",
    "DDFF12_val = DDFF12Loader(database, stack_key=\"stack_val\", disp_key=\"disp_val\", n_stack=5,\n",
    "                                  min_disp=0.02, max_disp=0.28, b_test=False)\n",
    "DDFF12_train, DDFF12_val = [DDFF12_train], [DDFF12_val]\n",
    "\n",
    "database = '/scratch/lnw8px/depth-from-Focus-Defocus/defocus-net/data/fs_6/' \n",
    "FoD500_train, FoD500_val = FoD500Loader(database, n_stack=5, scale=1)\n",
    "FoD500_train, FoD500_val =  [FoD500_train], [FoD500_val]\n",
    "\n",
    "dataset_train = torch.utils.data.ConcatDataset(DDFF12_train+FoD500_train)\n",
    "dataset_val = torch.utils.data.ConcatDataset(DDFF12_val) # we use the model perform better on  DDFF12_val\n",
    "\n",
    "TrainImgLoader = torch.utils.data.DataLoader(dataset=dataset_train, num_workers=4, batch_size=20, shuffle=True, drop_last=True)\n",
    "ValImgLoader = torch.utils.data.DataLoader(dataset=dataset_val, num_workers=1, batch_size=12, shuffle=False, drop_last=True)"
   ]
  },
  {
   "cell_type": "code",
   "execution_count": null,
   "metadata": {},
   "outputs": [],
   "source": [
    "camera=CameraLens(9.5*1e-3,f_number=2)\n",
    "camera.get_coc(0.0714, gt_disp.numpy())"
   ]
  },
  {
   "cell_type": "code",
   "execution_count": 33,
   "metadata": {},
   "outputs": [
    {
     "data": {
      "text/plain": [
       "(tensor(0.0667), tensor(1.8936))"
      ]
     },
     "execution_count": 33,
     "metadata": {},
     "output_type": "execute_result"
    }
   ],
   "source": [
    "torch.min(gt_disp),torch.max(gt_disp)"
   ]
  },
  {
   "cell_type": "code",
   "execution_count": 3,
   "metadata": {},
   "outputs": [],
   "source": [
    "for batch_idx, (img_stack, gt_disp,blur,foc_dist) in enumerate(TrainImgLoader):\n",
    "    break"
   ]
  },
  {
   "cell_type": "code",
   "execution_count": 4,
   "metadata": {},
   "outputs": [
    {
     "data": {
      "text/plain": [
       "DataParallel(\n",
       "  (module): DFFNet(\n",
       "    (feature_extraction): FeatExactor(\n",
       "      (encoder): ResNet(\n",
       "        (conv1): Conv2d(3, 64, kernel_size=(7, 7), stride=(2, 2), padding=(3, 3), bias=False)\n",
       "        (bn1): BatchNorm2d(64, eps=1e-05, momentum=0.1, affine=True, track_running_stats=True)\n",
       "        (relu): ReLU(inplace=True)\n",
       "        (maxpool): MaxPool2d(kernel_size=3, stride=2, padding=1, dilation=1, ceil_mode=False)\n",
       "        (layer1): Sequential(\n",
       "          (0): BasicBlock(\n",
       "            (conv1): Conv2d(64, 64, kernel_size=(3, 3), stride=(1, 1), padding=(1, 1), bias=False)\n",
       "            (bn1): BatchNorm2d(64, eps=1e-05, momentum=0.1, affine=True, track_running_stats=True)\n",
       "            (relu): ReLU(inplace=True)\n",
       "            (conv2): Conv2d(64, 64, kernel_size=(3, 3), stride=(1, 1), padding=(1, 1), bias=False)\n",
       "            (bn2): BatchNorm2d(64, eps=1e-05, momentum=0.1, affine=True, track_running_stats=True)\n",
       "          )\n",
       "          (1): BasicBlock(\n",
       "            (conv1): Conv2d(64, 64, kernel_size=(3, 3), stride=(1, 1), padding=(1, 1), bias=False)\n",
       "            (bn1): BatchNorm2d(64, eps=1e-05, momentum=0.1, affine=True, track_running_stats=True)\n",
       "            (relu): ReLU(inplace=True)\n",
       "            (conv2): Conv2d(64, 64, kernel_size=(3, 3), stride=(1, 1), padding=(1, 1), bias=False)\n",
       "            (bn2): BatchNorm2d(64, eps=1e-05, momentum=0.1, affine=True, track_running_stats=True)\n",
       "          )\n",
       "        )\n",
       "        (layer2): Sequential(\n",
       "          (0): BasicBlock(\n",
       "            (conv1): Conv2d(64, 128, kernel_size=(3, 3), stride=(2, 2), padding=(1, 1), bias=False)\n",
       "            (bn1): BatchNorm2d(128, eps=1e-05, momentum=0.1, affine=True, track_running_stats=True)\n",
       "            (relu): ReLU(inplace=True)\n",
       "            (conv2): Conv2d(128, 128, kernel_size=(3, 3), stride=(1, 1), padding=(1, 1), bias=False)\n",
       "            (bn2): BatchNorm2d(128, eps=1e-05, momentum=0.1, affine=True, track_running_stats=True)\n",
       "            (downsample): Sequential(\n",
       "              (0): Conv2d(64, 128, kernel_size=(1, 1), stride=(2, 2), bias=False)\n",
       "              (1): BatchNorm2d(128, eps=1e-05, momentum=0.1, affine=True, track_running_stats=True)\n",
       "            )\n",
       "          )\n",
       "          (1): BasicBlock(\n",
       "            (conv1): Conv2d(128, 128, kernel_size=(3, 3), stride=(1, 1), padding=(1, 1), bias=False)\n",
       "            (bn1): BatchNorm2d(128, eps=1e-05, momentum=0.1, affine=True, track_running_stats=True)\n",
       "            (relu): ReLU(inplace=True)\n",
       "            (conv2): Conv2d(128, 128, kernel_size=(3, 3), stride=(1, 1), padding=(1, 1), bias=False)\n",
       "            (bn2): BatchNorm2d(128, eps=1e-05, momentum=0.1, affine=True, track_running_stats=True)\n",
       "          )\n",
       "        )\n",
       "        (layer3): Sequential(\n",
       "          (0): BasicBlock(\n",
       "            (conv1): Conv2d(128, 256, kernel_size=(3, 3), stride=(2, 2), padding=(1, 1), bias=False)\n",
       "            (bn1): BatchNorm2d(256, eps=1e-05, momentum=0.1, affine=True, track_running_stats=True)\n",
       "            (relu): ReLU(inplace=True)\n",
       "            (conv2): Conv2d(256, 256, kernel_size=(3, 3), stride=(1, 1), padding=(1, 1), bias=False)\n",
       "            (bn2): BatchNorm2d(256, eps=1e-05, momentum=0.1, affine=True, track_running_stats=True)\n",
       "            (downsample): Sequential(\n",
       "              (0): Conv2d(128, 256, kernel_size=(1, 1), stride=(2, 2), bias=False)\n",
       "              (1): BatchNorm2d(256, eps=1e-05, momentum=0.1, affine=True, track_running_stats=True)\n",
       "            )\n",
       "          )\n",
       "          (1): BasicBlock(\n",
       "            (conv1): Conv2d(256, 256, kernel_size=(3, 3), stride=(1, 1), padding=(1, 1), bias=False)\n",
       "            (bn1): BatchNorm2d(256, eps=1e-05, momentum=0.1, affine=True, track_running_stats=True)\n",
       "            (relu): ReLU(inplace=True)\n",
       "            (conv2): Conv2d(256, 256, kernel_size=(3, 3), stride=(1, 1), padding=(1, 1), bias=False)\n",
       "            (bn2): BatchNorm2d(256, eps=1e-05, momentum=0.1, affine=True, track_running_stats=True)\n",
       "          )\n",
       "        )\n",
       "        (layer4): Sequential(\n",
       "          (0): BasicBlock(\n",
       "            (conv1): Conv2d(256, 512, kernel_size=(3, 3), stride=(2, 2), padding=(1, 1), bias=False)\n",
       "            (bn1): BatchNorm2d(512, eps=1e-05, momentum=0.1, affine=True, track_running_stats=True)\n",
       "            (relu): ReLU(inplace=True)\n",
       "            (conv2): Conv2d(512, 512, kernel_size=(3, 3), stride=(1, 1), padding=(1, 1), bias=False)\n",
       "            (bn2): BatchNorm2d(512, eps=1e-05, momentum=0.1, affine=True, track_running_stats=True)\n",
       "            (downsample): Sequential(\n",
       "              (0): Conv2d(256, 512, kernel_size=(1, 1), stride=(2, 2), bias=False)\n",
       "              (1): BatchNorm2d(512, eps=1e-05, momentum=0.1, affine=True, track_running_stats=True)\n",
       "            )\n",
       "          )\n",
       "          (1): BasicBlock(\n",
       "            (conv1): Conv2d(512, 512, kernel_size=(3, 3), stride=(1, 1), padding=(1, 1), bias=False)\n",
       "            (bn1): BatchNorm2d(512, eps=1e-05, momentum=0.1, affine=True, track_running_stats=True)\n",
       "            (relu): ReLU(inplace=True)\n",
       "            (conv2): Conv2d(512, 512, kernel_size=(3, 3), stride=(1, 1), padding=(1, 1), bias=False)\n",
       "            (bn2): BatchNorm2d(512, eps=1e-05, momentum=0.1, affine=True, track_running_stats=True)\n",
       "          )\n",
       "        )\n",
       "        (avgpool): AdaptiveAvgPool2d(output_size=(1, 1))\n",
       "        (fc): Linear(in_features=512, out_features=1000, bias=True)\n",
       "      )\n",
       "      (pyramid_pooling): pyramidPooling(\n",
       "        (path_module_list): ModuleList(\n",
       "          (0): conv2DBatchNormRelu(\n",
       "            (cbr_unit): Sequential(\n",
       "              (0): Conv2d(512, 512, kernel_size=(1, 1), stride=(1, 1), bias=False)\n",
       "              (1): BatchNorm2d(512, eps=1e-05, momentum=0.1, affine=True, track_running_stats=True)\n",
       "              (2): LeakyReLU(negative_slope=0.1, inplace=True)\n",
       "            )\n",
       "          )\n",
       "          (1): conv2DBatchNormRelu(\n",
       "            (cbr_unit): Sequential(\n",
       "              (0): Conv2d(512, 512, kernel_size=(1, 1), stride=(1, 1), bias=False)\n",
       "              (1): BatchNorm2d(512, eps=1e-05, momentum=0.1, affine=True, track_running_stats=True)\n",
       "              (2): LeakyReLU(negative_slope=0.1, inplace=True)\n",
       "            )\n",
       "          )\n",
       "          (2): conv2DBatchNormRelu(\n",
       "            (cbr_unit): Sequential(\n",
       "              (0): Conv2d(512, 512, kernel_size=(1, 1), stride=(1, 1), bias=False)\n",
       "              (1): BatchNorm2d(512, eps=1e-05, momentum=0.1, affine=True, track_running_stats=True)\n",
       "              (2): LeakyReLU(negative_slope=0.1, inplace=True)\n",
       "            )\n",
       "          )\n",
       "          (3): conv2DBatchNormRelu(\n",
       "            (cbr_unit): Sequential(\n",
       "              (0): Conv2d(512, 512, kernel_size=(1, 1), stride=(1, 1), bias=False)\n",
       "              (1): BatchNorm2d(512, eps=1e-05, momentum=0.1, affine=True, track_running_stats=True)\n",
       "              (2): LeakyReLU(negative_slope=0.1, inplace=True)\n",
       "            )\n",
       "          )\n",
       "        )\n",
       "      )\n",
       "      (upconv6): Sequential(\n",
       "        (0): Upsample(scale_factor=2.0, mode=nearest)\n",
       "        (1): conv2DBatchNormRelu(\n",
       "          (cbr_unit): Sequential(\n",
       "            (0): Conv2d(512, 256, kernel_size=(3, 3), stride=(1, 1), padding=(1, 1), bias=False)\n",
       "            (1): BatchNorm2d(256, eps=1e-05, momentum=0.1, affine=True, track_running_stats=True)\n",
       "            (2): LeakyReLU(negative_slope=0.1, inplace=True)\n",
       "          )\n",
       "        )\n",
       "      )\n",
       "      (iconv5): conv2DBatchNormRelu(\n",
       "        (cbr_unit): Sequential(\n",
       "          (0): Conv2d(512, 256, kernel_size=(3, 3), stride=(1, 1), padding=(1, 1), bias=False)\n",
       "          (1): BatchNorm2d(256, eps=1e-05, momentum=0.1, affine=True, track_running_stats=True)\n",
       "          (2): LeakyReLU(negative_slope=0.1, inplace=True)\n",
       "        )\n",
       "      )\n",
       "      (upconv5): Sequential(\n",
       "        (0): Upsample(scale_factor=2.0, mode=nearest)\n",
       "        (1): conv2DBatchNormRelu(\n",
       "          (cbr_unit): Sequential(\n",
       "            (0): Conv2d(256, 128, kernel_size=(3, 3), stride=(1, 1), padding=(1, 1), bias=False)\n",
       "            (1): BatchNorm2d(128, eps=1e-05, momentum=0.1, affine=True, track_running_stats=True)\n",
       "            (2): LeakyReLU(negative_slope=0.1, inplace=True)\n",
       "          )\n",
       "        )\n",
       "      )\n",
       "      (iconv4): conv2DBatchNormRelu(\n",
       "        (cbr_unit): Sequential(\n",
       "          (0): Conv2d(256, 128, kernel_size=(3, 3), stride=(1, 1), padding=(1, 1), bias=False)\n",
       "          (1): BatchNorm2d(128, eps=1e-05, momentum=0.1, affine=True, track_running_stats=True)\n",
       "          (2): LeakyReLU(negative_slope=0.1, inplace=True)\n",
       "        )\n",
       "      )\n",
       "      (upconv4): Sequential(\n",
       "        (0): Upsample(scale_factor=2.0, mode=nearest)\n",
       "        (1): conv2DBatchNormRelu(\n",
       "          (cbr_unit): Sequential(\n",
       "            (0): Conv2d(128, 64, kernel_size=(3, 3), stride=(1, 1), padding=(1, 1), bias=False)\n",
       "            (1): BatchNorm2d(64, eps=1e-05, momentum=0.1, affine=True, track_running_stats=True)\n",
       "            (2): LeakyReLU(negative_slope=0.1, inplace=True)\n",
       "          )\n",
       "        )\n",
       "      )\n",
       "      (iconv3): conv2DBatchNormRelu(\n",
       "        (cbr_unit): Sequential(\n",
       "          (0): Conv2d(128, 64, kernel_size=(3, 3), stride=(1, 1), padding=(1, 1), bias=False)\n",
       "          (1): BatchNorm2d(64, eps=1e-05, momentum=0.1, affine=True, track_running_stats=True)\n",
       "          (2): LeakyReLU(negative_slope=0.1, inplace=True)\n",
       "        )\n",
       "      )\n",
       "      (proj6): conv2DBatchNormRelu(\n",
       "        (cbr_unit): Sequential(\n",
       "          (0): Conv2d(512, 128, kernel_size=(1, 1), stride=(1, 1), bias=False)\n",
       "          (1): BatchNorm2d(128, eps=1e-05, momentum=0.1, affine=True, track_running_stats=True)\n",
       "          (2): LeakyReLU(negative_slope=0.1, inplace=True)\n",
       "        )\n",
       "      )\n",
       "      (proj5): conv2DBatchNormRelu(\n",
       "        (cbr_unit): Sequential(\n",
       "          (0): Conv2d(256, 64, kernel_size=(1, 1), stride=(1, 1), bias=False)\n",
       "          (1): BatchNorm2d(64, eps=1e-05, momentum=0.1, affine=True, track_running_stats=True)\n",
       "          (2): LeakyReLU(negative_slope=0.1, inplace=True)\n",
       "        )\n",
       "      )\n",
       "      (proj4): conv2DBatchNormRelu(\n",
       "        (cbr_unit): Sequential(\n",
       "          (0): Conv2d(128, 32, kernel_size=(1, 1), stride=(1, 1), bias=False)\n",
       "          (1): BatchNorm2d(32, eps=1e-05, momentum=0.1, affine=True, track_running_stats=True)\n",
       "          (2): LeakyReLU(negative_slope=0.1, inplace=True)\n",
       "        )\n",
       "      )\n",
       "      (proj3): conv2DBatchNormRelu(\n",
       "        (cbr_unit): Sequential(\n",
       "          (0): Conv2d(64, 16, kernel_size=(1, 1), stride=(1, 1), bias=False)\n",
       "          (1): BatchNorm2d(16, eps=1e-05, momentum=0.1, affine=True, track_running_stats=True)\n",
       "          (2): LeakyReLU(negative_slope=0.1, inplace=True)\n",
       "        )\n",
       "      )\n",
       "    )\n",
       "    (decoder3): decoderBlock(\n",
       "      (convs): Sequential(\n",
       "        (0): sepConv3dBlock(\n",
       "          (conv1): Sequential(\n",
       "            (0): Conv3d(32, 32, kernel_size=(3, 3, 3), stride=(1, 1, 1), padding=(1, 1, 1), bias=False)\n",
       "            (1): BatchNorm3d(32, eps=1e-05, momentum=0.1, affine=True, track_running_stats=True)\n",
       "          )\n",
       "          (conv2): Sequential(\n",
       "            (0): Conv3d(32, 32, kernel_size=(3, 3, 3), stride=(1, 1, 1), padding=(1, 1, 1), bias=False)\n",
       "            (1): BatchNorm3d(32, eps=1e-05, momentum=0.1, affine=True, track_running_stats=True)\n",
       "          )\n",
       "        )\n",
       "        (1): sepConv3dBlock(\n",
       "          (conv1): Sequential(\n",
       "            (0): Conv3d(32, 32, kernel_size=(3, 3, 3), stride=(1, 1, 1), padding=(1, 1, 1), bias=False)\n",
       "            (1): BatchNorm3d(32, eps=1e-05, momentum=0.1, affine=True, track_running_stats=True)\n",
       "          )\n",
       "          (conv2): Sequential(\n",
       "            (0): Conv3d(32, 32, kernel_size=(3, 3, 3), stride=(1, 1, 1), padding=(1, 1, 1), bias=False)\n",
       "            (1): BatchNorm3d(32, eps=1e-05, momentum=0.1, affine=True, track_running_stats=True)\n",
       "          )\n",
       "        )\n",
       "      )\n",
       "      (classify): Sequential(\n",
       "        (0): Sequential(\n",
       "          (0): Conv3d(32, 32, kernel_size=(3, 3, 3), stride=(1, 1, 1), padding=(1, 1, 1), bias=False)\n",
       "          (1): BatchNorm3d(32, eps=1e-05, momentum=0.1, affine=True, track_running_stats=True)\n",
       "        )\n",
       "        (1): ReLU(inplace=True)\n",
       "        (2): Sequential(\n",
       "          (0): Conv3d(32, 1, kernel_size=(3, 3, 3), stride=(1, 1, 1), padding=(1, 1, 1))\n",
       "        )\n",
       "      )\n",
       "    )\n",
       "    (decoder4): decoderBlock(\n",
       "      (convs): Sequential(\n",
       "        (0): sepConv3dBlock(\n",
       "          (downsample): projfeat3d(\n",
       "            (conv1): Conv2d(64, 32, kernel_size=(1, 1), stride=(1, 1), bias=False)\n",
       "            (bn): BatchNorm2d(32, eps=1e-05, momentum=0.1, affine=True, track_running_stats=True)\n",
       "          )\n",
       "          (conv1): Sequential(\n",
       "            (0): Conv3d(64, 32, kernel_size=(3, 3, 3), stride=(1, 1, 1), padding=(1, 1, 1), bias=False)\n",
       "            (1): BatchNorm3d(32, eps=1e-05, momentum=0.1, affine=True, track_running_stats=True)\n",
       "          )\n",
       "          (conv2): Sequential(\n",
       "            (0): Conv3d(32, 32, kernel_size=(3, 3, 3), stride=(1, 1, 1), padding=(1, 1, 1), bias=False)\n",
       "            (1): BatchNorm3d(32, eps=1e-05, momentum=0.1, affine=True, track_running_stats=True)\n",
       "          )\n",
       "        )\n",
       "        (1): sepConv3dBlock(\n",
       "          (conv1): Sequential(\n",
       "            (0): Conv3d(32, 32, kernel_size=(3, 3, 3), stride=(1, 1, 1), padding=(1, 1, 1), bias=False)\n",
       "            (1): BatchNorm3d(32, eps=1e-05, momentum=0.1, affine=True, track_running_stats=True)\n",
       "          )\n",
       "          (conv2): Sequential(\n",
       "            (0): Conv3d(32, 32, kernel_size=(3, 3, 3), stride=(1, 1, 1), padding=(1, 1, 1), bias=False)\n",
       "            (1): BatchNorm3d(32, eps=1e-05, momentum=0.1, affine=True, track_running_stats=True)\n",
       "          )\n",
       "        )\n",
       "      )\n",
       "      (classify): Sequential(\n",
       "        (0): Sequential(\n",
       "          (0): Conv3d(32, 32, kernel_size=(3, 3, 3), stride=(1, 1, 1), padding=(1, 1, 1), bias=False)\n",
       "          (1): BatchNorm3d(32, eps=1e-05, momentum=0.1, affine=True, track_running_stats=True)\n",
       "        )\n",
       "        (1): ReLU(inplace=True)\n",
       "        (2): Sequential(\n",
       "          (0): Conv3d(32, 1, kernel_size=(3, 3, 3), stride=(1, 1, 1), padding=(1, 1, 1))\n",
       "        )\n",
       "      )\n",
       "      (up): Sequential(\n",
       "        (0): Upsample(scale_factor=(1.0, 2.0, 2.0), mode=trilinear)\n",
       "        (1): Sequential(\n",
       "          (0): Conv3d(32, 16, kernel_size=(3, 3, 3), stride=(1, 1, 1), padding=(1, 1, 1), bias=False)\n",
       "          (1): BatchNorm3d(16, eps=1e-05, momentum=0.1, affine=True, track_running_stats=True)\n",
       "        )\n",
       "        (2): ReLU(inplace=True)\n",
       "      )\n",
       "    )\n",
       "    (decoder5): decoderBlock(\n",
       "      (convs): Sequential(\n",
       "        (0): sepConv3dBlock(\n",
       "          (downsample): projfeat3d(\n",
       "            (conv1): Conv2d(128, 64, kernel_size=(1, 1), stride=(1, 1), bias=False)\n",
       "            (bn): BatchNorm2d(64, eps=1e-05, momentum=0.1, affine=True, track_running_stats=True)\n",
       "          )\n",
       "          (conv1): Sequential(\n",
       "            (0): Conv3d(128, 64, kernel_size=(3, 3, 3), stride=(1, 1, 1), padding=(1, 1, 1), bias=False)\n",
       "            (1): BatchNorm3d(64, eps=1e-05, momentum=0.1, affine=True, track_running_stats=True)\n",
       "          )\n",
       "          (conv2): Sequential(\n",
       "            (0): Conv3d(64, 64, kernel_size=(3, 3, 3), stride=(1, 1, 1), padding=(1, 1, 1), bias=False)\n",
       "            (1): BatchNorm3d(64, eps=1e-05, momentum=0.1, affine=True, track_running_stats=True)\n",
       "          )\n",
       "        )\n",
       "        (1): sepConv3dBlock(\n",
       "          (conv1): Sequential(\n",
       "            (0): Conv3d(64, 64, kernel_size=(3, 3, 3), stride=(1, 1, 1), padding=(1, 1, 1), bias=False)\n",
       "            (1): BatchNorm3d(64, eps=1e-05, momentum=0.1, affine=True, track_running_stats=True)\n",
       "          )\n",
       "          (conv2): Sequential(\n",
       "            (0): Conv3d(64, 64, kernel_size=(3, 3, 3), stride=(1, 1, 1), padding=(1, 1, 1), bias=False)\n",
       "            (1): BatchNorm3d(64, eps=1e-05, momentum=0.1, affine=True, track_running_stats=True)\n",
       "          )\n",
       "        )\n",
       "      )\n",
       "      (classify): Sequential(\n",
       "        (0): Sequential(\n",
       "          (0): Conv3d(64, 64, kernel_size=(3, 3, 3), stride=(1, 1, 1), padding=(1, 1, 1), bias=False)\n",
       "          (1): BatchNorm3d(64, eps=1e-05, momentum=0.1, affine=True, track_running_stats=True)\n",
       "        )\n",
       "        (1): ReLU(inplace=True)\n",
       "        (2): Sequential(\n",
       "          (0): Conv3d(64, 1, kernel_size=(3, 3, 3), stride=(1, 1, 1), padding=(1, 1, 1))\n",
       "        )\n",
       "      )\n",
       "      (up): Sequential(\n",
       "        (0): Upsample(scale_factor=(1.0, 2.0, 2.0), mode=trilinear)\n",
       "        (1): Sequential(\n",
       "          (0): Conv3d(64, 32, kernel_size=(3, 3, 3), stride=(1, 1, 1), padding=(1, 1, 1), bias=False)\n",
       "          (1): BatchNorm3d(32, eps=1e-05, momentum=0.1, affine=True, track_running_stats=True)\n",
       "        )\n",
       "        (2): ReLU(inplace=True)\n",
       "      )\n",
       "      (pool_convs): ModuleList(\n",
       "        (0): Sequential(\n",
       "          (0): Conv3d(64, 64, kernel_size=(1, 1, 1), stride=(1, 1, 1), bias=False)\n",
       "          (1): BatchNorm3d(64, eps=1e-05, momentum=0.1, affine=True, track_running_stats=True)\n",
       "        )\n",
       "        (1): Sequential(\n",
       "          (0): Conv3d(64, 64, kernel_size=(1, 1, 1), stride=(1, 1, 1), bias=False)\n",
       "          (1): BatchNorm3d(64, eps=1e-05, momentum=0.1, affine=True, track_running_stats=True)\n",
       "        )\n",
       "        (2): Sequential(\n",
       "          (0): Conv3d(64, 64, kernel_size=(1, 1, 1), stride=(1, 1, 1), bias=False)\n",
       "          (1): BatchNorm3d(64, eps=1e-05, momentum=0.1, affine=True, track_running_stats=True)\n",
       "        )\n",
       "        (3): Sequential(\n",
       "          (0): Conv3d(64, 64, kernel_size=(1, 1, 1), stride=(1, 1, 1), bias=False)\n",
       "          (1): BatchNorm3d(64, eps=1e-05, momentum=0.1, affine=True, track_running_stats=True)\n",
       "        )\n",
       "      )\n",
       "    )\n",
       "    (decoder6): decoderBlock(\n",
       "      (convs): Sequential(\n",
       "        (0): sepConv3dBlock(\n",
       "          (conv1): Sequential(\n",
       "            (0): Conv3d(128, 128, kernel_size=(3, 3, 3), stride=(1, 1, 1), padding=(1, 1, 1), bias=False)\n",
       "            (1): BatchNorm3d(128, eps=1e-05, momentum=0.1, affine=True, track_running_stats=True)\n",
       "          )\n",
       "          (conv2): Sequential(\n",
       "            (0): Conv3d(128, 128, kernel_size=(3, 3, 3), stride=(1, 1, 1), padding=(1, 1, 1), bias=False)\n",
       "            (1): BatchNorm3d(128, eps=1e-05, momentum=0.1, affine=True, track_running_stats=True)\n",
       "          )\n",
       "        )\n",
       "        (1): sepConv3dBlock(\n",
       "          (conv1): Sequential(\n",
       "            (0): Conv3d(128, 128, kernel_size=(3, 3, 3), stride=(1, 1, 1), padding=(1, 1, 1), bias=False)\n",
       "            (1): BatchNorm3d(128, eps=1e-05, momentum=0.1, affine=True, track_running_stats=True)\n",
       "          )\n",
       "          (conv2): Sequential(\n",
       "            (0): Conv3d(128, 128, kernel_size=(3, 3, 3), stride=(1, 1, 1), padding=(1, 1, 1), bias=False)\n",
       "            (1): BatchNorm3d(128, eps=1e-05, momentum=0.1, affine=True, track_running_stats=True)\n",
       "          )\n",
       "        )\n",
       "      )\n",
       "      (classify): Sequential(\n",
       "        (0): Sequential(\n",
       "          (0): Conv3d(128, 128, kernel_size=(3, 3, 3), stride=(1, 1, 1), padding=(1, 1, 1), bias=False)\n",
       "          (1): BatchNorm3d(128, eps=1e-05, momentum=0.1, affine=True, track_running_stats=True)\n",
       "        )\n",
       "        (1): ReLU(inplace=True)\n",
       "        (2): Sequential(\n",
       "          (0): Conv3d(128, 1, kernel_size=(3, 3, 3), stride=(1, 1, 1), padding=(1, 1, 1))\n",
       "        )\n",
       "      )\n",
       "      (up): Sequential(\n",
       "        (0): Upsample(scale_factor=(1.0, 2.0, 2.0), mode=trilinear)\n",
       "        (1): Sequential(\n",
       "          (0): Conv3d(128, 64, kernel_size=(3, 3, 3), stride=(1, 1, 1), padding=(1, 1, 1), bias=False)\n",
       "          (1): BatchNorm3d(64, eps=1e-05, momentum=0.1, affine=True, track_running_stats=True)\n",
       "        )\n",
       "        (2): ReLU(inplace=True)\n",
       "      )\n",
       "      (pool_convs): ModuleList(\n",
       "        (0): Sequential(\n",
       "          (0): Conv3d(128, 128, kernel_size=(1, 1, 1), stride=(1, 1, 1), bias=False)\n",
       "          (1): BatchNorm3d(128, eps=1e-05, momentum=0.1, affine=True, track_running_stats=True)\n",
       "        )\n",
       "        (1): Sequential(\n",
       "          (0): Conv3d(128, 128, kernel_size=(1, 1, 1), stride=(1, 1, 1), bias=False)\n",
       "          (1): BatchNorm3d(128, eps=1e-05, momentum=0.1, affine=True, track_running_stats=True)\n",
       "        )\n",
       "        (2): Sequential(\n",
       "          (0): Conv3d(128, 128, kernel_size=(1, 1, 1), stride=(1, 1, 1), bias=False)\n",
       "          (1): BatchNorm3d(128, eps=1e-05, momentum=0.1, affine=True, track_running_stats=True)\n",
       "        )\n",
       "        (3): Sequential(\n",
       "          (0): Conv3d(128, 128, kernel_size=(1, 1, 1), stride=(1, 1, 1), bias=False)\n",
       "          (1): BatchNorm3d(128, eps=1e-05, momentum=0.1, affine=True, track_running_stats=True)\n",
       "        )\n",
       "      )\n",
       "    )\n",
       "    (disp_reg): disparityregression()\n",
       "    (depthNet): depthDecoder(\n",
       "      (sm): Softmax(dim=1)\n",
       "      (convs): Sequential(\n",
       "        (0): Conv2d(10, 64, kernel_size=(3, 3), stride=(1, 1), bias=False)\n",
       "        (1): Upsample(size=(224, 224), mode=nearest)\n",
       "        (2): Conv2d(64, 1, kernel_size=(3, 3), stride=(1, 1), bias=False)\n",
       "        (3): Upsample(size=(224, 224), mode=nearest)\n",
       "      )\n",
       "    )\n",
       "    (depthConfNet): depthDecoder(\n",
       "      (sm): Softmax(dim=1)\n",
       "      (convs): Sequential(\n",
       "        (0): Conv2d(5, 16, kernel_size=(3, 3), stride=(1, 1), bias=False)\n",
       "        (1): MaxPool2d(kernel_size=(3, 3), stride=(2, 2), padding=0, dilation=1, ceil_mode=False)\n",
       "        (2): Upsample(size=(224, 224), mode=nearest)\n",
       "        (3): Conv2d(16, 2, kernel_size=(3, 3), stride=(1, 1), bias=False)\n",
       "        (4): MaxPool2d(kernel_size=(3, 3), stride=(2, 2), padding=0, dilation=1, ceil_mode=False)\n",
       "        (5): Upsample(size=(224, 224), mode=nearest)\n",
       "        (6): Softmax(dim=1)\n",
       "      )\n",
       "    )\n",
       "  )\n",
       ")"
      ]
     },
     "execution_count": 4,
     "metadata": {},
     "output_type": "execute_result"
    }
   ],
   "source": [
    "model = DFFNet(clean=False,level=4, use_diff=True,dkernel=(3,3),dchlist=[10,64,1])\n",
    "model = nn.DataParallel(model)\n",
    "model.cuda()"
   ]
  },
  {
   "cell_type": "code",
   "execution_count": 5,
   "metadata": {
    "scrolled": true
   },
   "outputs": [
    {
     "name": "stderr",
     "output_type": "stream",
     "text": [
      "/opt/conda/lib/python3.7/site-packages/torch/nn/functional.py:2796: UserWarning: nn.functional.upsample is deprecated. Use nn.functional.interpolate instead.\n",
      "  warnings.warn(\"nn.functional.upsample is deprecated. Use nn.functional.interpolate instead.\")\n",
      "/opt/conda/lib/python3.7/site-packages/torch/nn/functional.py:2973: UserWarning: Default upsampling behavior when mode=bilinear is changed to align_corners=False since 0.4.0. Please specify align_corners=True if the old behavior is desired. See the documentation of nn.Upsample for details.\n",
      "  \"See the documentation of nn.Upsample for details.\".format(mode))\n",
      "/opt/conda/lib/python3.7/site-packages/torch/nn/functional.py:2973: UserWarning: Default upsampling behavior when mode=trilinear is changed to align_corners=False since 0.4.0. Please specify align_corners=True if the old behavior is desired. See the documentation of nn.Upsample for details.\n",
      "  \"See the documentation of nn.Upsample for details.\".format(mode))\n"
     ]
    }
   ],
   "source": [
    "model.eval()\n",
    "img_stack_in=Variable(torch.FloatTensor(img_stack))\n",
    "gt_disp=Variable(torch.FloatTensor(gt_disp))\n",
    "img_stack,gt_disp,foc_dist,blur_stack=img_stack_in.cuda(),gt_disp.cuda(),foc_dist.cuda(),blur.cuda()\n",
    "focus=1./(blur_stack+1)\n",
    "\n",
    "beta_scale = 1 # smooth l1 do not have beta in 1.6, so we increase the input to and then scale back -- no significant improve according to our trials\n",
    "stacked, stds, _ ,cost_stacked,depth,conf= model(img_stack, foc_dist)"
   ]
  },
  {
   "cell_type": "code",
   "execution_count": 6,
   "metadata": {},
   "outputs": [
    {
     "data": {
      "text/plain": [
       "tensor([[[[1.0000e+00, 1.0000e+00, 1.0000e+00,  ..., 2.4022e-01,\n",
       "           5.2960e-01, 5.2960e-01],\n",
       "          [1.0000e+00, 1.0000e+00, 1.0000e+00,  ..., 2.4022e-01,\n",
       "           5.2960e-01, 5.2960e-01],\n",
       "          [1.0000e+00, 1.0000e+00, 1.0000e+00,  ..., 2.4022e-01,\n",
       "           5.2960e-01, 5.2960e-01],\n",
       "          ...,\n",
       "          [1.0000e+00, 1.0000e+00, 1.0000e+00,  ..., 5.7658e-01,\n",
       "           1.0000e+00, 1.0000e+00],\n",
       "          [1.0000e+00, 1.0000e+00, 1.0000e+00,  ..., 7.5802e-01,\n",
       "           1.0000e+00, 1.0000e+00],\n",
       "          [1.0000e+00, 1.0000e+00, 1.0000e+00,  ..., 7.5802e-01,\n",
       "           1.0000e+00, 1.0000e+00]],\n",
       "\n",
       "         [[1.9382e-21, 1.9382e-21, 1.9382e-21,  ..., 7.5978e-01,\n",
       "           4.7040e-01, 4.7040e-01],\n",
       "          [1.9382e-21, 1.9382e-21, 1.9382e-21,  ..., 7.5978e-01,\n",
       "           4.7040e-01, 4.7040e-01],\n",
       "          [1.9382e-21, 1.9382e-21, 1.9382e-21,  ..., 7.5978e-01,\n",
       "           4.7040e-01, 4.7040e-01],\n",
       "          ...,\n",
       "          [1.2458e-21, 1.2458e-21, 1.2458e-21,  ..., 4.2342e-01,\n",
       "           3.1409e-07, 3.1409e-07],\n",
       "          [4.9206e-35, 4.9206e-35, 4.9206e-35,  ..., 2.4198e-01,\n",
       "           1.8576e-06, 1.8576e-06],\n",
       "          [4.9206e-35, 4.9206e-35, 4.9206e-35,  ..., 2.4198e-01,\n",
       "           1.8576e-06, 1.8576e-06]]],\n",
       "\n",
       "\n",
       "        [[[1.0000e+00, 1.0000e+00, 1.0000e+00,  ..., 2.1787e-01,\n",
       "           2.6005e-01, 2.6005e-01],\n",
       "          [1.0000e+00, 1.0000e+00, 1.0000e+00,  ..., 2.1787e-01,\n",
       "           2.6005e-01, 2.6005e-01],\n",
       "          [1.0000e+00, 1.0000e+00, 1.0000e+00,  ..., 2.1787e-01,\n",
       "           2.6005e-01, 2.6005e-01],\n",
       "          ...,\n",
       "          [1.0000e+00, 1.0000e+00, 1.0000e+00,  ..., 3.3847e-01,\n",
       "           6.9737e-01, 6.9737e-01],\n",
       "          [1.0000e+00, 1.0000e+00, 1.0000e+00,  ..., 3.8289e-01,\n",
       "           9.8070e-14, 9.8070e-14],\n",
       "          [1.0000e+00, 1.0000e+00, 1.0000e+00,  ..., 3.8289e-01,\n",
       "           9.8070e-14, 9.8070e-14]],\n",
       "\n",
       "         [[3.1429e-17, 3.1429e-17, 3.1429e-17,  ..., 7.8213e-01,\n",
       "           7.3995e-01, 7.3995e-01],\n",
       "          [3.1429e-17, 3.1429e-17, 3.1429e-17,  ..., 7.8213e-01,\n",
       "           7.3995e-01, 7.3995e-01],\n",
       "          [3.1429e-17, 3.1429e-17, 3.1429e-17,  ..., 7.8213e-01,\n",
       "           7.3995e-01, 7.3995e-01],\n",
       "          ...,\n",
       "          [2.1346e-30, 2.1346e-30, 2.1346e-30,  ..., 6.6153e-01,\n",
       "           3.0263e-01, 3.0263e-01],\n",
       "          [9.6160e-34, 9.6160e-34, 9.6160e-34,  ..., 6.1711e-01,\n",
       "           1.0000e+00, 1.0000e+00],\n",
       "          [9.6160e-34, 9.6160e-34, 9.6160e-34,  ..., 6.1711e-01,\n",
       "           1.0000e+00, 1.0000e+00]]],\n",
       "\n",
       "\n",
       "        [[[1.0000e+00, 1.0000e+00, 1.0000e+00,  ..., 2.0301e-01,\n",
       "           6.3135e-01, 6.3135e-01],\n",
       "          [1.0000e+00, 1.0000e+00, 1.0000e+00,  ..., 2.0301e-01,\n",
       "           6.3135e-01, 6.3135e-01],\n",
       "          [1.0000e+00, 1.0000e+00, 1.0000e+00,  ..., 2.0301e-01,\n",
       "           6.3135e-01, 6.3135e-01],\n",
       "          ...,\n",
       "          [1.0000e+00, 1.0000e+00, 1.0000e+00,  ..., 2.9838e-01,\n",
       "           7.5701e-01, 7.5701e-01],\n",
       "          [1.0000e+00, 1.0000e+00, 1.0000e+00,  ..., 3.6947e-01,\n",
       "           1.0000e+00, 1.0000e+00],\n",
       "          [1.0000e+00, 1.0000e+00, 1.0000e+00,  ..., 3.6947e-01,\n",
       "           1.0000e+00, 1.0000e+00]],\n",
       "\n",
       "         [[0.0000e+00, 0.0000e+00, 0.0000e+00,  ..., 7.9699e-01,\n",
       "           3.6865e-01, 3.6865e-01],\n",
       "          [0.0000e+00, 0.0000e+00, 0.0000e+00,  ..., 7.9699e-01,\n",
       "           3.6865e-01, 3.6865e-01],\n",
       "          [0.0000e+00, 0.0000e+00, 0.0000e+00,  ..., 7.9699e-01,\n",
       "           3.6865e-01, 3.6865e-01],\n",
       "          ...,\n",
       "          [2.9452e-34, 2.9452e-34, 2.9452e-34,  ..., 7.0162e-01,\n",
       "           2.4299e-01, 2.4299e-01],\n",
       "          [1.3780e-37, 1.3780e-37, 1.3780e-37,  ..., 6.3053e-01,\n",
       "           2.9562e-21, 2.9562e-21],\n",
       "          [1.3780e-37, 1.3780e-37, 1.3780e-37,  ..., 6.3053e-01,\n",
       "           2.9562e-21, 2.9562e-21]]],\n",
       "\n",
       "\n",
       "        ...,\n",
       "\n",
       "\n",
       "        [[[1.0000e+00, 1.0000e+00, 1.0000e+00,  ..., 2.0436e-01,\n",
       "           2.5406e-01, 2.5406e-01],\n",
       "          [1.0000e+00, 1.0000e+00, 1.0000e+00,  ..., 2.0436e-01,\n",
       "           2.5406e-01, 2.5406e-01],\n",
       "          [1.0000e+00, 1.0000e+00, 1.0000e+00,  ..., 2.0436e-01,\n",
       "           2.5406e-01, 2.5406e-01],\n",
       "          ...,\n",
       "          [1.0000e+00, 1.0000e+00, 1.0000e+00,  ..., 3.1677e-01,\n",
       "           1.4542e-01, 1.4542e-01],\n",
       "          [1.0000e+00, 1.0000e+00, 1.0000e+00,  ..., 3.8240e-01,\n",
       "           3.6925e-01, 3.6925e-01],\n",
       "          [1.0000e+00, 1.0000e+00, 1.0000e+00,  ..., 3.8240e-01,\n",
       "           3.6925e-01, 3.6925e-01]],\n",
       "\n",
       "         [[2.7202e-18, 2.7202e-18, 2.7202e-18,  ..., 7.9564e-01,\n",
       "           7.4594e-01, 7.4594e-01],\n",
       "          [2.7202e-18, 2.7202e-18, 2.7202e-18,  ..., 7.9564e-01,\n",
       "           7.4594e-01, 7.4594e-01],\n",
       "          [2.7202e-18, 2.7202e-18, 2.7202e-18,  ..., 7.9564e-01,\n",
       "           7.4594e-01, 7.4594e-01],\n",
       "          ...,\n",
       "          [1.1931e-06, 1.1931e-06, 1.1931e-06,  ..., 6.8323e-01,\n",
       "           8.5458e-01, 8.5458e-01],\n",
       "          [1.1931e-06, 1.1931e-06, 1.1931e-06,  ..., 6.1760e-01,\n",
       "           6.3075e-01, 6.3075e-01],\n",
       "          [1.1931e-06, 1.1931e-06, 1.1931e-06,  ..., 6.1760e-01,\n",
       "           6.3075e-01, 6.3075e-01]]],\n",
       "\n",
       "\n",
       "        [[[1.0000e+00, 1.0000e+00, 1.0000e+00,  ..., 2.1513e-01,\n",
       "           2.4057e-01, 2.4057e-01],\n",
       "          [1.0000e+00, 1.0000e+00, 1.0000e+00,  ..., 2.1513e-01,\n",
       "           2.4057e-01, 2.4057e-01],\n",
       "          [1.0000e+00, 1.0000e+00, 1.0000e+00,  ..., 2.1513e-01,\n",
       "           2.4057e-01, 2.4057e-01],\n",
       "          ...,\n",
       "          [1.0000e+00, 1.0000e+00, 1.0000e+00,  ..., 1.0000e+00,\n",
       "           1.0000e+00, 1.0000e+00],\n",
       "          [1.0000e+00, 1.0000e+00, 1.0000e+00,  ..., 3.6665e-01,\n",
       "           1.4299e-02, 1.4299e-02],\n",
       "          [1.0000e+00, 1.0000e+00, 1.0000e+00,  ..., 3.6665e-01,\n",
       "           1.4299e-02, 1.4299e-02]],\n",
       "\n",
       "         [[4.3028e-36, 4.3028e-36, 4.3028e-36,  ..., 7.8487e-01,\n",
       "           7.5943e-01, 7.5943e-01],\n",
       "          [4.3028e-36, 4.3028e-36, 4.3028e-36,  ..., 7.8487e-01,\n",
       "           7.5943e-01, 7.5943e-01],\n",
       "          [4.3028e-36, 4.3028e-36, 4.3028e-36,  ..., 7.8487e-01,\n",
       "           7.5943e-01, 7.5943e-01],\n",
       "          ...,\n",
       "          [4.6764e-08, 4.6764e-08, 4.6764e-08,  ..., 4.4921e-16,\n",
       "           2.5372e-33, 2.5372e-33],\n",
       "          [1.0390e-11, 1.0390e-11, 1.0390e-11,  ..., 6.3335e-01,\n",
       "           9.8570e-01, 9.8570e-01],\n",
       "          [1.0390e-11, 1.0390e-11, 1.0390e-11,  ..., 6.3335e-01,\n",
       "           9.8570e-01, 9.8570e-01]]],\n",
       "\n",
       "\n",
       "        [[[1.0000e+00, 1.0000e+00, 1.0000e+00,  ..., 1.9712e-01,\n",
       "           2.2437e-01, 2.2437e-01],\n",
       "          [1.0000e+00, 1.0000e+00, 1.0000e+00,  ..., 1.9712e-01,\n",
       "           2.2437e-01, 2.2437e-01],\n",
       "          [1.0000e+00, 1.0000e+00, 1.0000e+00,  ..., 1.9712e-01,\n",
       "           2.2437e-01, 2.2437e-01],\n",
       "          ...,\n",
       "          [1.0000e+00, 1.0000e+00, 1.0000e+00,  ..., 9.5651e-01,\n",
       "           1.0000e+00, 1.0000e+00],\n",
       "          [1.0000e+00, 1.0000e+00, 1.0000e+00,  ..., 7.8774e-01,\n",
       "           1.0000e+00, 1.0000e+00],\n",
       "          [1.0000e+00, 1.0000e+00, 1.0000e+00,  ..., 7.8774e-01,\n",
       "           1.0000e+00, 1.0000e+00]],\n",
       "\n",
       "         [[0.0000e+00, 0.0000e+00, 0.0000e+00,  ..., 8.0288e-01,\n",
       "           7.7563e-01, 7.7563e-01],\n",
       "          [0.0000e+00, 0.0000e+00, 0.0000e+00,  ..., 8.0288e-01,\n",
       "           7.7563e-01, 7.7563e-01],\n",
       "          [0.0000e+00, 0.0000e+00, 0.0000e+00,  ..., 8.0288e-01,\n",
       "           7.7563e-01, 7.7563e-01],\n",
       "          ...,\n",
       "          [2.5241e-06, 2.5241e-06, 2.5241e-06,  ..., 4.3493e-02,\n",
       "           1.7682e-08, 1.7682e-08],\n",
       "          [3.7535e-25, 3.7535e-25, 3.7535e-25,  ..., 2.1226e-01,\n",
       "           2.3216e-06, 2.3216e-06],\n",
       "          [3.7535e-25, 3.7535e-25, 3.7535e-25,  ..., 2.1226e-01,\n",
       "           2.3216e-06, 2.3216e-06]]]], device='cuda:0',\n",
       "       grad_fn=<SoftmaxBackward>)"
      ]
     },
     "execution_count": 6,
     "metadata": {},
     "output_type": "execute_result"
    }
   ],
   "source": [
    "conf"
   ]
  },
  {
   "cell_type": "code",
   "execution_count": 17,
   "metadata": {},
   "outputs": [
    {
     "data": {
      "text/plain": [
       "torch.Size([20, 2, 224, 224])"
      ]
     },
     "execution_count": 17,
     "metadata": {},
     "output_type": "execute_result"
    }
   ],
   "source": [
    "sm=nn.Softmax(dim=1)\n",
    "c=sm(conf)\n",
    "c.shape"
   ]
  },
  {
   "cell_type": "code",
   "execution_count": 9,
   "metadata": {},
   "outputs": [
    {
     "data": {
      "text/plain": [
       "tensor(1.0000, device='cuda:0', grad_fn=<MaxBackward1>)"
      ]
     },
     "execution_count": 9,
     "metadata": {},
     "output_type": "execute_result"
    }
   ],
   "source": [
    "torch.max(conf[:,0,:,:]+conf[:,1,:,:])"
   ]
  },
  {
   "cell_type": "code",
   "execution_count": 10,
   "metadata": {},
   "outputs": [
    {
     "data": {
      "text/plain": [
       "torch.Size([20, 2, 224, 224])"
      ]
     },
     "execution_count": 10,
     "metadata": {},
     "output_type": "execute_result"
    }
   ],
   "source": [
    "stacked.shape"
   ]
  },
  {
   "cell_type": "code",
   "execution_count": 10,
   "metadata": {},
   "outputs": [
    {
     "data": {
      "text/plain": [
       "torch.Size([20, 1, 224, 224])"
      ]
     },
     "execution_count": 10,
     "metadata": {},
     "output_type": "execute_result"
    }
   ],
   "source": [
    "s=stacked[0]\n",
    "s.shape"
   ]
  },
  {
   "cell_type": "code",
   "execution_count": 15,
   "metadata": {},
   "outputs": [],
   "source": [
    "total_depth=torch.cat((s,depth),dim=1)\n",
    "pred=total_depth*conf"
   ]
  },
  {
   "cell_type": "code",
   "execution_count": 15,
   "metadata": {},
   "outputs": [
    {
     "data": {
      "text/plain": [
       "torch.Size([20, 5, 224, 224])"
      ]
     },
     "execution_count": 15,
     "metadata": {},
     "output_type": "execute_result"
    }
   ],
   "source": [
    "cost_stacked[0].shape"
   ]
  },
  {
   "cell_type": "code",
   "execution_count": 6,
   "metadata": {},
   "outputs": [
    {
     "data": {
      "text/plain": [
       "torch.Size([20, 1, 224, 224])"
      ]
     },
     "execution_count": 6,
     "metadata": {},
     "output_type": "execute_result"
    }
   ],
   "source": [
    "depth.shape"
   ]
  },
  {
   "cell_type": "code",
   "execution_count": 55,
   "metadata": {},
   "outputs": [],
   "source": [
    "for batch_idx, (img_stack, gt_disp,blur,foc_dist) in enumerate(ValImgLoader):\n",
    "    break"
   ]
  },
  {
   "cell_type": "code",
   "execution_count": 5,
   "metadata": {},
   "outputs": [
    {
     "data": {
      "text/plain": [
       "(torch.Size([20, 5, 3, 224, 224]),\n",
       " torch.Size([20, 1, 224, 224]),\n",
       " torch.Size([20, 5, 224, 224]),\n",
       " torch.Size([20, 5]))"
      ]
     },
     "execution_count": 5,
     "metadata": {},
     "output_type": "execute_result"
    }
   ],
   "source": [
    "img_stack.shape,gt_disp.shape,blur.shape,foc_dist.shape"
   ]
  },
  {
   "cell_type": "code",
   "execution_count": 6,
   "metadata": {},
   "outputs": [
    {
     "data": {
      "text/plain": [
       "(torch.Size([12, 5, 3, 256, 256]),\n",
       " torch.Size([12, 1, 256, 256]),\n",
       " torch.Size([12, 5, 256, 256]),\n",
       " torch.Size([12, 5]))"
      ]
     },
     "execution_count": 6,
     "metadata": {},
     "output_type": "execute_result"
    }
   ],
   "source": [
    "img_stack.shape,gt_disp.shape,blur_stack.shape,foc_dist.shape"
   ]
  },
  {
   "cell_type": "code",
   "execution_count": 3,
   "metadata": {},
   "outputs": [],
   "source": [
    "blur=torch.empty((0,5,224,224))\n",
    "disp=torch.empty((20,0,224,224))\n",
    "for batch_idx, (img_stack, gt_disp,blur,foc_dist) in enumerate(TrainImgLoader):\n",
    "    #blur=torch.cat((blur,blur_stack),0)\n",
    "    disp=torch.cat((disp,gt_disp),1)"
   ]
  },
  {
   "cell_type": "code",
   "execution_count": 19,
   "metadata": {},
   "outputs": [
    {
     "data": {
      "text/plain": [
       "<matplotlib.image.AxesImage at 0x7f2840ad48d0>"
      ]
     },
     "execution_count": 19,
     "metadata": {},
     "output_type": "execute_result"
    },
    {
     "data": {
      "image/png": "[encoded data removed]",
      "text/plain": [
       "<Figure size 432x288 with 1 Axes>"
      ]
     },
     "metadata": {
      "needs_background": "light"
     },
     "output_type": "display_data"
    }
   ],
   "source": [
    "plt.imshow(blur_stack[7,0,:,:].cpu().detach().numpy())"
   ]
  },
  {
   "cell_type": "code",
   "execution_count": 20,
   "metadata": {},
   "outputs": [
    {
     "data": {
      "text/plain": [
       "<matplotlib.image.AxesImage at 0x7f2840a46950>"
      ]
     },
     "execution_count": 20,
     "metadata": {},
     "output_type": "execute_result"
    },
    {
     "data": {
      "image/png": "[encoded data removed]",
      "text/plain": [
       "<Figure size 432x288 with 1 Axes>"
      ]
     },
     "metadata": {
      "needs_background": "light"
     },
     "output_type": "display_data"
    }
   ],
   "source": [
    "plt.imshow(img_stack[7,0,0,:,:].cpu().detach().numpy())"
   ]
  },
  {
   "cell_type": "code",
   "execution_count": 5,
   "metadata": {},
   "outputs": [
    {
     "data": {
      "text/plain": [
       "torch.Size([20, 5, 224, 224])"
      ]
     },
     "execution_count": 5,
     "metadata": {},
     "output_type": "execute_result"
    }
   ],
   "source": [
    "blur.shape"
   ]
  },
  {
   "cell_type": "code",
   "execution_count": 31,
   "metadata": {},
   "outputs": [
    {
     "data": {
      "text/plain": [
       "tensor([[0.6905, 0.6905, 0.6905,  ..., 0.6905, 0.6905, 0.6905],\n",
       "        [0.6905, 0.6905, 0.6905,  ..., 0.6905, 0.6905, 0.6905],\n",
       "        [0.6905, 0.6905, 0.6905,  ..., 0.6905, 0.6905, 0.6905],\n",
       "        ...,\n",
       "        [0.6905, 0.6905, 0.6905,  ..., 0.6905, 0.6905, 0.6905],\n",
       "        [0.6905, 0.6905, 0.6905,  ..., 0.6905, 0.6905, 0.6905],\n",
       "        [0.6905, 0.6905, 0.6905,  ..., 0.6905, 0.6905, 0.6905]])"
      ]
     },
     "execution_count": 31,
     "metadata": {},
     "output_type": "execute_result"
    }
   ],
   "source": [
    "foc_ar[0,3,:,:]"
   ]
  },
  {
   "cell_type": "code",
   "execution_count": 92,
   "metadata": {},
   "outputs": [
    {
     "data": {
      "text/plain": [
       "torch.Size([20, 10, 224, 224])"
      ]
     },
     "execution_count": 92,
     "metadata": {},
     "output_type": "execute_result"
    }
   ],
   "source": [
    "foc_ar=foc_dist.unsqueeze(dim=2).unsqueeze(dim=3).repeat_interleave(blur.shape[2],dim=2).repeat_interleave(blur.shape[3],dim=3)\n",
    "bf=torch.cat((blur,foc_ar),dim=1)\n",
    "bf.shape"
   ]
  },
  {
   "cell_type": "code",
   "execution_count": 7,
   "metadata": {},
   "outputs": [
    {
     "data": {
      "text/plain": [
       "DataParallel(\n",
       "  (module): DFFNet(\n",
       "    (feature_extraction): FeatExactor(\n",
       "      (encoder): ResNet(\n",
       "        (conv1): Conv2d(3, 64, kernel_size=(7, 7), stride=(2, 2), padding=(3, 3), bias=False)\n",
       "        (bn1): BatchNorm2d(64, eps=1e-05, momentum=0.1, affine=True, track_running_stats=True)\n",
       "        (relu): ReLU(inplace=True)\n",
       "        (maxpool): MaxPool2d(kernel_size=3, stride=2, padding=1, dilation=1, ceil_mode=False)\n",
       "        (layer1): Sequential(\n",
       "          (0): BasicBlock(\n",
       "            (conv1): Conv2d(64, 64, kernel_size=(3, 3), stride=(1, 1), padding=(1, 1), bias=False)\n",
       "            (bn1): BatchNorm2d(64, eps=1e-05, momentum=0.1, affine=True, track_running_stats=True)\n",
       "            (relu): ReLU(inplace=True)\n",
       "            (conv2): Conv2d(64, 64, kernel_size=(3, 3), stride=(1, 1), padding=(1, 1), bias=False)\n",
       "            (bn2): BatchNorm2d(64, eps=1e-05, momentum=0.1, affine=True, track_running_stats=True)\n",
       "          )\n",
       "          (1): BasicBlock(\n",
       "            (conv1): Conv2d(64, 64, kernel_size=(3, 3), stride=(1, 1), padding=(1, 1), bias=False)\n",
       "            (bn1): BatchNorm2d(64, eps=1e-05, momentum=0.1, affine=True, track_running_stats=True)\n",
       "            (relu): ReLU(inplace=True)\n",
       "            (conv2): Conv2d(64, 64, kernel_size=(3, 3), stride=(1, 1), padding=(1, 1), bias=False)\n",
       "            (bn2): BatchNorm2d(64, eps=1e-05, momentum=0.1, affine=True, track_running_stats=True)\n",
       "          )\n",
       "        )\n",
       "        (layer2): Sequential(\n",
       "          (0): BasicBlock(\n",
       "            (conv1): Conv2d(64, 128, kernel_size=(3, 3), stride=(2, 2), padding=(1, 1), bias=False)\n",
       "            (bn1): BatchNorm2d(128, eps=1e-05, momentum=0.1, affine=True, track_running_stats=True)\n",
       "            (relu): ReLU(inplace=True)\n",
       "            (conv2): Conv2d(128, 128, kernel_size=(3, 3), stride=(1, 1), padding=(1, 1), bias=False)\n",
       "            (bn2): BatchNorm2d(128, eps=1e-05, momentum=0.1, affine=True, track_running_stats=True)\n",
       "            (downsample): Sequential(\n",
       "              (0): Conv2d(64, 128, kernel_size=(1, 1), stride=(2, 2), bias=False)\n",
       "              (1): BatchNorm2d(128, eps=1e-05, momentum=0.1, affine=True, track_running_stats=True)\n",
       "            )\n",
       "          )\n",
       "          (1): BasicBlock(\n",
       "            (conv1): Conv2d(128, 128, kernel_size=(3, 3), stride=(1, 1), padding=(1, 1), bias=False)\n",
       "            (bn1): BatchNorm2d(128, eps=1e-05, momentum=0.1, affine=True, track_running_stats=True)\n",
       "            (relu): ReLU(inplace=True)\n",
       "            (conv2): Conv2d(128, 128, kernel_size=(3, 3), stride=(1, 1), padding=(1, 1), bias=False)\n",
       "            (bn2): BatchNorm2d(128, eps=1e-05, momentum=0.1, affine=True, track_running_stats=True)\n",
       "          )\n",
       "        )\n",
       "        (layer3): Sequential(\n",
       "          (0): BasicBlock(\n",
       "            (conv1): Conv2d(128, 256, kernel_size=(3, 3), stride=(2, 2), padding=(1, 1), bias=False)\n",
       "            (bn1): BatchNorm2d(256, eps=1e-05, momentum=0.1, affine=True, track_running_stats=True)\n",
       "            (relu): ReLU(inplace=True)\n",
       "            (conv2): Conv2d(256, 256, kernel_size=(3, 3), stride=(1, 1), padding=(1, 1), bias=False)\n",
       "            (bn2): BatchNorm2d(256, eps=1e-05, momentum=0.1, affine=True, track_running_stats=True)\n",
       "            (downsample): Sequential(\n",
       "              (0): Conv2d(128, 256, kernel_size=(1, 1), stride=(2, 2), bias=False)\n",
       "              (1): BatchNorm2d(256, eps=1e-05, momentum=0.1, affine=True, track_running_stats=True)\n",
       "            )\n",
       "          )\n",
       "          (1): BasicBlock(\n",
       "            (conv1): Conv2d(256, 256, kernel_size=(3, 3), stride=(1, 1), padding=(1, 1), bias=False)\n",
       "            (bn1): BatchNorm2d(256, eps=1e-05, momentum=0.1, affine=True, track_running_stats=True)\n",
       "            (relu): ReLU(inplace=True)\n",
       "            (conv2): Conv2d(256, 256, kernel_size=(3, 3), stride=(1, 1), padding=(1, 1), bias=False)\n",
       "            (bn2): BatchNorm2d(256, eps=1e-05, momentum=0.1, affine=True, track_running_stats=True)\n",
       "          )\n",
       "        )\n",
       "        (layer4): Sequential(\n",
       "          (0): BasicBlock(\n",
       "            (conv1): Conv2d(256, 512, kernel_size=(3, 3), stride=(2, 2), padding=(1, 1), bias=False)\n",
       "            (bn1): BatchNorm2d(512, eps=1e-05, momentum=0.1, affine=True, track_running_stats=True)\n",
       "            (relu): ReLU(inplace=True)\n",
       "            (conv2): Conv2d(512, 512, kernel_size=(3, 3), stride=(1, 1), padding=(1, 1), bias=False)\n",
       "            (bn2): BatchNorm2d(512, eps=1e-05, momentum=0.1, affine=True, track_running_stats=True)\n",
       "            (downsample): Sequential(\n",
       "              (0): Conv2d(256, 512, kernel_size=(1, 1), stride=(2, 2), bias=False)\n",
       "              (1): BatchNorm2d(512, eps=1e-05, momentum=0.1, affine=True, track_running_stats=True)\n",
       "            )\n",
       "          )\n",
       "          (1): BasicBlock(\n",
       "            (conv1): Conv2d(512, 512, kernel_size=(3, 3), stride=(1, 1), padding=(1, 1), bias=False)\n",
       "            (bn1): BatchNorm2d(512, eps=1e-05, momentum=0.1, affine=True, track_running_stats=True)\n",
       "            (relu): ReLU(inplace=True)\n",
       "            (conv2): Conv2d(512, 512, kernel_size=(3, 3), stride=(1, 1), padding=(1, 1), bias=False)\n",
       "            (bn2): BatchNorm2d(512, eps=1e-05, momentum=0.1, affine=True, track_running_stats=True)\n",
       "          )\n",
       "        )\n",
       "        (avgpool): AdaptiveAvgPool2d(output_size=(1, 1))\n",
       "        (fc): Linear(in_features=512, out_features=1000, bias=True)\n",
       "      )\n",
       "      (pyramid_pooling): pyramidPooling(\n",
       "        (path_module_list): ModuleList(\n",
       "          (0): conv2DBatchNormRelu(\n",
       "            (cbr_unit): Sequential(\n",
       "              (0): Conv2d(512, 512, kernel_size=(1, 1), stride=(1, 1), bias=False)\n",
       "              (1): BatchNorm2d(512, eps=1e-05, momentum=0.1, affine=True, track_running_stats=True)\n",
       "              (2): LeakyReLU(negative_slope=0.1, inplace=True)\n",
       "            )\n",
       "          )\n",
       "          (1): conv2DBatchNormRelu(\n",
       "            (cbr_unit): Sequential(\n",
       "              (0): Conv2d(512, 512, kernel_size=(1, 1), stride=(1, 1), bias=False)\n",
       "              (1): BatchNorm2d(512, eps=1e-05, momentum=0.1, affine=True, track_running_stats=True)\n",
       "              (2): LeakyReLU(negative_slope=0.1, inplace=True)\n",
       "            )\n",
       "          )\n",
       "          (2): conv2DBatchNormRelu(\n",
       "            (cbr_unit): Sequential(\n",
       "              (0): Conv2d(512, 512, kernel_size=(1, 1), stride=(1, 1), bias=False)\n",
       "              (1): BatchNorm2d(512, eps=1e-05, momentum=0.1, affine=True, track_running_stats=True)\n",
       "              (2): LeakyReLU(negative_slope=0.1, inplace=True)\n",
       "            )\n",
       "          )\n",
       "          (3): conv2DBatchNormRelu(\n",
       "            (cbr_unit): Sequential(\n",
       "              (0): Conv2d(512, 512, kernel_size=(1, 1), stride=(1, 1), bias=False)\n",
       "              (1): BatchNorm2d(512, eps=1e-05, momentum=0.1, affine=True, track_running_stats=True)\n",
       "              (2): LeakyReLU(negative_slope=0.1, inplace=True)\n",
       "            )\n",
       "          )\n",
       "        )\n",
       "      )\n",
       "      (upconv6): Sequential(\n",
       "        (0): Upsample(scale_factor=2.0, mode=nearest)\n",
       "        (1): conv2DBatchNormRelu(\n",
       "          (cbr_unit): Sequential(\n",
       "            (0): Conv2d(512, 256, kernel_size=(3, 3), stride=(1, 1), padding=(1, 1), bias=False)\n",
       "            (1): BatchNorm2d(256, eps=1e-05, momentum=0.1, affine=True, track_running_stats=True)\n",
       "            (2): LeakyReLU(negative_slope=0.1, inplace=True)\n",
       "          )\n",
       "        )\n",
       "      )\n",
       "      (iconv5): conv2DBatchNormRelu(\n",
       "        (cbr_unit): Sequential(\n",
       "          (0): Conv2d(512, 256, kernel_size=(3, 3), stride=(1, 1), padding=(1, 1), bias=False)\n",
       "          (1): BatchNorm2d(256, eps=1e-05, momentum=0.1, affine=True, track_running_stats=True)\n",
       "          (2): LeakyReLU(negative_slope=0.1, inplace=True)\n",
       "        )\n",
       "      )\n",
       "      (upconv5): Sequential(\n",
       "        (0): Upsample(scale_factor=2.0, mode=nearest)\n",
       "        (1): conv2DBatchNormRelu(\n",
       "          (cbr_unit): Sequential(\n",
       "            (0): Conv2d(256, 128, kernel_size=(3, 3), stride=(1, 1), padding=(1, 1), bias=False)\n",
       "            (1): BatchNorm2d(128, eps=1e-05, momentum=0.1, affine=True, track_running_stats=True)\n",
       "            (2): LeakyReLU(negative_slope=0.1, inplace=True)\n",
       "          )\n",
       "        )\n",
       "      )\n",
       "      (iconv4): conv2DBatchNormRelu(\n",
       "        (cbr_unit): Sequential(\n",
       "          (0): Conv2d(256, 128, kernel_size=(3, 3), stride=(1, 1), padding=(1, 1), bias=False)\n",
       "          (1): BatchNorm2d(128, eps=1e-05, momentum=0.1, affine=True, track_running_stats=True)\n",
       "          (2): LeakyReLU(negative_slope=0.1, inplace=True)\n",
       "        )\n",
       "      )\n",
       "      (upconv4): Sequential(\n",
       "        (0): Upsample(scale_factor=2.0, mode=nearest)\n",
       "        (1): conv2DBatchNormRelu(\n",
       "          (cbr_unit): Sequential(\n",
       "            (0): Conv2d(128, 64, kernel_size=(3, 3), stride=(1, 1), padding=(1, 1), bias=False)\n",
       "            (1): BatchNorm2d(64, eps=1e-05, momentum=0.1, affine=True, track_running_stats=True)\n",
       "            (2): LeakyReLU(negative_slope=0.1, inplace=True)\n",
       "          )\n",
       "        )\n",
       "      )\n",
       "      (iconv3): conv2DBatchNormRelu(\n",
       "        (cbr_unit): Sequential(\n",
       "          (0): Conv2d(128, 64, kernel_size=(3, 3), stride=(1, 1), padding=(1, 1), bias=False)\n",
       "          (1): BatchNorm2d(64, eps=1e-05, momentum=0.1, affine=True, track_running_stats=True)\n",
       "          (2): LeakyReLU(negative_slope=0.1, inplace=True)\n",
       "        )\n",
       "      )\n",
       "      (proj6): conv2DBatchNormRelu(\n",
       "        (cbr_unit): Sequential(\n",
       "          (0): Conv2d(512, 128, kernel_size=(1, 1), stride=(1, 1), bias=False)\n",
       "          (1): BatchNorm2d(128, eps=1e-05, momentum=0.1, affine=True, track_running_stats=True)\n",
       "          (2): LeakyReLU(negative_slope=0.1, inplace=True)\n",
       "        )\n",
       "      )\n",
       "      (proj5): conv2DBatchNormRelu(\n",
       "        (cbr_unit): Sequential(\n",
       "          (0): Conv2d(256, 64, kernel_size=(1, 1), stride=(1, 1), bias=False)\n",
       "          (1): BatchNorm2d(64, eps=1e-05, momentum=0.1, affine=True, track_running_stats=True)\n",
       "          (2): LeakyReLU(negative_slope=0.1, inplace=True)\n",
       "        )\n",
       "      )\n",
       "      (proj4): conv2DBatchNormRelu(\n",
       "        (cbr_unit): Sequential(\n",
       "          (0): Conv2d(128, 32, kernel_size=(1, 1), stride=(1, 1), bias=False)\n",
       "          (1): BatchNorm2d(32, eps=1e-05, momentum=0.1, affine=True, track_running_stats=True)\n",
       "          (2): LeakyReLU(negative_slope=0.1, inplace=True)\n",
       "        )\n",
       "      )\n",
       "      (proj3): conv2DBatchNormRelu(\n",
       "        (cbr_unit): Sequential(\n",
       "          (0): Conv2d(64, 16, kernel_size=(1, 1), stride=(1, 1), bias=False)\n",
       "          (1): BatchNorm2d(16, eps=1e-05, momentum=0.1, affine=True, track_running_stats=True)\n",
       "          (2): LeakyReLU(negative_slope=0.1, inplace=True)\n",
       "        )\n",
       "      )\n",
       "    )\n",
       "    (decoder3): decoderBlock(\n",
       "      (convs): Sequential(\n",
       "        (0): sepConv3dBlock(\n",
       "          (conv1): Sequential(\n",
       "            (0): Conv3d(32, 32, kernel_size=(3, 3, 3), stride=(1, 1, 1), padding=(1, 1, 1), bias=False)\n",
       "            (1): BatchNorm3d(32, eps=1e-05, momentum=0.1, affine=True, track_running_stats=True)\n",
       "          )\n",
       "          (conv2): Sequential(\n",
       "            (0): Conv3d(32, 32, kernel_size=(3, 3, 3), stride=(1, 1, 1), padding=(1, 1, 1), bias=False)\n",
       "            (1): BatchNorm3d(32, eps=1e-05, momentum=0.1, affine=True, track_running_stats=True)\n",
       "          )\n",
       "        )\n",
       "        (1): sepConv3dBlock(\n",
       "          (conv1): Sequential(\n",
       "            (0): Conv3d(32, 32, kernel_size=(3, 3, 3), stride=(1, 1, 1), padding=(1, 1, 1), bias=False)\n",
       "            (1): BatchNorm3d(32, eps=1e-05, momentum=0.1, affine=True, track_running_stats=True)\n",
       "          )\n",
       "          (conv2): Sequential(\n",
       "            (0): Conv3d(32, 32, kernel_size=(3, 3, 3), stride=(1, 1, 1), padding=(1, 1, 1), bias=False)\n",
       "            (1): BatchNorm3d(32, eps=1e-05, momentum=0.1, affine=True, track_running_stats=True)\n",
       "          )\n",
       "        )\n",
       "      )\n",
       "      (classify): Sequential(\n",
       "        (0): Sequential(\n",
       "          (0): Conv3d(32, 32, kernel_size=(3, 3, 3), stride=(1, 1, 1), padding=(1, 1, 1), bias=False)\n",
       "          (1): BatchNorm3d(32, eps=1e-05, momentum=0.1, affine=True, track_running_stats=True)\n",
       "        )\n",
       "        (1): ReLU(inplace=True)\n",
       "        (2): Sequential(\n",
       "          (0): Conv3d(32, 1, kernel_size=(3, 3, 3), stride=(1, 1, 1), padding=(1, 1, 1))\n",
       "        )\n",
       "      )\n",
       "    )\n",
       "    (decoder4): decoderBlock(\n",
       "      (convs): Sequential(\n",
       "        (0): sepConv3dBlock(\n",
       "          (downsample): projfeat3d(\n",
       "            (conv1): Conv2d(64, 32, kernel_size=(1, 1), stride=(1, 1), bias=False)\n",
       "            (bn): BatchNorm2d(32, eps=1e-05, momentum=0.1, affine=True, track_running_stats=True)\n",
       "          )\n",
       "          (conv1): Sequential(\n",
       "            (0): Conv3d(64, 32, kernel_size=(3, 3, 3), stride=(1, 1, 1), padding=(1, 1, 1), bias=False)\n",
       "            (1): BatchNorm3d(32, eps=1e-05, momentum=0.1, affine=True, track_running_stats=True)\n",
       "          )\n",
       "          (conv2): Sequential(\n",
       "            (0): Conv3d(32, 32, kernel_size=(3, 3, 3), stride=(1, 1, 1), padding=(1, 1, 1), bias=False)\n",
       "            (1): BatchNorm3d(32, eps=1e-05, momentum=0.1, affine=True, track_running_stats=True)\n",
       "          )\n",
       "        )\n",
       "        (1): sepConv3dBlock(\n",
       "          (conv1): Sequential(\n",
       "            (0): Conv3d(32, 32, kernel_size=(3, 3, 3), stride=(1, 1, 1), padding=(1, 1, 1), bias=False)\n",
       "            (1): BatchNorm3d(32, eps=1e-05, momentum=0.1, affine=True, track_running_stats=True)\n",
       "          )\n",
       "          (conv2): Sequential(\n",
       "            (0): Conv3d(32, 32, kernel_size=(3, 3, 3), stride=(1, 1, 1), padding=(1, 1, 1), bias=False)\n",
       "            (1): BatchNorm3d(32, eps=1e-05, momentum=0.1, affine=True, track_running_stats=True)\n",
       "          )\n",
       "        )\n",
       "      )\n",
       "      (classify): Sequential(\n",
       "        (0): Sequential(\n",
       "          (0): Conv3d(32, 32, kernel_size=(3, 3, 3), stride=(1, 1, 1), padding=(1, 1, 1), bias=False)\n",
       "          (1): BatchNorm3d(32, eps=1e-05, momentum=0.1, affine=True, track_running_stats=True)\n",
       "        )\n",
       "        (1): ReLU(inplace=True)\n",
       "        (2): Sequential(\n",
       "          (0): Conv3d(32, 1, kernel_size=(3, 3, 3), stride=(1, 1, 1), padding=(1, 1, 1))\n",
       "        )\n",
       "      )\n",
       "      (up): Sequential(\n",
       "        (0): Upsample(scale_factor=(1.0, 2.0, 2.0), mode=trilinear)\n",
       "        (1): Sequential(\n",
       "          (0): Conv3d(32, 16, kernel_size=(3, 3, 3), stride=(1, 1, 1), padding=(1, 1, 1), bias=False)\n",
       "          (1): BatchNorm3d(16, eps=1e-05, momentum=0.1, affine=True, track_running_stats=True)\n",
       "        )\n",
       "        (2): ReLU(inplace=True)\n",
       "      )\n",
       "    )\n",
       "    (decoder5): decoderBlock(\n",
       "      (convs): Sequential(\n",
       "        (0): sepConv3dBlock(\n",
       "          (downsample): projfeat3d(\n",
       "            (conv1): Conv2d(128, 64, kernel_size=(1, 1), stride=(1, 1), bias=False)\n",
       "            (bn): BatchNorm2d(64, eps=1e-05, momentum=0.1, affine=True, track_running_stats=True)\n",
       "          )\n",
       "          (conv1): Sequential(\n",
       "            (0): Conv3d(128, 64, kernel_size=(3, 3, 3), stride=(1, 1, 1), padding=(1, 1, 1), bias=False)\n",
       "            (1): BatchNorm3d(64, eps=1e-05, momentum=0.1, affine=True, track_running_stats=True)\n",
       "          )\n",
       "          (conv2): Sequential(\n",
       "            (0): Conv3d(64, 64, kernel_size=(3, 3, 3), stride=(1, 1, 1), padding=(1, 1, 1), bias=False)\n",
       "            (1): BatchNorm3d(64, eps=1e-05, momentum=0.1, affine=True, track_running_stats=True)\n",
       "          )\n",
       "        )\n",
       "        (1): sepConv3dBlock(\n",
       "          (conv1): Sequential(\n",
       "            (0): Conv3d(64, 64, kernel_size=(3, 3, 3), stride=(1, 1, 1), padding=(1, 1, 1), bias=False)\n",
       "            (1): BatchNorm3d(64, eps=1e-05, momentum=0.1, affine=True, track_running_stats=True)\n",
       "          )\n",
       "          (conv2): Sequential(\n",
       "            (0): Conv3d(64, 64, kernel_size=(3, 3, 3), stride=(1, 1, 1), padding=(1, 1, 1), bias=False)\n",
       "            (1): BatchNorm3d(64, eps=1e-05, momentum=0.1, affine=True, track_running_stats=True)\n",
       "          )\n",
       "        )\n",
       "      )\n",
       "      (classify): Sequential(\n",
       "        (0): Sequential(\n",
       "          (0): Conv3d(64, 64, kernel_size=(3, 3, 3), stride=(1, 1, 1), padding=(1, 1, 1), bias=False)\n",
       "          (1): BatchNorm3d(64, eps=1e-05, momentum=0.1, affine=True, track_running_stats=True)\n",
       "        )\n",
       "        (1): ReLU(inplace=True)\n",
       "        (2): Sequential(\n",
       "          (0): Conv3d(64, 1, kernel_size=(3, 3, 3), stride=(1, 1, 1), padding=(1, 1, 1))\n",
       "        )\n",
       "      )\n",
       "      (up): Sequential(\n",
       "        (0): Upsample(scale_factor=(1.0, 2.0, 2.0), mode=trilinear)\n",
       "        (1): Sequential(\n",
       "          (0): Conv3d(64, 32, kernel_size=(3, 3, 3), stride=(1, 1, 1), padding=(1, 1, 1), bias=False)\n",
       "          (1): BatchNorm3d(32, eps=1e-05, momentum=0.1, affine=True, track_running_stats=True)\n",
       "        )\n",
       "        (2): ReLU(inplace=True)\n",
       "      )\n",
       "      (pool_convs): ModuleList(\n",
       "        (0): Sequential(\n",
       "          (0): Conv3d(64, 64, kernel_size=(1, 1, 1), stride=(1, 1, 1), bias=False)\n",
       "          (1): BatchNorm3d(64, eps=1e-05, momentum=0.1, affine=True, track_running_stats=True)\n",
       "        )\n",
       "        (1): Sequential(\n",
       "          (0): Conv3d(64, 64, kernel_size=(1, 1, 1), stride=(1, 1, 1), bias=False)\n",
       "          (1): BatchNorm3d(64, eps=1e-05, momentum=0.1, affine=True, track_running_stats=True)\n",
       "        )\n",
       "        (2): Sequential(\n",
       "          (0): Conv3d(64, 64, kernel_size=(1, 1, 1), stride=(1, 1, 1), bias=False)\n",
       "          (1): BatchNorm3d(64, eps=1e-05, momentum=0.1, affine=True, track_running_stats=True)\n",
       "        )\n",
       "        (3): Sequential(\n",
       "          (0): Conv3d(64, 64, kernel_size=(1, 1, 1), stride=(1, 1, 1), bias=False)\n",
       "          (1): BatchNorm3d(64, eps=1e-05, momentum=0.1, affine=True, track_running_stats=True)\n",
       "        )\n",
       "      )\n",
       "    )\n",
       "    (decoder6): decoderBlock(\n",
       "      (convs): Sequential(\n",
       "        (0): sepConv3dBlock(\n",
       "          (conv1): Sequential(\n",
       "            (0): Conv3d(128, 128, kernel_size=(3, 3, 3), stride=(1, 1, 1), padding=(1, 1, 1), bias=False)\n",
       "            (1): BatchNorm3d(128, eps=1e-05, momentum=0.1, affine=True, track_running_stats=True)\n",
       "          )\n",
       "          (conv2): Sequential(\n",
       "            (0): Conv3d(128, 128, kernel_size=(3, 3, 3), stride=(1, 1, 1), padding=(1, 1, 1), bias=False)\n",
       "            (1): BatchNorm3d(128, eps=1e-05, momentum=0.1, affine=True, track_running_stats=True)\n",
       "          )\n",
       "        )\n",
       "        (1): sepConv3dBlock(\n",
       "          (conv1): Sequential(\n",
       "            (0): Conv3d(128, 128, kernel_size=(3, 3, 3), stride=(1, 1, 1), padding=(1, 1, 1), bias=False)\n",
       "            (1): BatchNorm3d(128, eps=1e-05, momentum=0.1, affine=True, track_running_stats=True)\n",
       "          )\n",
       "          (conv2): Sequential(\n",
       "            (0): Conv3d(128, 128, kernel_size=(3, 3, 3), stride=(1, 1, 1), padding=(1, 1, 1), bias=False)\n",
       "            (1): BatchNorm3d(128, eps=1e-05, momentum=0.1, affine=True, track_running_stats=True)\n",
       "          )\n",
       "        )\n",
       "      )\n",
       "      (classify): Sequential(\n",
       "        (0): Sequential(\n",
       "          (0): Conv3d(128, 128, kernel_size=(3, 3, 3), stride=(1, 1, 1), padding=(1, 1, 1), bias=False)\n",
       "          (1): BatchNorm3d(128, eps=1e-05, momentum=0.1, affine=True, track_running_stats=True)\n",
       "        )\n",
       "        (1): ReLU(inplace=True)\n",
       "        (2): Sequential(\n",
       "          (0): Conv3d(128, 1, kernel_size=(3, 3, 3), stride=(1, 1, 1), padding=(1, 1, 1))\n",
       "        )\n",
       "      )\n",
       "      (up): Sequential(\n",
       "        (0): Upsample(scale_factor=(1.0, 2.0, 2.0), mode=trilinear)\n",
       "        (1): Sequential(\n",
       "          (0): Conv3d(128, 64, kernel_size=(3, 3, 3), stride=(1, 1, 1), padding=(1, 1, 1), bias=False)\n",
       "          (1): BatchNorm3d(64, eps=1e-05, momentum=0.1, affine=True, track_running_stats=True)\n",
       "        )\n",
       "        (2): ReLU(inplace=True)\n",
       "      )\n",
       "      (pool_convs): ModuleList(\n",
       "        (0): Sequential(\n",
       "          (0): Conv3d(128, 128, kernel_size=(1, 1, 1), stride=(1, 1, 1), bias=False)\n",
       "          (1): BatchNorm3d(128, eps=1e-05, momentum=0.1, affine=True, track_running_stats=True)\n",
       "        )\n",
       "        (1): Sequential(\n",
       "          (0): Conv3d(128, 128, kernel_size=(1, 1, 1), stride=(1, 1, 1), bias=False)\n",
       "          (1): BatchNorm3d(128, eps=1e-05, momentum=0.1, affine=True, track_running_stats=True)\n",
       "        )\n",
       "        (2): Sequential(\n",
       "          (0): Conv3d(128, 128, kernel_size=(1, 1, 1), stride=(1, 1, 1), bias=False)\n",
       "          (1): BatchNorm3d(128, eps=1e-05, momentum=0.1, affine=True, track_running_stats=True)\n",
       "        )\n",
       "        (3): Sequential(\n",
       "          (0): Conv3d(128, 128, kernel_size=(1, 1, 1), stride=(1, 1, 1), bias=False)\n",
       "          (1): BatchNorm3d(128, eps=1e-05, momentum=0.1, affine=True, track_running_stats=True)\n",
       "        )\n",
       "      )\n",
       "    )\n",
       "    (disp_reg): disparityregression()\n",
       "    (depthNet): depthDecoder(\n",
       "      (convs): Sequential(\n",
       "        (0): Conv2d(10, 64, kernel_size=(3, 3), stride=(1, 1), bias=False)\n",
       "        (1): Upsample(size=(224, 224), mode=nearest)\n",
       "        (2): Conv2d(64, 1, kernel_size=(3, 3), stride=(1, 1), bias=False)\n",
       "        (3): Upsample(size=(224, 224), mode=nearest)\n",
       "      )\n",
       "    )\n",
       "  )\n",
       ")"
      ]
     },
     "execution_count": 7,
     "metadata": {},
     "output_type": "execute_result"
    }
   ],
   "source": [
    "model = DFFNet(clean=False,level=4, use_diff=True)\n",
    "model = nn.DataParallel(model)\n",
    "model.cuda()"
   ]
  },
  {
   "cell_type": "code",
   "execution_count": null,
   "metadata": {},
   "outputs": [],
   "source": []
  },
  {
   "cell_type": "code",
   "execution_count": 70,
   "metadata": {},
   "outputs": [],
   "source": [
    "chlist=[10,64,32,16,1]"
   ]
  },
  {
   "cell_type": "code",
   "execution_count": 77,
   "metadata": {},
   "outputs": [
    {
     "data": {
      "text/plain": [
       "torch.nn.modules.conv.Conv2d"
      ]
     },
     "execution_count": 77,
     "metadata": {},
     "output_type": "execute_result"
    }
   ],
   "source": [
    "nn.Conv2d"
   ]
  },
  {
   "cell_type": "code",
   "execution_count": 112,
   "metadata": {},
   "outputs": [],
   "source": [
    "class depthDecoder(nn.Module):\n",
    "    def __init__(self,chlist,kernel_size,conv_stride=(1,1),pool_stride=(2,2),up=False, nstride=1,pool=False,bias=False):\n",
    "        super(depthDecoder, self).__init__()\n",
    "        self.layers=[]\n",
    "        for i in range(len(chlist)-1):\n",
    "            self.layers.append(nn.Conv2d(chlist[i],chlist[i+1],kernel_size,conv_stride,bias=bias))\n",
    "            if pool:\n",
    "                self.layers.append(nn.MaxPool2d(kernel_size,pool_stride))\n",
    "                self.layers.append(nn.Upsample(size=(224,224)))\n",
    "        self.convs = nn.Sequential(*self.layers)\n",
    "        \n",
    "    def forward(self,x):\n",
    "        out=self.convs(x)\n",
    "        return out"
   ]
  },
  {
   "cell_type": "code",
   "execution_count": 114,
   "metadata": {},
   "outputs": [
    {
     "name": "stdout",
     "output_type": "stream",
     "text": [
      "depthDecoder(\n",
      "  (convs): Sequential(\n",
      "    (0): Conv2d(10, 64, kernel_size=(3, 3), stride=(1, 1), bias=False)\n",
      "    (1): MaxPool2d(kernel_size=(3, 3), stride=(2, 2), padding=0, dilation=1, ceil_mode=False)\n",
      "    (2): Upsample(size=(224, 224), mode=nearest)\n",
      "  )\n",
      ")\n"
     ]
    },
    {
     "data": {
      "text/plain": [
       "torch.Size([20, 64, 224, 224])"
      ]
     },
     "execution_count": 114,
     "metadata": {},
     "output_type": "execute_result"
    }
   ],
   "source": [
    "d=depthDecoder(chlist=[10,64],kernel_size=(3,3),pool=True)\n",
    "print(d)\n",
    "d(bf).shape"
   ]
  },
  {
   "cell_type": "code",
   "execution_count": 110,
   "metadata": {},
   "outputs": [
    {
     "data": {
      "text/plain": [
       "torch.Size([20, 64, 224, 224])"
      ]
     },
     "execution_count": 110,
     "metadata": {},
     "output_type": "execute_result"
    }
   ],
   "source": []
  },
  {
   "cell_type": "code",
   "execution_count": 50,
   "metadata": {},
   "outputs": [],
   "source": [
    "def sepConv3d(in_planes, out_planes, kernel_size, stride, pad,bias=False):\n",
    "    if bias:\n",
    "        return nn.Sequential(nn.Conv3d(in_planes, out_planes, kernel_size=kernel_size, padding=pad, stride=stride,bias=bias))\n",
    "    else:\n",
    "        return nn.Sequential(nn.Conv3d(in_planes, out_planes, kernel_size=kernel_size, padding=pad, stride=stride,bias=bias),\n",
    "                         nn.BatchNorm3d(out_planes))\n",
    "\n",
    "class sepConv3dBlock(nn.Module):\n",
    "    '''\n",
    "    Separable 3d convolution block as 2 separable convolutions and a projection\n",
    "    layer\n",
    "    '''\n",
    "    def __init__(self, in_planes, out_planes, stride=(1,1,1)):\n",
    "        super(sepConv3dBlock, self).__init__()\n",
    "        if in_planes == out_planes and stride==(1,1,1):\n",
    "            self.downsample = None\n",
    "        else:\n",
    "            self.downsample = projfeat3d(in_planes, out_planes,stride)\n",
    "        self.conv1 = sepConv3d(in_planes, out_planes, 3, stride, 1)\n",
    "        self.conv2 = sepConv3d(out_planes, out_planes, 3, (1,1,1), 1)\n",
    "\n",
    "\n",
    "    def forward(self,x):\n",
    "        out = F.relu(self.conv1(x),inplace=True)\n",
    "        if self.downsample:\n",
    "            x = self.downsample(x)\n",
    "        out = F.relu(x + self.conv2(out),inplace=True)\n",
    "        return out\n",
    "    \n",
    "class projfeat3d(nn.Module):\n",
    "    '''\n",
    "    Turn 3d projection into 2d projection\n",
    "    '''\n",
    "    def __init__(self, in_planes, out_planes, stride):\n",
    "        super(projfeat3d, self).__init__()\n",
    "        self.stride = stride\n",
    "        self.conv1 = nn.Conv2d(in_planes, out_planes, (1,1), padding=(0,0), stride=stride[:2],bias=False)\n",
    "        self.bn = nn.BatchNorm2d(out_planes)\n",
    "\n",
    "    def forward(self,x):\n",
    "        b,c,d,h,w = x.size()\n",
    "        x = self.conv1(x.view(b,c,d,h*w))\n",
    "        x = self.bn(x)\n",
    "        x = x.view(b,-1,d//self.stride[0],h,w)\n",
    "        return x\n",
    "    \n",
    "class depthDecoder(nn.Module):\n",
    "    def __init__(self, nconvs, inchannelF,channelF,stride=(1,1,1),up=False, nstride=1,pool=False):\n",
    "        super(depthDecoder, self).__init__()\n",
    "        self.convs = [sepConv3dBlock(inchannelF,channelF,stride=stride[0])]\n",
    "        for i in range(1,nconvs):\n",
    "            self.convs.append(sepConv3dBlock(channelF,channelF, stride=stride[i]))\n",
    "        self.convs = nn.Sequential(*self.convs)"
   ]
  },
  {
   "cell_type": "code",
   "execution_count": 62,
   "metadata": {},
   "outputs": [
    {
     "name": "stdout",
     "output_type": "stream",
     "text": [
      "torch.Size([20, 10, 224, 224])\n"
     ]
    }
   ],
   "source": [
    "print(bf.shape)"
   ]
  },
  {
   "cell_type": "code",
   "execution_count": 64,
   "metadata": {},
   "outputs": [
    {
     "ename": "RuntimeError",
     "evalue": "Expected 5-dimensional input for 5-dimensional weight [10, 10, 3, 3, 3], but got 4-dimensional input of size [20, 10, 224, 224] instead",
     "output_type": "error",
     "traceback": [
      "\u001b[0;31m---------------------------------------------------------------------------\u001b[0m",
      "\u001b[0;31mRuntimeError\u001b[0m                              Traceback (most recent call last)",
      "\u001b[0;32m<ipython-input-64-72e7645c40c5>\u001b[0m in \u001b[0;36m<module>\u001b[0;34m\u001b[0m\n\u001b[1;32m      1\u001b[0m \u001b[0msep\u001b[0m\u001b[0;34m=\u001b[0m\u001b[0msepConv3dBlock\u001b[0m\u001b[0;34m(\u001b[0m\u001b[0;36m10\u001b[0m\u001b[0;34m,\u001b[0m\u001b[0;36m10\u001b[0m\u001b[0;34m)\u001b[0m\u001b[0;34m\u001b[0m\u001b[0;34m\u001b[0m\u001b[0m\n\u001b[0;32m----> 2\u001b[0;31m \u001b[0msep\u001b[0m\u001b[0;34m(\u001b[0m\u001b[0mbf\u001b[0m\u001b[0;34m)\u001b[0m\u001b[0;34m\u001b[0m\u001b[0;34m\u001b[0m\u001b[0m\n\u001b[0m",
      "\u001b[0;32m/opt/conda/lib/python3.7/site-packages/torch/nn/modules/module.py\u001b[0m in \u001b[0;36m__call__\u001b[0;34m(self, *input, **kwargs)\u001b[0m\n\u001b[1;32m    548\u001b[0m             \u001b[0mresult\u001b[0m \u001b[0;34m=\u001b[0m \u001b[0mself\u001b[0m\u001b[0;34m.\u001b[0m\u001b[0m_slow_forward\u001b[0m\u001b[0;34m(\u001b[0m\u001b[0;34m*\u001b[0m\u001b[0minput\u001b[0m\u001b[0;34m,\u001b[0m \u001b[0;34m**\u001b[0m\u001b[0mkwargs\u001b[0m\u001b[0;34m)\u001b[0m\u001b[0;34m\u001b[0m\u001b[0;34m\u001b[0m\u001b[0m\n\u001b[1;32m    549\u001b[0m         \u001b[0;32melse\u001b[0m\u001b[0;34m:\u001b[0m\u001b[0;34m\u001b[0m\u001b[0;34m\u001b[0m\u001b[0m\n\u001b[0;32m--> 550\u001b[0;31m             \u001b[0mresult\u001b[0m \u001b[0;34m=\u001b[0m \u001b[0mself\u001b[0m\u001b[0;34m.\u001b[0m\u001b[0mforward\u001b[0m\u001b[0;34m(\u001b[0m\u001b[0;34m*\u001b[0m\u001b[0minput\u001b[0m\u001b[0;34m,\u001b[0m \u001b[0;34m**\u001b[0m\u001b[0mkwargs\u001b[0m\u001b[0;34m)\u001b[0m\u001b[0;34m\u001b[0m\u001b[0;34m\u001b[0m\u001b[0m\n\u001b[0m\u001b[1;32m    551\u001b[0m         \u001b[0;32mfor\u001b[0m \u001b[0mhook\u001b[0m \u001b[0;32min\u001b[0m \u001b[0mself\u001b[0m\u001b[0;34m.\u001b[0m\u001b[0m_forward_hooks\u001b[0m\u001b[0;34m.\u001b[0m\u001b[0mvalues\u001b[0m\u001b[0;34m(\u001b[0m\u001b[0;34m)\u001b[0m\u001b[0;34m:\u001b[0m\u001b[0;34m\u001b[0m\u001b[0;34m\u001b[0m\u001b[0m\n\u001b[1;32m    552\u001b[0m             \u001b[0mhook_result\u001b[0m \u001b[0;34m=\u001b[0m \u001b[0mhook\u001b[0m\u001b[0;34m(\u001b[0m\u001b[0mself\u001b[0m\u001b[0;34m,\u001b[0m \u001b[0minput\u001b[0m\u001b[0;34m,\u001b[0m \u001b[0mresult\u001b[0m\u001b[0;34m)\u001b[0m\u001b[0;34m\u001b[0m\u001b[0;34m\u001b[0m\u001b[0m\n",
      "\u001b[0;32m<ipython-input-50-f2715d456556>\u001b[0m in \u001b[0;36mforward\u001b[0;34m(self, x)\u001b[0m\n\u001b[1;32m     22\u001b[0m \u001b[0;34m\u001b[0m\u001b[0m\n\u001b[1;32m     23\u001b[0m     \u001b[0;32mdef\u001b[0m \u001b[0mforward\u001b[0m\u001b[0;34m(\u001b[0m\u001b[0mself\u001b[0m\u001b[0;34m,\u001b[0m\u001b[0mx\u001b[0m\u001b[0;34m)\u001b[0m\u001b[0;34m:\u001b[0m\u001b[0;34m\u001b[0m\u001b[0;34m\u001b[0m\u001b[0m\n\u001b[0;32m---> 24\u001b[0;31m         \u001b[0mout\u001b[0m \u001b[0;34m=\u001b[0m \u001b[0mF\u001b[0m\u001b[0;34m.\u001b[0m\u001b[0mrelu\u001b[0m\u001b[0;34m(\u001b[0m\u001b[0mself\u001b[0m\u001b[0;34m.\u001b[0m\u001b[0mconv1\u001b[0m\u001b[0;34m(\u001b[0m\u001b[0mx\u001b[0m\u001b[0;34m)\u001b[0m\u001b[0;34m,\u001b[0m\u001b[0minplace\u001b[0m\u001b[0;34m=\u001b[0m\u001b[0;32mTrue\u001b[0m\u001b[0;34m)\u001b[0m\u001b[0;34m\u001b[0m\u001b[0;34m\u001b[0m\u001b[0m\n\u001b[0m\u001b[1;32m     25\u001b[0m         \u001b[0mprint\u001b[0m\u001b[0;34m(\u001b[0m\u001b[0mout\u001b[0m\u001b[0;34m.\u001b[0m\u001b[0mshape\u001b[0m\u001b[0;34m)\u001b[0m\u001b[0;34m\u001b[0m\u001b[0;34m\u001b[0m\u001b[0m\n\u001b[1;32m     26\u001b[0m         \u001b[0;32mif\u001b[0m \u001b[0mself\u001b[0m\u001b[0;34m.\u001b[0m\u001b[0mdownsample\u001b[0m\u001b[0;34m:\u001b[0m\u001b[0;34m\u001b[0m\u001b[0;34m\u001b[0m\u001b[0m\n",
      "\u001b[0;32m/opt/conda/lib/python3.7/site-packages/torch/nn/modules/module.py\u001b[0m in \u001b[0;36m__call__\u001b[0;34m(self, *input, **kwargs)\u001b[0m\n\u001b[1;32m    548\u001b[0m             \u001b[0mresult\u001b[0m \u001b[0;34m=\u001b[0m \u001b[0mself\u001b[0m\u001b[0;34m.\u001b[0m\u001b[0m_slow_forward\u001b[0m\u001b[0;34m(\u001b[0m\u001b[0;34m*\u001b[0m\u001b[0minput\u001b[0m\u001b[0;34m,\u001b[0m \u001b[0;34m**\u001b[0m\u001b[0mkwargs\u001b[0m\u001b[0;34m)\u001b[0m\u001b[0;34m\u001b[0m\u001b[0;34m\u001b[0m\u001b[0m\n\u001b[1;32m    549\u001b[0m         \u001b[0;32melse\u001b[0m\u001b[0;34m:\u001b[0m\u001b[0;34m\u001b[0m\u001b[0;34m\u001b[0m\u001b[0m\n\u001b[0;32m--> 550\u001b[0;31m             \u001b[0mresult\u001b[0m \u001b[0;34m=\u001b[0m \u001b[0mself\u001b[0m\u001b[0;34m.\u001b[0m\u001b[0mforward\u001b[0m\u001b[0;34m(\u001b[0m\u001b[0;34m*\u001b[0m\u001b[0minput\u001b[0m\u001b[0;34m,\u001b[0m \u001b[0;34m**\u001b[0m\u001b[0mkwargs\u001b[0m\u001b[0;34m)\u001b[0m\u001b[0;34m\u001b[0m\u001b[0;34m\u001b[0m\u001b[0m\n\u001b[0m\u001b[1;32m    551\u001b[0m         \u001b[0;32mfor\u001b[0m \u001b[0mhook\u001b[0m \u001b[0;32min\u001b[0m \u001b[0mself\u001b[0m\u001b[0;34m.\u001b[0m\u001b[0m_forward_hooks\u001b[0m\u001b[0;34m.\u001b[0m\u001b[0mvalues\u001b[0m\u001b[0;34m(\u001b[0m\u001b[0;34m)\u001b[0m\u001b[0;34m:\u001b[0m\u001b[0;34m\u001b[0m\u001b[0;34m\u001b[0m\u001b[0m\n\u001b[1;32m    552\u001b[0m             \u001b[0mhook_result\u001b[0m \u001b[0;34m=\u001b[0m \u001b[0mhook\u001b[0m\u001b[0;34m(\u001b[0m\u001b[0mself\u001b[0m\u001b[0;34m,\u001b[0m \u001b[0minput\u001b[0m\u001b[0;34m,\u001b[0m \u001b[0mresult\u001b[0m\u001b[0;34m)\u001b[0m\u001b[0;34m\u001b[0m\u001b[0;34m\u001b[0m\u001b[0m\n",
      "\u001b[0;32m/opt/conda/lib/python3.7/site-packages/torch/nn/modules/container.py\u001b[0m in \u001b[0;36mforward\u001b[0;34m(self, input)\u001b[0m\n\u001b[1;32m     98\u001b[0m     \u001b[0;32mdef\u001b[0m \u001b[0mforward\u001b[0m\u001b[0;34m(\u001b[0m\u001b[0mself\u001b[0m\u001b[0;34m,\u001b[0m \u001b[0minput\u001b[0m\u001b[0;34m)\u001b[0m\u001b[0;34m:\u001b[0m\u001b[0;34m\u001b[0m\u001b[0;34m\u001b[0m\u001b[0m\n\u001b[1;32m     99\u001b[0m         \u001b[0;32mfor\u001b[0m \u001b[0mmodule\u001b[0m \u001b[0;32min\u001b[0m \u001b[0mself\u001b[0m\u001b[0;34m:\u001b[0m\u001b[0;34m\u001b[0m\u001b[0;34m\u001b[0m\u001b[0m\n\u001b[0;32m--> 100\u001b[0;31m             \u001b[0minput\u001b[0m \u001b[0;34m=\u001b[0m \u001b[0mmodule\u001b[0m\u001b[0;34m(\u001b[0m\u001b[0minput\u001b[0m\u001b[0;34m)\u001b[0m\u001b[0;34m\u001b[0m\u001b[0;34m\u001b[0m\u001b[0m\n\u001b[0m\u001b[1;32m    101\u001b[0m         \u001b[0;32mreturn\u001b[0m \u001b[0minput\u001b[0m\u001b[0;34m\u001b[0m\u001b[0;34m\u001b[0m\u001b[0m\n\u001b[1;32m    102\u001b[0m \u001b[0;34m\u001b[0m\u001b[0m\n",
      "\u001b[0;32m/opt/conda/lib/python3.7/site-packages/torch/nn/modules/module.py\u001b[0m in \u001b[0;36m__call__\u001b[0;34m(self, *input, **kwargs)\u001b[0m\n\u001b[1;32m    548\u001b[0m             \u001b[0mresult\u001b[0m \u001b[0;34m=\u001b[0m \u001b[0mself\u001b[0m\u001b[0;34m.\u001b[0m\u001b[0m_slow_forward\u001b[0m\u001b[0;34m(\u001b[0m\u001b[0;34m*\u001b[0m\u001b[0minput\u001b[0m\u001b[0;34m,\u001b[0m \u001b[0;34m**\u001b[0m\u001b[0mkwargs\u001b[0m\u001b[0;34m)\u001b[0m\u001b[0;34m\u001b[0m\u001b[0;34m\u001b[0m\u001b[0m\n\u001b[1;32m    549\u001b[0m         \u001b[0;32melse\u001b[0m\u001b[0;34m:\u001b[0m\u001b[0;34m\u001b[0m\u001b[0;34m\u001b[0m\u001b[0m\n\u001b[0;32m--> 550\u001b[0;31m             \u001b[0mresult\u001b[0m \u001b[0;34m=\u001b[0m \u001b[0mself\u001b[0m\u001b[0;34m.\u001b[0m\u001b[0mforward\u001b[0m\u001b[0;34m(\u001b[0m\u001b[0;34m*\u001b[0m\u001b[0minput\u001b[0m\u001b[0;34m,\u001b[0m \u001b[0;34m**\u001b[0m\u001b[0mkwargs\u001b[0m\u001b[0;34m)\u001b[0m\u001b[0;34m\u001b[0m\u001b[0;34m\u001b[0m\u001b[0m\n\u001b[0m\u001b[1;32m    551\u001b[0m         \u001b[0;32mfor\u001b[0m \u001b[0mhook\u001b[0m \u001b[0;32min\u001b[0m \u001b[0mself\u001b[0m\u001b[0;34m.\u001b[0m\u001b[0m_forward_hooks\u001b[0m\u001b[0;34m.\u001b[0m\u001b[0mvalues\u001b[0m\u001b[0;34m(\u001b[0m\u001b[0;34m)\u001b[0m\u001b[0;34m:\u001b[0m\u001b[0;34m\u001b[0m\u001b[0;34m\u001b[0m\u001b[0m\n\u001b[1;32m    552\u001b[0m             \u001b[0mhook_result\u001b[0m \u001b[0;34m=\u001b[0m \u001b[0mhook\u001b[0m\u001b[0;34m(\u001b[0m\u001b[0mself\u001b[0m\u001b[0;34m,\u001b[0m \u001b[0minput\u001b[0m\u001b[0;34m,\u001b[0m \u001b[0mresult\u001b[0m\u001b[0;34m)\u001b[0m\u001b[0;34m\u001b[0m\u001b[0;34m\u001b[0m\u001b[0m\n",
      "\u001b[0;32m/opt/conda/lib/python3.7/site-packages/torch/nn/modules/conv.py\u001b[0m in \u001b[0;36mforward\u001b[0;34m(self, input)\u001b[0m\n\u001b[1;32m    479\u001b[0m                             self.dilation, self.groups)\n\u001b[1;32m    480\u001b[0m         return F.conv3d(input, self.weight, self.bias, self.stride,\n\u001b[0;32m--> 481\u001b[0;31m                         self.padding, self.dilation, self.groups)\n\u001b[0m\u001b[1;32m    482\u001b[0m \u001b[0;34m\u001b[0m\u001b[0m\n\u001b[1;32m    483\u001b[0m \u001b[0;34m\u001b[0m\u001b[0m\n",
      "\u001b[0;31mRuntimeError\u001b[0m: Expected 5-dimensional input for 5-dimensional weight [10, 10, 3, 3, 3], but got 4-dimensional input of size [20, 10, 224, 224] instead"
     ]
    }
   ],
   "source": [
    "sep=sepConv3dBlock(10,10)\n",
    "sep(bf)"
   ]
  },
  {
   "cell_type": "code",
   "execution_count": 66,
   "metadata": {},
   "outputs": [
    {
     "name": "stdout",
     "output_type": "stream",
     "text": [
      "torch.Size([5, 32, 3, 224, 224])\n"
     ]
    },
    {
     "data": {
      "text/plain": [
       "torch.Size([5, 32, 3, 224, 224])"
      ]
     },
     "execution_count": 66,
     "metadata": {},
     "output_type": "execute_result"
    }
   ],
   "source": [
    "conv1 = sepConv3d(32, 32, 3, 1, 1)\n",
    "down=projfeat3d(32, 32,[1])\n",
    "x=torch.rand(5,32,3,224,224)\n",
    "x=conv1(x)\n",
    "print(x.shape)\n",
    "down(x).shape"
   ]
  },
  {
   "cell_type": "code",
   "execution_count": 51,
   "metadata": {},
   "outputs": [
    {
     "name": "stdout",
     "output_type": "stream",
     "text": [
      "torch.Size([5, 32, 3, 10, 10])\n",
      "downsampling\n",
      "torch.Size([5, 32, 3, 10, 10])\n"
     ]
    },
    {
     "data": {
      "text/plain": [
       "torch.Size([5, 32, 3, 10, 10])"
      ]
     },
     "execution_count": 51,
     "metadata": {},
     "output_type": "execute_result"
    }
   ],
   "source": [
    "x=torch.rand(5,64,3,10,10)\n",
    "sep=sepConv3dBlock(64,32)\n",
    "sep(x).shape"
   ]
  },
  {
   "cell_type": "code",
   "execution_count": 43,
   "metadata": {},
   "outputs": [
    {
     "data": {
      "text/plain": [
       "(tensor([[1., 1., 1.,  ..., 1., 1., 1.],\n",
       "         [1., 1., 1.,  ..., 1., 1., 1.],\n",
       "         [1., 1., 1.,  ..., 1., 1., 1.],\n",
       "         ...,\n",
       "         [1., 1., 1.,  ..., 1., 1., 1.],\n",
       "         [1., 1., 1.,  ..., 1., 1., 1.],\n",
       "         [1., 1., 1.,  ..., 1., 1., 1.]]),\n",
       " tensor([[1.0000, 1.0000, 1.0000,  ..., 1.0000, 1.0000, 1.0000],\n",
       "         [1.0000, 1.0000, 1.0000,  ..., 1.0000, 1.0000, 1.0000],\n",
       "         [1.0000, 1.0000, 1.0000,  ..., 1.0000, 1.0000, 1.0000],\n",
       "         ...,\n",
       "         [0.1844, 0.1859, 0.1874,  ..., 0.0780, 0.0780, 0.0775],\n",
       "         [0.1844, 0.1859, 0.1874,  ..., 0.0780, 0.0780, 0.0775],\n",
       "         [0.1844, 0.1859, 0.1874,  ..., 0.0780, 0.0780, 0.0775]]))"
      ]
     },
     "execution_count": 43,
     "metadata": {},
     "output_type": "execute_result"
    }
   ],
   "source": [
    "foc_ar[0,0,:,:],blur[0,0,:,:]"
   ]
  },
  {
   "cell_type": "code",
   "execution_count": 62,
   "metadata": {},
   "outputs": [
    {
     "data": {
      "text/plain": [
       "tensor([[0.0714, 0.0714, 0.0714,  ..., 0.0714, 0.0714, 0.0714],\n",
       "        [0.0714, 0.0714, 0.0714,  ..., 0.0714, 0.0714, 0.0714],\n",
       "        [0.0714, 0.0714, 0.0714,  ..., 0.0714, 0.0714, 0.0714],\n",
       "        ...,\n",
       "        [0.0714, 0.0714, 0.0714,  ..., 0.0714, 0.0714, 0.0714],\n",
       "        [0.0714, 0.0714, 0.0714,  ..., 0.0714, 0.0714, 0.0714],\n",
       "        [0.0714, 0.0714, 0.0714,  ..., 0.0714, 0.0714, 0.0714]])"
      ]
     },
     "execution_count": 62,
     "metadata": {},
     "output_type": "execute_result"
    }
   ],
   "source": [
    "bf[0,9,:,:]"
   ]
  },
  {
   "cell_type": "code",
   "execution_count": 61,
   "metadata": {},
   "outputs": [],
   "source": [
    "#! /usr/bin/python3\n",
    "\n",
    "import os\n",
    "import numpy as np\n",
    "from torch.utils.data import Dataset\n",
    "import torchvision\n",
    "import torch\n",
    "import h5py\n",
    "from dataloader import CameraLens\n",
    "\n",
    "# code adopted from https://github.com/soyers/ddff-pytorch/blob/master/python/ddff/dataproviders/datareaders/FocalStackDDFFH5Reader.py\n",
    "\n",
    "\n",
    "class DDFF12Loader(Dataset):\n",
    "\n",
    "    def __init__(self, hdf5_filename,  stack_key=\"stack_train\", disp_key=\"disp_train\", transform=None,\n",
    "                 n_stack=10, min_disp=0.02, max_disp=0.28, b_test=False):\n",
    "        \"\"\"\n",
    "        Args:\n",
    "            root_dir_fs (string): Directory with all focal stacks of all image datasets.\n",
    "            root_dir_depth (string): Directory with all depth images of all image datasets.\n",
    "            transform (callable, optional): Optional transform to be applied\n",
    "                on a sample.\n",
    "        \"\"\"\n",
    "        # Disable opencv threading since it leads to deadlocks in PyTorch DataLoader\n",
    "        self.hdf5 = h5py.File(hdf5_filename, 'r')\n",
    "        self.stack_key = stack_key\n",
    "        self.disp_key = disp_key\n",
    "        self.max_n_stack = 10\n",
    "        self.b_test = b_test\n",
    "        self.camera=CameraLens(9.5*1e-3,f_number=2)\n",
    "        self.max_disp=max_disp\n",
    "\n",
    "        assert n_stack <= self.max_n_stack, 'DDFF12 has maximum 10 images per stack!'\n",
    "        self.n_stack = n_stack\n",
    "        self.disp_dist = torch.linspace(max_disp,min_disp, steps=self.max_n_stack)/max_disp\n",
    "\n",
    "        if transform is None:\n",
    "            if 'train' in self.stack_key:\n",
    "                self.transform = self.__create_preprocessing(crop_size=(224, 224), cliprange=None, b_filp=True)\n",
    "            else:\n",
    "                transform_test = [DDFF12Loader.ToTensor(),\n",
    "                                  DDFF12Loader.PadSamples((384, 576)),\n",
    "                                  DDFF12Loader.Normalize(mean_input=[0.485, 0.456, 0.406],\n",
    "                                                         std_input=[0.229, 0.224, 0.225])]\n",
    "                self.transform =  torchvision.transforms.Compose(transform_test) #self.__create_preprocessing()\n",
    "        else:\n",
    "            self.transform = transform\n",
    "\n",
    "    def __len__(self):\n",
    "        return self.hdf5[self.stack_key].shape[0]\n",
    "\n",
    "    def __getitem__(self, idx):\n",
    "        # Create sample dict\n",
    "        try:\n",
    "            if 'test' in self.stack_key:\n",
    "                sample =  {'input': self.hdf5[self.stack_key][idx].astype(float), 'output': np.ones([2,2])}\n",
    "            else:\n",
    "                sample = {'input': self.hdf5[self.stack_key][idx].astype(float), 'output': self.hdf5[self.disp_key][idx]}\n",
    "        except:\n",
    "            sample = None\n",
    "            for _ in range(100):\n",
    "                sample = {'input': self.hdf5[self.stack_key][idx].astype(float), 'output': self.hdf5[self.disp_key][idx]}\n",
    "                if sample is not None:\n",
    "                    break\n",
    "            if sample is None:\n",
    "                a =  self.hdf5[self.stack_key][idx].astype(float)\n",
    "                b = self.hdf5[self.disp_key][idx]\n",
    "                print(len(self.hdf5[self.stack_key]), idx, a is None, b is None)\n",
    "                exit(1)\n",
    "        sample['output']=sample['output']/self.max_disp   \n",
    "        blur_list=[]\n",
    "        for i in range(self.max_n_stack):\n",
    "            blur = self.camera.get_coc(self.disp_dist[i].item(), sample['output'])\n",
    "            blur = np.clip(blur, 0, 6.908e-4)/6.908e-4\n",
    "            blur_list.append(blur)\n",
    "        blur_list=np.stack(blur_list).squeeze()\n",
    "        sample['blur']=blur_list\n",
    "\n",
    "        # Transform sample with data augmentation transformers\n",
    "        if self.transform :\n",
    "            sample_out = self.transform(sample)\n",
    "\n",
    "        # we do not experiment more than 10\n",
    "        if self.n_stack < self.max_n_stack:\n",
    "            if 'train' in self.disp_key:\n",
    "                rand_idx = np.random.choice(self.max_n_stack, self.n_stack, replace=False) # this will shuffle order as well\n",
    "                rand_idx = np.sort(rand_idx)\n",
    "            else:\n",
    "                rand_idx = np.linspace(0, 9, self.n_stack)\n",
    "\n",
    "            out_imgs = sample_out['input'][rand_idx]\n",
    "            out_disp = sample_out['output']\n",
    "            disp_dist = self.disp_dist[rand_idx]\n",
    "            blur_imgs=torch.tensor(sample_out['blur'])[rand_idx]\n",
    "        else:\n",
    "            out_imgs=sample_out['input']\n",
    "            out_disp=sample_out['output']\n",
    "            disp_dist=self.disp_dist\n",
    "            blur_imgs=sample_out['blur']\n",
    "\n",
    "        if 'val' in self.disp_key and (not self.b_test):\n",
    "            out_disp = out_disp[:, :256, :256]\n",
    "            out_imgs = out_imgs[:,:, :256, :256]\n",
    "            blur_imgs=blur_imgs[:, :256, :256]\n",
    "        \n",
    "        \n",
    "        return out_imgs,out_disp,blur_imgs,disp_dist\n",
    "    \n",
    "    def __create_preprocessing(self, crop_size=None, cliprange=[0.0202, 0.2825], mean=[0.485, 0.456, 0.406],\n",
    "                               std=[0.229, 0.224, 0.225], b_filp=True):\n",
    "        # The real data mean and std\n",
    "        # mean [0.40134945 0.48795037 0.45252803], std [0.14938343, 0.15709994, 0.1496986]\n",
    "        if b_filp:\n",
    "            transform = [self.RandomFilp(), self.ToTensor()]\n",
    "        else:\n",
    "            transform = [self.ToTensor()]\n",
    "\n",
    "        if cliprange is not None:\n",
    "            transform += [self.ClipGroundTruth(cliprange[0], cliprange[1])]\n",
    "        if crop_size is not None:\n",
    "            transform += [self.RandomCrop(crop_size)]\n",
    "        if mean is not None and std is not None:\n",
    "            transform += [self.Normalize(mean_input=mean, std_input=std)]\n",
    "        transform = torchvision.transforms.Compose(transform)\n",
    "        return transform\n",
    "\n",
    "    def get_stack_size(self):\n",
    "        return self.__getitem__(0)['input'].shape[0]\n",
    "\n",
    "    class ToTensor(object):\n",
    "        \"\"\"Convert ndarrays in sample to Tensors.\"\"\"\n",
    "\n",
    "        def __call__(self, sample):\n",
    "            # Add color dimension to depth map\n",
    "            sample['output'] = np.expand_dims(sample['output'], axis=0)\n",
    "            # swap color axis because\n",
    "            # numpy image: H x W x C\n",
    "            # torch image: C X H X W\n",
    "            sample['input'] = torch.from_numpy(sample['input'].transpose((0, 3, 1, 2))).float().div(255) #I add div 255\n",
    "            sample['output'] = torch.from_numpy(sample['output']).float()\n",
    "            return sample\n",
    "\n",
    "    class Normalize(object):\n",
    "        def __init__(self, mean_input, std_input, mean_output=None, std_output=None):\n",
    "            self.mean_input = mean_input\n",
    "            self.std_input = std_input\n",
    "            self.mean_output = mean_output\n",
    "            self.std_output = std_output\n",
    "\n",
    "        def __call__(self, sample):\n",
    "            img_lst = []\n",
    "            samples = sample['input']\n",
    "\n",
    "            for i, sample_input in enumerate(samples):\n",
    "                img_lst.append(torchvision.transforms.functional.normalize(sample_input, mean=self.mean_input, std=self.std_input))\n",
    "            input_images = torch.stack(img_lst)\n",
    "\n",
    "            if self.mean_output is None or self.std_output is None:\n",
    "                output_image = sample['output']\n",
    "            else:\n",
    "                output_image = torchvision.transforms.functional.normalize(sample['output'], mean=self.mean_output,\n",
    "                                                                    std=self.std_output)\n",
    "\n",
    "\n",
    "            return {'input': input_images, 'output': output_image,'blur':sample['blur']}\n",
    "\n",
    "    class ClipGroundTruth(object):\n",
    "        def __init__(self, lower_bound, upper_bound):\n",
    "            self.lower_bound = lower_bound\n",
    "            self.upper_bound = upper_bound\n",
    "\n",
    "        def __call__(self, sample):\n",
    "            sample['output'][sample['output'] < self.lower_bound] = 0.0\n",
    "            sample['output'][sample['output'] > self.upper_bound] = 0.0\n",
    "            return sample\n",
    "\n",
    "    class RandomFilp(object):\n",
    "        \"\"\" Randomly crop images\n",
    "        \"\"\"\n",
    "\n",
    "        def __init__(self, ratio=0.5):\n",
    "            self.ratio = ratio\n",
    "\n",
    "        def __call__(self, sample):\n",
    "            inputs, target,blur = sample['input'], sample['output'],sample['blur']\n",
    "\n",
    "            # hori filp\n",
    "            if np.random.binomial(1, self.ratio):\n",
    "                inputs = inputs[:, :, ::-1]\n",
    "                blur = blur[:, ::-1]\n",
    "                target = target[:, ::-1]\n",
    "\n",
    "            # vert flip\n",
    "            if np.random.binomial(1, self.ratio):\n",
    "                inputs = inputs[:, ::-1]\n",
    "                blur = blur[::-1]\n",
    "                target = target[::-1]\n",
    "\n",
    "            return {'input': np.ascontiguousarray(inputs), 'output': np.ascontiguousarray(target),'blur':np.ascontiguousarray(blur)}\n",
    "\n",
    "\n",
    "    class RandomCrop(object):\n",
    "        def __init__(self, output_size, valid_crop_threshold=0.8):\n",
    "            assert isinstance(output_size, (int, tuple))\n",
    "            if isinstance(output_size, int):\n",
    "                self.output_size = (output_size, output_size)\n",
    "            else:\n",
    "                assert len(output_size) == 2\n",
    "                self.output_size = output_size\n",
    "            self.valid_crop_threshold = valid_crop_threshold\n",
    "\n",
    "        def __is_valid_crop(self, output_image, valid_pixel_cond=lambda x: x >= 0.01):\n",
    "            valid_occurrances = valid_pixel_cond(output_image).sum()\n",
    "            all_occurances = np.prod(output_image.shape)\n",
    "            return (float(valid_occurrances) / float(all_occurances)) >= self.valid_crop_threshold\n",
    "\n",
    "        def __call__(self, sample):\n",
    "            h, w = sample['input'].shape[2:4]\n",
    "            new_h, new_w = self.output_size\n",
    "\n",
    "            # Generate list of possible random crops\n",
    "            candidates = np.asarray([(x, y) for y in range(h - new_h) for x in range(w - new_w)])\n",
    "            np.random.shuffle(candidates)\n",
    "\n",
    "            # Iterate through candidates and choose forst valid crop\n",
    "            for x, y in candidates:\n",
    "                output_image = sample['output'][:, y:(y + new_h), x:(x + new_w)]\n",
    "                if self.__is_valid_crop(output_image):\n",
    "                    input_images = sample['input'][:, :, y:(y + new_h), x:(x + new_w)]\n",
    "                    blur = sample['blur'][:, y:(y + new_h), x:(x + new_w)]\n",
    "                    return {'input': input_images, 'output': output_image,'blur':blur}\n",
    "\n",
    "            # No valid crop found. Return any crop\n",
    "            top = np.random.randint(0, h - new_h)\n",
    "            left = np.random.randint(0, w - new_w)\n",
    "            input_images =  sample['input'][:, :, top:(top + new_h), left:(left + new_w)]\n",
    "            blur =  sample['blur'][:, top:(top + new_h), left:(left + new_w)]\n",
    "            output_image = sample['output'][:, top:(top + new_h), left:(left + new_w)]\n",
    "            return {'input': input_images, 'output': output_image,'blur':blur}\n",
    "\n",
    "    class PadSamples(object):\n",
    "        def __init__(self, output_size, ground_truth_pad_value=0.0):\n",
    "            assert isinstance(output_size, (int, tuple))\n",
    "            if isinstance(output_size, int):\n",
    "                self.output_size = (output_size, output_size)\n",
    "            else:\n",
    "                assert len(output_size) == 2\n",
    "                self.output_size = output_size\n",
    "            self.ground_truth_pad_value = ground_truth_pad_value\n",
    "\n",
    "        def __call__(self, sample):\n",
    "            h, w = sample['input'].shape[2:4]\n",
    "            new_h, new_w = self.output_size\n",
    "            padh = np.int32(new_h - h)\n",
    "            padw = np.int32(new_w - w)\n",
    "            sample['input'] = torch.stack(\n",
    "                [torch.from_numpy(np.pad(sample_input.numpy(), ((0, 0), (0, padh), (0, padw)), mode=\"reflect\")).float()\n",
    "                 for sample_input in sample['input']])\n",
    "            sample['output'] = torch.from_numpy(\n",
    "                np.pad(sample['output'].numpy(), ((0, 0), (0, padh), (0, padw)), mode=\"constant\",\n",
    "                       constant_values=self.ground_truth_pad_value)).float()\n",
    "\n",
    "            return sample\n",
    "\n",
    "    class RandomSubStack(object):\n",
    "        def __init__(self, output_size):\n",
    "            self.output_size = output_size\n",
    "\n",
    "        def __call__(self, sample):\n",
    "            sample['input'] = torch.stack([sample['input'][i] for i in\n",
    "                                           np.random.choice(sample['input'].shape[0], self.output_size, replace=False)])\n",
    "            return sample\n"
   ]
  },
  {
   "cell_type": "code",
   "execution_count": null,
   "metadata": {},
   "outputs": [],
   "source": []
  }
 ],
 "metadata": {
  "kernelspec": {
   "display_name": "Python 3",
   "language": "python",
   "name": "python3"
  },
  "language_info": {
   "codemirror_mode": {
    "name": "ipython",
    "version": 3
   },
   "file_extension": ".py",
   "mimetype": "text/x-python",
   "name": "python",
   "nbconvert_exporter": "python",
   "pygments_lexer": "ipython3",
   "version": "3.7.7"
  }
 },
 "nbformat": 4,
 "nbformat_minor": 4
}
