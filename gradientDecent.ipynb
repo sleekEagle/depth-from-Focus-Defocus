{
 "cells": [
  {
   "cell_type": "code",
   "execution_count": 1,
   "metadata": {},
   "outputs": [],
   "source": [
    "import numpy as np\n",
    "import torch\n",
    "from torch import nn\n",
    "import torch.nn.functional as F"
   ]
  },
  {
   "cell_type": "code",
   "execution_count": 5,
   "metadata": {},
   "outputs": [],
   "source": [
    "inputs = np.array([[73, 67, 43], \n",
    "                   [91, 88, 64], \n",
    "                   [87, 134, 58], \n",
    "                   [102, 43, 37], \n",
    "                   [69, 96, 70]], dtype='float32')\n",
    "targets = np.array([[56, 70], \n",
    "                    [81, 101], \n",
    "                    [119, 133], \n",
    "                    [22, 37], \n",
    "                    [103, 119]], dtype='float32') \n",
    "\n",
    "inputs = torch.from_numpy(inputs)\n",
    "targets = torch.from_numpy(targets)\n",
    "\n",
    "# Weights and biases\n",
    "w = torch.randn(2, 3, requires_grad=True)   # size of (2,3) matrix.\n",
    "b = torch.randn(2, requires_grad=True)      # bias vector of size 2."
   ]
  },
  {
   "cell_type": "code",
   "execution_count": 7,
   "metadata": {},
   "outputs": [
    {
     "data": {
      "text/plain": [
       "torch.Size([5, 3])"
      ]
     },
     "execution_count": 7,
     "metadata": {},
     "output_type": "execute_result"
    }
   ],
   "source": [
    "inputs.shape"
   ]
  },
  {
   "cell_type": "code",
   "execution_count": 8,
   "metadata": {},
   "outputs": [
    {
     "data": {
      "text/plain": [
       "tensor([[   9.1055,  -36.0599],\n",
       "        [  15.7757,  -59.7734],\n",
       "        [  30.9698, -108.9367],\n",
       "        [ -12.9339,   26.3399],\n",
       "        [  29.5279,  -97.2429]], grad_fn=<AddBackward0>)"
      ]
     },
     "execution_count": 8,
     "metadata": {},
     "output_type": "execute_result"
    }
   ],
   "source": [
    "inputs @ w.t() + b"
   ]
  },
  {
   "cell_type": "code",
   "execution_count": 9,
   "metadata": {},
   "outputs": [],
   "source": [
    "def model(x):\n",
    "    return x @ w.t() + b"
   ]
  },
  {
   "cell_type": "code",
   "execution_count": 10,
   "metadata": {},
   "outputs": [],
   "source": [
    "preds = model(inputs)"
   ]
  },
  {
   "cell_type": "code",
   "execution_count": 17,
   "metadata": {},
   "outputs": [],
   "source": [
    "mse = nn.MSELoss()\n",
    "loss=mse(preds,targets)"
   ]
  },
  {
   "cell_type": "code",
   "execution_count": 19,
   "metadata": {},
   "outputs": [
    {
     "ename": "RuntimeError",
     "evalue": "Trying to backward through the graph a second time, but the buffers have already been freed. Specify retain_graph=True when calling backward the first time.",
     "output_type": "error",
     "traceback": [
      "\u001b[0;31m---------------------------------------------------------------------------\u001b[0m",
      "\u001b[0;31mRuntimeError\u001b[0m                              Traceback (most recent call last)",
      "\u001b[0;32m<ipython-input-19-52a0569421b1>\u001b[0m in \u001b[0;36m<module>\u001b[0;34m\u001b[0m\n\u001b[0;32m----> 1\u001b[0;31m \u001b[0mloss\u001b[0m\u001b[0;34m.\u001b[0m\u001b[0mbackward\u001b[0m\u001b[0;34m(\u001b[0m\u001b[0;34m)\u001b[0m\u001b[0;34m\u001b[0m\u001b[0;34m\u001b[0m\u001b[0m\n\u001b[0m",
      "\u001b[0;32m/opt/conda/lib/python3.7/site-packages/torch/tensor.py\u001b[0m in \u001b[0;36mbackward\u001b[0;34m(self, gradient, retain_graph, create_graph)\u001b[0m\n\u001b[1;32m    196\u001b[0m                 \u001b[0mproducts\u001b[0m\u001b[0;34m.\u001b[0m \u001b[0mDefaults\u001b[0m \u001b[0mto\u001b[0m\u001b[0;31m \u001b[0m\u001b[0;31m`\u001b[0m\u001b[0;31m`\u001b[0m\u001b[0;32mFalse\u001b[0m\u001b[0;31m`\u001b[0m\u001b[0;31m`\u001b[0m\u001b[0;34m.\u001b[0m\u001b[0;34m\u001b[0m\u001b[0;34m\u001b[0m\u001b[0m\n\u001b[1;32m    197\u001b[0m         \"\"\"\n\u001b[0;32m--> 198\u001b[0;31m         \u001b[0mtorch\u001b[0m\u001b[0;34m.\u001b[0m\u001b[0mautograd\u001b[0m\u001b[0;34m.\u001b[0m\u001b[0mbackward\u001b[0m\u001b[0;34m(\u001b[0m\u001b[0mself\u001b[0m\u001b[0;34m,\u001b[0m \u001b[0mgradient\u001b[0m\u001b[0;34m,\u001b[0m \u001b[0mretain_graph\u001b[0m\u001b[0;34m,\u001b[0m \u001b[0mcreate_graph\u001b[0m\u001b[0;34m)\u001b[0m\u001b[0;34m\u001b[0m\u001b[0;34m\u001b[0m\u001b[0m\n\u001b[0m\u001b[1;32m    199\u001b[0m \u001b[0;34m\u001b[0m\u001b[0m\n\u001b[1;32m    200\u001b[0m     \u001b[0;32mdef\u001b[0m \u001b[0mregister_hook\u001b[0m\u001b[0;34m(\u001b[0m\u001b[0mself\u001b[0m\u001b[0;34m,\u001b[0m \u001b[0mhook\u001b[0m\u001b[0;34m)\u001b[0m\u001b[0;34m:\u001b[0m\u001b[0;34m\u001b[0m\u001b[0;34m\u001b[0m\u001b[0m\n",
      "\u001b[0;32m/opt/conda/lib/python3.7/site-packages/torch/autograd/__init__.py\u001b[0m in \u001b[0;36mbackward\u001b[0;34m(tensors, grad_tensors, retain_graph, create_graph, grad_variables)\u001b[0m\n\u001b[1;32m     98\u001b[0m     Variable._execution_engine.run_backward(\n\u001b[1;32m     99\u001b[0m         \u001b[0mtensors\u001b[0m\u001b[0;34m,\u001b[0m \u001b[0mgrad_tensors\u001b[0m\u001b[0;34m,\u001b[0m \u001b[0mretain_graph\u001b[0m\u001b[0;34m,\u001b[0m \u001b[0mcreate_graph\u001b[0m\u001b[0;34m,\u001b[0m\u001b[0;34m\u001b[0m\u001b[0;34m\u001b[0m\u001b[0m\n\u001b[0;32m--> 100\u001b[0;31m         allow_unreachable=True)  # allow_unreachable flag\n\u001b[0m\u001b[1;32m    101\u001b[0m \u001b[0;34m\u001b[0m\u001b[0m\n\u001b[1;32m    102\u001b[0m \u001b[0;34m\u001b[0m\u001b[0m\n",
      "\u001b[0;31mRuntimeError\u001b[0m: Trying to backward through the graph a second time, but the buffers have already been freed. Specify retain_graph=True when calling backward the first time."
     ]
    }
   ],
   "source": [
    "loss.backward()"
   ]
  },
  {
   "cell_type": "code",
   "execution_count": 20,
   "metadata": {},
   "outputs": [
    {
     "data": {
      "text/plain": [
       "tensor([[ -5130.0347,  -5846.6396,  -3546.4346],\n",
       "        [-11885.8672, -14978.2588,  -8882.7656]])"
      ]
     },
     "execution_count": 20,
     "metadata": {},
     "output_type": "execute_result"
    }
   ],
   "source": [
    "w.grad"
   ]
  },
  {
   "cell_type": "code",
   "execution_count": null,
   "metadata": {},
   "outputs": [],
   "source": []
  },
  {
   "cell_type": "code",
   "execution_count": null,
   "metadata": {},
   "outputs": [],
   "source": [
    "'''\n",
    "with pytorch optimizer\n",
    "'''"
   ]
  },
  {
   "cell_type": "code",
   "execution_count": 22,
   "metadata": {},
   "outputs": [],
   "source": [
    "inputs = np.array([[73, 67, 43], \n",
    "                   [91, 88, 64], \n",
    "                   [87, 134, 58], \n",
    "                   [102, 43, 37], \n",
    "                   [69, 96, 70]], dtype='float32')\n",
    "targets = np.array([[56, 70], \n",
    "                    [81, 101], \n",
    "                    [119, 133], \n",
    "                    [22, 37], \n",
    "                    [103, 119]], dtype='float32') \n",
    "\n",
    "inputs = torch.from_numpy(inputs)\n",
    "targets = torch.from_numpy(targets)"
   ]
  },
  {
   "cell_type": "code",
   "execution_count": 23,
   "metadata": {},
   "outputs": [],
   "source": [
    "model = nn.Linear(3, 2)"
   ]
  },
  {
   "cell_type": "code",
   "execution_count": 29,
   "metadata": {},
   "outputs": [],
   "source": [
    "preds=model(inputs)\n",
    "loss_fn = F.mse_loss\n",
    "loss = loss_fn(model(inputs), targets)\n",
    "opt = torch.optim.SGD(model.parameters(), lr=1e-5)\n",
    "loss.backward()"
   ]
  },
  {
   "cell_type": "code",
   "execution_count": 31,
   "metadata": {},
   "outputs": [],
   "source": [
    "opt.step()\n",
    "opt.zero_grad()"
   ]
  },
  {
   "cell_type": "code",
   "execution_count": null,
   "metadata": {},
   "outputs": [],
   "source": []
  },
  {
   "cell_type": "code",
   "execution_count": null,
   "metadata": {},
   "outputs": [],
   "source": []
  },
  {
   "cell_type": "code",
   "execution_count": null,
   "metadata": {},
   "outputs": [],
   "source": [
    "'''\n",
    "solving our problem\n",
    "no normalization\n",
    "'''"
   ]
  },
  {
   "cell_type": "code",
   "execution_count": 2,
   "metadata": {},
   "outputs": [
    {
     "name": "stdout",
     "output_type": "stream",
     "text": [
      "The autoreload extension is already loaded. To reload it, use:\n",
      "  %reload_ext autoreload\n"
     ]
    }
   ],
   "source": [
    "from __future__ import print_function\n",
    "import argparse\n",
    "import os\n",
    "import random\n",
    "import torch\n",
    "import torch.nn as nn\n",
    "import torch.backends.cudnn as cudnn\n",
    "import torch.optim as optim\n",
    "import torch.utils.data\n",
    "from torch.autograd import Variable\n",
    "import torch.nn.functional as F\n",
    "import time\n",
    "import models\n",
    "from utils import logger, write_log\n",
    "torch.backends.cudnn.benchmark=True\n",
    "from glob import glob\n",
    "import importlib\n",
    "%load_ext autoreload\n",
    "%autoreload 2\n",
    "%matplotlib inline\n",
    "import matplotlib.pyplot as plt\n",
    "from models import DFFNet\n",
    "from dataloader import FoD500Loader\n",
    "\n",
    "bs=6\n",
    "f_dist=[0.1, 0.15, 0.3, 0.7, 1.5]\n",
    "s_init=torch.rand((1,1,256,256),requires_grad=True)\n",
    "\n",
    "database = '/scratch/lnw8px/depth-from-Focus-Defocus/defocus-net/data/fs_6/'\n",
    "FoD500_train, FoD500_val = FoD500Loader(database, n_stack=5, scale=1)\n",
    "FoD500_train, FoD500_val =  [FoD500_train], [FoD500_val]\n",
    "dataset_train = torch.utils.data.ConcatDataset(FoD500_train)\n",
    "dataset_val = torch.utils.data.ConcatDataset(FoD500_val)\n",
    "TrainImgLoader = torch.utils.data.DataLoader(dataset=dataset_train, num_workers=4, batch_size=bs, shuffle=True, drop_last=True)\n",
    "ValImgLoader = torch.utils.data.DataLoader(dataset=dataset_val, num_workers=1, batch_size=bs, shuffle=False, drop_last=True)\n",
    "\n",
    "for batch_idx, (img_stack_in, disp,coc_stack,foc_dist) in enumerate(TrainImgLoader):\n",
    "    break\n",
    "img_stack_in=Variable(torch.FloatTensor(img_stack_in))\n",
    "gt_disp=Variable(torch.FloatTensor(disp))\n",
    "img_stack,gt_disp,foc_dist,blur_stack=img_stack_in,gt_disp,foc_dist,coc_stack"
   ]
  },
  {
   "cell_type": "code",
   "execution_count": null,
   "metadata": {},
   "outputs": [],
   "source": [
    "f_dist=torch.tensor([0.1, 0.15, 0.3, 0.7, 1.5])\n",
    "min_f=torch.min(f_dist).unsqueeze(0).repeat_interleave(5,dim=0)\n",
    "s=gt_disp[0,0,100,100].unsqueeze(0).repeat_interleave(5,dim=0)\n",
    "N=1.0\n",
    "f=2.9 * 1e-3\n",
    "c=blur_stack[0,:,100,100]\n",
    "c_norm=c/torch.max(c)\n",
    "s,c_norm"
   ]
  },
  {
   "cell_type": "code",
   "execution_count": 14,
   "metadata": {},
   "outputs": [
    {
     "data": {
      "text/plain": [
       "tensor([1.0000, 0.6183, 0.2441, 0.0335, 0.0501])"
      ]
     },
     "execution_count": 14,
     "metadata": {},
     "output_type": "execute_result"
    }
   ],
   "source": [
    "f_dist=torch.tensor([0.1, 0.15, 0.3, 0.7, 1.5])\n",
    "min_f=torch.min(f_dist).unsqueeze(0).repeat_interleave(5,dim=0)\n",
    "s=torch.tensor([0.89]*5)\n",
    "N=1.0\n",
    "f=2.9 * 1e-3\n",
    "f=torch.tensor([f]*5)\n",
    "c=abs(s-f_dist)*f**2/(s*N*(f_dist-f))\n",
    "c_norm=c/torch.max(c)\n",
    "c_norm"
   ]
  },
  {
   "cell_type": "code",
   "execution_count": 21,
   "metadata": {},
   "outputs": [
    {
     "data": {
      "text/plain": [
       "tensor([ True,  True,  True,  True, False])"
      ]
     },
     "execution_count": 21,
     "metadata": {},
     "output_type": "execute_result"
    }
   ],
   "source": [
    "s>f_dist"
   ]
  },
  {
   "cell_type": "code",
   "execution_count": 19,
   "metadata": {},
   "outputs": [
    {
     "data": {
      "text/plain": [
       "tensor([   nan, 0.8900, 0.8900, 0.8900, 6.2444])"
      ]
     },
     "execution_count": 19,
     "metadata": {},
     "output_type": "execute_result"
    }
   ],
   "source": [
    "(min_f*c_norm*(f_dist-f)-f_dist*(min_f-f))/(c_norm*(f_dist-f)+f-min_f)"
   ]
  },
  {
   "cell_type": "code",
   "execution_count": null,
   "metadata": {},
   "outputs": [],
   "source": []
  },
  {
   "cell_type": "code",
   "execution_count": 22,
   "metadata": {},
   "outputs": [
    {
     "data": {
      "text/plain": [
       "tensor([ 0.0000, -0.0061, -0.0246, -0.0737, -0.0221])"
      ]
     },
     "execution_count": 22,
     "metadata": {},
     "output_type": "execute_result"
    }
   ],
   "source": [
    "c_norm*(f_dist-f)+f-min_f"
   ]
  },
  {
   "cell_type": "code",
   "execution_count": 142,
   "metadata": {},
   "outputs": [],
   "source": [
    "s_est=torch.tensor([0.1]*5,requires_grad=True)\n",
    "min_f=torch.min(f_dist).unsqueeze(0).repeat_interleave(5,dim=0)\n",
    "opt = torch.optim.SGD(params=[s_est] , lr = 1e-5)"
   ]
  },
  {
   "cell_type": "code",
   "execution_count": 38,
   "metadata": {},
   "outputs": [],
   "source": [
    "c_est=(abs(s_est-f_dist)/(f_dist-f))/((s_est-min_f)/(min_f-f))\n",
    "loss=F.mse_loss(c_est,c_norm,reduction='none').mean()\n",
    "loss.backward()"
   ]
  },
  {
   "cell_type": "code",
   "execution_count": 1060,
   "metadata": {},
   "outputs": [],
   "source": [
    "s_est.grad"
   ]
  },
  {
   "cell_type": "code",
   "execution_count": 150,
   "metadata": {},
   "outputs": [
    {
     "name": "stdout",
     "output_type": "stream",
     "text": [
      "tensor(nan, grad_fn=<MeanBackward0>)\n",
      "tensor(nan, grad_fn=<MeanBackward0>)\n",
      "tensor(nan, grad_fn=<MeanBackward0>)\n",
      "tensor(nan, grad_fn=<MeanBackward0>)\n",
      "tensor(nan, grad_fn=<MeanBackward0>)\n",
      "tensor(nan, grad_fn=<MeanBackward0>)\n",
      "tensor(nan, grad_fn=<MeanBackward0>)\n",
      "tensor(nan, grad_fn=<MeanBackward0>)\n",
      "tensor(nan, grad_fn=<MeanBackward0>)\n",
      "tensor(nan, grad_fn=<MeanBackward0>)\n",
      "tensor(nan, grad_fn=<MeanBackward0>)\n",
      "tensor(nan, grad_fn=<MeanBackward0>)\n",
      "tensor(nan, grad_fn=<MeanBackward0>)\n",
      "tensor(nan, grad_fn=<MeanBackward0>)\n",
      "tensor(nan, grad_fn=<MeanBackward0>)\n",
      "tensor(nan, grad_fn=<MeanBackward0>)\n",
      "tensor(nan, grad_fn=<MeanBackward0>)\n",
      "tensor(nan, grad_fn=<MeanBackward0>)\n",
      "tensor(nan, grad_fn=<MeanBackward0>)\n",
      "tensor(nan, grad_fn=<MeanBackward0>)\n",
      "tensor(nan, grad_fn=<MeanBackward0>)\n",
      "tensor(nan, grad_fn=<MeanBackward0>)\n",
      "tensor(nan, grad_fn=<MeanBackward0>)\n",
      "tensor(nan, grad_fn=<MeanBackward0>)\n",
      "tensor(nan, grad_fn=<MeanBackward0>)\n",
      "tensor(nan, grad_fn=<MeanBackward0>)\n",
      "tensor(nan, grad_fn=<MeanBackward0>)\n",
      "tensor(nan, grad_fn=<MeanBackward0>)\n",
      "tensor(nan, grad_fn=<MeanBackward0>)\n",
      "tensor(nan, grad_fn=<MeanBackward0>)\n",
      "tensor(nan, grad_fn=<MeanBackward0>)\n",
      "tensor(nan, grad_fn=<MeanBackward0>)\n",
      "tensor(nan, grad_fn=<MeanBackward0>)\n",
      "tensor(nan, grad_fn=<MeanBackward0>)\n",
      "tensor(nan, grad_fn=<MeanBackward0>)\n",
      "tensor(nan, grad_fn=<MeanBackward0>)\n",
      "tensor(nan, grad_fn=<MeanBackward0>)\n",
      "tensor(nan, grad_fn=<MeanBackward0>)\n",
      "tensor(nan, grad_fn=<MeanBackward0>)\n",
      "tensor(nan, grad_fn=<MeanBackward0>)\n",
      "tensor(nan, grad_fn=<MeanBackward0>)\n",
      "tensor(nan, grad_fn=<MeanBackward0>)\n",
      "tensor(nan, grad_fn=<MeanBackward0>)\n",
      "tensor(nan, grad_fn=<MeanBackward0>)\n",
      "tensor(nan, grad_fn=<MeanBackward0>)\n",
      "tensor(nan, grad_fn=<MeanBackward0>)\n",
      "tensor(nan, grad_fn=<MeanBackward0>)\n",
      "tensor(nan, grad_fn=<MeanBackward0>)\n",
      "tensor(nan, grad_fn=<MeanBackward0>)\n",
      "tensor(nan, grad_fn=<MeanBackward0>)\n",
      "tensor(nan, grad_fn=<MeanBackward0>)\n",
      "tensor(nan, grad_fn=<MeanBackward0>)\n",
      "tensor(nan, grad_fn=<MeanBackward0>)\n",
      "tensor(nan, grad_fn=<MeanBackward0>)\n",
      "tensor(nan, grad_fn=<MeanBackward0>)\n",
      "tensor(nan, grad_fn=<MeanBackward0>)\n",
      "tensor(nan, grad_fn=<MeanBackward0>)\n",
      "tensor(nan, grad_fn=<MeanBackward0>)\n",
      "tensor(nan, grad_fn=<MeanBackward0>)\n",
      "tensor(nan, grad_fn=<MeanBackward0>)\n",
      "tensor(nan, grad_fn=<MeanBackward0>)\n",
      "tensor(nan, grad_fn=<MeanBackward0>)\n",
      "tensor(nan, grad_fn=<MeanBackward0>)\n",
      "tensor(nan, grad_fn=<MeanBackward0>)\n",
      "tensor(nan, grad_fn=<MeanBackward0>)\n",
      "tensor(nan, grad_fn=<MeanBackward0>)\n",
      "tensor(nan, grad_fn=<MeanBackward0>)\n",
      "tensor(nan, grad_fn=<MeanBackward0>)\n",
      "tensor(nan, grad_fn=<MeanBackward0>)\n",
      "tensor(nan, grad_fn=<MeanBackward0>)\n",
      "tensor(nan, grad_fn=<MeanBackward0>)\n",
      "tensor(nan, grad_fn=<MeanBackward0>)\n",
      "tensor(nan, grad_fn=<MeanBackward0>)\n",
      "tensor(nan, grad_fn=<MeanBackward0>)\n",
      "tensor(nan, grad_fn=<MeanBackward0>)\n",
      "tensor(nan, grad_fn=<MeanBackward0>)\n",
      "tensor(nan, grad_fn=<MeanBackward0>)\n",
      "tensor(nan, grad_fn=<MeanBackward0>)\n",
      "tensor(nan, grad_fn=<MeanBackward0>)\n",
      "tensor(nan, grad_fn=<MeanBackward0>)\n",
      "tensor(nan, grad_fn=<MeanBackward0>)\n",
      "tensor(nan, grad_fn=<MeanBackward0>)\n",
      "tensor(nan, grad_fn=<MeanBackward0>)\n",
      "tensor(nan, grad_fn=<MeanBackward0>)\n",
      "tensor(nan, grad_fn=<MeanBackward0>)\n",
      "tensor(nan, grad_fn=<MeanBackward0>)\n",
      "tensor(nan, grad_fn=<MeanBackward0>)\n",
      "tensor(nan, grad_fn=<MeanBackward0>)\n",
      "tensor(nan, grad_fn=<MeanBackward0>)\n",
      "tensor(nan, grad_fn=<MeanBackward0>)\n",
      "tensor(nan, grad_fn=<MeanBackward0>)\n",
      "tensor(nan, grad_fn=<MeanBackward0>)\n",
      "tensor(nan, grad_fn=<MeanBackward0>)\n",
      "tensor(nan, grad_fn=<MeanBackward0>)\n",
      "tensor(nan, grad_fn=<MeanBackward0>)\n",
      "tensor(nan, grad_fn=<MeanBackward0>)\n",
      "tensor(nan, grad_fn=<MeanBackward0>)\n",
      "tensor(nan, grad_fn=<MeanBackward0>)\n",
      "tensor(nan, grad_fn=<MeanBackward0>)\n",
      "tensor(nan, grad_fn=<MeanBackward0>)\n"
     ]
    }
   ],
   "source": [
    "s_list=[]\n",
    "grads=[]\n",
    "losses=[]\n",
    "for i in range(100):\n",
    "    opt.zero_grad()\n",
    "    c_est=(abs(s_est-f_dist)/(f_dist-f))/((s_est-min_f)/(min_f-f))\n",
    "    loss=F.mse_loss(c_est*100,c_norm*100,reduction='none').mean()\n",
    "    print(loss)\n",
    "    loss.backward()\n",
    "    losses.append(loss.item())\n",
    "    opt.step()\n",
    "    \n",
    "    with torch.no_grad():\n",
    "        #s_est-=s_est.grad*1e-6\n",
    "        grads.append(s_est.grad.mean().item())\n",
    "        #s_est.grad.zero_()\n",
    "    \n",
    "    s_list.append(s_est.mean().item())"
   ]
  },
  {
   "cell_type": "code",
   "execution_count": null,
   "metadata": {},
   "outputs": [],
   "source": []
  },
  {
   "cell_type": "code",
   "execution_count": 148,
   "metadata": {},
   "outputs": [
    {
     "data": {
      "text/plain": [
       "[<matplotlib.lines.Line2D at 0x7fd27ee24650>]"
      ]
     },
     "execution_count": 148,
     "metadata": {},
     "output_type": "execute_result"
    },
    {
     "data": {
      "image/png": "[encoded data removed]",
      "text/plain": [
       "<Figure size 432x288 with 1 Axes>"
      ]
     },
     "metadata": {
      "needs_background": "light"
     },
     "output_type": "display_data"
    }
   ],
   "source": [
    "plt.plot(grads)"
   ]
  },
  {
   "cell_type": "code",
   "execution_count": 149,
   "metadata": {},
   "outputs": [
    {
     "data": {
      "text/plain": [
       "[<matplotlib.lines.Line2D at 0x7fd27ed86a50>]"
      ]
     },
     "execution_count": 149,
     "metadata": {},
     "output_type": "execute_result"
    },
    {
     "data": {
      "image/png": "[encoded data removed]",
      "text/plain": [
       "<Figure size 432x288 with 1 Axes>"
      ]
     },
     "metadata": {
      "needs_background": "light"
     },
     "output_type": "display_data"
    }
   ],
   "source": [
    "plt.plot(losses)"
   ]
  },
  {
   "cell_type": "code",
   "execution_count": 137,
   "metadata": {},
   "outputs": [
    {
     "data": {
      "text/plain": [
       "[<matplotlib.lines.Line2D at 0x7fd2841d1850>]"
      ]
     },
     "execution_count": 137,
     "metadata": {},
     "output_type": "execute_result"
    },
    {
     "data": {
      "image/png": "[encoded data removed]",
      "text/plain": [
       "<Figure size 432x288 with 1 Axes>"
      ]
     },
     "metadata": {
      "needs_background": "light"
     },
     "output_type": "display_data"
    }
   ],
   "source": [
    "plt.plot(s_list)"
   ]
  },
  {
   "cell_type": "code",
   "execution_count": 87,
   "metadata": {},
   "outputs": [
    {
     "data": {
      "text/plain": [
       "tensor([0.4000, 0.8428, 0.8892, 0.8900, 0.8902], requires_grad=True)"
      ]
     },
     "execution_count": 87,
     "metadata": {},
     "output_type": "execute_result"
    }
   ],
   "source": [
    "s_est"
   ]
  },
  {
   "cell_type": "code",
   "execution_count": 974,
   "metadata": {},
   "outputs": [],
   "source": [
    "s_est.grad"
   ]
  },
  {
   "cell_type": "code",
   "execution_count": 801,
   "metadata": {},
   "outputs": [
    {
     "data": {
      "text/plain": [
       "tensor([1.0000, 0.6183, 0.2441, 0.0335, 0.0501])"
      ]
     },
     "execution_count": 801,
     "metadata": {},
     "output_type": "execute_result"
    }
   ],
   "source": [
    "c_est=(abs(s-f_dist)/(f_dist-f))/((s-min_f)/(min_f-f))\n",
    "c_est"
   ]
  },
  {
   "cell_type": "code",
   "execution_count": 827,
   "metadata": {},
   "outputs": [
    {
     "data": {
      "text/plain": [
       "300.0"
      ]
     },
     "execution_count": 827,
     "metadata": {},
     "output_type": "execute_result"
    }
   ],
   "source": [
    "3/0.01"
   ]
  },
  {
   "cell_type": "code",
   "execution_count": 804,
   "metadata": {},
   "outputs": [
    {
     "name": "stdout",
     "output_type": "stream",
     "text": [
      "s=0.6blur=tensor([1.0000, 0.5941, 0.1961, 0.0279, 0.1167])\n",
      "s=0.7blur=tensor([1.0000, 0.6051, 0.2179, 0.0000, 0.0865])\n",
      "s=0.8blur=tensor([1.0000, 0.6129, 0.2334, 0.0199, 0.0649])\n",
      "s=0.89blur=tensor([1.0000, 0.6183, 0.2441, 0.0335, 0.0501])\n",
      "s=0.9blur=tensor([1.0000, 0.6188, 0.2451, 0.0348, 0.0486])\n",
      "s=1.2blur=tensor([1.0000, 0.6301, 0.2674, 0.0633, 0.0177])\n"
     ]
    }
   ],
   "source": [
    "for s_est in [0.6,0.7,0.8,0.89,0.9,1.2]:\n",
    "    st=torch.tensor([s_est]*5)\n",
    "    c_est=(abs(st-f_dist)/(f_dist-f))/((st-min_f)/(min_f-f))\n",
    "    print(\"s=\"+str(s_est)+\"blur=\" +str(c_est))"
   ]
  },
  {
   "cell_type": "code",
   "execution_count": 828,
   "metadata": {},
   "outputs": [
    {
     "data": {
      "text/plain": [
       "[<matplotlib.lines.Line2D at 0x7f610662fc50>]"
      ]
     },
     "execution_count": 828,
     "metadata": {},
     "output_type": "execute_result"
    },
    {
     "data": {
      "image/png": "[encoded data removed]",
      "text/plain": [
       "<Figure size 432x288 with 1 Axes>"
      ]
     },
     "metadata": {
      "needs_background": "light"
     },
     "output_type": "display_data"
    }
   ],
   "source": [
    "plt.plot(c_est)"
   ]
  },
  {
   "cell_type": "code",
   "execution_count": 829,
   "metadata": {},
   "outputs": [
    {
     "data": {
      "text/plain": [
       "[<matplotlib.lines.Line2D at 0x7f61065a21d0>]"
      ]
     },
     "execution_count": 829,
     "metadata": {},
     "output_type": "execute_result"
    },
    {
     "data": {
      "image/png": "[encoded data removed]",
      "text/plain": [
       "<Figure size 432x288 with 1 Axes>"
      ]
     },
     "metadata": {
      "needs_background": "light"
     },
     "output_type": "display_data"
    }
   ],
   "source": [
    "plt.plot(c_norm)"
   ]
  },
  {
   "cell_type": "code",
   "execution_count": 464,
   "metadata": {},
   "outputs": [],
   "source": [
    "class Blur(torch.nn.Module):\n",
    "\n",
    "    def __init__(self,s_init,f_dist,f,N):\n",
    "        super(Blur, self).__init__()\n",
    "        self.s=nn.Parameter(s_init)\n",
    "        self.f_dist=f_dist\n",
    "        self.N=N\n",
    "        self.f=f\n",
    "\n",
    "    def forward(self):\n",
    "        b=abs(self.s-self.f_dist)*self.f**2/(self.s*self.N*(self.f_dist-self.f))\n",
    "        return b"
   ]
  },
  {
   "cell_type": "code",
   "execution_count": 807,
   "metadata": {},
   "outputs": [],
   "source": [
    "class Blur(torch.nn.Module):\n",
    "\n",
    "    def __init__(self,s_init,f_dist,f,N):\n",
    "        super(Blur, self).__init__()\n",
    "        self.s=nn.Parameter(s_init)\n",
    "        self.f_dist=f_dist\n",
    "        self.N=N\n",
    "        self.f=f\n",
    "        self.min_f=torch.min(f_dist).unsqueeze(0).repeat_interleave(5,dim=0)\n",
    "\n",
    "    def forward(self):\n",
    "        b=(abs(self.s-self.f_dist)/(self.f_dist-self.f))/((self.s-self.min_f)/(self.min_f-self.f))\n",
    "        return b"
   ]
  },
  {
   "cell_type": "code",
   "execution_count": 823,
   "metadata": {},
   "outputs": [],
   "source": [
    "s=torch.tensor([0.9]*5,requires_grad=True)\n",
    "model=Blur(s,f_dist,f,N)\n",
    "opt = torch.optim.SGD(model.parameters(), lr=1e-6)"
   ]
  },
  {
   "cell_type": "code",
   "execution_count": 824,
   "metadata": {},
   "outputs": [],
   "source": [
    "loss_list=[]\n",
    "s_list=[]\n",
    "for i in range(1000):\n",
    "    blur_pred=model()\n",
    "    loss=F.mse_loss(c,blur_pred,reduction='none').mean()\n",
    "    loss_list.append(loss.item())\n",
    "    s_list.append(s.mean().item())\n",
    "    loss.backward()\n",
    "    opt.step()"
   ]
  },
  {
   "cell_type": "code",
   "execution_count": 825,
   "metadata": {},
   "outputs": [
    {
     "data": {
      "text/plain": [
       "[<matplotlib.lines.Line2D at 0x7f6106f260d0>]"
      ]
     },
     "execution_count": 825,
     "metadata": {},
     "output_type": "execute_result"
    },
    {
     "data": {
      "image/png": "[encoded data removed]",
      "text/plain": [
       "<Figure size 432x288 with 1 Axes>"
      ]
     },
     "metadata": {
      "needs_background": "light"
     },
     "output_type": "display_data"
    }
   ],
   "source": [
    "plt.plot(s_list)"
   ]
  },
  {
   "cell_type": "code",
   "execution_count": 826,
   "metadata": {},
   "outputs": [
    {
     "data": {
      "text/plain": [
       "[<matplotlib.lines.Line2D at 0x7f6106646990>]"
      ]
     },
     "execution_count": 826,
     "metadata": {},
     "output_type": "execute_result"
    },
    {
     "data": {
      "image/png": "[encoded data removed]",
      "text/plain": [
       "<Figure size 432x288 with 1 Axes>"
      ]
     },
     "metadata": {
      "needs_background": "light"
     },
     "output_type": "display_data"
    }
   ],
   "source": [
    "plt.plot(loss_list)"
   ]
  },
  {
   "cell_type": "code",
   "execution_count": 546,
   "metadata": {},
   "outputs": [
    {
     "data": {
      "text/plain": [
       "torch.Size([1])"
      ]
     },
     "execution_count": 546,
     "metadata": {},
     "output_type": "execute_result"
    }
   ],
   "source": [
    "torch.min(f_dist).unsqueeze(0).shape"
   ]
  },
  {
   "cell_type": "code",
   "execution_count": 531,
   "metadata": {},
   "outputs": [
    {
     "name": "stdout",
     "output_type": "stream",
     "text": [
      "tensor(1704.9534, grad_fn=<MulBackward0>)\n",
      "Parameter containing:\n",
      "tensor([  4.9795,   3.8276,   2.3319,  -5.0458, -40.5595], requires_grad=True)\n"
     ]
    }
   ],
   "source": [
    "blur_pred=model()\n",
    "loss=F.mse_loss(c,blur_pred,reduction='none').mean()*1e6\n",
    "print(loss)\n",
    "print(list(model.parameters())[0])\n",
    "loss.backward()\n",
    "opt.step()"
   ]
  },
  {
   "cell_type": "code",
   "execution_count": 230,
   "metadata": {},
   "outputs": [
    {
     "data": {
      "text/plain": [
       "Parameter containing:\n",
       "tensor([0.6000, 0.6000, 0.6000, 0.6000, 0.6000], requires_grad=True)"
      ]
     },
     "execution_count": 230,
     "metadata": {},
     "output_type": "execute_result"
    }
   ],
   "source": []
  },
  {
   "cell_type": "code",
   "execution_count": 114,
   "metadata": {},
   "outputs": [
    {
     "name": "stdout",
     "output_type": "stream",
     "text": [
      "tensor(1.9214e-11, grad_fn=<MeanBackward0>)\n"
     ]
    }
   ],
   "source": [
    "blur_pred=model()\n",
    "loss=F.mse_loss(c,blur_pred,reduction='none').mean()\n",
    "print(loss)\n",
    "loss.backward()\n",
    "opt.step()"
   ]
  },
  {
   "cell_type": "code",
   "execution_count": 118,
   "metadata": {},
   "outputs": [
    {
     "data": {
      "text/plain": [
       "Parameter containing:\n",
       "tensor([0.6000, 0.6000, 0.6000, 0.6000, 0.6000], requires_grad=True)"
      ]
     },
     "execution_count": 118,
     "metadata": {},
     "output_type": "execute_result"
    }
   ],
   "source": [
    "list(blur.parameters())[0]"
   ]
  },
  {
   "cell_type": "code",
   "execution_count": 86,
   "metadata": {},
   "outputs": [
    {
     "data": {
      "text/plain": [
       "tensor(0.4585)"
      ]
     },
     "execution_count": 86,
     "metadata": {},
     "output_type": "execute_result"
    }
   ],
   "source": [
    "gt_disp[0,0,0,0]"
   ]
  },
  {
   "cell_type": "code",
   "execution_count": 77,
   "metadata": {},
   "outputs": [
    {
     "data": {
      "text/plain": [
       "(tensor(0.1000), tensor(2.8398))"
      ]
     },
     "execution_count": 77,
     "metadata": {},
     "output_type": "execute_result"
    }
   ],
   "source": [
    "torch.min(gt_disp),torch.max(gt_disp)"
   ]
  },
  {
   "cell_type": "code",
   "execution_count": null,
   "metadata": {},
   "outputs": [],
   "source": [
    "blur_pred=blur()\n",
    "loss=F.mse_loss(coc_stack_norm,blur_pred,reduction='none').mean()\n",
    "dst_er=F.mse_loss(disp.cuda(),list(blur.parameters())[0].data[:,0,:,:].cuda(),reduction='none').mean()\n",
    "print('blur_loss='+str(loss.item())+' dist loss='+str(dst_er.item()))\n",
    "#print(list(blur.parameters())[0].data.mean())\n",
    "loss.backward()\n",
    "opt.step()"
   ]
  },
  {
   "cell_type": "code",
   "execution_count": null,
   "metadata": {},
   "outputs": [],
   "source": [
    "'''\n",
    "solving our problem\n",
    "'''"
   ]
  },
  {
   "cell_type": "code",
   "execution_count": 70,
   "metadata": {},
   "outputs": [],
   "source": [
    "s2=3\n",
    "n_s1=6\n",
    "s1=torch.from_numpy(np.linspace(0.1,1.5,n_s1))\n",
    "f=2.9 * 1e-3\n",
    "c=abs(s2-s1)*(min(s1)-f)/((s1-f)*(s2-min(s1)))"
   ]
  },
  {
   "cell_type": "code",
   "execution_count": 42,
   "metadata": {},
   "outputs": [
    {
     "ename": "TypeError",
     "evalue": "unsupported operand type(s) for -: 'Linear' and 'float'",
     "output_type": "error",
     "traceback": [
      "\u001b[0;31m---------------------------------------------------------------------------\u001b[0m",
      "\u001b[0;31mTypeError\u001b[0m                                 Traceback (most recent call last)",
      "\u001b[0;32m<ipython-input-42-37e9d8703caf>\u001b[0m in \u001b[0;36m<module>\u001b[0;34m\u001b[0m\n\u001b[1;32m      1\u001b[0m \u001b[0ms\u001b[0m\u001b[0;34m=\u001b[0m\u001b[0mnn\u001b[0m\u001b[0;34m.\u001b[0m\u001b[0mLinear\u001b[0m\u001b[0;34m(\u001b[0m\u001b[0;36m1\u001b[0m\u001b[0;34m,\u001b[0m \u001b[0;36m1\u001b[0m\u001b[0;34m)\u001b[0m\u001b[0;34m\u001b[0m\u001b[0;34m\u001b[0m\u001b[0m\n\u001b[0;32m----> 2\u001b[0;31m \u001b[0mabs\u001b[0m\u001b[0;34m(\u001b[0m\u001b[0ms\u001b[0m\u001b[0;34m-\u001b[0m\u001b[0ms1\u001b[0m\u001b[0;34m)\u001b[0m\u001b[0;34m*\u001b[0m\u001b[0;34m(\u001b[0m\u001b[0mmin\u001b[0m\u001b[0;34m(\u001b[0m\u001b[0ms1\u001b[0m\u001b[0;34m)\u001b[0m\u001b[0;34m-\u001b[0m\u001b[0mf\u001b[0m\u001b[0;34m)\u001b[0m\u001b[0;34m/\u001b[0m\u001b[0;34m(\u001b[0m\u001b[0;34m(\u001b[0m\u001b[0ms1\u001b[0m\u001b[0;34m-\u001b[0m\u001b[0mf\u001b[0m\u001b[0;34m)\u001b[0m\u001b[0;34m*\u001b[0m\u001b[0;34m(\u001b[0m\u001b[0ms\u001b[0m\u001b[0;34m-\u001b[0m\u001b[0mmin\u001b[0m\u001b[0;34m(\u001b[0m\u001b[0ms1\u001b[0m\u001b[0;34m)\u001b[0m\u001b[0;34m)\u001b[0m\u001b[0;34m)\u001b[0m\u001b[0;34m\u001b[0m\u001b[0;34m\u001b[0m\u001b[0m\n\u001b[0m",
      "\u001b[0;31mTypeError\u001b[0m: unsupported operand type(s) for -: 'Linear' and 'float'"
     ]
    }
   ],
   "source": [
    "s=nn.Linear(1, 1)\n",
    "abs(s-s1)*(min(s1)-f)/((s1-f)*(s-min(s1)))"
   ]
  },
  {
   "cell_type": "code",
   "execution_count": 73,
   "metadata": {},
   "outputs": [],
   "source": [
    "s=torch.tensor([2.0]*n_s1,requires_grad=True)\n",
    "def model(x):\n",
    "    s=nn.Linear(1, 1)\n",
    "    return abs(x-s1)*(min(s1)-f)/((s1-f)*(x-min(s1)))"
   ]
  },
  {
   "cell_type": "code",
   "execution_count": 281,
   "metadata": {},
   "outputs": [],
   "source": [
    "class Blur(torch.nn.Module):\n",
    "\n",
    "    def __init__(self,s_init,f_dist,f,bs):\n",
    "        super(Blur, self).__init__()\n",
    "        f_dist=torch.tensor(f_dist)\n",
    "        \n",
    "        s1=f_dist.unsqueeze(0).unsqueeze(2).unsqueeze(3)\n",
    "        self.s1=s1.repeat_interleave(6,dim=0).repeat_interleave(256,dim=2).repeat_interleave(256,dim=3)\n",
    "\n",
    "        min_s1=torch.min(f_dist)\n",
    "        min_s1=min_s1.unsqueeze(0).unsqueeze(1).unsqueeze(2).unsqueeze(3)\n",
    "        self.min_s1=min_s1.repeat_interleave(6,dim=0).repeat_interleave(5,dim=1).repeat_interleave(256,dim=2).repeat_interleave(256,dim=3)\n",
    "        \n",
    "        self.s=s_init.repeat_interleave(bs,dim=0).repeat_interleave(len(f_dist),dim=1)\n",
    "        \n",
    "        self.f=torch.full((bs,len(f_dist),256,256),f,dtype=torch.float64)\n",
    "\n",
    "    def forward(self):\n",
    "        blur=abs(self.s-self.s1)*(self.min_s1-self.f)/((self.s1-self.f)*(self.s-self.min_s1))\n",
    "        return blur\n",
    "    def get_s(self):\n",
    "        return self.s"
   ]
  },
  {
   "cell_type": "markdown",
   "metadata": {},
   "source": []
  },
  {
   "cell_type": "code",
   "execution_count": 242,
   "metadata": {},
   "outputs": [
    {
     "data": {
      "text/plain": [
       "torch.Size([6, 5, 256, 256])"
      ]
     },
     "execution_count": 242,
     "metadata": {},
     "output_type": "execute_result"
    }
   ],
   "source": [
    "bs=6\n",
    "f_dist=[0.1, 0.15, 0.3, 0.7, 1.5]\n",
    "s=torch.empty((1,1,256,256),requires_grad=True).repeat_interleave(bs,dim=0).repeat_interleave(len(f_dist),dim=1)\n",
    "s.shape"
   ]
  },
  {
   "cell_type": "code",
   "execution_count": 282,
   "metadata": {},
   "outputs": [
    {
     "data": {
      "text/plain": [
       "torch.Size([6, 5, 256, 256])"
      ]
     },
     "execution_count": 282,
     "metadata": {},
     "output_type": "execute_result"
    }
   ],
   "source": [
    "bs=6\n",
    "f_dist=[0.1, 0.15, 0.3, 0.7, 1.5]\n",
    "s_init=torch.rand((1,1,256,256),requires_grad=True)\n",
    "\n",
    "blur=Blur(s_init,f_dist,2.9*1e-3,bs)\n",
    "blur().shape"
   ]
  },
  {
   "cell_type": "code",
   "execution_count": 290,
   "metadata": {},
   "outputs": [
    {
     "name": "stderr",
     "output_type": "stream",
     "text": [
      "/opt/conda/lib/python3.7/site-packages/torch/tensor.py:746: UserWarning: The .grad attribute of a Tensor that is not a leaf Tensor is being accessed. Its .grad attribute won't be populated during autograd.backward(). If you indeed want the gradient for a non-leaf Tensor, use .retain_grad() on the non-leaf Tensor. If you access the non-leaf Tensor by mistake, make sure you access the leaf Tensor instead. See github.com/pytorch/pytorch/pull/30531 for more informations.\n",
      "  warnings.warn(\"The .grad attribute of a Tensor that is not a leaf Tensor is being accessed. Its .grad \"\n"
     ]
    }
   ],
   "source": [
    "blur.get_s().grad"
   ]
  },
  {
   "cell_type": "code",
   "execution_count": 263,
   "metadata": {},
   "outputs": [
    {
     "data": {
      "text/plain": [
       "torch.Size([6, 5, 256, 256])"
      ]
     },
     "execution_count": 263,
     "metadata": {},
     "output_type": "execute_result"
    }
   ],
   "source": [
    "s_init.repeat_interleave(bs,dim=0).repeat_interleave(len(f_dist),dim=1).shape"
   ]
  },
  {
   "cell_type": "code",
   "execution_count": 237,
   "metadata": {},
   "outputs": [
    {
     "name": "stdout",
     "output_type": "stream",
     "text": [
      "torch.Size([6, 5, 256, 256])\n",
      "torch.Size([6, 5, 256, 256])\n"
     ]
    },
    {
     "data": {
      "text/plain": [
       "torch.Size([6, 5, 256, 256])"
      ]
     },
     "execution_count": 237,
     "metadata": {},
     "output_type": "execute_result"
    }
   ],
   "source": [
    "blur=Blur(2,[0.1, 0.15, 0.3, 0.7, 1.5],2.9*1e-3,6)\n",
    "blur().shape"
   ]
  },
  {
   "cell_type": "code",
   "execution_count": 223,
   "metadata": {},
   "outputs": [
    {
     "ename": "TypeError",
     "evalue": "min(): argument 'input' (position 1) must be Tensor, not list",
     "output_type": "error",
     "traceback": [
      "\u001b[0;31m---------------------------------------------------------------------------\u001b[0m",
      "\u001b[0;31mTypeError\u001b[0m                                 Traceback (most recent call last)",
      "\u001b[0;32m<ipython-input-223-e316b0e0757f>\u001b[0m in \u001b[0;36m<module>\u001b[0;34m\u001b[0m\n\u001b[1;32m      1\u001b[0m \u001b[0ms1\u001b[0m\u001b[0;34m=\u001b[0m\u001b[0;34m[\u001b[0m\u001b[0;36m0.1\u001b[0m\u001b[0;34m,\u001b[0m \u001b[0;36m0.15\u001b[0m\u001b[0;34m,\u001b[0m \u001b[0;36m0.3\u001b[0m\u001b[0;34m,\u001b[0m \u001b[0;36m0.7\u001b[0m\u001b[0;34m,\u001b[0m \u001b[0;36m1.5\u001b[0m\u001b[0;34m]\u001b[0m\u001b[0;34m\u001b[0m\u001b[0;34m\u001b[0m\u001b[0m\n\u001b[0;32m----> 2\u001b[0;31m \u001b[0mtorch\u001b[0m\u001b[0;34m.\u001b[0m\u001b[0mmin\u001b[0m\u001b[0;34m(\u001b[0m\u001b[0ms1\u001b[0m\u001b[0;34m)\u001b[0m\u001b[0;34m\u001b[0m\u001b[0;34m\u001b[0m\u001b[0m\n\u001b[0m",
      "\u001b[0;31mTypeError\u001b[0m: min(): argument 'input' (position 1) must be Tensor, not list"
     ]
    }
   ],
   "source": [
    "s1=[0.1, 0.15, 0.3, 0.7, 1.5]\n",
    "torch.min(s1)"
   ]
  },
  {
   "cell_type": "code",
   "execution_count": 222,
   "metadata": {},
   "outputs": [
    {
     "data": {
      "text/plain": [
       "torch.Size([6, 5, 256, 256])"
      ]
     },
     "execution_count": 222,
     "metadata": {},
     "output_type": "execute_result"
    }
   ],
   "source": [
    "s1=[0.1, 0.15, 0.3, 0.7, 1.5]\n",
    "s1=torch.tensor(s1)\n",
    "s1=s1.unsqueeze(0).unsqueeze(2).unsqueeze(3)\n",
    "s1=s1.repeat_interleave(6,dim=0).repeat_interleave(256,dim=2).repeat_interleave(256,dim=3)\n",
    "s1.shape"
   ]
  },
  {
   "cell_type": "code",
   "execution_count": 215,
   "metadata": {},
   "outputs": [
    {
     "data": {
      "text/plain": [
       "torch.Size([6, 5, 256, 256])"
      ]
     },
     "execution_count": 215,
     "metadata": {},
     "output_type": "execute_result"
    }
   ],
   "source": [
    "s1=[0.1, 0.15, 0.3, 0.7, 1.5]\n",
    "s1=torch.tensor(s1)\n",
    "min_s1=torch.min(s1)\n",
    "min_s1=min_s1.unsqueeze(0).unsqueeze(1).unsqueeze(2).unsqueeze(3)\n",
    "min_s1.repeat_interleave(6,dim=0).repeat_interleave(5,dim=1).repeat_interleave(256,dim=2).repeat_interleave(256,dim=3)"
   ]
  },
  {
   "cell_type": "code",
   "execution_count": 200,
   "metadata": {},
   "outputs": [],
   "source": [
    "blur=Blur(2,5,2.9*1e-3,6)\n",
    "blur().shape"
   ]
  },
  {
   "cell_type": "code",
   "execution_count": 201,
   "metadata": {
    "scrolled": true
   },
   "outputs": [
    {
     "name": "stdout",
     "output_type": "stream",
     "text": [
      "torch.Size([6, 5, 256, 256])\n",
      "torch.Size([30, 256, 256, 1])\n"
     ]
    },
    {
     "ename": "RuntimeError",
     "evalue": "The size of tensor a (5) must match the size of tensor b (256) at non-singleton dimension 1",
     "output_type": "error",
     "traceback": [
      "\u001b[0;31m---------------------------------------------------------------------------\u001b[0m",
      "\u001b[0;31mRuntimeError\u001b[0m                              Traceback (most recent call last)",
      "\u001b[0;32m<ipython-input-201-5284c08c0700>\u001b[0m in \u001b[0;36m<module>\u001b[0;34m\u001b[0m\n\u001b[0;32m----> 1\u001b[0;31m \u001b[0mblur\u001b[0m\u001b[0;34m(\u001b[0m\u001b[0;34m)\u001b[0m\u001b[0;34m.\u001b[0m\u001b[0mshape\u001b[0m\u001b[0;34m\u001b[0m\u001b[0;34m\u001b[0m\u001b[0m\n\u001b[0m",
      "\u001b[0;32m/opt/conda/lib/python3.7/site-packages/torch/nn/modules/module.py\u001b[0m in \u001b[0;36m__call__\u001b[0;34m(self, *input, **kwargs)\u001b[0m\n\u001b[1;32m    548\u001b[0m             \u001b[0mresult\u001b[0m \u001b[0;34m=\u001b[0m \u001b[0mself\u001b[0m\u001b[0;34m.\u001b[0m\u001b[0m_slow_forward\u001b[0m\u001b[0;34m(\u001b[0m\u001b[0;34m*\u001b[0m\u001b[0minput\u001b[0m\u001b[0;34m,\u001b[0m \u001b[0;34m**\u001b[0m\u001b[0mkwargs\u001b[0m\u001b[0;34m)\u001b[0m\u001b[0;34m\u001b[0m\u001b[0;34m\u001b[0m\u001b[0m\n\u001b[1;32m    549\u001b[0m         \u001b[0;32melse\u001b[0m\u001b[0;34m:\u001b[0m\u001b[0;34m\u001b[0m\u001b[0;34m\u001b[0m\u001b[0m\n\u001b[0;32m--> 550\u001b[0;31m             \u001b[0mresult\u001b[0m \u001b[0;34m=\u001b[0m \u001b[0mself\u001b[0m\u001b[0;34m.\u001b[0m\u001b[0mforward\u001b[0m\u001b[0;34m(\u001b[0m\u001b[0;34m*\u001b[0m\u001b[0minput\u001b[0m\u001b[0;34m,\u001b[0m \u001b[0;34m**\u001b[0m\u001b[0mkwargs\u001b[0m\u001b[0;34m)\u001b[0m\u001b[0;34m\u001b[0m\u001b[0;34m\u001b[0m\u001b[0m\n\u001b[0m\u001b[1;32m    551\u001b[0m         \u001b[0;32mfor\u001b[0m \u001b[0mhook\u001b[0m \u001b[0;32min\u001b[0m \u001b[0mself\u001b[0m\u001b[0;34m.\u001b[0m\u001b[0m_forward_hooks\u001b[0m\u001b[0;34m.\u001b[0m\u001b[0mvalues\u001b[0m\u001b[0;34m(\u001b[0m\u001b[0;34m)\u001b[0m\u001b[0;34m:\u001b[0m\u001b[0;34m\u001b[0m\u001b[0;34m\u001b[0m\u001b[0m\n\u001b[1;32m    552\u001b[0m             \u001b[0mhook_result\u001b[0m \u001b[0;34m=\u001b[0m \u001b[0mhook\u001b[0m\u001b[0;34m(\u001b[0m\u001b[0mself\u001b[0m\u001b[0;34m,\u001b[0m \u001b[0minput\u001b[0m\u001b[0;34m,\u001b[0m \u001b[0mresult\u001b[0m\u001b[0;34m)\u001b[0m\u001b[0;34m\u001b[0m\u001b[0;34m\u001b[0m\u001b[0m\n",
      "\u001b[0;32m<ipython-input-197-f954947294ed>\u001b[0m in \u001b[0;36mforward\u001b[0;34m(self)\u001b[0m\n\u001b[1;32m     17\u001b[0m         \u001b[0mprint\u001b[0m\u001b[0;34m(\u001b[0m\u001b[0mself\u001b[0m\u001b[0;34m.\u001b[0m\u001b[0ms\u001b[0m\u001b[0;34m.\u001b[0m\u001b[0mshape\u001b[0m\u001b[0;34m)\u001b[0m\u001b[0;34m\u001b[0m\u001b[0;34m\u001b[0m\u001b[0m\n\u001b[1;32m     18\u001b[0m         \u001b[0mprint\u001b[0m\u001b[0;34m(\u001b[0m\u001b[0mself\u001b[0m\u001b[0;34m.\u001b[0m\u001b[0ms1\u001b[0m\u001b[0;34m.\u001b[0m\u001b[0mshape\u001b[0m\u001b[0;34m)\u001b[0m\u001b[0;34m\u001b[0m\u001b[0;34m\u001b[0m\u001b[0m\n\u001b[0;32m---> 19\u001b[0;31m         \u001b[0mblur\u001b[0m\u001b[0;34m=\u001b[0m\u001b[0mabs\u001b[0m\u001b[0;34m(\u001b[0m\u001b[0mself\u001b[0m\u001b[0;34m.\u001b[0m\u001b[0ms\u001b[0m\u001b[0;34m-\u001b[0m\u001b[0mself\u001b[0m\u001b[0;34m.\u001b[0m\u001b[0ms1\u001b[0m\u001b[0;34m)\u001b[0m\u001b[0;34m\u001b[0m\u001b[0;34m\u001b[0m\u001b[0m\n\u001b[0m\u001b[1;32m     20\u001b[0m         \u001b[0;31m#blur=abs(self.s-self.s1)*(self.min_s1-self.f)/((self.s1-self.f)*(self.s-self.min_s1))\u001b[0m\u001b[0;34m\u001b[0m\u001b[0;34m\u001b[0m\u001b[0;34m\u001b[0m\u001b[0m\n\u001b[1;32m     21\u001b[0m         \u001b[0;32mreturn\u001b[0m \u001b[0mblur\u001b[0m\u001b[0;34m\u001b[0m\u001b[0;34m\u001b[0m\u001b[0m\n",
      "\u001b[0;31mRuntimeError\u001b[0m: The size of tensor a (5) must match the size of tensor b (256) at non-singleton dimension 1"
     ]
    }
   ],
   "source": [
    "blur().shape"
   ]
  },
  {
   "cell_type": "code",
   "execution_count": 173,
   "metadata": {},
   "outputs": [
    {
     "data": {
      "text/plain": [
       "tensor([[[0.0029, 0.0029, 0.0029,  ..., 0.0029, 0.0029, 0.0029],\n",
       "         [0.0029, 0.0029, 0.0029,  ..., 0.0029, 0.0029, 0.0029],\n",
       "         [0.0029, 0.0029, 0.0029,  ..., 0.0029, 0.0029, 0.0029],\n",
       "         ...,\n",
       "         [0.0029, 0.0029, 0.0029,  ..., 0.0029, 0.0029, 0.0029],\n",
       "         [0.0029, 0.0029, 0.0029,  ..., 0.0029, 0.0029, 0.0029],\n",
       "         [0.0029, 0.0029, 0.0029,  ..., 0.0029, 0.0029, 0.0029]],\n",
       "\n",
       "        [[0.0029, 0.0029, 0.0029,  ..., 0.0029, 0.0029, 0.0029],\n",
       "         [0.0029, 0.0029, 0.0029,  ..., 0.0029, 0.0029, 0.0029],\n",
       "         [0.0029, 0.0029, 0.0029,  ..., 0.0029, 0.0029, 0.0029],\n",
       "         ...,\n",
       "         [0.0029, 0.0029, 0.0029,  ..., 0.0029, 0.0029, 0.0029],\n",
       "         [0.0029, 0.0029, 0.0029,  ..., 0.0029, 0.0029, 0.0029],\n",
       "         [0.0029, 0.0029, 0.0029,  ..., 0.0029, 0.0029, 0.0029]],\n",
       "\n",
       "        [[0.0029, 0.0029, 0.0029,  ..., 0.0029, 0.0029, 0.0029],\n",
       "         [0.0029, 0.0029, 0.0029,  ..., 0.0029, 0.0029, 0.0029],\n",
       "         [0.0029, 0.0029, 0.0029,  ..., 0.0029, 0.0029, 0.0029],\n",
       "         ...,\n",
       "         [0.0029, 0.0029, 0.0029,  ..., 0.0029, 0.0029, 0.0029],\n",
       "         [0.0029, 0.0029, 0.0029,  ..., 0.0029, 0.0029, 0.0029],\n",
       "         [0.0029, 0.0029, 0.0029,  ..., 0.0029, 0.0029, 0.0029]],\n",
       "\n",
       "        [[0.0029, 0.0029, 0.0029,  ..., 0.0029, 0.0029, 0.0029],\n",
       "         [0.0029, 0.0029, 0.0029,  ..., 0.0029, 0.0029, 0.0029],\n",
       "         [0.0029, 0.0029, 0.0029,  ..., 0.0029, 0.0029, 0.0029],\n",
       "         ...,\n",
       "         [0.0029, 0.0029, 0.0029,  ..., 0.0029, 0.0029, 0.0029],\n",
       "         [0.0029, 0.0029, 0.0029,  ..., 0.0029, 0.0029, 0.0029],\n",
       "         [0.0029, 0.0029, 0.0029,  ..., 0.0029, 0.0029, 0.0029]],\n",
       "\n",
       "        [[0.0029, 0.0029, 0.0029,  ..., 0.0029, 0.0029, 0.0029],\n",
       "         [0.0029, 0.0029, 0.0029,  ..., 0.0029, 0.0029, 0.0029],\n",
       "         [0.0029, 0.0029, 0.0029,  ..., 0.0029, 0.0029, 0.0029],\n",
       "         ...,\n",
       "         [0.0029, 0.0029, 0.0029,  ..., 0.0029, 0.0029, 0.0029],\n",
       "         [0.0029, 0.0029, 0.0029,  ..., 0.0029, 0.0029, 0.0029],\n",
       "         [0.0029, 0.0029, 0.0029,  ..., 0.0029, 0.0029, 0.0029]]],\n",
       "       dtype=torch.float64)"
      ]
     },
     "execution_count": 173,
     "metadata": {},
     "output_type": "execute_result"
    }
   ],
   "source": [
    "f=2.9*1e-3\n",
    "torch.full((5,256,256),f,dtype=torch.float64)"
   ]
  },
  {
   "cell_type": "code",
   "execution_count": 139,
   "metadata": {},
   "outputs": [
    {
     "data": {
      "text/plain": [
       "torch.Size([5, 256, 256])"
      ]
     },
     "execution_count": 139,
     "metadata": {},
     "output_type": "execute_result"
    }
   ],
   "source": [
    "s1=torch.from_numpy(np.linspace(0.1,1.5,5))\n",
    "s1=torch.unsqueeze(s1,1).unsqueeze(2)\n",
    "s1=torch.repeat_interleave(s1,256,dim=1).repeat_interleave(256,dim=2)\n",
    "s1.shape"
   ]
  },
  {
   "cell_type": "code",
   "execution_count": 166,
   "metadata": {},
   "outputs": [
    {
     "data": {
      "text/plain": [
       "torch.Size([5])"
      ]
     },
     "execution_count": 166,
     "metadata": {},
     "output_type": "execute_result"
    }
   ],
   "source": [
    "torch.from_numpy(np.linspace(0.1,1.5,5))"
   ]
  },
  {
   "cell_type": "code",
   "execution_count": 164,
   "metadata": {},
   "outputs": [
    {
     "data": {
      "text/plain": [
       "torch.Size([5, 256, 256])"
      ]
     },
     "execution_count": 164,
     "metadata": {},
     "output_type": "execute_result"
    }
   ],
   "source": [
    "min_s1=torch.min(s1,dim=0,keepdim=True).values\n",
    "min_s1=torch.repeat_interleave(min_s1,5,dim=0)\n",
    "min_s1.shape"
   ]
  },
  {
   "cell_type": "code",
   "execution_count": 90,
   "metadata": {},
   "outputs": [
    {
     "data": {
      "text/plain": [
       "torch.Size([1, 256, 256])"
      ]
     },
     "execution_count": 90,
     "metadata": {},
     "output_type": "execute_result"
    }
   ],
   "source": [
    "e=torch.empty((1,256,256),requires_grad=True)\n",
    "e.shape"
   ]
  },
  {
   "cell_type": "code",
   "execution_count": 96,
   "metadata": {},
   "outputs": [
    {
     "data": {
      "text/plain": [
       "tensor([[[3., 3., 3.,  ..., 3., 3., 3.],\n",
       "         [3., 3., 3.,  ..., 3., 3., 3.],\n",
       "         [3., 3., 3.,  ..., 3., 3., 3.],\n",
       "         ...,\n",
       "         [3., 3., 3.,  ..., 3., 3., 3.],\n",
       "         [3., 3., 3.,  ..., 3., 3., 3.],\n",
       "         [3., 3., 3.,  ..., 3., 3., 3.]],\n",
       "\n",
       "        [[3., 3., 3.,  ..., 3., 3., 3.],\n",
       "         [3., 3., 3.,  ..., 3., 3., 3.],\n",
       "         [3., 3., 3.,  ..., 3., 3., 3.],\n",
       "         ...,\n",
       "         [3., 3., 3.,  ..., 3., 3., 3.],\n",
       "         [3., 3., 3.,  ..., 3., 3., 3.],\n",
       "         [3., 3., 3.,  ..., 3., 3., 3.]],\n",
       "\n",
       "        [[3., 3., 3.,  ..., 3., 3., 3.],\n",
       "         [3., 3., 3.,  ..., 3., 3., 3.],\n",
       "         [3., 3., 3.,  ..., 3., 3., 3.],\n",
       "         ...,\n",
       "         [3., 3., 3.,  ..., 3., 3., 3.],\n",
       "         [3., 3., 3.,  ..., 3., 3., 3.],\n",
       "         [3., 3., 3.,  ..., 3., 3., 3.]]], grad_fn=<IndexSelectBackward>)"
      ]
     },
     "execution_count": 96,
     "metadata": {},
     "output_type": "execute_result"
    }
   ],
   "source": [
    "e = torch.empty((1,256,256),requires_grad=True)\n",
    "s=torch.repeat_interleave(e, 3, dim=0)\n",
    "nn.init.constant_(s, 3)"
   ]
  },
  {
   "cell_type": "code",
   "execution_count": 74,
   "metadata": {},
   "outputs": [
    {
     "ename": "AttributeError",
     "evalue": "'function' object has no attribute 'parameters'",
     "output_type": "error",
     "traceback": [
      "\u001b[0;31m---------------------------------------------------------------------------\u001b[0m",
      "\u001b[0;31mAttributeError\u001b[0m                            Traceback (most recent call last)",
      "\u001b[0;32m<ipython-input-74-2dda82ffbc15>\u001b[0m in \u001b[0;36m<module>\u001b[0;34m\u001b[0m\n\u001b[1;32m      1\u001b[0m \u001b[0mloss_fn\u001b[0m \u001b[0;34m=\u001b[0m \u001b[0mF\u001b[0m\u001b[0;34m.\u001b[0m\u001b[0mmse_loss\u001b[0m\u001b[0;34m\u001b[0m\u001b[0;34m\u001b[0m\u001b[0m\n\u001b[1;32m      2\u001b[0m \u001b[0mloss\u001b[0m \u001b[0;34m=\u001b[0m \u001b[0mloss_fn\u001b[0m\u001b[0;34m(\u001b[0m\u001b[0mmodel\u001b[0m\u001b[0;34m(\u001b[0m\u001b[0ms\u001b[0m\u001b[0;34m)\u001b[0m\u001b[0;34m,\u001b[0m \u001b[0mc\u001b[0m\u001b[0;34m)\u001b[0m\u001b[0;34m\u001b[0m\u001b[0;34m\u001b[0m\u001b[0m\n\u001b[0;32m----> 3\u001b[0;31m \u001b[0mopt\u001b[0m \u001b[0;34m=\u001b[0m \u001b[0mtorch\u001b[0m\u001b[0;34m.\u001b[0m\u001b[0moptim\u001b[0m\u001b[0;34m.\u001b[0m\u001b[0mSGD\u001b[0m\u001b[0;34m(\u001b[0m\u001b[0mmodel\u001b[0m\u001b[0;34m.\u001b[0m\u001b[0mparameters\u001b[0m\u001b[0;34m(\u001b[0m\u001b[0;34m)\u001b[0m\u001b[0;34m,\u001b[0m \u001b[0mlr\u001b[0m\u001b[0;34m=\u001b[0m\u001b[0;36m1e-5\u001b[0m\u001b[0;34m)\u001b[0m\u001b[0;34m\u001b[0m\u001b[0;34m\u001b[0m\u001b[0m\n\u001b[0m\u001b[1;32m      4\u001b[0m \u001b[0mloss\u001b[0m\u001b[0;34m.\u001b[0m\u001b[0mbackward\u001b[0m\u001b[0;34m(\u001b[0m\u001b[0;34m)\u001b[0m\u001b[0;34m\u001b[0m\u001b[0;34m\u001b[0m\u001b[0m\n",
      "\u001b[0;31mAttributeError\u001b[0m: 'function' object has no attribute 'parameters'"
     ]
    }
   ],
   "source": [
    "loss_fn = F.mse_loss\n",
    "loss = loss_fn(model(s), c)\n",
    "opt = torch.optim.SGD(model.parameters(), lr=1e-5)\n",
    "loss.backward()"
   ]
  },
  {
   "cell_type": "code",
   "execution_count": null,
   "metadata": {},
   "outputs": [],
   "source": [
    "'''\n",
    "With real data from FOD\n",
    "'''"
   ]
  },
  {
   "cell_type": "code",
   "execution_count": 1,
   "metadata": {},
   "outputs": [],
   "source": [
    "from __future__ import print_function\n",
    "import argparse\n",
    "import os\n",
    "import random\n",
    "import torch\n",
    "import torch.nn as nn\n",
    "import torch.backends.cudnn as cudnn\n",
    "import torch.optim as optim\n",
    "import torch.utils.data\n",
    "from torch.autograd import Variable\n",
    "import torch.nn.functional as F\n",
    "import time\n",
    "import models\n",
    "from utils import logger, write_log\n",
    "torch.backends.cudnn.benchmark=True\n",
    "from glob import glob\n",
    "import importlib\n",
    "%load_ext autoreload\n",
    "%autoreload 2\n",
    "%matplotlib inline\n",
    "import matplotlib.pyplot as plt\n",
    "from models import DFFNet\n",
    "from dataloader import FoD500Loader"
   ]
  },
  {
   "cell_type": "code",
   "execution_count": 153,
   "metadata": {},
   "outputs": [],
   "source": [
    "class Blur(torch.nn.Module):\n",
    "\n",
    "    def __init__(self,s_init,f_dist,f,bs):\n",
    "        super(Blur, self).__init__()\n",
    "        f_dist=torch.tensor(f_dist)\n",
    "        \n",
    "        s1=f_dist.unsqueeze(0).unsqueeze(2).unsqueeze(3)\n",
    "        self.s1=s1.repeat_interleave(6,dim=0).repeat_interleave(224,dim=2).repeat_interleave(224,dim=3)\n",
    "\n",
    "        min_s1=torch.min(f_dist)\n",
    "        min_s1=min_s1.unsqueeze(0).unsqueeze(1).unsqueeze(2).unsqueeze(3)\n",
    "        self.min_s1=min_s1.repeat_interleave(6,dim=0).repeat_interleave(5,dim=1).repeat_interleave(224,dim=2).repeat_interleave(224,dim=3)\n",
    "        \n",
    "        s=s_init.repeat_interleave(bs,dim=0).repeat_interleave(len(f_dist),dim=1)\n",
    "        self.s=nn.Parameter(s)\n",
    "        \n",
    "        self.f=torch.full((bs,len(f_dist),224,224),f,dtype=torch.float64).cuda()\n",
    "\n",
    "    def forward(self):\n",
    "        #blur=abs(self.s-self.s1) + self.f.cuda()\n",
    "        blur=abs(self.s-self.s1)*(self.min_s1-self.f)/((self.s1-self.f)*(self.s-self.min_s1))\n",
    "        return blur\n",
    "    def get_s(self):\n",
    "        return self.s"
   ]
  },
  {
   "cell_type": "code",
   "execution_count": 241,
   "metadata": {},
   "outputs": [
    {
     "name": "stderr",
     "output_type": "stream",
     "text": [
      "/opt/conda/lib/python3.7/site-packages/ipykernel_launcher.py:5: UserWarning: To copy construct from a tensor, it is recommended to use sourceTensor.clone().detach() or sourceTensor.clone().detach().requires_grad_(True), rather than torch.tensor(sourceTensor).\n",
      "  \"\"\"\n"
     ]
    }
   ],
   "source": [
    "bs=6\n",
    "f_dist=torch.tensor([0.1, 0.15, 0.3, 0.7, 1.5]).cuda()\n",
    "s_init=torch.rand((1,1,224,224),requires_grad=True).cuda()\n",
    "f=torch.tensor(2.9*1e-3).cuda()\n",
    "blur=Blur(s_init,f_dist,f,bs)\n",
    "blur=blur.cuda()\n",
    "opt = torch.optim.SGD(blur.parameters(), lr=1e-5)"
   ]
  },
  {
   "cell_type": "code",
   "execution_count": 218,
   "metadata": {},
   "outputs": [
    {
     "data": {
      "text/plain": [
       "(torch.Size([6, 5, 224, 224]), torch.Size([1, 1, 224, 224]))"
      ]
     },
     "execution_count": 218,
     "metadata": {},
     "output_type": "execute_result"
    }
   ],
   "source": [
    "coc_stack_norm.shape,s_init.shape"
   ]
  },
  {
   "cell_type": "code",
   "execution_count": 109,
   "metadata": {},
   "outputs": [],
   "source": [
    "database = '/scratch/lnw8px/depth-from-Focus-Defocus/defocus-net/data/fs_6/'\n",
    "FoD500_train, FoD500_val = FoD500Loader(database, n_stack=5, scale=1)\n",
    "FoD500_train, FoD500_val =  [FoD500_train], [FoD500_val]\n",
    "dataset_train = torch.utils.data.ConcatDataset(FoD500_train)\n",
    "dataset_val = torch.utils.data.ConcatDataset(FoD500_val)\n",
    "TrainImgLoader = torch.utils.data.DataLoader(dataset=dataset_train, num_workers=4, batch_size=bs, shuffle=True, drop_last=True)\n",
    "ValImgLoader = torch.utils.data.DataLoader(dataset=dataset_val, num_workers=1, batch_size=bs, shuffle=False, drop_last=True)\n",
    "\n",
    "for batch_idx, (img_stack_in, disp,coc_stack,foc_dist) in enumerate(TrainImgLoader):\n",
    "    break\n",
    "img_stack_in=Variable(torch.FloatTensor(img_stack_in))\n",
    "gt_disp=Variable(torch.FloatTensor(disp))\n",
    "img_stack,gt_disp,foc_dist,coc_stack=img_stack_in.cuda(),gt_disp.cuda(),foc_dist.cuda(),coc_stack.cuda()\n",
    "\n",
    "coc_mean=torch.mean(coc_stack,dim=1)\n",
    "coc_mean=torch.unsqueeze(coc_mean,dim=1)\n",
    "\n",
    "coc_max=torch.max(coc_stack,dim=1).values\n",
    "coc_max=torch.unsqueeze(coc_max,dim=1)\n",
    "\n",
    "coc_min=torch.min(coc_stack,dim=1).values\n",
    "coc_min=torch.unsqueeze(coc_min,dim=1)\n",
    "\n",
    "coc_max=torch.repeat_interleave(coc_max,repeats=5,dim=1)\n",
    "coc_min=torch.repeat_interleave(coc_min,repeats=5,dim=1)\n",
    "\n",
    "coc_stack_norm=(coc_stack-coc_min)/(coc_max-coc_mean)"
   ]
  },
  {
   "cell_type": "code",
   "execution_count": 221,
   "metadata": {},
   "outputs": [
    {
     "data": {
      "text/plain": [
       "(torch.Size([6, 1, 224, 224]), torch.Size([6, 5, 224, 224]))"
      ]
     },
     "execution_count": 221,
     "metadata": {},
     "output_type": "execute_result"
    }
   ],
   "source": [
    "disp.shape,list(blur.parameters())[0].data.shape"
   ]
  },
  {
   "cell_type": "code",
   "execution_count": 224,
   "metadata": {},
   "outputs": [
    {
     "data": {
      "text/plain": [
       "tensor([[0.7088, 0.7852, 0.5476,  ..., 0.8435, 0.6984, 0.2869],\n",
       "        [0.2289, 0.0520, 0.6120,  ..., 0.9177, 0.4395, 0.5060],\n",
       "        [0.2784, 0.6312, 0.6926,  ..., 0.4459, 0.0649, 0.9821],\n",
       "        ...,\n",
       "        [0.5888, 0.8785, 0.8052,  ..., 0.9915, 0.7675, 0.0311],\n",
       "        [0.1962, 0.6144, 0.7611,  ..., 0.5275, 0.8398, 0.9922],\n",
       "        [0.1701, 0.9617, 0.2371,  ..., 0.2261, 0.6807, 0.5573]],\n",
       "       device='cuda:0')"
      ]
     },
     "execution_count": 224,
     "metadata": {},
     "output_type": "execute_result"
    }
   ],
   "source": [
    "list(blur.parameters())[0].data[0,2,:,:]"
   ]
  },
  {
   "cell_type": "code",
   "execution_count": 228,
   "metadata": {},
   "outputs": [
    {
     "name": "stderr",
     "output_type": "stream",
     "text": [
      "/opt/conda/lib/python3.7/site-packages/ipykernel_launcher.py:1: UserWarning: Using a target size (torch.Size([6, 224, 224])) that is different to the input size (torch.Size([6, 1, 224, 224])). This will likely lead to incorrect results due to broadcasting. Please ensure they have the same size.\n",
      "  \"\"\"Entry point for launching an IPython kernel.\n"
     ]
    },
    {
     "data": {
      "text/plain": [
       "tensor(0.1712, device='cuda:0')"
      ]
     },
     "execution_count": 228,
     "metadata": {},
     "output_type": "execute_result"
    }
   ],
   "source": [
    "F.mse_loss(disp.cuda(),list(blur.parameters())[0].data[:,0,:,:].cuda(),reduction='none').mean()"
   ]
  },
  {
   "cell_type": "code",
   "execution_count": 239,
   "metadata": {},
   "outputs": [
    {
     "data": {
      "text/plain": [
       "3.197618029031643"
      ]
     },
     "execution_count": 239,
     "metadata": {},
     "output_type": "execute_result"
    }
   ],
   "source": [
    "loss.item()"
   ]
  },
  {
   "cell_type": "code",
   "execution_count": 242,
   "metadata": {},
   "outputs": [
    {
     "name": "stdout",
     "output_type": "stream",
     "text": [
      "blur_loss=1758331.9976143532 dist loss=0.1713479459285736\n",
      "blur_loss=12.470370135837051 dist loss=0.1713479459285736\n",
      "blur_loss=10.415849174528507 dist loss=0.1713479459285736\n",
      "blur_loss=9.272399733909799 dist loss=0.1713479459285736\n",
      "blur_loss=8.490850544355139 dist loss=0.1713479459285736\n",
      "blur_loss=7.905070798707255 dist loss=0.1713479459285736\n",
      "blur_loss=7.441756339544754 dist loss=0.1713479459285736\n",
      "blur_loss=7.06200295591677 dist loss=0.1713479459285736\n",
      "blur_loss=6.742704793871608 dist loss=0.1713479459285736\n",
      "blur_loss=6.469037611045301 dist loss=0.1713479459285736\n",
      "blur_loss=6.230930978921432 dist loss=0.1713479459285736\n",
      "blur_loss=6.021236822229834 dist loss=0.1713479459285736\n",
      "blur_loss=5.834699332918551 dist loss=0.1713479459285736\n",
      "blur_loss=5.667344402253246 dist loss=0.1713479459285736\n",
      "blur_loss=5.516095985707164 dist loss=0.1713479459285736\n",
      "blur_loss=5.378527872297812 dist loss=0.1713479459285736\n",
      "blur_loss=5.252695574330215 dist loss=0.1713479459285736\n",
      "blur_loss=5.137018984543228 dist loss=0.1713479459285736\n",
      "blur_loss=5.030199133021176 dist loss=0.1713479459285736\n",
      "blur_loss=4.931157064618873 dist loss=0.1713479459285736\n"
     ]
    },
    {
     "name": "stderr",
     "output_type": "stream",
     "text": [
      "/opt/conda/lib/python3.7/site-packages/ipykernel_launcher.py:4: UserWarning: Using a target size (torch.Size([6, 224, 224])) that is different to the input size (torch.Size([6, 1, 224, 224])). This will likely lead to incorrect results due to broadcasting. Please ensure they have the same size.\n",
      "  after removing the cwd from sys.path.\n"
     ]
    }
   ],
   "source": [
    "for i in range(20):\n",
    "    blur_pred=blur()\n",
    "    loss=F.mse_loss(coc_stack_norm,blur_pred,reduction='none').mean()\n",
    "    dst_er=F.mse_loss(disp.cuda(),list(blur.parameters())[0].data[:,0,:,:].cuda(),reduction='none').mean()\n",
    "    print('blur_loss='+str(loss.item())+' dist loss='+str(dst_er.item()))\n",
    "    #print(list(blur.parameters())[0].data.mean())\n",
    "    loss.backward()\n",
    "    opt.step()\n",
    "\n",
    "    #list(blur.parameters())[0].data.mean()"
   ]
  },
  {
   "cell_type": "code",
   "execution_count": 21,
   "metadata": {},
   "outputs": [
    {
     "data": {
      "text/plain": [
       "(torch.Size([6, 5, 224, 224]), torch.Size([6, 5, 256, 256]))"
      ]
     },
     "execution_count": 21,
     "metadata": {},
     "output_type": "execute_result"
    }
   ],
   "source": [
    "coc_stack_norm.shape, blur_pred.shape"
   ]
  },
  {
   "cell_type": "code",
   "execution_count": 209,
   "metadata": {},
   "outputs": [
    {
     "data": {
      "text/plain": [
       "tensor([[[[1.7841, 1.7828, 1.7836,  ..., 1.5783, 1.5762, 1.5746],\n",
       "          [1.7836, 1.7825, 1.7822,  ..., 1.5746, 1.5733, 1.5721],\n",
       "          [1.7822, 1.7820, 1.7819,  ..., 1.5721, 1.5697, 1.5682],\n",
       "          ...,\n",
       "          [1.4887, 1.4896, 1.4920,  ..., 1.5242, 1.5205, 1.5177],\n",
       "          [1.4888, 1.4908, 1.4927,  ..., 1.5171, 1.5140, 1.5105],\n",
       "          [1.4896, 1.4920, 1.4929,  ..., 1.5109, 1.5067, 1.5043]],\n",
       "\n",
       "         [[0.6820, 0.6835, 0.6860,  ..., 0.7819, 0.7800, 0.7800],\n",
       "          [0.6860, 0.6861, 0.6887,  ..., 0.7800, 0.7786, 0.7780],\n",
       "          [0.6887, 0.6900, 0.6936,  ..., 0.7780, 0.7759, 0.7752],\n",
       "          ...,\n",
       "          [0.7563, 0.7574, 0.7624,  ..., 0.8175, 0.8107, 0.8067],\n",
       "          [0.7556, 0.7603, 0.7642,  ..., 0.8049, 0.7999, 0.7939],\n",
       "          [0.7574, 0.7624, 0.7635,  ..., 0.7956, 0.7870, 0.7822]],\n",
       "\n",
       "         [[0.0000, 0.0000, 0.0000,  ..., 0.0000, 0.0000, 0.0000],\n",
       "          [0.0000, 0.0000, 0.0000,  ..., 0.0000, 0.0000, 0.0000],\n",
       "          [0.0000, 0.0000, 0.0000,  ..., 0.0000, 0.0000, 0.0000],\n",
       "          ...,\n",
       "          [0.0388, 0.0417, 0.0462,  ..., 0.1252, 0.1168, 0.1088],\n",
       "          [0.0402, 0.0432, 0.0476,  ..., 0.1086, 0.1003, 0.0919],\n",
       "          [0.0417, 0.0462, 0.0490,  ..., 0.0920, 0.0834, 0.0778]],\n",
       "\n",
       "         [[0.6075, 0.6048, 0.6050,  ..., 0.1788, 0.1755, 0.1722],\n",
       "          [0.6050, 0.6031, 0.6015,  ..., 0.1722, 0.1716, 0.1686],\n",
       "          [0.6015, 0.6007, 0.5977,  ..., 0.1686, 0.1649, 0.1631],\n",
       "          ...,\n",
       "          [0.0000, 0.0000, 0.0000,  ..., 0.0000, 0.0000, 0.0000],\n",
       "          [0.0000, 0.0000, 0.0000,  ..., 0.0000, 0.0000, 0.0000],\n",
       "          [0.0000, 0.0000, 0.0000,  ..., 0.0000, 0.0000, 0.0000]],\n",
       "\n",
       "         [[0.8469, 0.8431, 0.8435,  ..., 0.3527, 0.3494, 0.3461],\n",
       "          [0.8435, 0.8408, 0.8386,  ..., 0.3461, 0.3432, 0.3420],\n",
       "          [0.8386, 0.8374, 0.8363,  ..., 0.3420, 0.3379, 0.3343],\n",
       "          ...,\n",
       "          [0.1596, 0.1592, 0.1593,  ..., 0.1540, 0.1544, 0.1553],\n",
       "          [0.1595, 0.1595, 0.1591,  ..., 0.1549, 0.1556, 0.1562],\n",
       "          [0.1592, 0.1593, 0.1589,  ..., 0.1562, 0.1565, 0.1570]]],\n",
       "\n",
       "\n",
       "        [[[1.7459, 1.7459, 1.7459,  ..., 1.7384, 1.7459, 1.7522],\n",
       "          [1.7478, 1.7478, 1.7459,  ..., 1.7378, 1.7441, 1.7510],\n",
       "          [1.7492, 1.7491, 1.7478,  ..., 1.7359, 1.7409, 1.7492],\n",
       "          ...,\n",
       "          [1.7884, 1.7884, 1.7893,  ..., 1.8935, 1.8876, 1.8876],\n",
       "          [1.7888, 1.7888, 1.7884,  ..., 1.8774, 1.8774, 1.8702],\n",
       "          [1.7891, 1.7898, 1.7888,  ..., 1.8626, 1.8612, 1.8631]],\n",
       "\n",
       "         [[0.8631, 0.8649, 0.8649,  ..., 0.8593, 0.8649, 0.8671],\n",
       "          [0.8658, 0.8658, 0.8631,  ..., 0.8608, 0.8639, 0.8674],\n",
       "          [0.8656, 0.8664, 0.8658,  ..., 0.8599, 0.8606, 0.8656],\n",
       "          ...,\n",
       "          [0.6362, 0.6362, 0.6388,  ..., 0.0000, 0.0000, 0.0000],\n",
       "          [0.6333, 0.6356, 0.6362,  ..., 0.0000, 0.0000, 0.0000],\n",
       "          [0.6327, 0.6345, 0.6333,  ..., 0.0038, 0.0038, 0.0114]],\n",
       "\n",
       "         [[0.0000, 0.0000, 0.0000,  ..., 0.0000, 0.0000, 0.0000],\n",
       "          [0.0000, 0.0000, 0.0000,  ..., 0.0000, 0.0000, 0.0000],\n",
       "          [0.0000, 0.0000, 0.0000,  ..., 0.0000, 0.0000, 0.0000],\n",
       "          ...,\n",
       "          [0.0000, 0.0000, 0.0000,  ..., 0.0272, 0.0233, 0.0233],\n",
       "          [0.0000, 0.0000, 0.0000,  ..., 0.0116, 0.0116, 0.0077],\n",
       "          [0.0000, 0.0000, 0.0000,  ..., 0.0000, 0.0000, 0.0000]],\n",
       "\n",
       "         [[0.4649, 0.4631, 0.4631,  ..., 0.4521, 0.4631, 0.4751],\n",
       "          [0.4672, 0.4672, 0.4649,  ..., 0.4501, 0.4608, 0.4716],\n",
       "          [0.4698, 0.4693, 0.4672,  ..., 0.4461, 0.4563, 0.4698],\n",
       "          ...,\n",
       "          [0.6338, 0.6338, 0.6341,  ..., 1.0692, 1.0581, 1.0581],\n",
       "          [0.6356, 0.6333, 0.6338,  ..., 1.0447, 1.0447, 1.0330],\n",
       "          [0.6351, 0.6368, 0.6356,  ..., 1.0229, 1.0183, 1.0190]],\n",
       "\n",
       "         [[0.6559, 0.6559, 0.6559,  ..., 0.6423, 0.6559, 0.6665],\n",
       "          [0.6584, 0.6584, 0.6559,  ..., 0.6402, 0.6515, 0.6650],\n",
       "          [0.6614, 0.6606, 0.6584,  ..., 0.6378, 0.6468, 0.6614],\n",
       "          ...,\n",
       "          [0.8836, 0.8836, 0.8840,  ..., 1.4774, 1.4690, 1.4690],\n",
       "          [0.8861, 0.8861, 0.8836,  ..., 1.4534, 1.4534, 1.4401],\n",
       "          [0.8886, 0.8878, 0.8861,  ..., 1.4237, 1.4226, 1.4221]]],\n",
       "\n",
       "\n",
       "        [[[1.7867, 1.7870, 1.7874,  ..., 1.6265, 1.6134, 1.6178],\n",
       "          [1.7860, 1.7864, 1.7875,  ..., 1.6265, 1.6134, 1.6178],\n",
       "          [1.7854, 1.7857, 1.7869,  ..., 1.6199, 1.6134, 1.6178],\n",
       "          ...,\n",
       "          [1.6011, 1.6011, 1.6011,  ..., 1.6642, 1.6642, 1.6650],\n",
       "          [1.6023, 1.6020, 1.6020,  ..., 1.6646, 1.6642, 1.6642],\n",
       "          [1.6028, 1.6028, 1.6032,  ..., 1.6646, 1.6650, 1.6650]],\n",
       "\n",
       "         [[0.6506, 0.6477, 0.6472,  ..., 0.0000, 0.0000, 0.0000],\n",
       "          [0.6562, 0.6534, 0.6532,  ..., 0.0000, 0.0000, 0.0000],\n",
       "          [0.6618, 0.6590, 0.6588,  ..., 0.0000, 0.0000, 0.0000],\n",
       "          ...,\n",
       "          [0.9689, 0.9689, 0.9689,  ..., 1.0584, 1.0592, 1.0601],\n",
       "          [0.9704, 0.9694, 0.9694,  ..., 1.0599, 1.0584, 1.0584],\n",
       "          [0.9699, 0.9699, 0.9714,  ..., 1.0591, 1.0601, 1.0601]],\n",
       "\n",
       "         [[0.0000, 0.0000, 0.0000,  ..., 1.2751, 1.2741, 1.2816],\n",
       "          [0.0000, 0.0000, 0.0000,  ..., 1.2751, 1.2741, 1.2816],\n",
       "          [0.0000, 0.0000, 0.0000,  ..., 1.2759, 1.2741, 1.2816],\n",
       "          ...,\n",
       "          [0.3482, 0.3482, 0.3482,  ..., 0.4660, 0.4664, 0.4675],\n",
       "          [0.3488, 0.3484, 0.3497,  ..., 0.4661, 0.4660, 0.4660],\n",
       "          [0.3499, 0.3499, 0.3500,  ..., 0.4670, 0.4675, 0.4675]],\n",
       "\n",
       "         [[0.6250, 0.6267, 0.6262,  ..., 2.1653, 2.1590, 2.1671],\n",
       "          [0.6215, 0.6233, 0.6253,  ..., 2.1653, 2.1590, 2.1671],\n",
       "          [0.6181, 0.6198, 0.6218,  ..., 2.1643, 2.1590, 2.1671],\n",
       "          ...,\n",
       "          [0.0000, 0.0000, 0.0000,  ..., 0.1325, 0.1313, 0.1325],\n",
       "          [0.0000, 0.0000, 0.0000,  ..., 0.1325, 0.1325, 0.1325],\n",
       "          [0.0000, 0.0000, 0.0000,  ..., 0.1324, 0.1325, 0.1325]],\n",
       "\n",
       "         [[0.8713, 0.8737, 0.8762,  ..., 2.5167, 2.5116, 2.5166],\n",
       "          [0.8665, 0.8689, 0.8717,  ..., 2.5167, 2.5116, 2.5166],\n",
       "          [0.8617, 0.8641, 0.8669,  ..., 2.5150, 2.5116, 2.5166],\n",
       "          ...,\n",
       "          [0.0874, 0.0874, 0.0874,  ..., 0.0000, 0.0000, 0.0000],\n",
       "          [0.0901, 0.0900, 0.0887,  ..., 0.0000, 0.0000, 0.0000],\n",
       "          [0.0913, 0.0913, 0.0914,  ..., 0.0000, 0.0000, 0.0000]]],\n",
       "\n",
       "\n",
       "        [[[1.7730, 1.7732, 1.7737,  ..., 1.6782, 1.4653, 1.4478],\n",
       "          [1.7724, 1.7724, 1.7737,  ..., 1.4760, 1.4653, 1.4478],\n",
       "          [1.7722, 1.7730, 1.7729,  ..., 1.4760, 1.4653, 1.4478],\n",
       "          ...,\n",
       "          [0.0000, 0.0000, 0.0000,  ..., 1.5210, 1.5219, 1.5231],\n",
       "          [0.0000, 0.0000, 0.0000,  ..., 1.5182, 1.5197, 1.5211],\n",
       "          [0.0000, 0.0000, 0.0000,  ..., 1.5151, 1.5163, 1.5174]],\n",
       "\n",
       "         [[0.7730, 0.7649, 0.7675,  ..., 0.0000, 0.0000, 0.0000],\n",
       "          [0.7716, 0.7716, 0.7675,  ..., 0.0000, 0.0000, 0.0000],\n",
       "          [0.7738, 0.7730, 0.7761,  ..., 0.0000, 0.0000, 0.0000],\n",
       "          ...,\n",
       "          [0.6184, 0.6214, 0.6258,  ..., 0.8117, 0.8136, 0.8156],\n",
       "          [0.6324, 0.6364, 0.6410,  ..., 0.8068, 0.8097, 0.8126],\n",
       "          [0.6478, 0.6495, 0.6538,  ..., 0.8019, 0.8038, 0.8058]],\n",
       "\n",
       "         [[0.0000, 0.0000, 0.0000,  ..., 1.2249, 1.3988, 1.4060],\n",
       "          [0.0000, 0.0000, 0.0000,  ..., 1.3786, 1.3988, 1.4060],\n",
       "          [0.0000, 0.0000, 0.0000,  ..., 1.3847, 1.3988, 1.4060],\n",
       "          ...,\n",
       "          [1.5796, 1.5831, 1.5879,  ..., 0.1182, 0.1197, 0.1225],\n",
       "          [1.5901, 1.5941, 1.6015,  ..., 0.1113, 0.1142, 0.1157],\n",
       "          [1.6032, 1.6046, 1.6073,  ..., 0.1031, 0.1059, 0.1087]],\n",
       "\n",
       "         [[0.5501, 0.5546, 0.5535,  ..., 2.1453, 2.2024, 2.2000],\n",
       "          [0.5506, 0.5506, 0.5535,  ..., 2.1881, 2.2024, 2.2000],\n",
       "          [0.5492, 0.5501, 0.5494,  ..., 2.1942, 2.2024, 2.2000],\n",
       "          ...,\n",
       "          [2.1163, 2.1190, 2.1219,  ..., 0.0000, 0.0000, 0.0000],\n",
       "          [2.1228, 2.1309, 2.1347,  ..., 0.0000, 0.0000, 0.0000],\n",
       "          [2.1336, 2.1348, 2.1397,  ..., 0.0000, 0.0000, 0.0000]],\n",
       "\n",
       "         [[0.7689, 0.7732, 0.7737,  ..., 2.5121, 2.5166, 2.5134],\n",
       "          [0.7675, 0.7675, 0.7737,  ..., 2.5107, 2.5166, 2.5134],\n",
       "          [0.7656, 0.7689, 0.7659,  ..., 2.5137, 2.5166, 2.5134],\n",
       "          ...,\n",
       "          [2.3286, 2.3309, 2.3339,  ..., 0.1543, 0.1544, 0.1542],\n",
       "          [2.3363, 2.3404, 2.3443,  ..., 0.1547, 0.1547, 0.1562],\n",
       "          [2.3462, 2.3472, 2.3502,  ..., 0.1554, 0.1553, 0.1551]]],\n",
       "\n",
       "\n",
       "        [[[1.5744, 1.5744, 1.5744,  ..., 1.7000, 1.7018, 1.7035],\n",
       "          [1.5754, 1.5754, 1.5754,  ..., 1.7000, 1.7018, 1.7035],\n",
       "          [1.5764, 1.5764, 1.5764,  ..., 1.7000, 1.7018, 1.7024],\n",
       "          ...,\n",
       "          [0.0000, 0.0000, 0.0000,  ..., 1.5067, 1.5061, 1.5054],\n",
       "          [0.0000, 0.0000, 0.0000,  ..., 1.5109, 1.5096, 1.5094],\n",
       "          [0.0000, 0.0000, 0.0000,  ..., 1.5132, 1.5138, 1.5131]],\n",
       "\n",
       "         [[0.9045, 0.9045, 0.9038,  ..., 0.8404, 0.8412, 0.8430],\n",
       "          [0.9062, 0.9062, 0.9062,  ..., 0.8404, 0.8412, 0.8430],\n",
       "          [0.9080, 0.9080, 0.9080,  ..., 0.8421, 0.8430, 0.8415],\n",
       "          ...,\n",
       "          [0.5934, 0.5496, 0.5079,  ..., 0.7870, 0.7860, 0.7842],\n",
       "          [0.5993, 0.5558, 0.5169,  ..., 0.7956, 0.7920, 0.7919],\n",
       "          [0.6076, 0.5636, 0.5273,  ..., 0.7987, 0.8006, 0.7988]],\n",
       "\n",
       "         [[0.2469, 0.2469, 0.2481,  ..., 0.0000, 0.0000, 0.0000],\n",
       "          [0.2494, 0.2494, 0.2494,  ..., 0.0000, 0.0000, 0.0000],\n",
       "          [0.2518, 0.2518, 0.2518,  ..., 0.0000, 0.0000, 0.0000],\n",
       "          ...,\n",
       "          [1.5606, 1.5263, 1.4946,  ..., 0.0834, 0.0820, 0.0806],\n",
       "          [1.5661, 1.5289, 1.4985,  ..., 0.0920, 0.0904, 0.0891],\n",
       "          [1.5712, 1.5380, 1.5090,  ..., 0.1002, 0.0990, 0.0977]],\n",
       "\n",
       "         [[0.0000, 0.0000, 0.0000,  ..., 0.3860, 0.3899, 0.3916],\n",
       "          [0.0000, 0.0000, 0.0000,  ..., 0.3860, 0.3899, 0.3916],\n",
       "          [0.0000, 0.0000, 0.0000,  ..., 0.3860, 0.3881, 0.3900],\n",
       "          ...,\n",
       "          [2.1027, 2.0738, 2.0443,  ..., 0.0000, 0.0000, 0.0000],\n",
       "          [2.1039, 2.0723, 2.0467,  ..., 0.0000, 0.0000, 0.0000],\n",
       "          [2.1092, 2.0809, 2.0592,  ..., 0.0000, 0.0000, 0.0000]],\n",
       "\n",
       "         [[0.1460, 0.1460, 0.1459,  ..., 0.5737, 0.5760, 0.5796],\n",
       "          [0.1458, 0.1458, 0.1458,  ..., 0.5737, 0.5760, 0.5796],\n",
       "          [0.1457, 0.1457, 0.1457,  ..., 0.5719, 0.5760, 0.5780],\n",
       "          ...,\n",
       "          [2.3142, 2.2874, 2.2617,  ..., 0.1565, 0.1566, 0.1568],\n",
       "          [2.3173, 2.2893, 2.2655,  ..., 0.1562, 0.1561, 0.1563],\n",
       "          [2.3220, 2.2956, 2.2739,  ..., 0.1539, 0.1557, 0.1560]]],\n",
       "\n",
       "\n",
       "        [[[1.8153, 1.8130, 1.8164,  ..., 1.7992, 1.7970, 1.7980],\n",
       "          [1.8130, 1.8153, 1.8130,  ..., 1.7988, 1.7973, 1.7960],\n",
       "          [1.8125, 1.8130, 1.8153,  ..., 1.7984, 1.7980, 1.7956],\n",
       "          ...,\n",
       "          [1.6139, 1.5964, 1.5969,  ..., 1.5472, 1.5466, 1.5461],\n",
       "          [1.6143, 1.5964, 1.5969,  ..., 1.5462, 1.5466, 1.5461],\n",
       "          [1.6143, 1.6164, 1.5969,  ..., 1.5462, 1.5461, 1.5461]],\n",
       "\n",
       "         [[0.4231, 0.4131, 0.4145,  ..., 0.5556, 0.5584, 0.5657],\n",
       "          [0.4219, 0.4231, 0.4131,  ..., 0.5589, 0.5612, 0.5668],\n",
       "          [0.4261, 0.4219, 0.4231,  ..., 0.5623, 0.5657, 0.5701],\n",
       "          ...,\n",
       "          [0.9995, 0.9794, 0.9795,  ..., 0.8572, 0.8570, 0.8554],\n",
       "          [0.9998, 0.9794, 0.9795,  ..., 0.8561, 0.8570, 0.8554],\n",
       "          [0.9998, 1.0025, 0.9795,  ..., 0.8561, 0.8554, 0.8554]],\n",
       "\n",
       "         [[0.0000, 0.0000, 0.0000,  ..., 0.0000, 0.0000, 0.0000],\n",
       "          [0.0000, 0.0000, 0.0000,  ..., 0.0000, 0.0000, 0.0000],\n",
       "          [0.0000, 0.0000, 0.0000,  ..., 0.0000, 0.0000, 0.0000],\n",
       "          ...,\n",
       "          [0.3976, 0.3737, 0.3745,  ..., 0.1813, 0.1787, 0.1787],\n",
       "          [0.3989, 0.3737, 0.3745,  ..., 0.1785, 0.1787, 0.1787],\n",
       "          [0.3989, 0.4010, 0.3745,  ..., 0.1785, 0.1787, 0.1787]],\n",
       "\n",
       "         [[0.7690, 0.7688, 0.7714,  ..., 0.6855, 0.6802, 0.6793],\n",
       "          [0.7640, 0.7690, 0.7688,  ..., 0.6834, 0.6800, 0.6751],\n",
       "          [0.7614, 0.7640, 0.7690,  ..., 0.6814, 0.6793, 0.6730],\n",
       "          ...,\n",
       "          [0.0586, 0.0326, 0.0338,  ..., 0.0000, 0.0000, 0.0000],\n",
       "          [0.0586, 0.0326, 0.0338,  ..., 0.0000, 0.0000, 0.0000],\n",
       "          [0.0586, 0.0623, 0.0338,  ..., 0.0000, 0.0000, 0.0000]],\n",
       "\n",
       "         [[1.0692, 1.0700, 1.0794,  ..., 0.9557, 0.9492, 0.9470],\n",
       "          [1.0661, 1.0692, 1.0700,  ..., 0.9527, 0.9479, 0.9421],\n",
       "          [1.0625, 1.0661, 1.0692,  ..., 0.9498, 0.9470, 0.9392],\n",
       "          ...,\n",
       "          [0.0000, 0.0000, 0.0000,  ..., 0.1504, 0.1506, 0.1505],\n",
       "          [0.0000, 0.0000, 0.0000,  ..., 0.1504, 0.1506, 0.1505],\n",
       "          [0.0000, 0.0000, 0.0000,  ..., 0.1504, 0.1505, 0.1505]]]],\n",
       "       device='cuda:0')"
      ]
     },
     "execution_count": 209,
     "metadata": {},
     "output_type": "execute_result"
    }
   ],
   "source": [
    "coc_stack_norm"
   ]
  },
  {
   "cell_type": "code",
   "execution_count": 20,
   "metadata": {},
   "outputs": [],
   "source": [
    "\n"
   ]
  }
 ],
 "metadata": {
  "kernelspec": {
   "display_name": "Python 3",
   "language": "python",
   "name": "python3"
  },
  "language_info": {
   "codemirror_mode": {
    "name": "ipython",
    "version": 3
   },
   "file_extension": ".py",
   "mimetype": "text/x-python",
   "name": "python",
   "nbconvert_exporter": "python",
   "pygments_lexer": "ipython3",
   "version": "3.7.7"
  }
 },
 "nbformat": 4,
 "nbformat_minor": 4
}
