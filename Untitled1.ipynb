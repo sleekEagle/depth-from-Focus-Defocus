{
 "cells": [
  {
   "cell_type": "code",
   "execution_count": 2,
   "metadata": {},
   "outputs": [
    {
     "name": "stdout",
     "output_type": "stream",
     "text": [
      "The autoreload extension is already loaded. To reload it, use:\n",
      "  %reload_ext autoreload\n"
     ]
    }
   ],
   "source": [
    "from __future__ import print_function\n",
    "import argparse\n",
    "import os\n",
    "import random\n",
    "import torch\n",
    "import torch.nn as nn\n",
    "import torch.backends.cudnn as cudnn\n",
    "import torch.optim as optim\n",
    "import torch.utils.data\n",
    "from torch.autograd import Variable\n",
    "import torch.nn.functional as F\n",
    "import time\n",
    "import models\n",
    "from utils import logger, write_log\n",
    "torch.backends.cudnn.benchmark=True\n",
    "from glob import glob\n",
    "import importlib\n",
    "%load_ext autoreload\n",
    "%autoreload 2\n",
    "%matplotlib inline\n",
    "import matplotlib.pyplot as plt\n",
    "from models import DFFNet"
   ]
  },
  {
   "cell_type": "code",
   "execution_count": 77,
   "metadata": {},
   "outputs": [],
   "source": [
    "for batch_idx, (img_stack, gt_disp,coc_stack,foc_dist) in enumerate(TrainImgLoader):\n",
    "    break"
   ]
  },
  {
   "cell_type": "code",
   "execution_count": 78,
   "metadata": {},
   "outputs": [],
   "source": [
    "img_stack_in,disp,coc_stack,foc_dist=img_stack, gt_disp,coc_stack,foc_dist\n",
    "img_stack_in=Variable(torch.FloatTensor(img_stack_in))\n",
    "gt_disp=Variable(torch.FloatTensor(disp))\n",
    "img_stack,gt_disp,foc_dist,coc_stack=img_stack_in.cuda(),gt_disp.cuda(),foc_dist.cuda(),coc_stack.cuda()\n",
    "\n",
    "max_val = torch.where(foc_dist>=100, torch.zeros_like(foc_dist), foc_dist) # exclude padding value\n",
    "min_val = torch.where(foc_dist<=0, torch.ones_like(foc_dist)*10, foc_dist)  # exclude padding value\n",
    "mask = (gt_disp >= min_val.min(dim=1)[0].view(-1,1,1,1)) & (gt_disp <= max_val.max(dim=1)[0].view(-1,1,1,1)) #\n",
    "mask.detach_()\n",
    "\n",
    "stacked=model(img_stack, foc_dist)"
   ]
  },
  {
   "cell_type": "code",
   "execution_count": 74,
   "metadata": {},
   "outputs": [
    {
     "data": {
      "text/plain": [
       "torch.Size([4, 1, 224, 224])"
      ]
     },
     "execution_count": 74,
     "metadata": {},
     "output_type": "execute_result"
    }
   ],
   "source": [
    "mask.shape"
   ]
  },
  {
   "cell_type": "code",
   "execution_count": 79,
   "metadata": {},
   "outputs": [
    {
     "data": {
      "text/plain": [
       "torch.Size([4, 5, 224, 224])"
      ]
     },
     "execution_count": 79,
     "metadata": {},
     "output_type": "execute_result"
    }
   ],
   "source": [
    "coc_mean=torch.mean(coc_stack,dim=1)\n",
    "coc_mean=torch.unsqueeze(coc_mean,dim=1)\n",
    "\n",
    "coc_max=torch.max(coc_stack,dim=1).values\n",
    "coc_max=torch.unsqueeze(coc_max,dim=1)\n",
    "\n",
    "coc_min=torch.min(coc_stack,dim=1).values\n",
    "coc_min=torch.unsqueeze(coc_min,dim=1)\n",
    "\n",
    "coc_max=torch.repeat_interleave(coc_max,repeats=5,dim=1)\n",
    "coc_min=torch.repeat_interleave(coc_min,repeats=5,dim=1)\n",
    "\n",
    "coc_stack_norm=(coc_stack-coc_min)/(coc_max-coc_mean)\n",
    "coc_stack_norm.shape"
   ]
  },
  {
   "cell_type": "code",
   "execution_count": 80,
   "metadata": {},
   "outputs": [],
   "source": [
    "for i, s in enumerate(stacked):\n",
    "    break"
   ]
  },
  {
   "cell_type": "code",
   "execution_count": 81,
   "metadata": {},
   "outputs": [
    {
     "data": {
      "text/plain": [
       "torch.Size([4, 5, 224, 224])"
      ]
     },
     "execution_count": 81,
     "metadata": {},
     "output_type": "execute_result"
    }
   ],
   "source": [
    "s.shape"
   ]
  },
  {
   "cell_type": "code",
   "execution_count": 82,
   "metadata": {},
   "outputs": [
    {
     "data": {
      "text/plain": [
       "torch.Size([4, 5, 224, 224])"
      ]
     },
     "execution_count": 82,
     "metadata": {},
     "output_type": "execute_result"
    }
   ],
   "source": [
    "s_mean=torch.mean(s,dim=1)\n",
    "s_mean=torch.unsqueeze(s_mean,dim=1)\n",
    "\n",
    "s_max=torch.max(s,dim=1).values\n",
    "s_max=torch.unsqueeze(s_max,dim=1)\n",
    "\n",
    "s_min=torch.min(s,dim=1).values\n",
    "s_min=torch.unsqueeze(s_min,dim=1)\n",
    "\n",
    "s_mean=torch.repeat_interleave(s_mean,repeats=5,dim=1)\n",
    "s_max=torch.repeat_interleave(s_max,repeats=5,dim=1)\n",
    "s_min=torch.repeat_interleave(s_min,repeats=5,dim=1)\n",
    "\n",
    "s_norm=(s)/(s_mean)\n",
    "s_norm.shape"
   ]
  },
  {
   "cell_type": "code",
   "execution_count": 84,
   "metadata": {},
   "outputs": [
    {
     "data": {
      "text/plain": [
       "torch.Size([4, 1, 224, 224])"
      ]
     },
     "execution_count": 84,
     "metadata": {},
     "output_type": "execute_result"
    }
   ],
   "source": [
    "mask.shape"
   ]
  },
  {
   "cell_type": "code",
   "execution_count": 85,
   "metadata": {},
   "outputs": [
    {
     "data": {
      "text/plain": [
       "torch.Size([4, 5, 224, 224])"
      ]
     },
     "execution_count": 85,
     "metadata": {},
     "output_type": "execute_result"
    }
   ],
   "source": [
    "mask=torch.repeat_interleave(mask,repeats=5,dim=1)\n",
    "mask.shape"
   ]
  },
  {
   "cell_type": "code",
   "execution_count": 5,
   "metadata": {},
   "outputs": [],
   "source": [
    "optimizer = optim.Adam(model.parameters(), lr=0.0001, betas=(0.9, 0.999))\n",
    "\n",
    "def train(img_stack_in,disp,coc_stack,foc_dist):\n",
    "    model.train()\n",
    "\n",
    "    img_stack_in=Variable(torch.FloatTensor(img_stack_in))\n",
    "    gt_disp=Variable(torch.FloatTensor(disp))\n",
    "    img_stack,gt_disp,foc_dist,coc_stack=img_stack_in.cuda(),gt_disp.cuda(),foc_dist.cuda(),coc_stack.cuda()\n",
    "\n",
    "    #---------\n",
    "    max_val = torch.where(foc_dist>=100, torch.zeros_like(foc_dist), foc_dist) # exclude padding value\n",
    "    min_val = torch.where(foc_dist<=0, torch.ones_like(foc_dist)*10, foc_dist)  # exclude padding value\n",
    "    mask = (gt_disp >= min_val.min(dim=1)[0].view(-1,1,1,1)) & (gt_disp <= max_val.max(dim=1)[0].view(-1,1,1,1)) #\n",
    "    mask=torch.repeat_interleave(mask,repeats=5,dim=1)\n",
    "    mask.detach_()\n",
    "    #----\n",
    "\n",
    "    optimizer.zero_grad()\n",
    "    beta_scale = 1 # smooth l1 do not have beta in 1.6, so we increase the input to and then scale back -- no significant improve according to our trials\n",
    "    stacked=model(img_stack, foc_dist)\n",
    "    \n",
    "    \n",
    "    coc_mean=torch.mean(coc_stack,dim=1)\n",
    "    coc_mean=torch.unsqueeze(coc_mean,dim=1)\n",
    "    \n",
    "    coc_max=torch.max(coc_stack,dim=1).values\n",
    "    coc_max=torch.unsqueeze(coc_max,dim=1)\n",
    "    \n",
    "    coc_min=torch.min(coc_stack,dim=1).values\n",
    "    coc_min=torch.unsqueeze(coc_min,dim=1)\n",
    "    \n",
    "    coc_max=torch.repeat_interleave(coc_max,repeats=5,dim=1)\n",
    "    coc_min=torch.repeat_interleave(coc_min,repeats=5,dim=1)\n",
    "\n",
    "    coc_stack_norm=(coc_stack-coc_min)/(coc_max-coc_mean)\n",
    "\n",
    "    lvl_w=[8./15, 4./15, 2./15, 1./15]\n",
    "    loss = 0\n",
    "    for i, s in enumerate(stacked):\n",
    "        s_mean=torch.mean(s,dim=1)\n",
    "        s_mean=torch.unsqueeze(s_mean,dim=1)\n",
    "        \n",
    "        s_max=torch.max(s,dim=1).values\n",
    "        s_max=torch.unsqueeze(s_max,dim=1)\n",
    "\n",
    "        s_min=torch.min(s,dim=1).values\n",
    "        s_min=torch.unsqueeze(s_min,dim=1)\n",
    "        \n",
    "        s_mean=torch.repeat_interleave(s_mean,repeats=5,dim=1)\n",
    "        s_max=torch.repeat_interleave(s_max,repeats=5,dim=1)\n",
    "        s_min=torch.repeat_interleave(s_min,repeats=5,dim=1)\n",
    "        \n",
    "        s_norm=(s)/(s_mean)\n",
    "\n",
    "        \n",
    "        _cur_loss=F.mse_loss(s_norm[mask],coc_stack_norm[mask],reduction='none')\n",
    "        loss = loss + lvl_w[i] * _cur_loss.mean()\n",
    "\n",
    "    loss.backward()\n",
    "    torch.nn.utils.clip_grad_norm_(model.parameters(), 0.5)\n",
    "    optimizer.step()\n",
    "    vis = {}\n",
    "    vis['pred'] = stacked[0].detach().cpu()\n",
    "    vis['pred']=torch.unsqueeze(vis['pred'][:,0,:,:],1)\n",
    "    vis['mask'] = mask.type(torch.float).detach().cpu()\n",
    "    vis['mask']=torch.unsqueeze(vis['mask'][:,0,:,:],1)\n",
    "    lossvalue = loss.data\n",
    "\n",
    "    del stacked\n",
    "    del loss\n",
    "    return lossvalue,vis\n",
    "\n",
    "def valid(img_stack_in,disp, foc_dist,coc_stack):\n",
    "    model.eval()\n",
    "    img_stack = Variable(torch.FloatTensor(img_stack_in))\n",
    "    gt_disp = Variable(torch.FloatTensor(disp))\n",
    "    img_stack,gt_disp,foc_dist,coc_stack=img_stack.cuda(),gt_disp.cuda(),foc_dist.cuda(),coc_stack.cuda()\n",
    "\n",
    "    #---------\n",
    "    mask = gt_disp > 0\n",
    "    mask.detach_()\n",
    "    mask=torch.repeat_interleave(mask,repeats=5,dim=1)\n",
    "    #----\n",
    "\n",
    "    coc_mean=torch.mean(coc_stack,dim=1)\n",
    "    coc_mean=torch.unsqueeze(coc_mean,dim=1)\n",
    "    coc_max=torch.max(coc_stack,dim=1).values\n",
    "    coc_max=torch.unsqueeze(coc_max,dim=1)\n",
    "    coc_min=torch.min(coc_stack,dim=1).values\n",
    "    coc_min=torch.unsqueeze(coc_min,dim=1)\n",
    "    coc_max=torch.repeat_interleave(coc_max,repeats=5,dim=1)\n",
    "    coc_min=torch.repeat_interleave(coc_min,repeats=5,dim=1)\n",
    "\n",
    "    coc_stack_norm=(coc_stack-coc_min)/(coc_max-coc_mean)\n",
    "\n",
    "    with torch.no_grad():\n",
    "        s= model(img_stack, foc_dist)[0]\n",
    "        \n",
    "        s_mean=torch.mean(s,dim=1)\n",
    "        s_mean=torch.unsqueeze(s_mean,dim=1)\n",
    "        \n",
    "        s_max=torch.max(s,dim=1).values\n",
    "        s_max=torch.unsqueeze(s_max,dim=1)\n",
    "\n",
    "        s_min=torch.min(s,dim=1).values\n",
    "        s_min=torch.unsqueeze(s_min,dim=1)\n",
    "        \n",
    "        s_max=torch.repeat_interleave(s_max,repeats=5,dim=1)\n",
    "        s_min=torch.repeat_interleave(s_min,repeats=5,dim=1)\n",
    "        \n",
    "        s_norm=(s-s_min)/(s_max-s_min)\n",
    "\n",
    "        loss = (F.mse_loss(s_norm[mask] , coc_stack_norm[mask] , reduction='mean')) # use MSE loss for val\n",
    "\n",
    "    vis = {}\n",
    "    vis['mask'] = mask.type(torch.float).detach().cpu()\n",
    "    vis['mask']=torch.unsqueeze(vis['mask'][:,0,:,:],1)\n",
    "    vis[\"pred\"] = s.detach().cpu()\n",
    "    vis['pred']=torch.unsqueeze(vis['pred'][:,0,:,:],1)\n",
    "    return loss,vis"
   ]
  },
  {
   "cell_type": "code",
   "execution_count": 7,
   "metadata": {},
   "outputs": [
    {
     "data": {
      "text/plain": [
       "DataParallel(\n",
       "  (module): DFFNet(\n",
       "    (feature_extraction): FeatExactor(\n",
       "      (encoder): ResNet(\n",
       "        (conv1): Conv2d(3, 64, kernel_size=(7, 7), stride=(2, 2), padding=(3, 3), bias=False)\n",
       "        (bn1): BatchNorm2d(64, eps=1e-05, momentum=0.1, affine=True, track_running_stats=True)\n",
       "        (relu): ReLU(inplace=True)\n",
       "        (maxpool): MaxPool2d(kernel_size=3, stride=2, padding=1, dilation=1, ceil_mode=False)\n",
       "        (layer1): Sequential(\n",
       "          (0): BasicBlock(\n",
       "            (conv1): Conv2d(64, 64, kernel_size=(3, 3), stride=(1, 1), padding=(1, 1), bias=False)\n",
       "            (bn1): BatchNorm2d(64, eps=1e-05, momentum=0.1, affine=True, track_running_stats=True)\n",
       "            (relu): ReLU(inplace=True)\n",
       "            (conv2): Conv2d(64, 64, kernel_size=(3, 3), stride=(1, 1), padding=(1, 1), bias=False)\n",
       "            (bn2): BatchNorm2d(64, eps=1e-05, momentum=0.1, affine=True, track_running_stats=True)\n",
       "          )\n",
       "          (1): BasicBlock(\n",
       "            (conv1): Conv2d(64, 64, kernel_size=(3, 3), stride=(1, 1), padding=(1, 1), bias=False)\n",
       "            (bn1): BatchNorm2d(64, eps=1e-05, momentum=0.1, affine=True, track_running_stats=True)\n",
       "            (relu): ReLU(inplace=True)\n",
       "            (conv2): Conv2d(64, 64, kernel_size=(3, 3), stride=(1, 1), padding=(1, 1), bias=False)\n",
       "            (bn2): BatchNorm2d(64, eps=1e-05, momentum=0.1, affine=True, track_running_stats=True)\n",
       "          )\n",
       "        )\n",
       "        (layer2): Sequential(\n",
       "          (0): BasicBlock(\n",
       "            (conv1): Conv2d(64, 128, kernel_size=(3, 3), stride=(2, 2), padding=(1, 1), bias=False)\n",
       "            (bn1): BatchNorm2d(128, eps=1e-05, momentum=0.1, affine=True, track_running_stats=True)\n",
       "            (relu): ReLU(inplace=True)\n",
       "            (conv2): Conv2d(128, 128, kernel_size=(3, 3), stride=(1, 1), padding=(1, 1), bias=False)\n",
       "            (bn2): BatchNorm2d(128, eps=1e-05, momentum=0.1, affine=True, track_running_stats=True)\n",
       "            (downsample): Sequential(\n",
       "              (0): Conv2d(64, 128, kernel_size=(1, 1), stride=(2, 2), bias=False)\n",
       "              (1): BatchNorm2d(128, eps=1e-05, momentum=0.1, affine=True, track_running_stats=True)\n",
       "            )\n",
       "          )\n",
       "          (1): BasicBlock(\n",
       "            (conv1): Conv2d(128, 128, kernel_size=(3, 3), stride=(1, 1), padding=(1, 1), bias=False)\n",
       "            (bn1): BatchNorm2d(128, eps=1e-05, momentum=0.1, affine=True, track_running_stats=True)\n",
       "            (relu): ReLU(inplace=True)\n",
       "            (conv2): Conv2d(128, 128, kernel_size=(3, 3), stride=(1, 1), padding=(1, 1), bias=False)\n",
       "            (bn2): BatchNorm2d(128, eps=1e-05, momentum=0.1, affine=True, track_running_stats=True)\n",
       "          )\n",
       "        )\n",
       "        (layer3): Sequential(\n",
       "          (0): BasicBlock(\n",
       "            (conv1): Conv2d(128, 256, kernel_size=(3, 3), stride=(2, 2), padding=(1, 1), bias=False)\n",
       "            (bn1): BatchNorm2d(256, eps=1e-05, momentum=0.1, affine=True, track_running_stats=True)\n",
       "            (relu): ReLU(inplace=True)\n",
       "            (conv2): Conv2d(256, 256, kernel_size=(3, 3), stride=(1, 1), padding=(1, 1), bias=False)\n",
       "            (bn2): BatchNorm2d(256, eps=1e-05, momentum=0.1, affine=True, track_running_stats=True)\n",
       "            (downsample): Sequential(\n",
       "              (0): Conv2d(128, 256, kernel_size=(1, 1), stride=(2, 2), bias=False)\n",
       "              (1): BatchNorm2d(256, eps=1e-05, momentum=0.1, affine=True, track_running_stats=True)\n",
       "            )\n",
       "          )\n",
       "          (1): BasicBlock(\n",
       "            (conv1): Conv2d(256, 256, kernel_size=(3, 3), stride=(1, 1), padding=(1, 1), bias=False)\n",
       "            (bn1): BatchNorm2d(256, eps=1e-05, momentum=0.1, affine=True, track_running_stats=True)\n",
       "            (relu): ReLU(inplace=True)\n",
       "            (conv2): Conv2d(256, 256, kernel_size=(3, 3), stride=(1, 1), padding=(1, 1), bias=False)\n",
       "            (bn2): BatchNorm2d(256, eps=1e-05, momentum=0.1, affine=True, track_running_stats=True)\n",
       "          )\n",
       "        )\n",
       "        (layer4): Sequential(\n",
       "          (0): BasicBlock(\n",
       "            (conv1): Conv2d(256, 512, kernel_size=(3, 3), stride=(2, 2), padding=(1, 1), bias=False)\n",
       "            (bn1): BatchNorm2d(512, eps=1e-05, momentum=0.1, affine=True, track_running_stats=True)\n",
       "            (relu): ReLU(inplace=True)\n",
       "            (conv2): Conv2d(512, 512, kernel_size=(3, 3), stride=(1, 1), padding=(1, 1), bias=False)\n",
       "            (bn2): BatchNorm2d(512, eps=1e-05, momentum=0.1, affine=True, track_running_stats=True)\n",
       "            (downsample): Sequential(\n",
       "              (0): Conv2d(256, 512, kernel_size=(1, 1), stride=(2, 2), bias=False)\n",
       "              (1): BatchNorm2d(512, eps=1e-05, momentum=0.1, affine=True, track_running_stats=True)\n",
       "            )\n",
       "          )\n",
       "          (1): BasicBlock(\n",
       "            (conv1): Conv2d(512, 512, kernel_size=(3, 3), stride=(1, 1), padding=(1, 1), bias=False)\n",
       "            (bn1): BatchNorm2d(512, eps=1e-05, momentum=0.1, affine=True, track_running_stats=True)\n",
       "            (relu): ReLU(inplace=True)\n",
       "            (conv2): Conv2d(512, 512, kernel_size=(3, 3), stride=(1, 1), padding=(1, 1), bias=False)\n",
       "            (bn2): BatchNorm2d(512, eps=1e-05, momentum=0.1, affine=True, track_running_stats=True)\n",
       "          )\n",
       "        )\n",
       "        (avgpool): AdaptiveAvgPool2d(output_size=(1, 1))\n",
       "        (fc): Linear(in_features=512, out_features=1000, bias=True)\n",
       "      )\n",
       "      (pyramid_pooling): pyramidPooling(\n",
       "        (path_module_list): ModuleList(\n",
       "          (0): conv2DBatchNormRelu(\n",
       "            (cbr_unit): Sequential(\n",
       "              (0): Conv2d(512, 512, kernel_size=(1, 1), stride=(1, 1), bias=False)\n",
       "              (1): BatchNorm2d(512, eps=1e-05, momentum=0.1, affine=True, track_running_stats=True)\n",
       "              (2): LeakyReLU(negative_slope=0.1, inplace=True)\n",
       "            )\n",
       "          )\n",
       "          (1): conv2DBatchNormRelu(\n",
       "            (cbr_unit): Sequential(\n",
       "              (0): Conv2d(512, 512, kernel_size=(1, 1), stride=(1, 1), bias=False)\n",
       "              (1): BatchNorm2d(512, eps=1e-05, momentum=0.1, affine=True, track_running_stats=True)\n",
       "              (2): LeakyReLU(negative_slope=0.1, inplace=True)\n",
       "            )\n",
       "          )\n",
       "          (2): conv2DBatchNormRelu(\n",
       "            (cbr_unit): Sequential(\n",
       "              (0): Conv2d(512, 512, kernel_size=(1, 1), stride=(1, 1), bias=False)\n",
       "              (1): BatchNorm2d(512, eps=1e-05, momentum=0.1, affine=True, track_running_stats=True)\n",
       "              (2): LeakyReLU(negative_slope=0.1, inplace=True)\n",
       "            )\n",
       "          )\n",
       "          (3): conv2DBatchNormRelu(\n",
       "            (cbr_unit): Sequential(\n",
       "              (0): Conv2d(512, 512, kernel_size=(1, 1), stride=(1, 1), bias=False)\n",
       "              (1): BatchNorm2d(512, eps=1e-05, momentum=0.1, affine=True, track_running_stats=True)\n",
       "              (2): LeakyReLU(negative_slope=0.1, inplace=True)\n",
       "            )\n",
       "          )\n",
       "        )\n",
       "      )\n",
       "      (upconv6): Sequential(\n",
       "        (0): Upsample(scale_factor=2.0, mode=nearest)\n",
       "        (1): conv2DBatchNormRelu(\n",
       "          (cbr_unit): Sequential(\n",
       "            (0): Conv2d(512, 256, kernel_size=(3, 3), stride=(1, 1), padding=(1, 1), bias=False)\n",
       "            (1): BatchNorm2d(256, eps=1e-05, momentum=0.1, affine=True, track_running_stats=True)\n",
       "            (2): LeakyReLU(negative_slope=0.1, inplace=True)\n",
       "          )\n",
       "        )\n",
       "      )\n",
       "      (iconv5): conv2DBatchNormRelu(\n",
       "        (cbr_unit): Sequential(\n",
       "          (0): Conv2d(512, 256, kernel_size=(3, 3), stride=(1, 1), padding=(1, 1), bias=False)\n",
       "          (1): BatchNorm2d(256, eps=1e-05, momentum=0.1, affine=True, track_running_stats=True)\n",
       "          (2): LeakyReLU(negative_slope=0.1, inplace=True)\n",
       "        )\n",
       "      )\n",
       "      (upconv5): Sequential(\n",
       "        (0): Upsample(scale_factor=2.0, mode=nearest)\n",
       "        (1): conv2DBatchNormRelu(\n",
       "          (cbr_unit): Sequential(\n",
       "            (0): Conv2d(256, 128, kernel_size=(3, 3), stride=(1, 1), padding=(1, 1), bias=False)\n",
       "            (1): BatchNorm2d(128, eps=1e-05, momentum=0.1, affine=True, track_running_stats=True)\n",
       "            (2): LeakyReLU(negative_slope=0.1, inplace=True)\n",
       "          )\n",
       "        )\n",
       "      )\n",
       "      (iconv4): conv2DBatchNormRelu(\n",
       "        (cbr_unit): Sequential(\n",
       "          (0): Conv2d(256, 128, kernel_size=(3, 3), stride=(1, 1), padding=(1, 1), bias=False)\n",
       "          (1): BatchNorm2d(128, eps=1e-05, momentum=0.1, affine=True, track_running_stats=True)\n",
       "          (2): LeakyReLU(negative_slope=0.1, inplace=True)\n",
       "        )\n",
       "      )\n",
       "      (upconv4): Sequential(\n",
       "        (0): Upsample(scale_factor=2.0, mode=nearest)\n",
       "        (1): conv2DBatchNormRelu(\n",
       "          (cbr_unit): Sequential(\n",
       "            (0): Conv2d(128, 64, kernel_size=(3, 3), stride=(1, 1), padding=(1, 1), bias=False)\n",
       "            (1): BatchNorm2d(64, eps=1e-05, momentum=0.1, affine=True, track_running_stats=True)\n",
       "            (2): LeakyReLU(negative_slope=0.1, inplace=True)\n",
       "          )\n",
       "        )\n",
       "      )\n",
       "      (iconv3): conv2DBatchNormRelu(\n",
       "        (cbr_unit): Sequential(\n",
       "          (0): Conv2d(128, 64, kernel_size=(3, 3), stride=(1, 1), padding=(1, 1), bias=False)\n",
       "          (1): BatchNorm2d(64, eps=1e-05, momentum=0.1, affine=True, track_running_stats=True)\n",
       "          (2): LeakyReLU(negative_slope=0.1, inplace=True)\n",
       "        )\n",
       "      )\n",
       "      (proj6): conv2DBatchNormRelu(\n",
       "        (cbr_unit): Sequential(\n",
       "          (0): Conv2d(512, 128, kernel_size=(1, 1), stride=(1, 1), bias=False)\n",
       "          (1): BatchNorm2d(128, eps=1e-05, momentum=0.1, affine=True, track_running_stats=True)\n",
       "          (2): LeakyReLU(negative_slope=0.1, inplace=True)\n",
       "        )\n",
       "      )\n",
       "      (proj5): conv2DBatchNormRelu(\n",
       "        (cbr_unit): Sequential(\n",
       "          (0): Conv2d(256, 64, kernel_size=(1, 1), stride=(1, 1), bias=False)\n",
       "          (1): BatchNorm2d(64, eps=1e-05, momentum=0.1, affine=True, track_running_stats=True)\n",
       "          (2): LeakyReLU(negative_slope=0.1, inplace=True)\n",
       "        )\n",
       "      )\n",
       "      (proj4): conv2DBatchNormRelu(\n",
       "        (cbr_unit): Sequential(\n",
       "          (0): Conv2d(128, 32, kernel_size=(1, 1), stride=(1, 1), bias=False)\n",
       "          (1): BatchNorm2d(32, eps=1e-05, momentum=0.1, affine=True, track_running_stats=True)\n",
       "          (2): LeakyReLU(negative_slope=0.1, inplace=True)\n",
       "        )\n",
       "      )\n",
       "      (proj3): conv2DBatchNormRelu(\n",
       "        (cbr_unit): Sequential(\n",
       "          (0): Conv2d(64, 16, kernel_size=(1, 1), stride=(1, 1), bias=False)\n",
       "          (1): BatchNorm2d(16, eps=1e-05, momentum=0.1, affine=True, track_running_stats=True)\n",
       "          (2): LeakyReLU(negative_slope=0.1, inplace=True)\n",
       "        )\n",
       "      )\n",
       "    )\n",
       "    (decoder3): decoderBlock(\n",
       "      (convs): Sequential(\n",
       "        (0): sepConv3dBlock(\n",
       "          (conv1): Sequential(\n",
       "            (0): Conv3d(32, 32, kernel_size=(3, 3, 3), stride=(1, 1, 1), padding=(1, 1, 1), bias=False)\n",
       "            (1): BatchNorm3d(32, eps=1e-05, momentum=0.1, affine=True, track_running_stats=True)\n",
       "          )\n",
       "          (conv2): Sequential(\n",
       "            (0): Conv3d(32, 32, kernel_size=(3, 3, 3), stride=(1, 1, 1), padding=(1, 1, 1), bias=False)\n",
       "            (1): BatchNorm3d(32, eps=1e-05, momentum=0.1, affine=True, track_running_stats=True)\n",
       "          )\n",
       "        )\n",
       "        (1): sepConv3dBlock(\n",
       "          (conv1): Sequential(\n",
       "            (0): Conv3d(32, 32, kernel_size=(3, 3, 3), stride=(1, 1, 1), padding=(1, 1, 1), bias=False)\n",
       "            (1): BatchNorm3d(32, eps=1e-05, momentum=0.1, affine=True, track_running_stats=True)\n",
       "          )\n",
       "          (conv2): Sequential(\n",
       "            (0): Conv3d(32, 32, kernel_size=(3, 3, 3), stride=(1, 1, 1), padding=(1, 1, 1), bias=False)\n",
       "            (1): BatchNorm3d(32, eps=1e-05, momentum=0.1, affine=True, track_running_stats=True)\n",
       "          )\n",
       "        )\n",
       "      )\n",
       "      (classify): Sequential(\n",
       "        (0): Sequential(\n",
       "          (0): Conv3d(32, 32, kernel_size=(3, 3, 3), stride=(1, 1, 1), padding=(1, 1, 1), bias=False)\n",
       "          (1): BatchNorm3d(32, eps=1e-05, momentum=0.1, affine=True, track_running_stats=True)\n",
       "        )\n",
       "        (1): ReLU(inplace=True)\n",
       "        (2): Sequential(\n",
       "          (0): Conv3d(32, 1, kernel_size=(3, 3, 3), stride=(1, 1, 1), padding=(1, 1, 1))\n",
       "        )\n",
       "      )\n",
       "    )\n",
       "    (decoder4): decoderBlock(\n",
       "      (convs): Sequential(\n",
       "        (0): sepConv3dBlock(\n",
       "          (downsample): projfeat3d(\n",
       "            (conv1): Conv2d(64, 32, kernel_size=(1, 1), stride=(1, 1), bias=False)\n",
       "            (bn): BatchNorm2d(32, eps=1e-05, momentum=0.1, affine=True, track_running_stats=True)\n",
       "          )\n",
       "          (conv1): Sequential(\n",
       "            (0): Conv3d(64, 32, kernel_size=(3, 3, 3), stride=(1, 1, 1), padding=(1, 1, 1), bias=False)\n",
       "            (1): BatchNorm3d(32, eps=1e-05, momentum=0.1, affine=True, track_running_stats=True)\n",
       "          )\n",
       "          (conv2): Sequential(\n",
       "            (0): Conv3d(32, 32, kernel_size=(3, 3, 3), stride=(1, 1, 1), padding=(1, 1, 1), bias=False)\n",
       "            (1): BatchNorm3d(32, eps=1e-05, momentum=0.1, affine=True, track_running_stats=True)\n",
       "          )\n",
       "        )\n",
       "        (1): sepConv3dBlock(\n",
       "          (conv1): Sequential(\n",
       "            (0): Conv3d(32, 32, kernel_size=(3, 3, 3), stride=(1, 1, 1), padding=(1, 1, 1), bias=False)\n",
       "            (1): BatchNorm3d(32, eps=1e-05, momentum=0.1, affine=True, track_running_stats=True)\n",
       "          )\n",
       "          (conv2): Sequential(\n",
       "            (0): Conv3d(32, 32, kernel_size=(3, 3, 3), stride=(1, 1, 1), padding=(1, 1, 1), bias=False)\n",
       "            (1): BatchNorm3d(32, eps=1e-05, momentum=0.1, affine=True, track_running_stats=True)\n",
       "          )\n",
       "        )\n",
       "      )\n",
       "      (classify): Sequential(\n",
       "        (0): Sequential(\n",
       "          (0): Conv3d(32, 32, kernel_size=(3, 3, 3), stride=(1, 1, 1), padding=(1, 1, 1), bias=False)\n",
       "          (1): BatchNorm3d(32, eps=1e-05, momentum=0.1, affine=True, track_running_stats=True)\n",
       "        )\n",
       "        (1): ReLU(inplace=True)\n",
       "        (2): Sequential(\n",
       "          (0): Conv3d(32, 1, kernel_size=(3, 3, 3), stride=(1, 1, 1), padding=(1, 1, 1))\n",
       "        )\n",
       "      )\n",
       "      (up): Sequential(\n",
       "        (0): Upsample(scale_factor=(1.0, 2.0, 2.0), mode=trilinear)\n",
       "        (1): Sequential(\n",
       "          (0): Conv3d(32, 16, kernel_size=(3, 3, 3), stride=(1, 1, 1), padding=(1, 1, 1), bias=False)\n",
       "          (1): BatchNorm3d(16, eps=1e-05, momentum=0.1, affine=True, track_running_stats=True)\n",
       "        )\n",
       "        (2): ReLU(inplace=True)\n",
       "      )\n",
       "    )\n",
       "    (decoder5): decoderBlock(\n",
       "      (convs): Sequential(\n",
       "        (0): sepConv3dBlock(\n",
       "          (downsample): projfeat3d(\n",
       "            (conv1): Conv2d(128, 64, kernel_size=(1, 1), stride=(1, 1), bias=False)\n",
       "            (bn): BatchNorm2d(64, eps=1e-05, momentum=0.1, affine=True, track_running_stats=True)\n",
       "          )\n",
       "          (conv1): Sequential(\n",
       "            (0): Conv3d(128, 64, kernel_size=(3, 3, 3), stride=(1, 1, 1), padding=(1, 1, 1), bias=False)\n",
       "            (1): BatchNorm3d(64, eps=1e-05, momentum=0.1, affine=True, track_running_stats=True)\n",
       "          )\n",
       "          (conv2): Sequential(\n",
       "            (0): Conv3d(64, 64, kernel_size=(3, 3, 3), stride=(1, 1, 1), padding=(1, 1, 1), bias=False)\n",
       "            (1): BatchNorm3d(64, eps=1e-05, momentum=0.1, affine=True, track_running_stats=True)\n",
       "          )\n",
       "        )\n",
       "        (1): sepConv3dBlock(\n",
       "          (conv1): Sequential(\n",
       "            (0): Conv3d(64, 64, kernel_size=(3, 3, 3), stride=(1, 1, 1), padding=(1, 1, 1), bias=False)\n",
       "            (1): BatchNorm3d(64, eps=1e-05, momentum=0.1, affine=True, track_running_stats=True)\n",
       "          )\n",
       "          (conv2): Sequential(\n",
       "            (0): Conv3d(64, 64, kernel_size=(3, 3, 3), stride=(1, 1, 1), padding=(1, 1, 1), bias=False)\n",
       "            (1): BatchNorm3d(64, eps=1e-05, momentum=0.1, affine=True, track_running_stats=True)\n",
       "          )\n",
       "        )\n",
       "      )\n",
       "      (classify): Sequential(\n",
       "        (0): Sequential(\n",
       "          (0): Conv3d(64, 64, kernel_size=(3, 3, 3), stride=(1, 1, 1), padding=(1, 1, 1), bias=False)\n",
       "          (1): BatchNorm3d(64, eps=1e-05, momentum=0.1, affine=True, track_running_stats=True)\n",
       "        )\n",
       "        (1): ReLU(inplace=True)\n",
       "        (2): Sequential(\n",
       "          (0): Conv3d(64, 1, kernel_size=(3, 3, 3), stride=(1, 1, 1), padding=(1, 1, 1))\n",
       "        )\n",
       "      )\n",
       "      (up): Sequential(\n",
       "        (0): Upsample(scale_factor=(1.0, 2.0, 2.0), mode=trilinear)\n",
       "        (1): Sequential(\n",
       "          (0): Conv3d(64, 32, kernel_size=(3, 3, 3), stride=(1, 1, 1), padding=(1, 1, 1), bias=False)\n",
       "          (1): BatchNorm3d(32, eps=1e-05, momentum=0.1, affine=True, track_running_stats=True)\n",
       "        )\n",
       "        (2): ReLU(inplace=True)\n",
       "      )\n",
       "      (pool_convs): ModuleList(\n",
       "        (0): Sequential(\n",
       "          (0): Conv3d(64, 64, kernel_size=(1, 1, 1), stride=(1, 1, 1), bias=False)\n",
       "          (1): BatchNorm3d(64, eps=1e-05, momentum=0.1, affine=True, track_running_stats=True)\n",
       "        )\n",
       "        (1): Sequential(\n",
       "          (0): Conv3d(64, 64, kernel_size=(1, 1, 1), stride=(1, 1, 1), bias=False)\n",
       "          (1): BatchNorm3d(64, eps=1e-05, momentum=0.1, affine=True, track_running_stats=True)\n",
       "        )\n",
       "        (2): Sequential(\n",
       "          (0): Conv3d(64, 64, kernel_size=(1, 1, 1), stride=(1, 1, 1), bias=False)\n",
       "          (1): BatchNorm3d(64, eps=1e-05, momentum=0.1, affine=True, track_running_stats=True)\n",
       "        )\n",
       "        (3): Sequential(\n",
       "          (0): Conv3d(64, 64, kernel_size=(1, 1, 1), stride=(1, 1, 1), bias=False)\n",
       "          (1): BatchNorm3d(64, eps=1e-05, momentum=0.1, affine=True, track_running_stats=True)\n",
       "        )\n",
       "      )\n",
       "    )\n",
       "    (decoder6): decoderBlock(\n",
       "      (convs): Sequential(\n",
       "        (0): sepConv3dBlock(\n",
       "          (conv1): Sequential(\n",
       "            (0): Conv3d(128, 128, kernel_size=(3, 3, 3), stride=(1, 1, 1), padding=(1, 1, 1), bias=False)\n",
       "            (1): BatchNorm3d(128, eps=1e-05, momentum=0.1, affine=True, track_running_stats=True)\n",
       "          )\n",
       "          (conv2): Sequential(\n",
       "            (0): Conv3d(128, 128, kernel_size=(3, 3, 3), stride=(1, 1, 1), padding=(1, 1, 1), bias=False)\n",
       "            (1): BatchNorm3d(128, eps=1e-05, momentum=0.1, affine=True, track_running_stats=True)\n",
       "          )\n",
       "        )\n",
       "        (1): sepConv3dBlock(\n",
       "          (conv1): Sequential(\n",
       "            (0): Conv3d(128, 128, kernel_size=(3, 3, 3), stride=(1, 1, 1), padding=(1, 1, 1), bias=False)\n",
       "            (1): BatchNorm3d(128, eps=1e-05, momentum=0.1, affine=True, track_running_stats=True)\n",
       "          )\n",
       "          (conv2): Sequential(\n",
       "            (0): Conv3d(128, 128, kernel_size=(3, 3, 3), stride=(1, 1, 1), padding=(1, 1, 1), bias=False)\n",
       "            (1): BatchNorm3d(128, eps=1e-05, momentum=0.1, affine=True, track_running_stats=True)\n",
       "          )\n",
       "        )\n",
       "      )\n",
       "      (classify): Sequential(\n",
       "        (0): Sequential(\n",
       "          (0): Conv3d(128, 128, kernel_size=(3, 3, 3), stride=(1, 1, 1), padding=(1, 1, 1), bias=False)\n",
       "          (1): BatchNorm3d(128, eps=1e-05, momentum=0.1, affine=True, track_running_stats=True)\n",
       "        )\n",
       "        (1): ReLU(inplace=True)\n",
       "        (2): Sequential(\n",
       "          (0): Conv3d(128, 1, kernel_size=(3, 3, 3), stride=(1, 1, 1), padding=(1, 1, 1))\n",
       "        )\n",
       "      )\n",
       "      (up): Sequential(\n",
       "        (0): Upsample(scale_factor=(1.0, 2.0, 2.0), mode=trilinear)\n",
       "        (1): Sequential(\n",
       "          (0): Conv3d(128, 64, kernel_size=(3, 3, 3), stride=(1, 1, 1), padding=(1, 1, 1), bias=False)\n",
       "          (1): BatchNorm3d(64, eps=1e-05, momentum=0.1, affine=True, track_running_stats=True)\n",
       "        )\n",
       "        (2): ReLU(inplace=True)\n",
       "      )\n",
       "      (pool_convs): ModuleList(\n",
       "        (0): Sequential(\n",
       "          (0): Conv3d(128, 128, kernel_size=(1, 1, 1), stride=(1, 1, 1), bias=False)\n",
       "          (1): BatchNorm3d(128, eps=1e-05, momentum=0.1, affine=True, track_running_stats=True)\n",
       "        )\n",
       "        (1): Sequential(\n",
       "          (0): Conv3d(128, 128, kernel_size=(1, 1, 1), stride=(1, 1, 1), bias=False)\n",
       "          (1): BatchNorm3d(128, eps=1e-05, momentum=0.1, affine=True, track_running_stats=True)\n",
       "        )\n",
       "        (2): Sequential(\n",
       "          (0): Conv3d(128, 128, kernel_size=(1, 1, 1), stride=(1, 1, 1), bias=False)\n",
       "          (1): BatchNorm3d(128, eps=1e-05, momentum=0.1, affine=True, track_running_stats=True)\n",
       "        )\n",
       "        (3): Sequential(\n",
       "          (0): Conv3d(128, 128, kernel_size=(1, 1, 1), stride=(1, 1, 1), bias=False)\n",
       "          (1): BatchNorm3d(128, eps=1e-05, momentum=0.1, affine=True, track_running_stats=True)\n",
       "        )\n",
       "      )\n",
       "    )\n",
       "    (disp_reg): disparityregression()\n",
       "  )\n",
       ")"
      ]
     },
     "execution_count": 7,
     "metadata": {},
     "output_type": "execute_result"
    }
   ],
   "source": [
    "model = DFFNet(clean=False,level=4, use_diff=False)\n",
    "model = nn.DataParallel(model)\n",
    "model.cuda()"
   ]
  },
  {
   "cell_type": "code",
   "execution_count": 152,
   "metadata": {},
   "outputs": [],
   "source": [
    "torch.max(loss)\n",
    "stacked=vis"
   ]
  },
  {
   "cell_type": "code",
   "execution_count": 181,
   "metadata": {},
   "outputs": [
    {
     "data": {
      "text/plain": [
       "(tensor(-15.0705, device='cuda:0', grad_fn=<MinBackward1>),\n",
       " tensor(7.4053, device='cuda:0', grad_fn=<MaxBackward1>),\n",
       " tensor(-43.3779, device='cuda:0', grad_fn=<MinBackward1>),\n",
       " tensor(23.1005, device='cuda:0', grad_fn=<MaxBackward1>))"
      ]
     },
     "execution_count": 181,
     "metadata": {},
     "output_type": "execute_result"
    }
   ],
   "source": [
    "torch.min(s_mean),torch.max(s_mean),torch.min(s),torch.max(s)"
   ]
  },
  {
   "cell_type": "code",
   "execution_count": 180,
   "metadata": {},
   "outputs": [
    {
     "data": {
      "text/plain": [
       "(tensor(-inf, device='cuda:0', grad_fn=<MinBackward1>),\n",
       " tensor(inf, device='cuda:0', grad_fn=<MaxBackward1>))"
      ]
     },
     "execution_count": 180,
     "metadata": {},
     "output_type": "execute_result"
    }
   ],
   "source": [
    "torch.min(s/s_mean),torch.max(s/s_mean)"
   ]
  },
  {
   "cell_type": "code",
   "execution_count": 202,
   "metadata": {},
   "outputs": [],
   "source": [
    "a = torch. tensor([[-1.8665,  0.6341,  0.8920],\n",
    "                   [-0.1712,  0.3949,  1.9414],\n",
    "                   [-1.2088, -1.0375, -1.3087],\n",
    "                   [0.9161, -0.2972,  1.5289]])\n",
    "b = torch. tensor([[-0.2187,  0.5252, -0.5840],\n",
    "                   [1.5293, -0.4514,  1.8490],\n",
    "                   [-0.7269, -0.1561, -0.0629],\n",
    "                   [-0.5379, -0.9751,  0.6541]])"
   ]
  },
  {
   "cell_type": "code",
   "execution_count": 210,
   "metadata": {},
   "outputs": [
    {
     "data": {
      "text/plain": [
       "torch.Size([6, 5, 224, 224])"
      ]
     },
     "execution_count": 210,
     "metadata": {},
     "output_type": "execute_result"
    }
   ],
   "source": [
    "(s/s_mean).shape\n"
   ]
  },
  {
   "cell_type": "code",
   "execution_count": 227,
   "metadata": {},
   "outputs": [
    {
     "name": "stdout",
     "output_type": "stream",
     "text": [
      "inf190 185\n"
     ]
    }
   ],
   "source": [
    "i,j=5,2\n",
    "for k in range(224):\n",
    "    for l in range(224):\n",
    "        if(math.isinf((s/s_mean)[i][j][k][l].detach().cpu())):\n",
    "            print('inf' + str(k) + ' ' + str(l))"
   ]
  },
  {
   "cell_type": "code",
   "execution_count": 229,
   "metadata": {},
   "outputs": [
    {
     "data": {
      "text/plain": [
       "(tensor(inf, device='cuda:0', grad_fn=<SelectBackward>),\n",
       " tensor(1.4859, device='cuda:0', grad_fn=<SelectBackward>),\n",
       " tensor(0., device='cuda:0', grad_fn=<SelectBackward>))"
      ]
     },
     "execution_count": 229,
     "metadata": {},
     "output_type": "execute_result"
    }
   ],
   "source": [
    "(s/s_mean)[5][2][190][185],(s)[5][2][190][185],(s_mean)[5][2][190][185]"
   ]
  },
  {
   "cell_type": "code",
   "execution_count": 230,
   "metadata": {},
   "outputs": [
    {
     "data": {
      "text/plain": [
       "(tensor(7.4053, device='cuda:0', grad_fn=<MaxBackward1>),\n",
       " tensor(-15.0705, device='cuda:0', grad_fn=<MinBackward1>))"
      ]
     },
     "execution_count": 230,
     "metadata": {},
     "output_type": "execute_result"
    }
   ],
   "source": [
    "torch.max(s_mean),torch.min(s_mean)"
   ]
  },
  {
   "cell_type": "code",
   "execution_count": 225,
   "metadata": {},
   "outputs": [
    {
     "data": {
      "text/plain": [
       "tensor(inf, device='cuda:0', grad_fn=<MaxBackward1>)"
      ]
     },
     "execution_count": 225,
     "metadata": {},
     "output_type": "execute_result"
    }
   ],
   "source": [
    "torch.max((s/s_mean)[5][2])"
   ]
  },
  {
   "cell_type": "code",
   "execution_count": 182,
   "metadata": {},
   "outputs": [
    {
     "data": {
      "text/plain": [
       "tensor(-1.5328, device='cuda:0', grad_fn=<DivBackward0>)"
      ]
     },
     "execution_count": 182,
     "metadata": {},
     "output_type": "execute_result"
    }
   ],
   "source": [
    "torch.max(s)/torch.min(s_mean)"
   ]
  },
  {
   "cell_type": "code",
   "execution_count": 195,
   "metadata": {},
   "outputs": [
    {
     "data": {
      "text/plain": [
       "torch.Size([3808])"
      ]
     },
     "execution_count": 195,
     "metadata": {},
     "output_type": "execute_result"
    }
   ],
   "source": [
    "((s/s_mean)>100).nonzero(as_tuple=True)[1].shape"
   ]
  },
  {
   "cell_type": "code",
   "execution_count": 191,
   "metadata": {},
   "outputs": [
    {
     "data": {
      "text/plain": [
       "torch.Size([6, 5, 224, 224])"
      ]
     },
     "execution_count": 191,
     "metadata": {},
     "output_type": "execute_result"
    }
   ],
   "source": [
    "(s/s_mean).shape"
   ]
  },
  {
   "cell_type": "code",
   "execution_count": 196,
   "metadata": {},
   "outputs": [
    {
     "data": {
      "text/plain": [
       "1505280"
      ]
     },
     "execution_count": 196,
     "metadata": {},
     "output_type": "execute_result"
    }
   ],
   "source": [
    "6*5*224*224"
   ]
  },
  {
   "cell_type": "code",
   "execution_count": 161,
   "metadata": {},
   "outputs": [
    {
     "name": "stdout",
     "output_type": "stream",
     "text": [
      "inf loss!!\n",
      "tensor([[[[1.7264e+00, 1.7264e+00, 1.7518e+00,  ..., 1.7160e+00,\n",
      "           1.7542e+00, 1.7542e+00],\n",
      "          [1.7264e+00, 1.7264e+00, 1.7528e+00,  ..., 1.7160e+00,\n",
      "           1.7542e+00, 1.7542e+00],\n",
      "          [1.6034e+00, 1.6034e+00, 1.6299e+00,  ..., 1.7119e+00,\n",
      "           1.7532e+00, 1.7532e+00],\n",
      "          ...,\n",
      "          [5.0997e-01, 5.0997e-01, 4.5310e-01,  ..., 1.4322e+00,\n",
      "           2.4254e+00, 2.4254e+00],\n",
      "          [4.5360e-01, 4.5360e-01, 3.7967e-01,  ..., 2.6897e+00,\n",
      "           5.6357e+00, 5.6357e+00],\n",
      "          [4.5260e-01, 4.5356e-01, 3.7967e-01,  ..., 2.6877e+00,\n",
      "           5.6338e+00, 5.6347e+00]],\n",
      "\n",
      "         [[7.9821e-02, 7.9821e-02, 1.0832e-01,  ..., 1.2317e-02,\n",
      "           5.0125e-04, 5.0125e-04],\n",
      "          [7.9821e-02, 7.9821e-02, 1.0768e-01,  ..., 1.2626e-02,\n",
      "           5.6520e-04, 5.6520e-04],\n",
      "          [1.3495e-01, 1.3495e-01, 1.6397e-01,  ..., 3.1406e-02,\n",
      "           8.8944e-03, 8.8944e-03],\n",
      "          ...,\n",
      "          [8.5726e-01, 8.5726e-01, 9.4959e-01,  ..., 3.0033e-03,\n",
      "           7.2982e-03, 7.2982e-03],\n",
      "          [9.2898e-01, 9.2898e-01, 1.0232e+00,  ..., 5.0071e-03,\n",
      "           9.7560e-03, 9.7560e-03],\n",
      "          [9.2907e-01, 9.2970e-01, 1.0252e+00,  ..., 1.9137e-02,\n",
      "           2.7672e-02, 9.9688e-03]],\n",
      "\n",
      "         [[3.0728e-01, 3.0728e-01, 3.1703e-01,  ..., 9.5054e-06,\n",
      "           1.1632e-02, 1.1632e-02],\n",
      "          [3.0728e-01, 3.0728e-01, 3.1684e-01,  ..., 9.5054e-06,\n",
      "           1.1632e-02, 1.1632e-02],\n",
      "          [3.9750e-01, 3.9569e-01, 4.1294e-01,  ..., 4.9397e-03,\n",
      "           1.0995e-03, 1.0995e-03],\n",
      "          ...,\n",
      "          [9.5766e-02, 9.5766e-02, 8.6040e-02,  ..., 1.3017e-03,\n",
      "           1.4233e-02, 1.4233e-02],\n",
      "          [6.1979e-02, 6.1979e-02, 4.8987e-02,  ..., 2.8246e-02,\n",
      "           1.6171e-01, 1.6171e-01],\n",
      "          [6.1552e-02, 6.1463e-02, 4.8987e-02,  ..., 9.0292e-02,\n",
      "           2.8574e-01, 1.6159e-01]],\n",
      "\n",
      "         [[2.9426e-01, 2.9426e-01, 3.2205e-01,  ..., 1.1149e-01,\n",
      "           6.3237e-02, 6.3237e-02],\n",
      "          [2.9426e-01, 2.9426e-01, 3.2204e-01,  ..., 1.1149e-01,\n",
      "           6.3237e-02, 6.3237e-02],\n",
      "          [2.1919e-01, 2.1919e-01, 2.2401e-01,  ..., 1.6341e-01,\n",
      "           1.1252e-01, 1.1252e-01],\n",
      "          ...,\n",
      "          [4.3318e-01, 4.3318e-01, 3.7860e-01,  ..., 2.0800e-02,\n",
      "           3.8767e-02, 3.8767e-02],\n",
      "          [5.9841e-01, 5.9841e-01, 5.5355e-01,  ..., 5.8962e-02,\n",
      "           2.5417e-01, 2.5417e-01],\n",
      "          [5.9853e-01, 5.9849e-01, 5.5355e-01,  ..., 5.0484e-02,\n",
      "           2.3621e-01, 2.5413e-01]],\n",
      "\n",
      "         [[5.7480e-01, 5.7480e-01, 6.1836e-01,  ..., 1.4051e+00,\n",
      "           1.5827e+00, 1.5827e+00],\n",
      "          [5.7480e-01, 5.7480e-01, 6.1829e-01,  ..., 1.4071e+00,\n",
      "           1.5847e+00, 1.5847e+00],\n",
      "          [5.6918e-01, 5.7121e-01, 6.2446e-01,  ..., 1.2915e+00,\n",
      "           1.4591e+00, 1.4591e+00],\n",
      "          ...,\n",
      "          [4.9881e-01, 4.9881e-01, 6.1653e-01,  ..., 1.5077e+00,\n",
      "           2.4143e+00, 2.4143e+00],\n",
      "          [4.3335e-01, 4.3335e-01, 5.2807e-01,  ..., 2.0085e+00,\n",
      "           4.2144e+00, 4.2144e+00],\n",
      "          [4.3347e-01, 4.3526e-01, 5.3004e-01,  ..., 1.7494e+00,\n",
      "           3.9553e+00, 4.2121e+00]]],\n",
      "\n",
      "\n",
      "        [[[1.3100e-01, 1.3387e-01, 1.8293e-01,  ..., 1.4594e+00,\n",
      "           1.4260e+00, 1.4250e+00],\n",
      "          [1.3250e-01, 1.3525e-01, 1.8421e-01,  ..., 1.4595e+00,\n",
      "           1.4251e+00, 1.4251e+00],\n",
      "          [5.6382e-02, 5.8184e-02, 9.2477e-02,  ..., 1.3294e+00,\n",
      "           1.3103e+00, 1.3103e+00],\n",
      "          ...,\n",
      "          [2.0046e-01, 2.0114e-01, 1.4435e-01,  ..., 1.6364e-03,\n",
      "           1.0196e-01, 1.0151e-01],\n",
      "          [1.4595e-01, 1.4535e-01, 1.0488e-01,  ..., 1.8103e-02,\n",
      "           2.6554e-04, 2.2160e-04],\n",
      "          [1.4595e-01, 1.4595e-01, 1.0488e-01,  ..., 1.7914e-02,\n",
      "           2.4308e-04, 2.4308e-04]],\n",
      "\n",
      "         [[3.8330e-01, 3.8621e-01, 2.6094e-01,  ..., 3.5403e-01,\n",
      "           4.1933e-01, 4.1877e-01],\n",
      "          [3.8473e-01, 3.8770e-01, 2.6223e-01,  ..., 3.5447e-01,\n",
      "           4.1925e-01, 4.1925e-01],\n",
      "          [3.4913e-01, 3.5196e-01, 2.4264e-01,  ..., 3.7657e-01,\n",
      "           4.3176e-01, 4.3176e-01],\n",
      "          ...,\n",
      "          [4.5889e-01, 4.6036e-01, 5.0227e-01,  ..., 2.3644e+00,\n",
      "           4.8687e+00, 4.8701e+00],\n",
      "          [5.1971e-01, 5.2125e-01, 5.2273e-01,  ..., 1.7449e+00,\n",
      "           3.5465e+00, 3.5473e+00],\n",
      "          [5.1753e-01, 5.1971e-01, 5.2273e-01,  ..., 1.7455e+00,\n",
      "           3.5459e+00, 3.5479e+00]],\n",
      "\n",
      "         [[7.8063e-01, 7.8176e-01, 8.6520e-01,  ..., 1.8665e-01,\n",
      "           1.5131e-01, 1.5145e-01],\n",
      "          [7.8102e-01, 7.8250e-01, 8.6484e-01,  ..., 1.8721e-01,\n",
      "           1.5195e-01, 1.5195e-01],\n",
      "          [5.8241e-01, 5.8390e-01, 6.6666e-01,  ..., 1.7302e-01,\n",
      "           1.4353e-01, 1.4353e-01],\n",
      "          ...,\n",
      "          [1.2078e-01, 1.2087e-01, 9.0172e-02,  ..., 3.4132e-01,\n",
      "           9.9711e-01, 9.9685e-01],\n",
      "          [8.4637e-02, 8.3817e-02, 4.3907e-02,  ..., 1.3215e-01,\n",
      "           3.5114e-01, 3.5236e-01],\n",
      "          [8.4637e-02, 8.3743e-02, 4.4555e-02,  ..., 1.3128e-01,\n",
      "           3.5093e-01, 3.5093e-01]],\n",
      "\n",
      "         [[6.3701e-01, 6.3711e-01, 6.2397e-01,  ..., 4.5887e-01,\n",
      "           5.9686e-01, 5.9691e-01],\n",
      "          [6.3733e-01, 6.3690e-01, 6.2451e-01,  ..., 4.6051e-01,\n",
      "           5.9862e-01, 5.9862e-01],\n",
      "          [5.4692e-01, 5.4648e-01, 5.5486e-01,  ..., 4.2350e-01,\n",
      "           5.4122e-01, 5.4122e-01],\n",
      "          ...,\n",
      "          [5.5621e-01, 5.5847e-01, 5.5960e-01,  ..., 7.9770e-01,\n",
      "           2.4740e+00, 2.4740e+00],\n",
      "          [6.6651e-01, 6.6659e-01, 6.9400e-01,  ..., 3.3427e-01,\n",
      "           1.4706e+00, 1.4707e+00],\n",
      "          [6.6433e-01, 6.6651e-01, 6.9400e-01,  ..., 3.3423e-01,\n",
      "           1.4707e+00, 1.4707e+00]],\n",
      "\n",
      "         [[1.2868e-01, 1.2806e-01, 6.4362e-02,  ..., 7.3191e-01,\n",
      "           6.9480e-01, 6.9291e-01],\n",
      "          [1.2806e-01, 1.2806e-01, 6.3925e-02,  ..., 7.2988e-01,\n",
      "           6.9087e-01, 6.9087e-01],\n",
      "          [1.4328e-01, 1.4327e-01, 7.1578e-02,  ..., 6.8869e-01,\n",
      "           6.6258e-01, 6.6258e-01],\n",
      "          ...,\n",
      "          [9.4560e-04, 9.5330e-04, 1.5303e-03,  ..., 1.9501e+00,\n",
      "           3.8434e+00, 3.8435e+00],\n",
      "          [1.6124e-04, 1.2170e-04, 4.6182e-05,  ..., 1.2511e+00,\n",
      "           2.4370e+00, 2.4371e+00],\n",
      "          [1.6124e-04, 1.2447e-04, 6.9494e-05,  ..., 1.2511e+00,\n",
      "           2.4351e+00, 2.4370e+00]]],\n",
      "\n",
      "\n",
      "        [[[1.9554e+00, 1.9554e+00, 2.0826e+00,  ..., 1.1988e+00,\n",
      "           1.2576e+00, 1.2513e+00],\n",
      "          [1.9566e+00, 1.9545e+00, 2.0847e+00,  ..., 1.2062e+00,\n",
      "           1.2631e+00, 1.2586e+00],\n",
      "          [1.8132e+00, 1.8121e+00, 1.9160e+00,  ..., 1.1221e+00,\n",
      "           1.1905e+00, 1.1841e+00],\n",
      "          ...,\n",
      "          [7.5078e-01, 7.5078e-01, 9.8209e-01,  ..., 1.1868e-01,\n",
      "           1.0950e-01, 1.0889e-01],\n",
      "          [8.2479e-01, 8.2297e-01, 1.0742e+00,  ..., 7.3182e-02,\n",
      "           5.5729e-02, 5.4592e-02],\n",
      "          [8.1954e-01, 8.1954e-01, 1.0708e+00,  ..., 7.3182e-02,\n",
      "           5.5293e-02, 5.4592e-02]],\n",
      "\n",
      "         [[4.0134e-02, 4.0134e-02, 5.1798e-02,  ..., 2.9003e-05,\n",
      "           1.9609e-04, 3.1688e-04],\n",
      "          [4.0107e-02, 4.0318e-02, 5.2480e-02,  ..., 8.4509e-06,\n",
      "           1.4645e-04, 2.3524e-04],\n",
      "          [5.4973e-02, 5.4759e-02, 6.9650e-02,  ..., 8.4811e-04,\n",
      "           1.7750e-04, 9.0526e-05],\n",
      "          ...,\n",
      "          [1.2697e-02, 1.2697e-02, 1.0011e-03,  ..., 6.8294e-02,\n",
      "           9.0183e-02, 9.0972e-02],\n",
      "          [1.2174e-03, 1.2752e-03, 2.0242e-03,  ..., 1.0719e-01,\n",
      "           1.4587e-01, 1.4742e-01],\n",
      "          [1.3283e-03, 1.3283e-03, 1.9585e-03,  ..., 1.0719e-01,\n",
      "           1.4687e-01, 1.4742e-01]],\n",
      "\n",
      "         [[3.7328e-01, 3.7328e-01, 4.5646e-01,  ..., 1.0862e+00,\n",
      "           1.1090e+00, 1.1046e+00],\n",
      "          [3.7440e-01, 3.7483e-01, 4.5646e-01,  ..., 1.0904e+00,\n",
      "           1.1111e+00, 1.1089e+00],\n",
      "          [3.5881e-01, 3.5729e-01, 4.2115e-01,  ..., 1.1093e+00,\n",
      "           1.1279e+00, 1.1235e+00],\n",
      "          ...,\n",
      "          [1.1061e-03, 1.1061e-03, 3.0005e-03,  ..., 1.9724e-01,\n",
      "           1.4016e-01, 1.3889e-01],\n",
      "          [2.0384e-03, 2.0061e-03, 5.4275e-03,  ..., 1.1205e-01,\n",
      "           5.7139e-02, 5.6350e-02],\n",
      "          [1.9005e-03, 1.9005e-03, 5.2529e-03,  ..., 1.1205e-01,\n",
      "           5.6334e-02, 5.6350e-02]],\n",
      "\n",
      "         [[5.1976e-01, 5.1976e-01, 4.9237e-01,  ..., 6.5308e-03,\n",
      "           1.3773e-02, 1.3148e-02],\n",
      "          [5.2174e-01, 5.1974e-01, 4.9446e-01,  ..., 6.9301e-03,\n",
      "           1.4477e-02, 1.3709e-02],\n",
      "          [5.1727e-01, 5.1729e-01, 4.9959e-01,  ..., 4.3818e-03,\n",
      "           9.8876e-03, 9.3581e-03],\n",
      "          ...,\n",
      "          [2.6005e-01, 2.6005e-01, 3.6689e-01,  ..., 6.6778e-03,\n",
      "           1.0147e-02, 1.0101e-02],\n",
      "          [2.6561e-01, 2.6551e-01, 3.8863e-01,  ..., 2.2532e-03,\n",
      "           3.7940e-03, 3.6185e-03],\n",
      "          [2.6463e-01, 2.6463e-01, 3.8757e-01,  ..., 2.2532e-03,\n",
      "           3.7657e-03, 3.6185e-03]],\n",
      "\n",
      "         [[3.6549e-01, 3.6549e-01, 4.5757e-01,  ..., 4.2746e-05,\n",
      "           6.8781e-04, 8.2723e-04],\n",
      "          [3.6357e-01, 3.6369e-01, 4.5959e-01,  ..., 1.8838e-05,\n",
      "           6.2284e-04, 7.0623e-04],\n",
      "          [3.0447e-01, 3.0453e-01, 3.8008e-01,  ..., 7.8777e-04,\n",
      "           1.7509e-03, 1.9701e-03],\n",
      "          ...,\n",
      "          [2.0604e-01, 2.0604e-01, 1.7568e-01,  ..., 1.9596e-01,\n",
      "           1.9759e-01, 1.9787e-01],\n",
      "          [1.6903e-01, 1.6903e-01, 1.3771e-01,  ..., 1.9279e-01,\n",
      "           1.9935e-01, 2.0057e-01],\n",
      "          [1.6932e-01, 1.6932e-01, 1.3797e-01,  ..., 1.9279e-01,\n",
      "           1.9963e-01, 2.0057e-01]]],\n",
      "\n",
      "\n",
      "        [[[1.5824e+00, 1.5860e+00, 1.6711e+00,  ..., 1.2929e+00,\n",
      "           1.3352e+00, 1.3352e+00],\n",
      "          [1.5811e+00, 1.5825e+00, 1.6698e+00,  ..., 1.2931e+00,\n",
      "           1.3364e+00, 1.3362e+00],\n",
      "          [1.4273e+00, 1.4297e+00, 1.5141e+00,  ..., 1.2600e+00,\n",
      "           1.3006e+00, 1.3006e+00],\n",
      "          ...,\n",
      "          [2.5173e-01, 2.5008e-01, 1.5891e-01,  ..., 3.7260e-01,\n",
      "           3.7605e-01, 3.7605e-01],\n",
      "          [1.8162e-01, 1.8162e-01, 9.2080e-02,  ..., 5.0855e-01,\n",
      "           5.3185e-01, 5.3185e-01],\n",
      "          [1.7963e-01, 1.7963e-01, 8.9675e-02,  ..., 5.0855e-01,\n",
      "           5.3185e-01, 5.3185e-01]],\n",
      "\n",
      "         [[3.9800e-03, 3.7255e-03, 2.4348e-03,  ..., 5.0085e-03,\n",
      "           5.4964e-03, 5.4964e-03],\n",
      "          [4.4606e-03, 4.0842e-03, 2.0848e-03,  ..., 4.8787e-03,\n",
      "           5.3047e-03, 5.4400e-03],\n",
      "          [5.6316e-05, 9.9468e-05, 1.1404e-02,  ..., 2.9697e-05,\n",
      "           1.1710e-04, 1.1710e-04],\n",
      "          ...,\n",
      "          [1.2712e-01, 1.2712e-01, 2.8184e-01,  ..., 4.5768e-04,\n",
      "           3.4187e-04, 3.4187e-04],\n",
      "          [2.4251e-01, 2.4251e-01, 5.1403e-01,  ..., 5.2098e-03,\n",
      "           1.6324e-03, 1.6324e-03],\n",
      "          [2.4058e-01, 2.4058e-01, 5.0892e-01,  ..., 5.2098e-03,\n",
      "           1.6324e-03, 1.6324e-03]],\n",
      "\n",
      "         [[7.4481e-01, 7.3804e-01, 7.3500e-01,  ..., 1.0929e+00,\n",
      "           1.0626e+00, 1.0626e+00],\n",
      "          [7.4928e-01, 7.4261e-01, 7.3944e-01,  ..., 1.0929e+00,\n",
      "           1.0626e+00, 1.0626e+00],\n",
      "          [8.1210e-01, 8.0757e-01, 7.9616e-01,  ..., 1.1505e+00,\n",
      "           1.1226e+00, 1.1226e+00],\n",
      "          ...,\n",
      "          [6.3427e-01, 6.3427e-01, 7.0783e-01,  ..., 1.3976e-01,\n",
      "           1.7227e-01, 1.7227e-01],\n",
      "          [6.3980e-01, 6.3980e-01, 7.3332e-01,  ..., 1.7113e-01,\n",
      "           2.1733e-01, 2.1733e-01],\n",
      "          [6.3753e-01, 6.3753e-01, 7.2872e-01,  ..., 1.7113e-01,\n",
      "           2.1733e-01, 2.1733e-01]],\n",
      "\n",
      "         [[9.5614e-03, 1.0312e-02, 2.8896e-03,  ..., 2.1979e-02,\n",
      "           3.2109e-02, 3.2109e-02],\n",
      "          [8.8375e-03, 9.6247e-03, 2.5002e-03,  ..., 2.2110e-02,\n",
      "           3.2795e-02, 3.2636e-02],\n",
      "          [9.9142e-03, 1.0647e-02, 3.3538e-03,  ..., 2.2920e-02,\n",
      "           2.9524e-02, 2.9524e-02],\n",
      "          ...,\n",
      "          [1.7600e-01, 1.7600e-01, 2.2133e-01,  ..., 9.7644e-02,\n",
      "           1.2058e-01, 1.2058e-01],\n",
      "          [2.3028e-01, 2.3028e-01, 2.9663e-01,  ..., 9.0799e-02,\n",
      "           1.1426e-01, 1.1426e-01],\n",
      "          [2.2895e-01, 2.2895e-01, 2.9511e-01,  ..., 9.0799e-02,\n",
      "           1.1426e-01, 1.1426e-01]],\n",
      "\n",
      "         [[1.8610e-01, 1.9101e-01, 4.3236e-01,  ..., 6.0128e-03,\n",
      "           3.6724e-03, 3.6724e-03],\n",
      "          [1.8265e-01, 1.8652e-01, 4.2712e-01,  ..., 5.9182e-03,\n",
      "           3.6354e-03, 3.7096e-03],\n",
      "          [1.1759e-01, 1.2020e-01, 3.0973e-01,  ..., 6.2989e-03,\n",
      "           3.2251e-03, 3.2251e-03],\n",
      "          ...,\n",
      "          [1.3199e-01, 1.3319e-01, 1.5603e-01,  ..., 9.4686e-03,\n",
      "           1.7051e-02, 1.7051e-02],\n",
      "          [1.3485e-01, 1.3485e-01, 1.5701e-01,  ..., 5.4805e-03,\n",
      "           1.3220e-02, 1.3220e-02],\n",
      "          [1.3582e-01, 1.3582e-01, 1.5937e-01,  ..., 5.4805e-03,\n",
      "           1.3220e-02, 1.3220e-02]]],\n",
      "\n",
      "\n",
      "        [[[1.6710e+00, 1.6710e+00, 1.7434e+00,  ..., 1.5759e+00,\n",
      "           1.6041e+00, 1.6041e+00],\n",
      "          [1.6699e+00, 1.6699e+00, 1.7455e+00,  ..., 1.5779e+00,\n",
      "           1.6052e+00, 1.6052e+00],\n",
      "          [1.5532e+00, 1.5532e+00, 1.6111e+00,  ..., 1.5233e+00,\n",
      "           1.5612e+00, 1.5612e+00],\n",
      "          ...,\n",
      "          [8.2846e-01, 8.2860e-01, 6.9838e-01,  ..., 1.5281e+00,\n",
      "           1.5998e+00, 1.6011e+00],\n",
      "          [8.0290e-01, 8.0403e-01, 6.6201e-01,  ..., 1.5485e+00,\n",
      "           1.6413e+00, 1.6426e+00],\n",
      "          [8.0290e-01, 8.0298e-01, 6.6307e-01,  ..., 1.5472e+00,\n",
      "           1.6412e+00, 1.6426e+00]],\n",
      "\n",
      "         [[2.6196e-02, 2.6196e-02, 3.8422e-02,  ..., 2.1760e-01,\n",
      "           2.7256e-01, 2.7256e-01],\n",
      "          [2.6046e-02, 2.6046e-02, 3.8422e-02,  ..., 2.1796e-01,\n",
      "           2.7249e-01, 2.7249e-01],\n",
      "          [4.0974e-02, 4.0974e-02, 5.3815e-02,  ..., 2.3533e-01,\n",
      "           2.8053e-01, 2.8053e-01],\n",
      "          ...,\n",
      "          [3.5545e-01, 3.5592e-01, 4.6194e-01,  ..., 1.4618e-01,\n",
      "           1.3915e-01, 1.3863e-01],\n",
      "          [3.9399e-01, 3.9390e-01, 5.0246e-01,  ..., 1.9483e-01,\n",
      "           1.9526e-01, 1.9536e-01],\n",
      "          [3.9399e-01, 3.9333e-01, 5.0311e-01,  ..., 1.9535e-01,\n",
      "           1.9569e-01, 1.9536e-01]],\n",
      "\n",
      "         [[3.2612e-01, 3.2612e-01, 2.5727e-01,  ..., 1.7422e-01,\n",
      "           2.2488e-01, 2.2488e-01],\n",
      "          [3.2458e-01, 3.2458e-01, 2.5727e-01,  ..., 1.7480e-01,\n",
      "           2.2570e-01, 2.2570e-01],\n",
      "          [3.0348e-01, 3.0348e-01, 2.3870e-01,  ..., 2.2998e-01,\n",
      "           2.8494e-01, 2.8494e-01],\n",
      "          ...,\n",
      "          [6.2915e-01, 6.3020e-01, 6.8809e-01,  ..., 1.0510e-02,\n",
      "           1.8212e-02, 1.8084e-02],\n",
      "          [6.4323e-01, 6.4453e-01, 6.7898e-01,  ..., 1.8547e-03,\n",
      "           5.7236e-03, 5.7564e-03],\n",
      "          [6.4527e-01, 6.4477e-01, 6.8078e-01,  ..., 1.9568e-03,\n",
      "           5.7299e-03, 5.7564e-03]],\n",
      "\n",
      "         [[5.3347e-01, 5.3347e-01, 5.9816e-01,  ..., 5.9472e-01,\n",
      "           6.3805e-01, 6.3805e-01],\n",
      "          [5.3349e-01, 5.3349e-01, 5.9816e-01,  ..., 5.9656e-01,\n",
      "           6.3993e-01, 6.3993e-01],\n",
      "          [4.5986e-01, 4.5986e-01, 4.9273e-01,  ..., 5.3202e-01,\n",
      "           5.6645e-01, 5.6645e-01],\n",
      "          ...,\n",
      "          [1.3828e-01, 1.3931e-01, 8.3127e-02,  ..., 2.9136e-01,\n",
      "           3.0967e-01, 3.0905e-01],\n",
      "          [1.1905e-01, 1.2002e-01, 6.8312e-02,  ..., 3.6948e-01,\n",
      "           4.1961e-01, 4.2043e-01],\n",
      "          [1.1905e-01, 1.2003e-01, 6.8305e-02,  ..., 3.6939e-01,\n",
      "           4.1988e-01, 4.2043e-01]],\n",
      "\n",
      "         [[1.5611e-01, 1.5611e-01, 2.4857e-01,  ..., 5.5055e-01,\n",
      "           5.3373e-01, 5.3373e-01],\n",
      "          [1.5618e-01, 1.5618e-01, 2.5008e-01,  ..., 5.5036e-01,\n",
      "           5.3160e-01, 5.3160e-01],\n",
      "          [1.8082e-01, 1.8082e-01, 2.8538e-01,  ..., 4.9917e-01,\n",
      "           4.8895e-01, 4.8895e-01],\n",
      "          ...,\n",
      "          [1.3342e-01, 1.3223e-01, 1.5890e-01,  ..., 1.4504e+00,\n",
      "           1.5312e+00, 1.5316e+00],\n",
      "          [1.5646e-01, 1.5521e-01, 1.8964e-01,  ..., 1.3740e+00,\n",
      "           1.4571e+00, 1.4579e+00],\n",
      "          [1.5532e-01, 1.5411e-01, 1.8960e-01,  ..., 1.3753e+00,\n",
      "           1.4575e+00, 1.4579e+00]]],\n",
      "\n",
      "\n",
      "        [[[1.6664e+00, 1.6697e+00, 1.8451e+00,  ..., 1.1814e+00,\n",
      "           1.1938e+00, 1.1962e+00],\n",
      "          [1.6686e+00, 1.6697e+00, 1.8451e+00,  ..., 1.1793e+00,\n",
      "           1.1904e+00, 1.1904e+00],\n",
      "          [1.4894e+00, 1.4905e+00, 1.6477e+00,  ..., 1.0694e+00,\n",
      "           1.0882e+00, 1.0926e+00],\n",
      "          ...,\n",
      "          [8.3440e-01, 8.3440e-01, 6.9091e-01,  ..., 3.6062e-02,\n",
      "           5.1582e-01, 5.1587e-01],\n",
      "          [8.0813e-01, 8.0813e-01, 6.4767e-01,  ..., 3.4326e-02,\n",
      "           2.4467e-02, 5.3503e-01],\n",
      "          [8.0917e-01, 8.0910e-01, 6.4767e-01,  ..., 3.4326e-02,\n",
      "           2.5485e-02, 5.2802e-01]],\n",
      "\n",
      "         [[1.5183e-02, 1.5072e-02, 1.7218e-02,  ..., 8.2234e-02,\n",
      "           9.1682e-02, 9.1682e-02],\n",
      "          [1.5183e-02, 1.5072e-02, 1.7625e-02,  ..., 8.0861e-02,\n",
      "           9.0451e-02, 9.0451e-02],\n",
      "          [5.2811e-02, 5.3019e-02, 6.1462e-02,  ..., 9.3186e-02,\n",
      "           1.0221e-01, 1.0268e-01],\n",
      "          ...,\n",
      "          [4.1282e-01, 4.1282e-01, 5.5689e-01,  ..., 7.1173e-01,\n",
      "           4.3940e-03, 4.2947e-03],\n",
      "          [4.6326e-01, 4.6520e-01, 6.1734e-01,  ..., 5.2025e-01,\n",
      "           4.5906e-01, 1.5490e-02],\n",
      "          [4.6387e-01, 4.6458e-01, 6.1734e-01,  ..., 5.2025e-01,\n",
      "           4.6305e-01, 1.3982e-02]],\n",
      "\n",
      "         [[2.1977e-01, 2.1845e-01, 3.0260e-01,  ..., 9.2697e-01,\n",
      "           8.6987e-01, 8.6987e-01],\n",
      "          [2.1833e-01, 2.1845e-01, 3.0260e-01,  ..., 9.2465e-01,\n",
      "           8.6753e-01, 8.6753e-01],\n",
      "          [3.1969e-01, 3.1780e-01, 4.0863e-01,  ..., 9.5221e-01,\n",
      "           9.0205e-01, 9.0437e-01],\n",
      "          ...,\n",
      "          [1.7986e-01, 1.7865e-01, 1.6889e-01,  ..., 1.8273e-02,\n",
      "           3.7876e-01, 3.7697e-01],\n",
      "          [1.5070e-01, 1.5070e-01, 1.3009e-01,  ..., 3.6562e-02,\n",
      "           1.1221e-01, 4.9902e-01],\n",
      "          [1.5057e-01, 1.5084e-01, 1.3009e-01,  ..., 3.6562e-02,\n",
      "           1.1043e-01, 5.0949e-01]],\n",
      "\n",
      "         [[1.5113e-02, 1.5509e-02, 1.9892e-03,  ..., 1.0076e-01,\n",
      "           1.2746e-01, 1.2865e-01],\n",
      "          [1.5495e-02, 1.5509e-02, 2.1292e-03,  ..., 9.9991e-02,\n",
      "           1.2643e-01, 1.2643e-01],\n",
      "          [3.2916e-02, 3.3458e-02, 1.0569e-02,  ..., 8.6307e-02,\n",
      "           1.0710e-01, 1.0789e-01],\n",
      "          ...,\n",
      "          [2.7767e-01, 2.7767e-01, 2.3051e-01,  ..., 1.3868e-01,\n",
      "           6.4425e-02, 6.4548e-02],\n",
      "          [3.2311e-01, 3.2311e-01, 2.7974e-01,  ..., 1.0873e-01,\n",
      "           1.2944e-01, 9.5924e-02],\n",
      "          [3.2309e-01, 3.2314e-01, 2.7974e-01,  ..., 1.0873e-01,\n",
      "           1.3020e-01, 9.0443e-02]],\n",
      "\n",
      "         [[1.0039e+00, 1.0062e+00, 1.1897e+00,  ..., 2.2269e-02,\n",
      "           3.0573e-02, 3.0573e-02],\n",
      "          [1.0060e+00, 1.0062e+00, 1.1897e+00,  ..., 2.1957e-02,\n",
      "           3.0098e-02, 3.0098e-02],\n",
      "          [7.5825e-01, 7.6025e-01, 9.4888e-01,  ..., 8.9005e-03,\n",
      "           1.5388e-02, 1.5649e-02],\n",
      "          ...,\n",
      "          [4.0327e-01, 4.0509e-01, 4.8771e-01,  ..., 6.4480e-01,\n",
      "           4.7196e-02, 4.6330e-02],\n",
      "          [4.2117e-01, 4.2302e-01, 5.0696e-01,  ..., 5.8635e-01,\n",
      "           6.4432e-01, 2.5533e-02],\n",
      "          [4.2297e-01, 4.2308e-01, 5.0696e-01,  ..., 5.8635e-01,\n",
      "           6.4777e-01, 2.8694e-02]]]], device='cuda:0',\n",
      "       grad_fn=<SmoothL1LossBackward>)\n"
     ]
    }
   ],
   "source": [
    "coc_stack=loss\n",
    "stacked=vis\n",
    "\n",
    "coc_mean=torch.mean(coc_stack,dim=1)\n",
    "coc_mean=torch.unsqueeze(coc_mean,dim=1)\n",
    "coc_mean=torch.repeat_interleave(coc_mean,repeats=5,dim=1)\n",
    "coc_stack_norm=coc_stack/coc_mean\n",
    "\n",
    "lvl_w=[8./15, 4./15, 2./15, 1./15]\n",
    "loss = 0\n",
    "for i, s in enumerate(stacked):\n",
    "    s_mean=torch.mean(s,dim=1)\n",
    "    s_mean=torch.unsqueeze(s_mean,dim=1)\n",
    "    s_mean=torch.repeat_interleave(s_mean,repeats=5,dim=1)\n",
    "    s_norm=s/s_mean\n",
    "    _cur_loss=F.smooth_l1_loss(s_norm,coc_stack_norm,reduction='none')\n",
    "    if(math.isinf(torch.mean(_cur_loss.detach().cpu()).item())):\n",
    "        print('inf loss!!')\n",
    "        print(_cur_loss)\n",
    "        break"
   ]
  },
  {
   "cell_type": "code",
   "execution_count": 48,
   "metadata": {},
   "outputs": [],
   "source": [
    "train_log = logger.Logger( os.path.abspath('/scratch/lnw8px/depth-from-Focus-Defocus/models/focusdefocus/'), name='name/train')"
   ]
  },
  {
   "cell_type": "code",
   "execution_count": 53,
   "metadata": {},
   "outputs": [
    {
     "data": {
      "text/plain": [
       "(torch.Size([4, 3, 224, 224]),\n",
       " torch.Size([4, 1, 224, 224]),\n",
       " torch.Size([4, 3, 224, 224]))"
      ]
     },
     "execution_count": 53,
     "metadata": {},
     "output_type": "execute_result"
    }
   ],
   "source": [
    "img_stack[:, 0].shape,gt_disp.shape,img_stack[:, -1].shape"
   ]
  },
  {
   "cell_type": "code",
   "execution_count": 54,
   "metadata": {},
   "outputs": [
    {
     "data": {
      "text/plain": [
       "torch.Size([4, 1, 224, 224])"
      ]
     },
     "execution_count": 54,
     "metadata": {},
     "output_type": "execute_result"
    }
   ],
   "source": [
    "gt_disp.shape"
   ]
  },
  {
   "cell_type": "code",
   "execution_count": 56,
   "metadata": {},
   "outputs": [
    {
     "data": {
      "text/plain": [
       "torch.Size([4, 5, 3, 224, 224])"
      ]
     },
     "execution_count": 56,
     "metadata": {},
     "output_type": "execute_result"
    }
   ],
   "source": [
    "img_stack.shape"
   ]
  },
  {
   "cell_type": "code",
   "execution_count": null,
   "metadata": {},
   "outputs": [],
   "source": []
  },
  {
   "cell_type": "code",
   "execution_count": 49,
   "metadata": {},
   "outputs": [
    {
     "ename": "TypeError",
     "evalue": "Cannot handle this data type: (1, 1, 5), |u1",
     "output_type": "error",
     "traceback": [
      "\u001b[0;31m---------------------------------------------------------------------------\u001b[0m",
      "\u001b[0;31mKeyError\u001b[0m                                  Traceback (most recent call last)",
      "\u001b[0;32m/opt/conda/lib/python3.7/site-packages/PIL/Image.py\u001b[0m in \u001b[0;36mfromarray\u001b[0;34m(obj, mode)\u001b[0m\n\u001b[1;32m   2679\u001b[0m         \u001b[0;32mtry\u001b[0m\u001b[0;34m:\u001b[0m\u001b[0;34m\u001b[0m\u001b[0;34m\u001b[0m\u001b[0m\n\u001b[0;32m-> 2680\u001b[0;31m             \u001b[0mmode\u001b[0m\u001b[0;34m,\u001b[0m \u001b[0mrawmode\u001b[0m \u001b[0;34m=\u001b[0m \u001b[0m_fromarray_typemap\u001b[0m\u001b[0;34m[\u001b[0m\u001b[0mtypekey\u001b[0m\u001b[0;34m]\u001b[0m\u001b[0;34m\u001b[0m\u001b[0;34m\u001b[0m\u001b[0m\n\u001b[0m\u001b[1;32m   2681\u001b[0m         \u001b[0;32mexcept\u001b[0m \u001b[0mKeyError\u001b[0m\u001b[0;34m:\u001b[0m\u001b[0;34m\u001b[0m\u001b[0;34m\u001b[0m\u001b[0m\n",
      "\u001b[0;31mKeyError\u001b[0m: ((1, 1, 5), '|u1')",
      "\nDuring handling of the above exception, another exception occurred:\n",
      "\u001b[0;31mTypeError\u001b[0m                                 Traceback (most recent call last)",
      "\u001b[0;32m<ipython-input-49-2f1b204fbb4e>\u001b[0m in \u001b[0;36m<module>\u001b[0;34m\u001b[0m\n\u001b[0;32m----> 1\u001b[0;31m \u001b[0mwrite_log\u001b[0m\u001b[0;34m(\u001b[0m\u001b[0mvis\u001b[0m\u001b[0;34m,\u001b[0m \u001b[0mimg_stack\u001b[0m\u001b[0;34m[\u001b[0m\u001b[0;34m:\u001b[0m\u001b[0;34m,\u001b[0m \u001b[0;36m0\u001b[0m\u001b[0;34m]\u001b[0m\u001b[0;34m,\u001b[0m \u001b[0mimg_stack\u001b[0m\u001b[0;34m[\u001b[0m\u001b[0;34m:\u001b[0m\u001b[0;34m,\u001b[0m \u001b[0;34m-\u001b[0m\u001b[0;36m1\u001b[0m\u001b[0;34m]\u001b[0m\u001b[0;34m,\u001b[0m \u001b[0mgt_disp\u001b[0m\u001b[0;34m,\u001b[0m \u001b[0mtrain_log\u001b[0m\u001b[0;34m,\u001b[0m \u001b[0;36m10\u001b[0m\u001b[0;34m,\u001b[0m \u001b[0mthres\u001b[0m\u001b[0;34m=\u001b[0m\u001b[0;36m0.05\u001b[0m\u001b[0;34m)\u001b[0m\u001b[0;34m\u001b[0m\u001b[0;34m\u001b[0m\u001b[0m\n\u001b[0m",
      "\u001b[0;32m/scratch/lnw8px/depth-from-Focus-Defocus/DFV/utils/save_res.py\u001b[0m in \u001b[0;36mwrite_log\u001b[0;34m(viz, img1, img2, disp, logger, step, num_log_img, b_train, thres)\u001b[0m\n\u001b[1;32m     13\u001b[0m     \u001b[0mlogger\u001b[0m\u001b[0;34m.\u001b[0m\u001b[0mimage_summary\u001b[0m\u001b[0;34m(\u001b[0m\u001b[0;34m'img_last'\u001b[0m\u001b[0;34m,\u001b[0m \u001b[0;34m(\u001b[0m\u001b[0mimg2\u001b[0m\u001b[0;34m[\u001b[0m\u001b[0;36m0\u001b[0m\u001b[0;34m:\u001b[0m\u001b[0mn_log\u001b[0m\u001b[0;34m]\u001b[0m \u001b[0;34m*\u001b[0m \u001b[0mstd_values\u001b[0m\u001b[0;34m+\u001b[0m \u001b[0mmean_values\u001b[0m\u001b[0;34m)\u001b[0m\u001b[0;34m.\u001b[0m\u001b[0mclamp\u001b[0m\u001b[0;34m(\u001b[0m\u001b[0;36m0\u001b[0m\u001b[0;34m,\u001b[0m\u001b[0;36m1\u001b[0m\u001b[0;34m)\u001b[0m\u001b[0;34m,\u001b[0m \u001b[0mstep\u001b[0m\u001b[0;34m)\u001b[0m\u001b[0;34m\u001b[0m\u001b[0;34m\u001b[0m\u001b[0m\n\u001b[1;32m     14\u001b[0m     \u001b[0mlogger\u001b[0m\u001b[0;34m.\u001b[0m\u001b[0mimage_summary\u001b[0m\u001b[0;34m(\u001b[0m\u001b[0;34m'gt_disp'\u001b[0m\u001b[0;34m,\u001b[0m \u001b[0mdisp\u001b[0m\u001b[0;34m[\u001b[0m\u001b[0;36m0\u001b[0m\u001b[0;34m:\u001b[0m\u001b[0mn_log\u001b[0m\u001b[0;34m]\u001b[0m\u001b[0;34m,\u001b[0m \u001b[0mstep\u001b[0m\u001b[0;34m)\u001b[0m\u001b[0;34m\u001b[0m\u001b[0;34m\u001b[0m\u001b[0m\n\u001b[0;32m---> 15\u001b[0;31m     \u001b[0mlogger\u001b[0m\u001b[0;34m.\u001b[0m\u001b[0mimage_summary\u001b[0m\u001b[0;34m(\u001b[0m\u001b[0;34m'pred_disp'\u001b[0m\u001b[0;34m,\u001b[0m \u001b[0mviz\u001b[0m\u001b[0;34m[\u001b[0m\u001b[0;34m'pred'\u001b[0m\u001b[0;34m]\u001b[0m\u001b[0;34m[\u001b[0m\u001b[0;36m0\u001b[0m\u001b[0;34m:\u001b[0m\u001b[0mn_log\u001b[0m\u001b[0;34m]\u001b[0m\u001b[0;34m,\u001b[0m \u001b[0mstep\u001b[0m\u001b[0;34m)\u001b[0m\u001b[0;34m\u001b[0m\u001b[0;34m\u001b[0m\u001b[0m\n\u001b[0m\u001b[1;32m     16\u001b[0m \u001b[0;34m\u001b[0m\u001b[0m\n\u001b[1;32m     17\u001b[0m     \u001b[0merr\u001b[0m \u001b[0;34m=\u001b[0m \u001b[0;34m(\u001b[0m\u001b[0mtorch\u001b[0m\u001b[0;34m.\u001b[0m\u001b[0mabs\u001b[0m\u001b[0;34m(\u001b[0m \u001b[0mdisp\u001b[0m\u001b[0;34m[\u001b[0m\u001b[0;36m0\u001b[0m\u001b[0;34m:\u001b[0m\u001b[0mn_log\u001b[0m\u001b[0;34m]\u001b[0m \u001b[0;34m-\u001b[0m \u001b[0mviz\u001b[0m\u001b[0;34m[\u001b[0m\u001b[0;34m'pred'\u001b[0m\u001b[0;34m]\u001b[0m\u001b[0;34m[\u001b[0m\u001b[0;36m0\u001b[0m\u001b[0;34m:\u001b[0m\u001b[0mn_log\u001b[0m\u001b[0;34m]\u001b[0m\u001b[0;34m)\u001b[0m \u001b[0;34m*\u001b[0m \u001b[0mviz\u001b[0m\u001b[0;34m[\u001b[0m\u001b[0;34m'mask'\u001b[0m\u001b[0;34m]\u001b[0m\u001b[0;34m[\u001b[0m\u001b[0;36m0\u001b[0m\u001b[0;34m:\u001b[0m\u001b[0mn_log\u001b[0m\u001b[0;34m]\u001b[0m\u001b[0;34m.\u001b[0m\u001b[0mtype\u001b[0m\u001b[0;34m(\u001b[0m\u001b[0mtorch\u001b[0m\u001b[0;34m.\u001b[0m\u001b[0mfloat\u001b[0m\u001b[0;34m)\u001b[0m\u001b[0;34m)\u001b[0m\u001b[0;34m.\u001b[0m\u001b[0mcpu\u001b[0m\u001b[0;34m(\u001b[0m\u001b[0;34m)\u001b[0m\u001b[0;34m\u001b[0m\u001b[0;34m\u001b[0m\u001b[0m\n",
      "\u001b[0;32m/scratch/lnw8px/depth-from-Focus-Defocus/DFV/utils/logger.py\u001b[0m in \u001b[0;36mimage_summary\u001b[0;34m(self, tag, images, step, n_log)\u001b[0m\n\u001b[1;32m     42\u001b[0m                     \u001b[0mimages\u001b[0m \u001b[0;34m=\u001b[0m \u001b[0mimages\u001b[0m\u001b[0;34m.\u001b[0m\u001b[0munsqueeze\u001b[0m\u001b[0;34m(\u001b[0m\u001b[0;36m1\u001b[0m\u001b[0;34m)\u001b[0m\u001b[0;34m\u001b[0m\u001b[0;34m\u001b[0m\u001b[0m\n\u001b[1;32m     43\u001b[0m         \u001b[0mimages\u001b[0m \u001b[0;34m=\u001b[0m \u001b[0mmake_grid\u001b[0m\u001b[0;34m(\u001b[0m\u001b[0mimages\u001b[0m\u001b[0;34m,\u001b[0m\u001b[0mpadding\u001b[0m\u001b[0;34m=\u001b[0m\u001b[0;36m5\u001b[0m\u001b[0;34m)\u001b[0m\u001b[0;34m\u001b[0m\u001b[0;34m\u001b[0m\u001b[0m\n\u001b[0;32m---> 44\u001b[0;31m         \u001b[0mself\u001b[0m\u001b[0;34m.\u001b[0m\u001b[0mwriter\u001b[0m\u001b[0;34m.\u001b[0m\u001b[0madd_image\u001b[0m\u001b[0;34m(\u001b[0m\u001b[0mtag\u001b[0m\u001b[0;34m,\u001b[0m \u001b[0mimages\u001b[0m\u001b[0;34m,\u001b[0m \u001b[0mstep\u001b[0m\u001b[0;34m)\u001b[0m\u001b[0;34m\u001b[0m\u001b[0;34m\u001b[0m\u001b[0m\n\u001b[0m",
      "\u001b[0;32m/opt/conda/lib/python3.7/site-packages/tensorboardX/writer.py\u001b[0m in \u001b[0;36madd_image\u001b[0;34m(self, tag, img_tensor, global_step, walltime, dataformats)\u001b[0m\n\u001b[1;32m    684\u001b[0m         \u001b[0;32mif\u001b[0m \u001b[0mself\u001b[0m\u001b[0;34m.\u001b[0m\u001b[0m_check_caffe2_blob\u001b[0m\u001b[0;34m(\u001b[0m\u001b[0mimg_tensor\u001b[0m\u001b[0;34m)\u001b[0m\u001b[0;34m:\u001b[0m\u001b[0;34m\u001b[0m\u001b[0;34m\u001b[0m\u001b[0m\n\u001b[1;32m    685\u001b[0m             \u001b[0mimg_tensor\u001b[0m \u001b[0;34m=\u001b[0m \u001b[0mworkspace\u001b[0m\u001b[0;34m.\u001b[0m\u001b[0mFetchBlob\u001b[0m\u001b[0;34m(\u001b[0m\u001b[0mimg_tensor\u001b[0m\u001b[0;34m)\u001b[0m\u001b[0;34m\u001b[0m\u001b[0;34m\u001b[0m\u001b[0m\n\u001b[0;32m--> 686\u001b[0;31m         \u001b[0msummary\u001b[0m \u001b[0;34m=\u001b[0m \u001b[0mimage\u001b[0m\u001b[0;34m(\u001b[0m\u001b[0mtag\u001b[0m\u001b[0;34m,\u001b[0m \u001b[0mimg_tensor\u001b[0m\u001b[0;34m,\u001b[0m \u001b[0mdataformats\u001b[0m\u001b[0;34m=\u001b[0m\u001b[0mdataformats\u001b[0m\u001b[0;34m)\u001b[0m\u001b[0;34m\u001b[0m\u001b[0;34m\u001b[0m\u001b[0m\n\u001b[0m\u001b[1;32m    687\u001b[0m         \u001b[0mencoded_image_string\u001b[0m \u001b[0;34m=\u001b[0m \u001b[0msummary\u001b[0m\u001b[0;34m.\u001b[0m\u001b[0mvalue\u001b[0m\u001b[0;34m[\u001b[0m\u001b[0;36m0\u001b[0m\u001b[0;34m]\u001b[0m\u001b[0;34m.\u001b[0m\u001b[0mimage\u001b[0m\u001b[0;34m.\u001b[0m\u001b[0mencoded_image_string\u001b[0m\u001b[0;34m\u001b[0m\u001b[0;34m\u001b[0m\u001b[0m\n\u001b[1;32m    688\u001b[0m         self._get_file_writer().add_summary(\n",
      "\u001b[0;32m/opt/conda/lib/python3.7/site-packages/tensorboardX/summary.py\u001b[0m in \u001b[0;36mimage\u001b[0;34m(tag, tensor, rescale, dataformats)\u001b[0m\n\u001b[1;32m    285\u001b[0m         \u001b[0mtensor\u001b[0m \u001b[0;34m=\u001b[0m \u001b[0;34m(\u001b[0m\u001b[0mtensor\u001b[0m \u001b[0;34m*\u001b[0m \u001b[0;36m255.0\u001b[0m\u001b[0;34m)\u001b[0m\u001b[0;34m.\u001b[0m\u001b[0mastype\u001b[0m\u001b[0;34m(\u001b[0m\u001b[0mnp\u001b[0m\u001b[0;34m.\u001b[0m\u001b[0muint8\u001b[0m\u001b[0;34m)\u001b[0m\u001b[0;34m\u001b[0m\u001b[0;34m\u001b[0m\u001b[0m\n\u001b[1;32m    286\u001b[0m \u001b[0;34m\u001b[0m\u001b[0m\n\u001b[0;32m--> 287\u001b[0;31m     \u001b[0mimage\u001b[0m \u001b[0;34m=\u001b[0m \u001b[0mmake_image\u001b[0m\u001b[0;34m(\u001b[0m\u001b[0mtensor\u001b[0m\u001b[0;34m,\u001b[0m \u001b[0mrescale\u001b[0m\u001b[0;34m=\u001b[0m\u001b[0mrescale\u001b[0m\u001b[0;34m)\u001b[0m\u001b[0;34m\u001b[0m\u001b[0;34m\u001b[0m\u001b[0m\n\u001b[0m\u001b[1;32m    288\u001b[0m     \u001b[0;32mreturn\u001b[0m \u001b[0mSummary\u001b[0m\u001b[0;34m(\u001b[0m\u001b[0mvalue\u001b[0m\u001b[0;34m=\u001b[0m\u001b[0;34m[\u001b[0m\u001b[0mSummary\u001b[0m\u001b[0;34m.\u001b[0m\u001b[0mValue\u001b[0m\u001b[0;34m(\u001b[0m\u001b[0mtag\u001b[0m\u001b[0;34m=\u001b[0m\u001b[0mtag\u001b[0m\u001b[0;34m,\u001b[0m \u001b[0mimage\u001b[0m\u001b[0;34m=\u001b[0m\u001b[0mimage\u001b[0m\u001b[0;34m)\u001b[0m\u001b[0;34m]\u001b[0m\u001b[0;34m)\u001b[0m\u001b[0;34m\u001b[0m\u001b[0;34m\u001b[0m\u001b[0m\n\u001b[1;32m    289\u001b[0m \u001b[0;34m\u001b[0m\u001b[0m\n",
      "\u001b[0;32m/opt/conda/lib/python3.7/site-packages/tensorboardX/summary.py\u001b[0m in \u001b[0;36mmake_image\u001b[0;34m(tensor, rescale, rois, labels)\u001b[0m\n\u001b[1;32m    325\u001b[0m     \u001b[0mscaled_height\u001b[0m \u001b[0;34m=\u001b[0m \u001b[0mint\u001b[0m\u001b[0;34m(\u001b[0m\u001b[0mheight\u001b[0m \u001b[0;34m*\u001b[0m \u001b[0mrescale\u001b[0m\u001b[0;34m)\u001b[0m\u001b[0;34m\u001b[0m\u001b[0;34m\u001b[0m\u001b[0m\n\u001b[1;32m    326\u001b[0m     \u001b[0mscaled_width\u001b[0m \u001b[0;34m=\u001b[0m \u001b[0mint\u001b[0m\u001b[0;34m(\u001b[0m\u001b[0mwidth\u001b[0m \u001b[0;34m*\u001b[0m \u001b[0mrescale\u001b[0m\u001b[0;34m)\u001b[0m\u001b[0;34m\u001b[0m\u001b[0;34m\u001b[0m\u001b[0m\n\u001b[0;32m--> 327\u001b[0;31m     \u001b[0mimage\u001b[0m \u001b[0;34m=\u001b[0m \u001b[0mImage\u001b[0m\u001b[0;34m.\u001b[0m\u001b[0mfromarray\u001b[0m\u001b[0;34m(\u001b[0m\u001b[0mtensor\u001b[0m\u001b[0;34m)\u001b[0m\u001b[0;34m\u001b[0m\u001b[0;34m\u001b[0m\u001b[0m\n\u001b[0m\u001b[1;32m    328\u001b[0m     \u001b[0;32mif\u001b[0m \u001b[0mrois\u001b[0m \u001b[0;32mis\u001b[0m \u001b[0;32mnot\u001b[0m \u001b[0;32mNone\u001b[0m\u001b[0;34m:\u001b[0m\u001b[0;34m\u001b[0m\u001b[0;34m\u001b[0m\u001b[0m\n\u001b[1;32m    329\u001b[0m         \u001b[0mimage\u001b[0m \u001b[0;34m=\u001b[0m \u001b[0mdraw_boxes\u001b[0m\u001b[0;34m(\u001b[0m\u001b[0mimage\u001b[0m\u001b[0;34m,\u001b[0m \u001b[0mrois\u001b[0m\u001b[0;34m,\u001b[0m \u001b[0mlabels\u001b[0m\u001b[0;34m=\u001b[0m\u001b[0mlabels\u001b[0m\u001b[0;34m)\u001b[0m\u001b[0;34m\u001b[0m\u001b[0;34m\u001b[0m\u001b[0m\n",
      "\u001b[0;32m/opt/conda/lib/python3.7/site-packages/PIL/Image.py\u001b[0m in \u001b[0;36mfromarray\u001b[0;34m(obj, mode)\u001b[0m\n\u001b[1;32m   2680\u001b[0m             \u001b[0mmode\u001b[0m\u001b[0;34m,\u001b[0m \u001b[0mrawmode\u001b[0m \u001b[0;34m=\u001b[0m \u001b[0m_fromarray_typemap\u001b[0m\u001b[0;34m[\u001b[0m\u001b[0mtypekey\u001b[0m\u001b[0;34m]\u001b[0m\u001b[0;34m\u001b[0m\u001b[0;34m\u001b[0m\u001b[0m\n\u001b[1;32m   2681\u001b[0m         \u001b[0;32mexcept\u001b[0m \u001b[0mKeyError\u001b[0m\u001b[0;34m:\u001b[0m\u001b[0;34m\u001b[0m\u001b[0;34m\u001b[0m\u001b[0m\n\u001b[0;32m-> 2682\u001b[0;31m             \u001b[0;32mraise\u001b[0m \u001b[0mTypeError\u001b[0m\u001b[0;34m(\u001b[0m\u001b[0;34m\"Cannot handle this data type: %s, %s\"\u001b[0m \u001b[0;34m%\u001b[0m \u001b[0mtypekey\u001b[0m\u001b[0;34m)\u001b[0m\u001b[0;34m\u001b[0m\u001b[0;34m\u001b[0m\u001b[0m\n\u001b[0m\u001b[1;32m   2683\u001b[0m     \u001b[0;32melse\u001b[0m\u001b[0;34m:\u001b[0m\u001b[0;34m\u001b[0m\u001b[0;34m\u001b[0m\u001b[0m\n\u001b[1;32m   2684\u001b[0m         \u001b[0mrawmode\u001b[0m \u001b[0;34m=\u001b[0m \u001b[0mmode\u001b[0m\u001b[0;34m\u001b[0m\u001b[0;34m\u001b[0m\u001b[0m\n",
      "\u001b[0;31mTypeError\u001b[0m: Cannot handle this data type: (1, 1, 5), |u1"
     ]
    }
   ],
   "source": [
    "write_log(vis, img_stack[:, 0], img_stack[:, -1], gt_disp, train_log, 10, thres=0.05)"
   ]
  },
  {
   "cell_type": "code",
   "execution_count": 8,
   "metadata": {},
   "outputs": [],
   "source": [
    "def adjust_learning_rate(optimizer, epoch):\n",
    "    # turn out we do not need adjust lr, the results is already good enough\n",
    "    if epoch <= 100:\n",
    "        lr = 0.00001\n",
    "    else:\n",
    "        lr = 0.0001 * 0.1 #1e-5  will not used in this project\n",
    "    for param_group in optimizer.param_groups:\n",
    "        param_group['lr'] = lr\n",
    "\n",
    "    return lr"
   ]
  },
  {
   "cell_type": "code",
   "execution_count": 10,
   "metadata": {},
   "outputs": [
    {
     "name": "stdout",
     "output_type": "stream",
     "text": [
      "epoch 0:  0/ 100 train_loss = 1.551906 , time = 1.22\n",
      "epoch 0:  10/ 100 train_loss = 1.403790 , time = 0.68\n",
      "epoch 0:  20/ 100 train_loss = 1.350171 , time = 0.66\n",
      "epoch 0:  30/ 100 train_loss = 1.324360 , time = 0.66\n",
      "epoch 0:  40/ 100 train_loss = 1.211458 , time = 0.67\n",
      "epoch 0:  50/ 100 train_loss = 1.022147 , time = 0.68\n",
      "epoch 0:  60/ 100 train_loss = 1.077646 , time = 0.68\n",
      "epoch 0:  70/ 100 train_loss = 0.899725 , time = 0.66\n",
      "epoch 0:  80/ 100 train_loss = 1.007763 , time = 0.71\n",
      "epoch 0:  90/ 100 train_loss = 0.988017 , time = 0.65\n",
      "epoch 1:  0/ 100 train_loss = 0.972455 , time = 0.95\n",
      "epoch 1:  10/ 100 train_loss = 0.959387 , time = 0.70\n",
      "epoch 1:  20/ 100 train_loss = 0.864427 , time = 0.67\n",
      "epoch 1:  30/ 100 train_loss = 0.898425 , time = 0.65\n",
      "epoch 1:  40/ 100 train_loss = 0.766155 , time = 0.68\n",
      "epoch 1:  50/ 100 train_loss = 0.660343 , time = 0.68\n",
      "epoch 1:  60/ 100 train_loss = 0.607332 , time = 0.73\n",
      "epoch 1:  70/ 100 train_loss = 0.701070 , time = 0.67\n",
      "epoch 1:  80/ 100 train_loss = 0.714985 , time = 0.67\n",
      "epoch 1:  90/ 100 train_loss = 0.656450 , time = 0.69\n",
      "epoch 2:  0/ 100 train_loss = 0.662831 , time = 0.96\n",
      "epoch 2:  10/ 100 train_loss = 0.618577 , time = 0.66\n",
      "epoch 2:  20/ 100 train_loss = 0.585790 , time = 0.70\n",
      "epoch 2:  30/ 100 train_loss = 0.552032 , time = 0.67\n",
      "epoch 2:  40/ 100 train_loss = 0.642219 , time = 0.67\n",
      "epoch 2:  50/ 100 train_loss = 0.595545 , time = 0.69\n",
      "epoch 2:  60/ 100 train_loss = 0.586683 , time = 0.67\n",
      "epoch 2:  70/ 100 train_loss = 0.519234 , time = 0.67\n",
      "epoch 2:  80/ 100 train_loss = 0.641087 , time = 0.69\n",
      "epoch 2:  90/ 100 train_loss = 0.530006 , time = 0.69\n",
      "epoch 3:  0/ 100 train_loss = 0.469749 , time = 0.97\n",
      "epoch 3:  10/ 100 train_loss = 0.536482 , time = 0.66\n",
      "epoch 3:  20/ 100 train_loss = 0.492334 , time = 0.67\n",
      "epoch 3:  30/ 100 train_loss = 0.483461 , time = 0.70\n",
      "epoch 3:  40/ 100 train_loss = 0.448864 , time = 0.66\n",
      "epoch 3:  50/ 100 train_loss = 0.467283 , time = 0.68\n",
      "epoch 3:  60/ 100 train_loss = 0.492281 , time = 0.67\n",
      "epoch 3:  70/ 100 train_loss = 0.509541 , time = 0.71\n",
      "epoch 3:  80/ 100 train_loss = 0.527458 , time = 0.68\n",
      "epoch 3:  90/ 100 train_loss = 0.430933 , time = 0.68\n",
      "epoch 4:  0/ 100 train_loss = 0.443839 , time = 0.95\n",
      "epoch 4:  10/ 100 train_loss = 0.496525 , time = 0.67\n",
      "epoch 4:  20/ 100 train_loss = 0.419263 , time = 0.71\n",
      "epoch 4:  30/ 100 train_loss = 0.440276 , time = 0.68\n",
      "epoch 4:  40/ 100 train_loss = 0.374826 , time = 0.67\n",
      "epoch 4:  50/ 100 train_loss = 0.456621 , time = 0.70\n",
      "epoch 4:  60/ 100 train_loss = 0.454238 , time = 0.67\n",
      "epoch 4:  70/ 100 train_loss = 0.486084 , time = 0.67\n",
      "epoch 4:  80/ 100 train_loss = 0.383773 , time = 0.67\n",
      "epoch 4:  90/ 100 train_loss = 0.394426 , time = 0.69\n",
      "epoch 5:  0/ 100 train_loss = 0.387814 , time = 0.94\n",
      "epoch 5:  10/ 100 train_loss = 0.341428 , time = 0.68\n",
      "epoch 5:  20/ 100 train_loss = 0.363624 , time = 0.68\n",
      "epoch 5:  30/ 100 train_loss = 0.349277 , time = 0.67\n",
      "epoch 5:  40/ 100 train_loss = 0.367585 , time = 0.69\n",
      "epoch 5:  50/ 100 train_loss = 0.428340 , time = 0.68\n",
      "epoch 5:  60/ 100 train_loss = 0.401023 , time = 0.68\n",
      "epoch 5:  70/ 100 train_loss = 0.414611 , time = 0.71\n",
      "epoch 5:  80/ 100 train_loss = 0.447077 , time = 0.67\n",
      "epoch 5:  90/ 100 train_loss = 0.349901 , time = 0.68\n",
      "epoch 6:  0/ 100 train_loss = 0.433541 , time = 0.91\n",
      "epoch 6:  10/ 100 train_loss = 0.372400 , time = 0.70\n",
      "epoch 6:  20/ 100 train_loss = 0.396365 , time = 0.68\n",
      "epoch 6:  30/ 100 train_loss = 0.343870 , time = 0.70\n",
      "epoch 6:  40/ 100 train_loss = 0.325074 , time = 0.67\n",
      "epoch 6:  50/ 100 train_loss = 0.332736 , time = 0.67\n",
      "epoch 6:  60/ 100 train_loss = 0.378004 , time = 0.68\n",
      "epoch 6:  70/ 100 train_loss = 0.321980 , time = 0.67\n",
      "epoch 6:  80/ 100 train_loss = 0.313923 , time = 0.68\n",
      "epoch 6:  90/ 100 train_loss = 0.415387 , time = 0.67\n",
      "epoch 7:  0/ 100 train_loss = 0.323501 , time = 0.96\n",
      "epoch 7:  10/ 100 train_loss = 0.333704 , time = 0.68\n",
      "epoch 7:  20/ 100 train_loss = 0.322557 , time = 0.65\n",
      "epoch 7:  30/ 100 train_loss = 0.277453 , time = 0.68\n",
      "epoch 7:  40/ 100 train_loss = 0.353279 , time = 0.67\n",
      "epoch 7:  50/ 100 train_loss = 0.398476 , time = 0.67\n",
      "epoch 7:  60/ 100 train_loss = 0.351621 , time = 0.70\n",
      "epoch 7:  70/ 100 train_loss = 0.286277 , time = 0.67\n",
      "epoch 7:  80/ 100 train_loss = 0.306435 , time = 0.68\n",
      "epoch 7:  90/ 100 train_loss = 0.350710 , time = 0.66\n",
      "epoch 8:  0/ 100 train_loss = 0.300357 , time = 0.98\n",
      "epoch 8:  10/ 100 train_loss = 0.309136 , time = 0.68\n",
      "epoch 8:  20/ 100 train_loss = 0.313349 , time = 0.73\n",
      "epoch 8:  30/ 100 train_loss = 0.317254 , time = 0.66\n",
      "epoch 8:  40/ 100 train_loss = 0.275170 , time = 0.70\n",
      "epoch 8:  50/ 100 train_loss = 0.255395 , time = 0.67\n",
      "epoch 8:  60/ 100 train_loss = 0.293158 , time = 0.71\n",
      "epoch 8:  70/ 100 train_loss = 0.344823 , time = 0.68\n",
      "epoch 8:  80/ 100 train_loss = 0.361382 , time = 0.68\n",
      "epoch 8:  90/ 100 train_loss = 0.336279 , time = 0.66\n",
      "epoch 9:  0/ 100 train_loss = 0.301794 , time = 0.96\n",
      "epoch 9:  10/ 100 train_loss = 0.288590 , time = 0.69\n",
      "epoch 9:  20/ 100 train_loss = 0.279119 , time = 0.70\n",
      "epoch 9:  30/ 100 train_loss = 0.287804 , time = 0.68\n",
      "epoch 9:  40/ 100 train_loss = 0.295006 , time = 0.69\n",
      "epoch 9:  50/ 100 train_loss = 0.313737 , time = 0.67\n",
      "epoch 9:  60/ 100 train_loss = 0.305110 , time = 0.70\n",
      "epoch 9:  70/ 100 train_loss = 0.329301 , time = 0.72\n",
      "epoch 9:  80/ 100 train_loss = 0.231000 , time = 0.69\n",
      "epoch 9:  90/ 100 train_loss = 0.292669 , time = 0.67\n",
      "epoch 10:  0/ 100 train_loss = 0.276653 , time = 0.91\n",
      "epoch 10:  10/ 100 train_loss = 0.321393 , time = 0.68\n",
      "epoch 10:  20/ 100 train_loss = 0.294646 , time = 0.67\n",
      "epoch 10:  30/ 100 train_loss = 0.379661 , time = 0.68\n",
      "epoch 10:  40/ 100 train_loss = 0.423933 , time = 0.72\n",
      "epoch 10:  50/ 100 train_loss = 0.294176 , time = 0.78\n",
      "epoch 10:  60/ 100 train_loss = 0.294093 , time = 0.71\n",
      "epoch 10:  70/ 100 train_loss = 0.293429 , time = 0.68\n",
      "epoch 10:  80/ 100 train_loss = 0.310188 , time = 0.69\n",
      "epoch 10:  90/ 100 train_loss = 0.288959 , time = 0.68\n",
      "epoch 11:  0/ 100 train_loss = 0.277445 , time = 1.01\n",
      "epoch 11:  10/ 100 train_loss = 0.239750 , time = 0.69\n",
      "epoch 11:  20/ 100 train_loss = 0.279305 , time = 0.69\n",
      "epoch 11:  30/ 100 train_loss = 0.273422 , time = 0.69\n",
      "epoch 11:  40/ 100 train_loss = 0.276246 , time = 0.71\n",
      "epoch 11:  50/ 100 train_loss = 0.220704 , time = 0.68\n",
      "epoch 11:  60/ 100 train_loss = 0.343019 , time = 0.66\n",
      "epoch 11:  70/ 100 train_loss = 0.266365 , time = 0.68\n",
      "epoch 11:  80/ 100 train_loss = 0.282198 , time = 0.66\n",
      "epoch 11:  90/ 100 train_loss = 0.320307 , time = 0.67\n",
      "epoch 12:  0/ 100 train_loss = 0.296207 , time = 0.96\n",
      "epoch 12:  10/ 100 train_loss = 0.319692 , time = 0.67\n",
      "epoch 12:  20/ 100 train_loss = 0.234174 , time = 0.71\n",
      "epoch 12:  30/ 100 train_loss = 0.240970 , time = 0.65\n",
      "epoch 12:  40/ 100 train_loss = 0.264185 , time = 0.67\n",
      "epoch 12:  50/ 100 train_loss = 0.269538 , time = 0.68\n",
      "epoch 12:  60/ 100 train_loss = 0.303217 , time = 0.68\n",
      "epoch 12:  70/ 100 train_loss = 0.258363 , time = 0.66\n",
      "epoch 12:  80/ 100 train_loss = 0.235619 , time = 0.67\n",
      "epoch 12:  90/ 100 train_loss = 0.306253 , time = 0.68\n",
      "epoch 13:  0/ 100 train_loss = 0.245353 , time = 0.97\n",
      "epoch 13:  10/ 100 train_loss = 0.252698 , time = 0.71\n",
      "epoch 13:  20/ 100 train_loss = 0.257904 , time = 0.68\n",
      "epoch 13:  30/ 100 train_loss = 0.311618 , time = 0.69\n",
      "epoch 13:  40/ 100 train_loss = 0.253067 , time = 0.68\n",
      "epoch 13:  50/ 100 train_loss = 0.284074 , time = 0.70\n",
      "epoch 13:  60/ 100 train_loss = 0.253551 , time = 0.68\n",
      "epoch 13:  70/ 100 train_loss = 0.256228 , time = 0.68\n",
      "epoch 13:  80/ 100 train_loss = 0.351157 , time = 0.66\n",
      "epoch 13:  90/ 100 train_loss = 0.268987 , time = 0.67\n",
      "epoch 14:  0/ 100 train_loss = 0.290120 , time = 0.90\n",
      "epoch 14:  10/ 100 train_loss = 0.253868 , time = 0.69\n",
      "epoch 14:  20/ 100 train_loss = 0.235359 , time = 0.68\n",
      "epoch 14:  30/ 100 train_loss = 0.283469 , time = 0.67\n",
      "epoch 14:  40/ 100 train_loss = 0.292926 , time = 0.70\n",
      "epoch 14:  50/ 100 train_loss = 0.229921 , time = 0.67\n",
      "epoch 14:  60/ 100 train_loss = 0.313008 , time = 0.68\n",
      "epoch 14:  70/ 100 train_loss = 0.301395 , time = 0.69\n",
      "epoch 14:  80/ 100 train_loss = 0.261878 , time = 0.70\n",
      "epoch 14:  90/ 100 train_loss = 0.219614 , time = 0.71\n",
      "epoch 15:  0/ 100 train_loss = 0.291324 , time = 0.93\n",
      "epoch 15:  10/ 100 train_loss = 0.256467 , time = 0.68\n"
     ]
    },
    {
     "name": "stdout",
     "output_type": "stream",
     "text": [
      "epoch 15:  20/ 100 train_loss = 0.279240 , time = 0.67\n",
      "epoch 15:  30/ 100 train_loss = 0.341685 , time = 0.71\n",
      "epoch 15:  40/ 100 train_loss = 0.285290 , time = 0.70\n",
      "epoch 15:  50/ 100 train_loss = 0.223068 , time = 0.68\n",
      "epoch 15:  60/ 100 train_loss = 0.215522 , time = 0.67\n",
      "epoch 15:  70/ 100 train_loss = 0.210002 , time = 0.67\n",
      "epoch 15:  80/ 100 train_loss = 0.258677 , time = 0.69\n",
      "epoch 15:  90/ 100 train_loss = 0.259225 , time = 0.67\n",
      "epoch 16:  0/ 100 train_loss = 0.296565 , time = 0.92\n",
      "epoch 16:  10/ 100 train_loss = 0.210682 , time = 0.76\n",
      "epoch 16:  20/ 100 train_loss = 0.260069 , time = 0.69\n",
      "epoch 16:  30/ 100 train_loss = 0.213208 , time = 0.68\n",
      "epoch 16:  40/ 100 train_loss = 0.247997 , time = 0.70\n",
      "epoch 16:  50/ 100 train_loss = 0.217392 , time = 0.69\n",
      "epoch 16:  60/ 100 train_loss = 0.241188 , time = 0.68\n",
      "epoch 16:  70/ 100 train_loss = 0.250031 , time = 0.69\n",
      "epoch 16:  80/ 100 train_loss = 0.271925 , time = 0.68\n",
      "epoch 16:  90/ 100 train_loss = 0.212961 , time = 0.66\n",
      "epoch 17:  0/ 100 train_loss = 0.254341 , time = 0.98\n",
      "epoch 17:  10/ 100 train_loss = 0.239007 , time = 0.66\n",
      "epoch 17:  20/ 100 train_loss = 0.304177 , time = 0.67\n",
      "epoch 17:  30/ 100 train_loss = 0.281450 , time = 0.67\n",
      "epoch 17:  40/ 100 train_loss = 0.240977 , time = 0.68\n",
      "epoch 17:  50/ 100 train_loss = 0.220574 , time = 0.68\n",
      "epoch 17:  60/ 100 train_loss = 0.317952 , time = 0.67\n",
      "epoch 17:  70/ 100 train_loss = 0.286856 , time = 0.71\n",
      "epoch 17:  80/ 100 train_loss = 0.286064 , time = 0.69\n",
      "epoch 17:  90/ 100 train_loss = 0.253769 , time = 0.66\n",
      "epoch 18:  0/ 100 train_loss = 0.264820 , time = 0.96\n",
      "epoch 18:  10/ 100 train_loss = 0.389108 , time = 0.66\n",
      "epoch 18:  20/ 100 train_loss = 0.254157 , time = 0.70\n",
      "epoch 18:  30/ 100 train_loss = 0.234182 , time = 0.70\n",
      "epoch 18:  40/ 100 train_loss = 0.297978 , time = 0.69\n",
      "epoch 18:  50/ 100 train_loss = 0.190268 , time = 0.68\n",
      "epoch 18:  60/ 100 train_loss = 0.213303 , time = 0.69\n",
      "epoch 18:  70/ 100 train_loss = 0.272226 , time = 0.67\n",
      "epoch 18:  80/ 100 train_loss = 0.279274 , time = 0.68\n",
      "epoch 18:  90/ 100 train_loss = 0.291521 , time = 0.67\n",
      "epoch 19:  0/ 100 train_loss = 0.240921 , time = 0.97\n",
      "epoch 19:  10/ 100 train_loss = 0.299586 , time = 0.69\n",
      "epoch 19:  20/ 100 train_loss = 0.270104 , time = 0.68\n",
      "epoch 19:  30/ 100 train_loss = 0.234376 , time = 0.68\n",
      "epoch 19:  40/ 100 train_loss = 0.206584 , time = 0.65\n",
      "epoch 19:  50/ 100 train_loss = 0.178345 , time = 0.69\n",
      "epoch 19:  60/ 100 train_loss = 0.275522 , time = 0.69\n",
      "epoch 19:  70/ 100 train_loss = 0.183077 , time = 0.68\n",
      "epoch 19:  80/ 100 train_loss = 0.284422 , time = 0.71\n",
      "epoch 19:  90/ 100 train_loss = 0.204711 , time = 0.69\n",
      "epoch 20:  0/ 100 train_loss = 0.259875 , time = 0.97\n",
      "epoch 20:  10/ 100 train_loss = 0.216145 , time = 0.68\n",
      "epoch 20:  20/ 100 train_loss = 0.251808 , time = 0.68\n",
      "epoch 20:  30/ 100 train_loss = 0.272317 , time = 0.70\n",
      "epoch 20:  40/ 100 train_loss = 0.222476 , time = 0.66\n",
      "epoch 20:  50/ 100 train_loss = 0.225336 , time = 0.66\n",
      "epoch 20:  60/ 100 train_loss = 0.223410 , time = 0.68\n",
      "epoch 20:  70/ 100 train_loss = 0.240093 , time = 0.69\n",
      "epoch 20:  80/ 100 train_loss = 0.211187 , time = 0.65\n",
      "epoch 20:  90/ 100 train_loss = 0.224636 , time = 0.68\n",
      "epoch 21:  0/ 100 train_loss = 0.226488 , time = 0.97\n",
      "epoch 21:  10/ 100 train_loss = 0.320217 , time = 0.68\n",
      "epoch 21:  20/ 100 train_loss = 0.241843 , time = 0.71\n",
      "epoch 21:  30/ 100 train_loss = 0.280245 , time = 0.67\n",
      "epoch 21:  40/ 100 train_loss = 0.305394 , time = 0.69\n",
      "epoch 21:  50/ 100 train_loss = 0.236168 , time = 0.67\n",
      "epoch 21:  60/ 100 train_loss = 0.246422 , time = 0.68\n",
      "epoch 21:  70/ 100 train_loss = 0.226819 , time = 0.69\n",
      "epoch 21:  80/ 100 train_loss = 0.216614 , time = 0.66\n",
      "epoch 21:  90/ 100 train_loss = 0.208958 , time = 0.69\n",
      "epoch 22:  0/ 100 train_loss = 0.245203 , time = 0.96\n",
      "epoch 22:  10/ 100 train_loss = 0.243950 , time = 0.68\n",
      "epoch 22:  20/ 100 train_loss = 0.206784 , time = 0.69\n",
      "epoch 22:  30/ 100 train_loss = 0.204676 , time = 0.66\n",
      "epoch 22:  40/ 100 train_loss = 0.222304 , time = 0.68\n",
      "epoch 22:  50/ 100 train_loss = 0.216988 , time = 0.68\n",
      "epoch 22:  60/ 100 train_loss = 0.248253 , time = 0.68\n",
      "epoch 22:  70/ 100 train_loss = 0.186031 , time = 0.68\n",
      "epoch 22:  80/ 100 train_loss = 0.222951 , time = 0.68\n",
      "epoch 22:  90/ 100 train_loss = 0.238491 , time = 0.68\n",
      "epoch 23:  0/ 100 train_loss = 0.223914 , time = 1.29\n",
      "epoch 23:  10/ 100 train_loss = 0.262300 , time = 0.88\n",
      "epoch 23:  20/ 100 train_loss = 0.220729 , time = 0.99\n"
     ]
    },
    {
     "ename": "KeyboardInterrupt",
     "evalue": "",
     "output_type": "error",
     "traceback": [
      "\u001b[0;31m---------------------------------------------------------------------------\u001b[0m",
      "\u001b[0;31mKeyboardInterrupt\u001b[0m                         Traceback (most recent call last)",
      "\u001b[0;32m<ipython-input-10-b7ca8d89d5e8>\u001b[0m in \u001b[0;36m<module>\u001b[0;34m\u001b[0m\n\u001b[1;32m     31\u001b[0m     \u001b[0;32mfor\u001b[0m \u001b[0mbatch_idx\u001b[0m\u001b[0;34m,\u001b[0m \u001b[0;34m(\u001b[0m\u001b[0mimg_stack\u001b[0m\u001b[0;34m,\u001b[0m \u001b[0mgt_disp\u001b[0m\u001b[0;34m,\u001b[0m\u001b[0mcoc_stack\u001b[0m\u001b[0;34m,\u001b[0m\u001b[0mfoc_dist\u001b[0m\u001b[0;34m)\u001b[0m \u001b[0;32min\u001b[0m \u001b[0menumerate\u001b[0m\u001b[0;34m(\u001b[0m\u001b[0mTrainImgLoader\u001b[0m\u001b[0;34m)\u001b[0m\u001b[0;34m:\u001b[0m\u001b[0;34m\u001b[0m\u001b[0;34m\u001b[0m\u001b[0m\n\u001b[1;32m     32\u001b[0m         \u001b[0mstart_time\u001b[0m \u001b[0;34m=\u001b[0m \u001b[0mtime\u001b[0m\u001b[0;34m.\u001b[0m\u001b[0mtime\u001b[0m\u001b[0;34m(\u001b[0m\u001b[0;34m)\u001b[0m\u001b[0;34m\u001b[0m\u001b[0;34m\u001b[0m\u001b[0m\n\u001b[0;32m---> 33\u001b[0;31m         \u001b[0mloss\u001b[0m\u001b[0;34m,\u001b[0m\u001b[0mvis\u001b[0m\u001b[0;34m=\u001b[0m\u001b[0mtrain\u001b[0m\u001b[0;34m(\u001b[0m\u001b[0mimg_stack\u001b[0m\u001b[0;34m,\u001b[0m\u001b[0mgt_disp\u001b[0m\u001b[0;34m,\u001b[0m\u001b[0mcoc_stack\u001b[0m\u001b[0;34m,\u001b[0m\u001b[0mfoc_dist\u001b[0m\u001b[0;34m)\u001b[0m\u001b[0;34m\u001b[0m\u001b[0;34m\u001b[0m\u001b[0m\n\u001b[0m\u001b[1;32m     34\u001b[0m         \u001b[0mlosses\u001b[0m\u001b[0;34m.\u001b[0m\u001b[0mappend\u001b[0m\u001b[0;34m(\u001b[0m\u001b[0mloss\u001b[0m\u001b[0;34m.\u001b[0m\u001b[0mdetach\u001b[0m\u001b[0;34m(\u001b[0m\u001b[0;34m)\u001b[0m\u001b[0;34m.\u001b[0m\u001b[0mcpu\u001b[0m\u001b[0;34m(\u001b[0m\u001b[0;34m)\u001b[0m\u001b[0;34m.\u001b[0m\u001b[0mitem\u001b[0m\u001b[0;34m(\u001b[0m\u001b[0;34m)\u001b[0m\u001b[0;34m)\u001b[0m\u001b[0;34m\u001b[0m\u001b[0;34m\u001b[0m\u001b[0m\n\u001b[1;32m     35\u001b[0m \u001b[0;34m\u001b[0m\u001b[0m\n",
      "\u001b[0;32m<ipython-input-5-2f45b43c56cd>\u001b[0m in \u001b[0;36mtrain\u001b[0;34m(img_stack_in, disp, coc_stack, foc_dist)\u001b[0m\n\u001b[1;32m     59\u001b[0m     \u001b[0mloss\u001b[0m\u001b[0;34m.\u001b[0m\u001b[0mbackward\u001b[0m\u001b[0;34m(\u001b[0m\u001b[0;34m)\u001b[0m\u001b[0;34m\u001b[0m\u001b[0;34m\u001b[0m\u001b[0m\n\u001b[1;32m     60\u001b[0m     \u001b[0mtorch\u001b[0m\u001b[0;34m.\u001b[0m\u001b[0mnn\u001b[0m\u001b[0;34m.\u001b[0m\u001b[0mutils\u001b[0m\u001b[0;34m.\u001b[0m\u001b[0mclip_grad_norm_\u001b[0m\u001b[0;34m(\u001b[0m\u001b[0mmodel\u001b[0m\u001b[0;34m.\u001b[0m\u001b[0mparameters\u001b[0m\u001b[0;34m(\u001b[0m\u001b[0;34m)\u001b[0m\u001b[0;34m,\u001b[0m \u001b[0;36m0.5\u001b[0m\u001b[0;34m)\u001b[0m\u001b[0;34m\u001b[0m\u001b[0;34m\u001b[0m\u001b[0m\n\u001b[0;32m---> 61\u001b[0;31m     \u001b[0moptimizer\u001b[0m\u001b[0;34m.\u001b[0m\u001b[0mstep\u001b[0m\u001b[0;34m(\u001b[0m\u001b[0;34m)\u001b[0m\u001b[0;34m\u001b[0m\u001b[0;34m\u001b[0m\u001b[0m\n\u001b[0m\u001b[1;32m     62\u001b[0m     \u001b[0mvis\u001b[0m \u001b[0;34m=\u001b[0m \u001b[0;34m{\u001b[0m\u001b[0;34m}\u001b[0m\u001b[0;34m\u001b[0m\u001b[0;34m\u001b[0m\u001b[0m\n\u001b[1;32m     63\u001b[0m     \u001b[0mvis\u001b[0m\u001b[0;34m[\u001b[0m\u001b[0;34m'pred'\u001b[0m\u001b[0;34m]\u001b[0m \u001b[0;34m=\u001b[0m \u001b[0mstacked\u001b[0m\u001b[0;34m[\u001b[0m\u001b[0;36m0\u001b[0m\u001b[0;34m]\u001b[0m\u001b[0;34m.\u001b[0m\u001b[0mdetach\u001b[0m\u001b[0;34m(\u001b[0m\u001b[0;34m)\u001b[0m\u001b[0;34m.\u001b[0m\u001b[0mcpu\u001b[0m\u001b[0;34m(\u001b[0m\u001b[0;34m)\u001b[0m\u001b[0;34m\u001b[0m\u001b[0;34m\u001b[0m\u001b[0m\n",
      "\u001b[0;32m/opt/conda/lib/python3.7/site-packages/torch/autograd/grad_mode.py\u001b[0m in \u001b[0;36mdecorate_context\u001b[0;34m(*args, **kwargs)\u001b[0m\n\u001b[1;32m     13\u001b[0m         \u001b[0;32mdef\u001b[0m \u001b[0mdecorate_context\u001b[0m\u001b[0;34m(\u001b[0m\u001b[0;34m*\u001b[0m\u001b[0margs\u001b[0m\u001b[0;34m,\u001b[0m \u001b[0;34m**\u001b[0m\u001b[0mkwargs\u001b[0m\u001b[0;34m)\u001b[0m\u001b[0;34m:\u001b[0m\u001b[0;34m\u001b[0m\u001b[0;34m\u001b[0m\u001b[0m\n\u001b[1;32m     14\u001b[0m             \u001b[0;32mwith\u001b[0m \u001b[0mself\u001b[0m\u001b[0;34m:\u001b[0m\u001b[0;34m\u001b[0m\u001b[0;34m\u001b[0m\u001b[0m\n\u001b[0;32m---> 15\u001b[0;31m                 \u001b[0;32mreturn\u001b[0m \u001b[0mfunc\u001b[0m\u001b[0;34m(\u001b[0m\u001b[0;34m*\u001b[0m\u001b[0margs\u001b[0m\u001b[0;34m,\u001b[0m \u001b[0;34m**\u001b[0m\u001b[0mkwargs\u001b[0m\u001b[0;34m)\u001b[0m\u001b[0;34m\u001b[0m\u001b[0;34m\u001b[0m\u001b[0m\n\u001b[0m\u001b[1;32m     16\u001b[0m         \u001b[0;32mreturn\u001b[0m \u001b[0mdecorate_context\u001b[0m\u001b[0;34m\u001b[0m\u001b[0;34m\u001b[0m\u001b[0m\n\u001b[1;32m     17\u001b[0m \u001b[0;34m\u001b[0m\u001b[0m\n",
      "\u001b[0;32m/opt/conda/lib/python3.7/site-packages/torch/optim/adam.py\u001b[0m in \u001b[0;36mstep\u001b[0;34m(self, closure)\u001b[0m\n\u001b[1;32m     97\u001b[0m \u001b[0;34m\u001b[0m\u001b[0m\n\u001b[1;32m     98\u001b[0m                 \u001b[0;31m# Decay the first and second moment running average coefficient\u001b[0m\u001b[0;34m\u001b[0m\u001b[0;34m\u001b[0m\u001b[0;34m\u001b[0m\u001b[0m\n\u001b[0;32m---> 99\u001b[0;31m                 \u001b[0mexp_avg\u001b[0m\u001b[0;34m.\u001b[0m\u001b[0mmul_\u001b[0m\u001b[0;34m(\u001b[0m\u001b[0mbeta1\u001b[0m\u001b[0;34m)\u001b[0m\u001b[0;34m.\u001b[0m\u001b[0madd_\u001b[0m\u001b[0;34m(\u001b[0m\u001b[0mgrad\u001b[0m\u001b[0;34m,\u001b[0m \u001b[0malpha\u001b[0m\u001b[0;34m=\u001b[0m\u001b[0;36m1\u001b[0m \u001b[0;34m-\u001b[0m \u001b[0mbeta1\u001b[0m\u001b[0;34m)\u001b[0m\u001b[0;34m\u001b[0m\u001b[0;34m\u001b[0m\u001b[0m\n\u001b[0m\u001b[1;32m    100\u001b[0m                 \u001b[0mexp_avg_sq\u001b[0m\u001b[0;34m.\u001b[0m\u001b[0mmul_\u001b[0m\u001b[0;34m(\u001b[0m\u001b[0mbeta2\u001b[0m\u001b[0;34m)\u001b[0m\u001b[0;34m.\u001b[0m\u001b[0maddcmul_\u001b[0m\u001b[0;34m(\u001b[0m\u001b[0mgrad\u001b[0m\u001b[0;34m,\u001b[0m \u001b[0mgrad\u001b[0m\u001b[0;34m,\u001b[0m \u001b[0mvalue\u001b[0m\u001b[0;34m=\u001b[0m\u001b[0;36m1\u001b[0m \u001b[0;34m-\u001b[0m \u001b[0mbeta2\u001b[0m\u001b[0;34m)\u001b[0m\u001b[0;34m\u001b[0m\u001b[0;34m\u001b[0m\u001b[0m\n\u001b[1;32m    101\u001b[0m                 \u001b[0;32mif\u001b[0m \u001b[0mamsgrad\u001b[0m\u001b[0;34m:\u001b[0m\u001b[0;34m\u001b[0m\u001b[0;34m\u001b[0m\u001b[0m\n",
      "\u001b[0;31mKeyboardInterrupt\u001b[0m: "
     ]
    }
   ],
   "source": [
    "from dataloader import FoD500Loader\n",
    "\n",
    "model = DFFNet(clean=False,level=4, use_diff=True)\n",
    "model = nn.DataParallel(model)\n",
    "model.cuda()\n",
    "\n",
    "optimizer = optim.Adam(model.parameters(), lr=0.0001, betas=(0.9, 0.999))\n",
    "\n",
    "database = '/scratch/lnw8px/depth-from-Focus-Defocus/defocus-net/data/fs_6/'\n",
    "FoD500_train, FoD500_val = FoD500Loader(database, n_stack=5, scale=1)\n",
    "FoD500_train, FoD500_val =  [FoD500_train], [FoD500_val]\n",
    "dataset_train = torch.utils.data.ConcatDataset(FoD500_train)\n",
    "dataset_val = torch.utils.data.ConcatDataset(FoD500_val)\n",
    "TrainImgLoader = torch.utils.data.DataLoader(dataset=dataset_train, num_workers=4, batch_size=4, shuffle=True, drop_last=True)\n",
    "ValImgLoader = torch.utils.data.DataLoader(dataset=dataset_val, num_workers=1, batch_size=5, shuffle=False, drop_last=True)\n",
    "\n",
    "train_log = logger.Logger( os.path.abspath('/scratch/lnw8px/depth-from-Focus-Defocus/DFV/'), name='ppp/train')\n",
    "val_log = logger.Logger( os.path.abspath('/scratch/lnw8px/depth-from-Focus-Defocus/DFV/'), name='ppp/val')\n",
    "\n",
    "global  start_epoch, best_loss, total_iter\n",
    "total_iter = 0\n",
    "total_iters = total_iter\n",
    "for epoch in range(700):\n",
    "    total_train_loss = 0\n",
    "    lr_ = adjust_learning_rate(optimizer,epoch)\n",
    "    train_log.scalar_summary('lr_epoch', lr_, epoch)\n",
    "    lr_ = adjust_learning_rate(optimizer,epoch)\n",
    "    train_log.scalar_summary('lr_epoch', lr_, epoch)\n",
    "    \n",
    "    losses=[]\n",
    "    for batch_idx, (img_stack, gt_disp,coc_stack,foc_dist) in enumerate(TrainImgLoader):\n",
    "        start_time = time.time()\n",
    "        loss,vis=train(img_stack,gt_disp,coc_stack,foc_dist)\n",
    "        losses.append(loss.detach().cpu().item())\n",
    "        \n",
    "        if total_iters %10 == 0:\n",
    "            torch.cuda.synchronize()\n",
    "            print('epoch %d:  %d/ %d train_loss = %.6f , time = %.2f' % (epoch, batch_idx, len(TrainImgLoader), loss, time.time() - start_time))\n",
    "            train_log.scalar_summary('loss_batch',loss, total_iters)\n",
    "        total_train_loss += loss\n",
    "        total_iters += 1       \n",
    "    write_log(vis, img_stack[:, 0], img_stack[:, -1], gt_disp, train_log, epoch, thres=0.05)\n",
    "    train_log.scalar_summary('avg_loss', total_train_loss / len(TrainImgLoader), epoch)"
   ]
  },
  {
   "cell_type": "code",
   "execution_count": null,
   "metadata": {},
   "outputs": [],
   "source": [
    "model = AENet(num_filter=16)\n"
   ]
  },
  {
   "cell_type": "code",
   "execution_count": 3,
   "metadata": {},
   "outputs": [],
   "source": [
    "import torch\n",
    "import torch.nn as nn\n",
    "import torch.utils.data\n",
    "\n",
    "# static architecture\n",
    "class AENet(nn.Module):\n",
    "\n",
    "    def __init__(self,in_dim,out_dim, num_filter, n_blocks=3, flag_step2=False):\n",
    "        super(AENet, self).__init__()\n",
    "        \n",
    "        self.in_dim = in_dim\n",
    "        self.out_dim = out_dim\n",
    "        self.num_filter = num_filter\n",
    "        self.n_blocks = n_blocks\n",
    "        act_fnc = nn.LeakyReLU(0.2, inplace=True)\n",
    "\n",
    "\n",
    "        self.conv_down_0 = self.convsblocks(self.in_dim, self.num_filter * 1, act_fnc)\n",
    "        self.pool_0 = self.poolblock()\n",
    "\n",
    "\n",
    "        for i in range(self.n_blocks):\n",
    "            self.add_module('conv_down_' + str(i + 1), self.convsblocks(self.num_filter*(2**i)*2, self.num_filter*(2**i)*2, act_fnc))\n",
    "            self.add_module('pool_' + str(i + 1), self.poolblock())\n",
    "\n",
    "        self.bridge = self.convblock(self.num_filter*8*2,self.num_filter*16,act_fnc)\n",
    "\n",
    "        for i in range(self.n_blocks+1):\n",
    "            self.add_module('conv_up_' + str(i + 1), self.upconvblock(self.num_filter*(2**(3-i))*2, self.num_filter*(2**(3-i)), act_fnc) )\n",
    "            self.add_module('conv_joint_' + str(i + 1), self.convblock(self.num_filter*(2**(3-i))*2,self.num_filter*(2**(3-i)),act_fnc) )\n",
    "\n",
    "        self.conv_end = self.convblock(self.num_filter * 1, self.num_filter * 1, act_fnc)\n",
    "\n",
    "        self.conv_out = nn.Sequential(\n",
    "            nn.Conv2d(self.num_filter, self.out_dim, kernel_size=3, stride=1, padding=1),\n",
    "        )\n",
    "\n",
    "        if flag_step2:\n",
    "            self.conv_down2_0 = self.convsblocks(2, self.num_filter * 1, act_fnc)\n",
    "            self.pool2_0 = self.poolblock()\n",
    "\n",
    "\n",
    "            for i in range(self.n_blocks):\n",
    "                self.add_module('conv_down2_' + str(i + 1), self.convsblocks(self.num_filter * (2 ** i) * 2, self.num_filter * (2 ** i) * 2, act_fnc))\n",
    "                self.add_module('pool2_' + str(i + 1), self.poolblock())\n",
    "\n",
    "            self.bridge2 = self.convblock(self.num_filter * 8 * 2, self.num_filter * 16, act_fnc)\n",
    "\n",
    "            for i in range(self.n_blocks + 1):\n",
    "                self.add_module('conv_up2_' + str(i + 1),\n",
    "                                self.upconvblock(self.num_filter * (2 ** (3 - i)) * 2, self.num_filter * (2 ** (3 - i)), act_fnc))\n",
    "                self.add_module('conv_joint2_' + str(i + 1),\n",
    "                                self.convblock(self.num_filter * (2 ** (3 - i)) * 3, self.num_filter * (2 ** (3 - i)), act_fnc))\n",
    "\n",
    "            self.conv_end2 = self.convblock(self.num_filter * 1, self.num_filter * 1, act_fnc)\n",
    "\n",
    "            self.conv_out2 = nn.Sequential(\n",
    "                nn.Conv2d(self.num_filter, self.out_dim, kernel_size=3, stride=1, padding=1),\n",
    "            )\n",
    "\n",
    "\n",
    "        \n",
    "    def convsblocks(self, in_ch,out_ch,act_fn):\n",
    "        block = nn.Sequential(\n",
    "            nn.Conv2d(in_ch, out_ch, kernel_size=3, stride=1, padding=1),\n",
    "            act_fn,\n",
    "            nn.Conv2d(out_ch, out_ch, kernel_size=3, stride=1, padding=1),            \n",
    "            act_fn,\n",
    "        )\n",
    "        return block\n",
    "    \n",
    "    def convblock(self, in_ch,out_ch,act_fn):\n",
    "        block = nn.Sequential(\n",
    "            nn.Conv2d(in_ch, out_ch, kernel_size=3, stride=1, padding=1),\n",
    "            act_fn,\n",
    "        )\n",
    "        return block\n",
    "    \n",
    "    def upconvblock(self,in_ch,out_ch,act_fn):\n",
    "        block = nn.Sequential(\n",
    "            nn.Upsample(scale_factor=2, mode='bilinear'),\n",
    "            nn.Conv2d(in_ch, out_ch, kernel_size=3, stride=1, padding=1),\n",
    "            act_fn,\n",
    "        )\n",
    "        return block\n",
    "    \n",
    "    def poolblock(self):\n",
    "        pool = nn.MaxPool2d(kernel_size=2, stride=2, padding=0)\n",
    "        return pool\n",
    "\n",
    "\n",
    "    def forward(self, x, inp=3, k=8, flag_step2=False, x2=0):\n",
    "        down1 = []\n",
    "        pool_temp = []\n",
    "        for j in range(self.n_blocks + 1):\n",
    "            down_temp = []\n",
    "            for i in range(k):\n",
    "                if j > 0:\n",
    "                    joint_pool = torch.cat([pool_temp[0], pool_max[0]], dim=1)\n",
    "                    pool_temp.pop(0)\n",
    "                else:\n",
    "                    joint_pool = x[:, inp * i:inp * (i + 1), :, :]\n",
    "\n",
    "                conv = self.__getattr__('conv_down_' + str(j+0))(joint_pool)\n",
    "                down_temp.append(conv)\n",
    "\n",
    "                pool = self.__getattr__('pool_' + str(j+0))(conv)\n",
    "                pool_temp.append(pool)\n",
    "\n",
    "                pool = torch.unsqueeze(pool, 2)\n",
    "                if i == 0:\n",
    "                    pool_all = pool\n",
    "                else:\n",
    "                    pool_all = torch.cat([pool_all, pool], dim=2)\n",
    "            pool_max = torch.max(pool_all, dim=2)\n",
    "            down1.append(down_temp)\n",
    "\n",
    "        bridge = []\n",
    "        for i in range(k):\n",
    "            join_pool = torch.cat([pool_temp[i], pool_max[0]], dim=1)\n",
    "            bridge.append(self.bridge(join_pool))\n",
    "\n",
    "\n",
    "        up_temp = []\n",
    "        for j in range(self.n_blocks+2):\n",
    "            for i in range(k):\n",
    "                if j > 0:\n",
    "                    joint_unpool = torch.cat([up_temp[0], down1[self.n_blocks-j+1][i]], dim=1)\n",
    "                    up_temp.pop(0)\n",
    "                    joint = self.__getattr__('conv_joint_' + str(j + 0))(joint_unpool)\n",
    "                else:\n",
    "                    joint = bridge[i]\n",
    "\n",
    "                if j < self.n_blocks+1:\n",
    "                    unpool = self.__getattr__('conv_up_' + str(j + 1))(joint)\n",
    "                    up_temp.append(unpool)\n",
    "                    unpool = torch.unsqueeze(unpool, 2)\n",
    "\n",
    "                    if i == 0:\n",
    "                        unpool_all = unpool\n",
    "                    else:\n",
    "                        unpool_all = torch.cat([unpool_all, unpool], dim=2)\n",
    "                else:\n",
    "                    end = self.conv_end(joint)\n",
    "                    out_col = self.conv_out(end)\n",
    "\n",
    "                    if i == 0:\n",
    "                        out = out_col\n",
    "                    else:\n",
    "                        out = torch.cat([out, out_col], dim=1)\n",
    "\n",
    "        if flag_step2:\n",
    "            down2 = []\n",
    "            pool_temp = []\n",
    "            for j in range(self.n_blocks + 1):\n",
    "                down_temp = []\n",
    "                for i in range(k):\n",
    "                    if j > 0:\n",
    "                        joint_pool = torch.cat([pool_temp[0], pool_max[0]], dim=1)\n",
    "                        pool_temp.pop(0)\n",
    "                    else:\n",
    "                        joint_pool = torch.cat([out[:, 1 * i:1 * (i + 1), :, :],x2[:, 1 * i:1 * (i + 1), :, :]], dim=1)\n",
    "\n",
    "                    conv = self.__getattr__('conv_down2_' + str(j + 0))(joint_pool)\n",
    "                    down_temp.append(conv)\n",
    "\n",
    "                    pool = self.__getattr__('pool2_' + str(j + 0))(conv)\n",
    "                    pool_temp.append(pool)\n",
    "\n",
    "                    pool = torch.unsqueeze(pool, 2)\n",
    "                    if i == 0:\n",
    "                        pool_all = pool\n",
    "                    else:\n",
    "                        pool_all = torch.cat([pool_all, pool], dim=2)\n",
    "                pool_max = torch.max(pool_all, dim=2)\n",
    "                down2.append(down_temp)\n",
    "\n",
    "            bridge = []\n",
    "            for i in range(k):\n",
    "                join_pool = torch.cat([pool_temp[i], pool_max[0]], dim=1)\n",
    "                bridge.append(self.bridge2(join_pool))\n",
    "\n",
    "\n",
    "            up_temp = []\n",
    "            for j in range(self.n_blocks + 1):\n",
    "                for i in range(k):\n",
    "                    if j > 0:\n",
    "                        joint_unpool = torch.cat([up_temp[0], unpool_max[0], down1[self.n_blocks - j + 1][i]], dim=1)\n",
    "                        up_temp.pop(0)\n",
    "                        joint = self.__getattr__('conv_joint2_' + str(j + 0))(joint_unpool)\n",
    "                    else:\n",
    "                        joint = bridge[i]\n",
    "\n",
    "                    if j < self.n_blocks + 1:\n",
    "                        unpool = self.__getattr__('conv_up2_' + str(j + 1))(joint)\n",
    "                        up_temp.append(unpool)\n",
    "                        unpool = torch.unsqueeze(unpool, 2)\n",
    "\n",
    "                        if i == 0:\n",
    "                            unpool_all = unpool\n",
    "                        else:\n",
    "                            unpool_all = torch.cat([unpool_all, unpool], dim=2)\n",
    "                unpool_max = torch.max(unpool_all, dim=2)\n",
    "\n",
    "            end2 = self.conv_end2(unpool_max[0])\n",
    "            out_step2 = self.conv_out2(end2)\n",
    "\n",
    "        if flag_step2:\n",
    "            return out_step2, out\n",
    "        else:\n",
    "            return out"
   ]
  },
  {
   "cell_type": "code",
   "execution_count": 90,
   "metadata": {},
   "outputs": [],
   "source": [
    "write_log(vis, img_stack[:, 0], img_stack[:, -1], gt_disp, train_log, epoch, thres=0.05)"
   ]
  },
  {
   "cell_type": "code",
   "execution_count": 19,
   "metadata": {},
   "outputs": [
    {
     "data": {
      "text/plain": [
       "(torch.Size([4, 1, 224, 224]), torch.Size([4, 1, 224, 224]))"
      ]
     },
     "execution_count": 19,
     "metadata": {},
     "output_type": "execute_result"
    }
   ],
   "source": [
    "vis['pred'].shape,vis['mask'].shape"
   ]
  },
  {
   "cell_type": "code",
   "execution_count": 12,
   "metadata": {},
   "outputs": [
    {
     "name": "stdout",
     "output_type": "stream",
     "text": [
      "[val] epoch 23 : 0/20 val_loss = 0.291926 , time = 0.32\n",
      "[val] epoch 23 : 10/20 val_loss = 0.350582 , time = 0.23\n"
     ]
    }
   ],
   "source": [
    " # Vaild\n",
    "total_val_loss = 0\n",
    "for batch_idx, (img_stack, gt_disp,coc_stack,foc_dist) in enumerate(ValImgLoader):\n",
    "    with torch.no_grad():\n",
    "        start_time = time.time()\n",
    "        val_loss, viz = valid(img_stack, gt_disp, foc_dist,coc_stack)\n",
    "\n",
    "    if batch_idx %10 == 0:\n",
    "        torch.cuda.synchronize()\n",
    "        print('[val] epoch %d : %d/%d val_loss = %.6f , time = %.2f' % (epoch, batch_idx, len(ValImgLoader), val_loss, time.time() - start_time))\n",
    "    total_val_loss += val_loss"
   ]
  },
  {
   "cell_type": "code",
   "execution_count": 27,
   "metadata": {},
   "outputs": [
    {
     "data": {
      "text/plain": [
       "(torch.Size([5, 1, 256, 256]), torch.Size([5, 1, 256, 256]))"
      ]
     },
     "execution_count": 27,
     "metadata": {},
     "output_type": "execute_result"
    }
   ],
   "source": [
    "viz['pred'].shape,viz['mask'].shape"
   ]
  },
  {
   "cell_type": "code",
   "execution_count": 92,
   "metadata": {},
   "outputs": [],
   "source": [
    "write_log(viz, img_stack[:, 0], img_stack[:, -1], gt_disp, val_log, epoch, thres=0.05)"
   ]
  },
  {
   "cell_type": "code",
   "execution_count": 39,
   "metadata": {},
   "outputs": [
    {
     "name": "stdout",
     "output_type": "stream",
     "text": [
      "tensor(0.1385, device='cuda:0')\n",
      "epoch 0:  0/ 100 train_loss = 0.138465 , time = 0.74\n",
      "tensor(0.1428, device='cuda:0')\n",
      "tensor(0.1215, device='cuda:0')\n",
      "tensor(0.1267, device='cuda:0')\n",
      "tensor(0.1248, device='cuda:0')\n",
      "tensor(0.1182, device='cuda:0')\n",
      "tensor(0.1025, device='cuda:0')\n",
      "tensor(0.1074, device='cuda:0')\n",
      "tensor(0.0826, device='cuda:0')\n",
      "tensor(0.0877, device='cuda:0')\n",
      "tensor(0.0911, device='cuda:0')\n",
      "epoch 0:  10/ 100 train_loss = 0.091060 , time = 0.61\n",
      "tensor(0.0978, device='cuda:0')\n",
      "tensor(0.0901, device='cuda:0')\n",
      "tensor(0.0932, device='cuda:0')\n",
      "tensor(0.0828, device='cuda:0')\n",
      "tensor(0.0959, device='cuda:0')\n"
     ]
    },
    {
     "ename": "KeyboardInterrupt",
     "evalue": "",
     "output_type": "error",
     "traceback": [
      "\u001b[0;31m---------------------------------------------------------------------------\u001b[0m",
      "\u001b[0;31mKeyboardInterrupt\u001b[0m                         Traceback (most recent call last)",
      "\u001b[0;32m<ipython-input-39-0f22de89af3e>\u001b[0m in \u001b[0;36m<module>\u001b[0;34m\u001b[0m\n\u001b[1;32m     33\u001b[0m     \u001b[0;32mfor\u001b[0m \u001b[0mbatch_idx\u001b[0m\u001b[0;34m,\u001b[0m \u001b[0;34m(\u001b[0m\u001b[0mimg_stack\u001b[0m\u001b[0;34m,\u001b[0m \u001b[0mgt_disp\u001b[0m\u001b[0;34m,\u001b[0m\u001b[0mfoc_dist\u001b[0m\u001b[0;34m)\u001b[0m \u001b[0;32min\u001b[0m \u001b[0menumerate\u001b[0m\u001b[0;34m(\u001b[0m\u001b[0mTrainImgLoader\u001b[0m\u001b[0;34m)\u001b[0m\u001b[0;34m:\u001b[0m\u001b[0;34m\u001b[0m\u001b[0;34m\u001b[0m\u001b[0m\n\u001b[1;32m     34\u001b[0m         \u001b[0mstart_time\u001b[0m \u001b[0;34m=\u001b[0m \u001b[0mtime\u001b[0m\u001b[0;34m.\u001b[0m\u001b[0mtime\u001b[0m\u001b[0;34m(\u001b[0m\u001b[0;34m)\u001b[0m\u001b[0;34m\u001b[0m\u001b[0;34m\u001b[0m\u001b[0m\n\u001b[0;32m---> 35\u001b[0;31m         \u001b[0mloss\u001b[0m\u001b[0;34m,\u001b[0m\u001b[0mvis\u001b[0m\u001b[0;34m=\u001b[0m\u001b[0mtrain\u001b[0m\u001b[0;34m(\u001b[0m\u001b[0mimg_stack\u001b[0m\u001b[0;34m,\u001b[0m\u001b[0mgt_disp\u001b[0m\u001b[0;34m,\u001b[0m\u001b[0mfoc_dist\u001b[0m\u001b[0;34m)\u001b[0m\u001b[0;34m\u001b[0m\u001b[0;34m\u001b[0m\u001b[0m\n\u001b[0m\u001b[1;32m     36\u001b[0m         \u001b[0mprint\u001b[0m\u001b[0;34m(\u001b[0m\u001b[0mloss\u001b[0m\u001b[0;34m)\u001b[0m\u001b[0;34m\u001b[0m\u001b[0;34m\u001b[0m\u001b[0m\n\u001b[1;32m     37\u001b[0m         \u001b[0mlosses\u001b[0m\u001b[0;34m.\u001b[0m\u001b[0mappend\u001b[0m\u001b[0;34m(\u001b[0m\u001b[0mloss\u001b[0m\u001b[0;34m.\u001b[0m\u001b[0mdetach\u001b[0m\u001b[0;34m(\u001b[0m\u001b[0;34m)\u001b[0m\u001b[0;34m.\u001b[0m\u001b[0mcpu\u001b[0m\u001b[0;34m(\u001b[0m\u001b[0;34m)\u001b[0m\u001b[0;34m.\u001b[0m\u001b[0mitem\u001b[0m\u001b[0;34m(\u001b[0m\u001b[0;34m)\u001b[0m\u001b[0;34m)\u001b[0m\u001b[0;34m\u001b[0m\u001b[0;34m\u001b[0m\u001b[0m\n",
      "\u001b[0;32m<ipython-input-38-30c6140651c0>\u001b[0m in \u001b[0;36mtrain\u001b[0;34m(img_stack_in, disp, foc_dist)\u001b[0m\n\u001b[1;32m     24\u001b[0m \u001b[0;34m\u001b[0m\u001b[0m\n\u001b[1;32m     25\u001b[0m     \u001b[0mloss\u001b[0m\u001b[0;34m.\u001b[0m\u001b[0mbackward\u001b[0m\u001b[0;34m(\u001b[0m\u001b[0;34m)\u001b[0m\u001b[0;34m\u001b[0m\u001b[0;34m\u001b[0m\u001b[0m\n\u001b[0;32m---> 26\u001b[0;31m     \u001b[0mtorch\u001b[0m\u001b[0;34m.\u001b[0m\u001b[0mnn\u001b[0m\u001b[0;34m.\u001b[0m\u001b[0mutils\u001b[0m\u001b[0;34m.\u001b[0m\u001b[0mclip_grad_norm_\u001b[0m\u001b[0;34m(\u001b[0m\u001b[0mmodel\u001b[0m\u001b[0;34m.\u001b[0m\u001b[0mparameters\u001b[0m\u001b[0;34m(\u001b[0m\u001b[0;34m)\u001b[0m\u001b[0;34m,\u001b[0m \u001b[0;36m0.5\u001b[0m\u001b[0;34m)\u001b[0m\u001b[0;34m\u001b[0m\u001b[0;34m\u001b[0m\u001b[0m\n\u001b[0m\u001b[1;32m     27\u001b[0m     \u001b[0moptimizer\u001b[0m\u001b[0;34m.\u001b[0m\u001b[0mstep\u001b[0m\u001b[0;34m(\u001b[0m\u001b[0;34m)\u001b[0m\u001b[0;34m\u001b[0m\u001b[0;34m\u001b[0m\u001b[0m\n\u001b[1;32m     28\u001b[0m     \u001b[0mvis\u001b[0m \u001b[0;34m=\u001b[0m \u001b[0;34m{\u001b[0m\u001b[0;34m}\u001b[0m\u001b[0;34m\u001b[0m\u001b[0;34m\u001b[0m\u001b[0m\n",
      "\u001b[0;32m/opt/conda/lib/python3.7/site-packages/torch/nn/utils/clip_grad.py\u001b[0m in \u001b[0;36mclip_grad_norm_\u001b[0;34m(parameters, max_norm, norm_type)\u001b[0m\n\u001b[1;32m     30\u001b[0m         \u001b[0mtotal_norm\u001b[0m \u001b[0;34m=\u001b[0m \u001b[0mtorch\u001b[0m\u001b[0;34m.\u001b[0m\u001b[0mnorm\u001b[0m\u001b[0;34m(\u001b[0m\u001b[0mtorch\u001b[0m\u001b[0;34m.\u001b[0m\u001b[0mstack\u001b[0m\u001b[0;34m(\u001b[0m\u001b[0;34m[\u001b[0m\u001b[0mtorch\u001b[0m\u001b[0;34m.\u001b[0m\u001b[0mnorm\u001b[0m\u001b[0;34m(\u001b[0m\u001b[0mp\u001b[0m\u001b[0;34m.\u001b[0m\u001b[0mgrad\u001b[0m\u001b[0;34m.\u001b[0m\u001b[0mdetach\u001b[0m\u001b[0;34m(\u001b[0m\u001b[0;34m)\u001b[0m\u001b[0;34m,\u001b[0m \u001b[0mnorm_type\u001b[0m\u001b[0;34m)\u001b[0m \u001b[0;32mfor\u001b[0m \u001b[0mp\u001b[0m \u001b[0;32min\u001b[0m \u001b[0mparameters\u001b[0m\u001b[0;34m]\u001b[0m\u001b[0;34m)\u001b[0m\u001b[0;34m,\u001b[0m \u001b[0mnorm_type\u001b[0m\u001b[0;34m)\u001b[0m\u001b[0;34m\u001b[0m\u001b[0;34m\u001b[0m\u001b[0m\n\u001b[1;32m     31\u001b[0m     \u001b[0mclip_coef\u001b[0m \u001b[0;34m=\u001b[0m \u001b[0mmax_norm\u001b[0m \u001b[0;34m/\u001b[0m \u001b[0;34m(\u001b[0m\u001b[0mtotal_norm\u001b[0m \u001b[0;34m+\u001b[0m \u001b[0;36m1e-6\u001b[0m\u001b[0;34m)\u001b[0m\u001b[0;34m\u001b[0m\u001b[0;34m\u001b[0m\u001b[0m\n\u001b[0;32m---> 32\u001b[0;31m     \u001b[0;32mif\u001b[0m \u001b[0mclip_coef\u001b[0m \u001b[0;34m<\u001b[0m \u001b[0;36m1\u001b[0m\u001b[0;34m:\u001b[0m\u001b[0;34m\u001b[0m\u001b[0;34m\u001b[0m\u001b[0m\n\u001b[0m\u001b[1;32m     33\u001b[0m         \u001b[0;32mfor\u001b[0m \u001b[0mp\u001b[0m \u001b[0;32min\u001b[0m \u001b[0mparameters\u001b[0m\u001b[0;34m:\u001b[0m\u001b[0;34m\u001b[0m\u001b[0;34m\u001b[0m\u001b[0m\n\u001b[1;32m     34\u001b[0m             \u001b[0mp\u001b[0m\u001b[0;34m.\u001b[0m\u001b[0mgrad\u001b[0m\u001b[0;34m.\u001b[0m\u001b[0mdetach\u001b[0m\u001b[0;34m(\u001b[0m\u001b[0;34m)\u001b[0m\u001b[0;34m.\u001b[0m\u001b[0mmul_\u001b[0m\u001b[0;34m(\u001b[0m\u001b[0mclip_coef\u001b[0m\u001b[0;34m)\u001b[0m\u001b[0;34m\u001b[0m\u001b[0;34m\u001b[0m\u001b[0m\n",
      "\u001b[0;31mKeyboardInterrupt\u001b[0m: "
     ]
    }
   ],
   "source": [
    "from dataloader import FoD500Loader\n",
    "from models import DFFNet\n",
    "\n",
    "model = DFFNet(clean=False,level=4, use_diff=True)\n",
    "model = nn.DataParallel(model)\n",
    "model.cuda()\n",
    "\n",
    "optimizer = optim.Adam(model.parameters(), lr=0.0001, betas=(0.9, 0.999))\n",
    "\n",
    "database = '/scratch/lnw8px/depth-from-Focus-Defocus/defocus-net/data/fs_6/'\n",
    "FoD500_train, FoD500_val = FoD500Loader(database, n_stack=5, scale=1)\n",
    "FoD500_train, FoD500_val =  [FoD500_train], [FoD500_val]\n",
    "dataset_train = torch.utils.data.ConcatDataset(FoD500_train)\n",
    "dataset_val = torch.utils.data.ConcatDataset(FoD500_val)\n",
    "TrainImgLoader = torch.utils.data.DataLoader(dataset=dataset_train, num_workers=4, batch_size=4, shuffle=True, drop_last=True)\n",
    "ValImgLoader = torch.utils.data.DataLoader(dataset=dataset_val, num_workers=1, batch_size=5, shuffle=False, drop_last=True)\n",
    "\n",
    "train_log = logger.Logger( os.path.abspath('/scratch/lnw8px/depth-from-Focus-Defocus/DFV/'), name='ppp/train')\n",
    "val_log = logger.Logger( os.path.abspath('/scratch/lnw8px/depth-from-Focus-Defocus/DFV/'), name='ppp/val')\n",
    "\n",
    "global  start_epoch, best_loss, total_iter\n",
    "total_iter = 0\n",
    "total_iters = total_iter\n",
    "\n",
    "for epoch in range(700):\n",
    "    total_train_loss = 0\n",
    "    lr_ = adjust_learning_rate(optimizer,epoch)\n",
    "    train_log.scalar_summary('lr_epoch', lr_, epoch)\n",
    "    lr_ = adjust_learning_rate(optimizer,epoch)\n",
    "    train_log.scalar_summary('lr_epoch', lr_, epoch)\n",
    "    \n",
    "    losses=[]\n",
    "    for batch_idx, (img_stack, gt_disp,foc_dist) in enumerate(TrainImgLoader):\n",
    "        start_time = time.time()\n",
    "        loss,vis=train(img_stack,gt_disp,foc_dist)\n",
    "        losses.append(loss.detach().cpu().item())\n",
    "        if total_iters %10 == 0:\n",
    "            torch.cuda.synchronize()\n",
    "            print('epoch %d:  %d/ %d train_loss = %.6f , time = %.2f' % (epoch, batch_idx, len(TrainImgLoader), loss, time.time() - start_time))\n",
    "            train_log.scalar_summary('loss_batch',loss, total_iters)\n",
    "        total_train_loss += loss\n",
    "        total_iters += 1       \n",
    "    write_log(vis, img_stack[:, 0], img_stack[:, -1], gt_disp, train_log, epoch, thres=0.05)"
   ]
  },
  {
   "cell_type": "code",
   "execution_count": 40,
   "metadata": {},
   "outputs": [],
   "source": [
    "write_log(vis, img_stack[:, 0], img_stack[:, -1], gt_disp, train_log, epoch, thres=0.05)"
   ]
  },
  {
   "cell_type": "code",
   "execution_count": 48,
   "metadata": {},
   "outputs": [
    {
     "data": {
      "text/plain": [
       "(dict_keys(['pred', 'mask']),\n",
       " torch.Size([4, 1, 224, 224]),\n",
       " torch.Size([4, 1, 224, 224]))"
      ]
     },
     "execution_count": 48,
     "metadata": {},
     "output_type": "execute_result"
    }
   ],
   "source": [
    "vis.keys(),vis['pred'].shape,vis['mask'].shape"
   ]
  },
  {
   "cell_type": "code",
   "execution_count": 55,
   "metadata": {},
   "outputs": [
    {
     "data": {
      "text/plain": [
       "(dict_keys(['pred', 'mask']),\n",
       " torch.Size([4, 5, 224, 224]),\n",
       " torch.Size([4, 1, 224, 224]))"
      ]
     },
     "execution_count": 55,
     "metadata": {},
     "output_type": "execute_result"
    }
   ],
   "source": [
    "vis.keys(),vis['pred'].shape,vis['mask'].shape"
   ]
  },
  {
   "cell_type": "code",
   "execution_count": 57,
   "metadata": {},
   "outputs": [
    {
     "data": {
      "text/plain": [
       "torch.Size([4, 1, 224, 224])"
      ]
     },
     "execution_count": 57,
     "metadata": {},
     "output_type": "execute_result"
    }
   ],
   "source": [
    "torch.unsqueeze(vis['pred'][:,0,:,:],1).shape"
   ]
  },
  {
   "cell_type": "code",
   "execution_count": 265,
   "metadata": {},
   "outputs": [],
   "source": [
    "model.eval()\n",
    "img_stack = Variable(torch.FloatTensor(img_stack))\n",
    "gt_disp = Variable(torch.FloatTensor(gt_disp))\n",
    "img_stack,gt_disp,foc_dist,coc_stack=img_stack.cuda(),gt_disp.cuda(),foc_dist.cuda(),coc_stack.cuda()"
   ]
  },
  {
   "cell_type": "code",
   "execution_count": 12,
   "metadata": {},
   "outputs": [
    {
     "data": {
      "text/plain": [
       "torch.Size([4, 5, 224, 224])"
      ]
     },
     "execution_count": 12,
     "metadata": {},
     "output_type": "execute_result"
    }
   ],
   "source": [
    "mask = gt_disp > 0\n",
    "mask.detach_()\n",
    "mask=torch.repeat_interleave(mask,repeats=5,dim=1)\n",
    "mask.shape"
   ]
  },
  {
   "cell_type": "code",
   "execution_count": 11,
   "metadata": {},
   "outputs": [
    {
     "data": {
      "text/plain": [
       "torch.Size([4, 5, 224, 224])"
      ]
     },
     "execution_count": 11,
     "metadata": {},
     "output_type": "execute_result"
    }
   ],
   "source": [
    "coc_mean=torch.mean(coc_stack,dim=1)\n",
    "coc_mean=torch.unsqueeze(coc_mean,dim=1)\n",
    "coc_mean=torch.repeat_interleave(coc_mean,repeats=5,dim=1)\n",
    "coc_stack_norm=coc_stack/coc_mean\n",
    "coc_stack_norm.shape"
   ]
  },
  {
   "cell_type": "code",
   "execution_count": 13,
   "metadata": {},
   "outputs": [
    {
     "data": {
      "text/plain": [
       "torch.Size([1003520])"
      ]
     },
     "execution_count": 13,
     "metadata": {},
     "output_type": "execute_result"
    }
   ],
   "source": [
    "coc_stack_norm[mask].shape"
   ]
  },
  {
   "cell_type": "code",
   "execution_count": 9,
   "metadata": {},
   "outputs": [
    {
     "data": {
      "text/plain": [
       "1"
      ]
     },
     "execution_count": 9,
     "metadata": {},
     "output_type": "execute_result"
    }
   ],
   "source": [
    "len(stacked)"
   ]
  },
  {
   "cell_type": "code",
   "execution_count": 10,
   "metadata": {},
   "outputs": [
    {
     "name": "stdout",
     "output_type": "stream",
     "text": [
      "validating\n"
     ]
    },
    {
     "data": {
      "text/plain": [
       "torch.Size([4, 5, 224, 224])"
      ]
     },
     "execution_count": 10,
     "metadata": {},
     "output_type": "execute_result"
    }
   ],
   "source": [
    "model.eval()\n",
    "stacked= model(img_stack, foc_dist)\n",
    "stacked[0].shape"
   ]
  },
  {
   "cell_type": "code",
   "execution_count": 38,
   "metadata": {},
   "outputs": [],
   "source": [
    "# =========== Train func. =========\n",
    "def train(img_stack_in, disp, foc_dist):\n",
    "    model.train()\n",
    "    img_stack_in   = Variable(torch.FloatTensor(img_stack_in))\n",
    "    gt_disp    = Variable(torch.FloatTensor(disp))\n",
    "    img_stack, gt_disp, foc_dist = img_stack_in.cuda(),  gt_disp.cuda(), foc_dist.cuda()\n",
    "\n",
    "    #---------\n",
    "    max_val = torch.where(foc_dist>=100, torch.zeros_like(foc_dist), foc_dist) # exclude padding value\n",
    "    min_val = torch.where(foc_dist<=0, torch.ones_like(foc_dist)*10, foc_dist)  # exclude padding value\n",
    "    mask = (gt_disp >= min_val.min(dim=1)[0].view(-1,1,1,1)) & (gt_disp <= max_val.max(dim=1)[0].view(-1,1,1,1)) #\n",
    "    mask.detach_()\n",
    "    #----\n",
    "\n",
    "    optimizer.zero_grad()\n",
    "    beta_scale = 1 # smooth l1 do not have beta in 1.6, so we increase the input to and then scale back -- no significant improve according to our trials\n",
    "    stacked, stds, _ = model(img_stack, foc_dist)\n",
    "\n",
    "    lvl_w=[8./15, 4./15, 2./15, 1./15]\n",
    "    loss = 0\n",
    "    for i, (pred, std) in enumerate(zip(stacked, stds)):\n",
    "        _cur_loss = F.smooth_l1_loss(pred[mask] * beta_scale, gt_disp[mask]* beta_scale, reduction='none') / beta_scale\n",
    "        loss = loss + lvl_w[i] * _cur_loss.mean()\n",
    "\n",
    "    loss.backward()\n",
    "    torch.nn.utils.clip_grad_norm_(model.parameters(), 0.5)\n",
    "    optimizer.step()\n",
    "    vis = {}\n",
    "    vis['pred'] = stacked[0].detach().cpu()\n",
    "    vis['mask'] = mask.type(torch.float).detach().cpu()\n",
    "    lossvalue = loss.data\n",
    "\n",
    "    del stacked\n",
    "    del loss\n",
    "    return lossvalue,vis\n",
    "\n",
    "\n",
    "def valid(img_stack_in,disp, foc_dist):\n",
    "    model.eval()\n",
    "    img_stack = Variable(torch.FloatTensor(img_stack_in))\n",
    "    gt_disp = Variable(torch.FloatTensor(disp))\n",
    "    img_stack, gt_disp, foc_dist = img_stack.cuda() , gt_disp.cuda(), foc_dist.cuda()\n",
    "\n",
    "    #---------\n",
    "    mask = gt_disp > 0\n",
    "    mask.detach_()\n",
    "    #----\n",
    "    with torch.no_grad():\n",
    "        pred_disp, _, _ = model(img_stack, foc_dist)\n",
    "        loss = (F.mse_loss(pred_disp[mask] , gt_disp[mask] , reduction='mean')) # use MSE loss for val\n",
    "\n",
    "    vis = {}\n",
    "    vis['mask'] = mask.type(torch.float).detach().cpu()\n",
    "    vis[\"pred\"] = pred_disp.detach().cpu()\n",
    "\n",
    "    return loss, vis"
   ]
  },
  {
   "cell_type": "code",
   "execution_count": 32,
   "metadata": {},
   "outputs": [],
   "source": []
  },
  {
   "cell_type": "code",
   "execution_count": 22,
   "metadata": {},
   "outputs": [
    {
     "data": {
      "text/plain": [
       "tensor(0.7135, device='cuda:0')"
      ]
     },
     "execution_count": 22,
     "metadata": {},
     "output_type": "execute_result"
    }
   ],
   "source": [
    "loss"
   ]
  },
  {
   "cell_type": "code",
   "execution_count": 15,
   "metadata": {},
   "outputs": [
    {
     "ename": "RuntimeError",
     "evalue": "expected device cuda:0 but got device cpu",
     "output_type": "error",
     "traceback": [
      "\u001b[0;31m---------------------------------------------------------------------------\u001b[0m",
      "\u001b[0;31mRuntimeError\u001b[0m                              Traceback (most recent call last)",
      "\u001b[0;32m<ipython-input-15-6bf063e8fbaf>\u001b[0m in \u001b[0;36m<module>\u001b[0;34m\u001b[0m\n\u001b[0;32m----> 1\u001b[0;31m \u001b[0mF\u001b[0m\u001b[0;34m.\u001b[0m\u001b[0mmse_loss\u001b[0m\u001b[0;34m(\u001b[0m\u001b[0mstacked\u001b[0m\u001b[0;34m[\u001b[0m\u001b[0;36m0\u001b[0m\u001b[0;34m]\u001b[0m\u001b[0;34m[\u001b[0m\u001b[0mmask\u001b[0m\u001b[0;34m]\u001b[0m \u001b[0;34m,\u001b[0m \u001b[0mcoc_stack_norm\u001b[0m\u001b[0;34m[\u001b[0m\u001b[0mmask\u001b[0m\u001b[0;34m]\u001b[0m \u001b[0;34m,\u001b[0m \u001b[0mreduction\u001b[0m\u001b[0;34m=\u001b[0m\u001b[0;34m'mean'\u001b[0m\u001b[0;34m)\u001b[0m\u001b[0;34m\u001b[0m\u001b[0;34m\u001b[0m\u001b[0m\n\u001b[0m",
      "\u001b[0;32m/opt/conda/lib/python3.7/site-packages/torch/nn/functional.py\u001b[0m in \u001b[0;36mmse_loss\u001b[0;34m(input, target, size_average, reduce, reduction)\u001b[0m\n\u001b[1;32m   2541\u001b[0m     \u001b[0;32melse\u001b[0m\u001b[0;34m:\u001b[0m\u001b[0;34m\u001b[0m\u001b[0;34m\u001b[0m\u001b[0m\n\u001b[1;32m   2542\u001b[0m         \u001b[0mexpanded_input\u001b[0m\u001b[0;34m,\u001b[0m \u001b[0mexpanded_target\u001b[0m \u001b[0;34m=\u001b[0m \u001b[0mtorch\u001b[0m\u001b[0;34m.\u001b[0m\u001b[0mbroadcast_tensors\u001b[0m\u001b[0;34m(\u001b[0m\u001b[0minput\u001b[0m\u001b[0;34m,\u001b[0m \u001b[0mtarget\u001b[0m\u001b[0;34m)\u001b[0m\u001b[0;34m\u001b[0m\u001b[0;34m\u001b[0m\u001b[0m\n\u001b[0;32m-> 2543\u001b[0;31m         \u001b[0mret\u001b[0m \u001b[0;34m=\u001b[0m \u001b[0mtorch\u001b[0m\u001b[0;34m.\u001b[0m\u001b[0m_C\u001b[0m\u001b[0;34m.\u001b[0m\u001b[0m_nn\u001b[0m\u001b[0;34m.\u001b[0m\u001b[0mmse_loss\u001b[0m\u001b[0;34m(\u001b[0m\u001b[0mexpanded_input\u001b[0m\u001b[0;34m,\u001b[0m \u001b[0mexpanded_target\u001b[0m\u001b[0;34m,\u001b[0m \u001b[0m_Reduction\u001b[0m\u001b[0;34m.\u001b[0m\u001b[0mget_enum\u001b[0m\u001b[0;34m(\u001b[0m\u001b[0mreduction\u001b[0m\u001b[0;34m)\u001b[0m\u001b[0;34m)\u001b[0m\u001b[0;34m\u001b[0m\u001b[0;34m\u001b[0m\u001b[0m\n\u001b[0m\u001b[1;32m   2544\u001b[0m     \u001b[0;32mreturn\u001b[0m \u001b[0mret\u001b[0m\u001b[0;34m\u001b[0m\u001b[0;34m\u001b[0m\u001b[0m\n\u001b[1;32m   2545\u001b[0m \u001b[0;34m\u001b[0m\u001b[0m\n",
      "\u001b[0;31mRuntimeError\u001b[0m: expected device cuda:0 but got device cpu"
     ]
    }
   ],
   "source": [
    "F.mse_loss(stacked[0][mask] , coc_stack_norm[mask] , reduction='mean')"
   ]
  },
  {
   "cell_type": "code",
   "execution_count": 271,
   "metadata": {},
   "outputs": [
    {
     "ename": "IndexError",
     "evalue": "The shape of the mask [4, 5, 224, 224] at index 0 does not match the shape of the indexed tensor [6, 5, 224, 224] at index 0",
     "output_type": "error",
     "traceback": [
      "\u001b[0;31m---------------------------------------------------------------------------\u001b[0m",
      "\u001b[0;31mIndexError\u001b[0m                                Traceback (most recent call last)",
      "\u001b[0;32m<ipython-input-271-9fd021a4275c>\u001b[0m in \u001b[0;36m<module>\u001b[0;34m\u001b[0m\n\u001b[0;32m----> 1\u001b[0;31m \u001b[0mcoc_stack_norm\u001b[0m\u001b[0;34m[\u001b[0m\u001b[0mmask\u001b[0m\u001b[0;34m]\u001b[0m\u001b[0;34m.\u001b[0m\u001b[0mshape\u001b[0m\u001b[0;34m\u001b[0m\u001b[0;34m\u001b[0m\u001b[0m\n\u001b[0m",
      "\u001b[0;31mIndexError\u001b[0m: The shape of the mask [4, 5, 224, 224] at index 0 does not match the shape of the indexed tensor [6, 5, 224, 224] at index 0"
     ]
    }
   ],
   "source": [
    "coc_stack_norm[mask].shape"
   ]
  },
  {
   "cell_type": "code",
   "execution_count": 250,
   "metadata": {},
   "outputs": [
    {
     "data": {
      "text/plain": [
       "torch.Size([4, 5, 224, 224])"
      ]
     },
     "execution_count": 250,
     "metadata": {},
     "output_type": "execute_result"
    }
   ],
   "source": [
    "#---------\n",
    "mask = gt_disp > 0\n",
    "mask.detach_()\n",
    "mask=torch.repeat_interleave(mask,repeats=5,dim=1)\n",
    "mask.shape"
   ]
  },
  {
   "cell_type": "code",
   "execution_count": 251,
   "metadata": {},
   "outputs": [
    {
     "data": {
      "text/plain": [
       "tensor([[[[True, True, True,  ..., True, True, True],\n",
       "          [True, True, True,  ..., True, True, True],\n",
       "          [True, True, True,  ..., True, True, True],\n",
       "          ...,\n",
       "          [True, True, True,  ..., True, True, True],\n",
       "          [True, True, True,  ..., True, True, True],\n",
       "          [True, True, True,  ..., True, True, True]],\n",
       "\n",
       "         [[True, True, True,  ..., True, True, True],\n",
       "          [True, True, True,  ..., True, True, True],\n",
       "          [True, True, True,  ..., True, True, True],\n",
       "          ...,\n",
       "          [True, True, True,  ..., True, True, True],\n",
       "          [True, True, True,  ..., True, True, True],\n",
       "          [True, True, True,  ..., True, True, True]],\n",
       "\n",
       "         [[True, True, True,  ..., True, True, True],\n",
       "          [True, True, True,  ..., True, True, True],\n",
       "          [True, True, True,  ..., True, True, True],\n",
       "          ...,\n",
       "          [True, True, True,  ..., True, True, True],\n",
       "          [True, True, True,  ..., True, True, True],\n",
       "          [True, True, True,  ..., True, True, True]],\n",
       "\n",
       "         [[True, True, True,  ..., True, True, True],\n",
       "          [True, True, True,  ..., True, True, True],\n",
       "          [True, True, True,  ..., True, True, True],\n",
       "          ...,\n",
       "          [True, True, True,  ..., True, True, True],\n",
       "          [True, True, True,  ..., True, True, True],\n",
       "          [True, True, True,  ..., True, True, True]],\n",
       "\n",
       "         [[True, True, True,  ..., True, True, True],\n",
       "          [True, True, True,  ..., True, True, True],\n",
       "          [True, True, True,  ..., True, True, True],\n",
       "          ...,\n",
       "          [True, True, True,  ..., True, True, True],\n",
       "          [True, True, True,  ..., True, True, True],\n",
       "          [True, True, True,  ..., True, True, True]]],\n",
       "\n",
       "\n",
       "        [[[True, True, True,  ..., True, True, True],\n",
       "          [True, True, True,  ..., True, True, True],\n",
       "          [True, True, True,  ..., True, True, True],\n",
       "          ...,\n",
       "          [True, True, True,  ..., True, True, True],\n",
       "          [True, True, True,  ..., True, True, True],\n",
       "          [True, True, True,  ..., True, True, True]],\n",
       "\n",
       "         [[True, True, True,  ..., True, True, True],\n",
       "          [True, True, True,  ..., True, True, True],\n",
       "          [True, True, True,  ..., True, True, True],\n",
       "          ...,\n",
       "          [True, True, True,  ..., True, True, True],\n",
       "          [True, True, True,  ..., True, True, True],\n",
       "          [True, True, True,  ..., True, True, True]],\n",
       "\n",
       "         [[True, True, True,  ..., True, True, True],\n",
       "          [True, True, True,  ..., True, True, True],\n",
       "          [True, True, True,  ..., True, True, True],\n",
       "          ...,\n",
       "          [True, True, True,  ..., True, True, True],\n",
       "          [True, True, True,  ..., True, True, True],\n",
       "          [True, True, True,  ..., True, True, True]],\n",
       "\n",
       "         [[True, True, True,  ..., True, True, True],\n",
       "          [True, True, True,  ..., True, True, True],\n",
       "          [True, True, True,  ..., True, True, True],\n",
       "          ...,\n",
       "          [True, True, True,  ..., True, True, True],\n",
       "          [True, True, True,  ..., True, True, True],\n",
       "          [True, True, True,  ..., True, True, True]],\n",
       "\n",
       "         [[True, True, True,  ..., True, True, True],\n",
       "          [True, True, True,  ..., True, True, True],\n",
       "          [True, True, True,  ..., True, True, True],\n",
       "          ...,\n",
       "          [True, True, True,  ..., True, True, True],\n",
       "          [True, True, True,  ..., True, True, True],\n",
       "          [True, True, True,  ..., True, True, True]]],\n",
       "\n",
       "\n",
       "        [[[True, True, True,  ..., True, True, True],\n",
       "          [True, True, True,  ..., True, True, True],\n",
       "          [True, True, True,  ..., True, True, True],\n",
       "          ...,\n",
       "          [True, True, True,  ..., True, True, True],\n",
       "          [True, True, True,  ..., True, True, True],\n",
       "          [True, True, True,  ..., True, True, True]],\n",
       "\n",
       "         [[True, True, True,  ..., True, True, True],\n",
       "          [True, True, True,  ..., True, True, True],\n",
       "          [True, True, True,  ..., True, True, True],\n",
       "          ...,\n",
       "          [True, True, True,  ..., True, True, True],\n",
       "          [True, True, True,  ..., True, True, True],\n",
       "          [True, True, True,  ..., True, True, True]],\n",
       "\n",
       "         [[True, True, True,  ..., True, True, True],\n",
       "          [True, True, True,  ..., True, True, True],\n",
       "          [True, True, True,  ..., True, True, True],\n",
       "          ...,\n",
       "          [True, True, True,  ..., True, True, True],\n",
       "          [True, True, True,  ..., True, True, True],\n",
       "          [True, True, True,  ..., True, True, True]],\n",
       "\n",
       "         [[True, True, True,  ..., True, True, True],\n",
       "          [True, True, True,  ..., True, True, True],\n",
       "          [True, True, True,  ..., True, True, True],\n",
       "          ...,\n",
       "          [True, True, True,  ..., True, True, True],\n",
       "          [True, True, True,  ..., True, True, True],\n",
       "          [True, True, True,  ..., True, True, True]],\n",
       "\n",
       "         [[True, True, True,  ..., True, True, True],\n",
       "          [True, True, True,  ..., True, True, True],\n",
       "          [True, True, True,  ..., True, True, True],\n",
       "          ...,\n",
       "          [True, True, True,  ..., True, True, True],\n",
       "          [True, True, True,  ..., True, True, True],\n",
       "          [True, True, True,  ..., True, True, True]]],\n",
       "\n",
       "\n",
       "        [[[True, True, True,  ..., True, True, True],\n",
       "          [True, True, True,  ..., True, True, True],\n",
       "          [True, True, True,  ..., True, True, True],\n",
       "          ...,\n",
       "          [True, True, True,  ..., True, True, True],\n",
       "          [True, True, True,  ..., True, True, True],\n",
       "          [True, True, True,  ..., True, True, True]],\n",
       "\n",
       "         [[True, True, True,  ..., True, True, True],\n",
       "          [True, True, True,  ..., True, True, True],\n",
       "          [True, True, True,  ..., True, True, True],\n",
       "          ...,\n",
       "          [True, True, True,  ..., True, True, True],\n",
       "          [True, True, True,  ..., True, True, True],\n",
       "          [True, True, True,  ..., True, True, True]],\n",
       "\n",
       "         [[True, True, True,  ..., True, True, True],\n",
       "          [True, True, True,  ..., True, True, True],\n",
       "          [True, True, True,  ..., True, True, True],\n",
       "          ...,\n",
       "          [True, True, True,  ..., True, True, True],\n",
       "          [True, True, True,  ..., True, True, True],\n",
       "          [True, True, True,  ..., True, True, True]],\n",
       "\n",
       "         [[True, True, True,  ..., True, True, True],\n",
       "          [True, True, True,  ..., True, True, True],\n",
       "          [True, True, True,  ..., True, True, True],\n",
       "          ...,\n",
       "          [True, True, True,  ..., True, True, True],\n",
       "          [True, True, True,  ..., True, True, True],\n",
       "          [True, True, True,  ..., True, True, True]],\n",
       "\n",
       "         [[True, True, True,  ..., True, True, True],\n",
       "          [True, True, True,  ..., True, True, True],\n",
       "          [True, True, True,  ..., True, True, True],\n",
       "          ...,\n",
       "          [True, True, True,  ..., True, True, True],\n",
       "          [True, True, True,  ..., True, True, True],\n",
       "          [True, True, True,  ..., True, True, True]]]])"
      ]
     },
     "execution_count": 251,
     "metadata": {},
     "output_type": "execute_result"
    }
   ],
   "source": [
    "mask"
   ]
  },
  {
   "cell_type": "code",
   "execution_count": 4,
   "metadata": {},
   "outputs": [],
   "source": []
  },
  {
   "cell_type": "code",
   "execution_count": 58,
   "metadata": {},
   "outputs": [],
   "source": [
    "optimizer = optim.Adam(model.parameters(), lr=0.0001, betas=(0.9, 0.999))\n",
    "\n",
    "def train(img_stack_in,disp,coc_stack,foc_dist):\n",
    "    model.train()\n",
    "\n",
    "    img_stack_in=Variable(torch.FloatTensor(img_stack_in))\n",
    "    gt_disp=Variable(torch.FloatTensor(disp))\n",
    "    img_stack,gt_disp,foc_dist,coc_stack=img_stack_in.cuda(),gt_disp.cuda(),foc_dist.cuda(),coc_stack.cuda()\n",
    "\n",
    "    #---------\n",
    "    max_val = torch.where(foc_dist>=100, torch.zeros_like(foc_dist), foc_dist) # exclude padding value\n",
    "    min_val = torch.where(foc_dist<=0, torch.ones_like(foc_dist)*10, foc_dist)  # exclude padding value\n",
    "    mask = (gt_disp >= min_val.min(dim=1)[0].view(-1,1,1,1)) & (gt_disp <= max_val.max(dim=1)[0].view(-1,1,1,1)) #\n",
    "    mask.detach_()\n",
    "    #----\n",
    "\n",
    "    optimizer.zero_grad()\n",
    "    beta_scale = 1 # smooth l1 do not have beta in 1.6, so we increase the input to and then scale back -- no significant improve according to our trials\n",
    "    stacked=model(img_stack, foc_dist)\n",
    "    \n",
    "    \n",
    "    coc_mean=torch.mean(coc_stack,dim=1)\n",
    "    coc_mean=torch.unsqueeze(coc_mean,dim=1)\n",
    "    coc_mean=torch.repeat_interleave(coc_mean,repeats=5,dim=1)\n",
    "\n",
    "    coc_stack_norm=coc_stack/coc_mean\n",
    "\n",
    "    lvl_w=[8./15, 4./15, 2./15, 1./15]\n",
    "    loss = 0\n",
    "    for i, s in enumerate(stacked):\n",
    "        s_mean=torch.mean(s,dim=1)\n",
    "        s_mean=torch.unsqueeze(s_mean,dim=1)\n",
    "        s_mean=torch.repeat_interleave(s_mean,repeats=5,dim=1)\n",
    "        s_norm=s/s_mean\n",
    "        _cur_loss=F.mse_loss(s_norm,coc_stack_norm,reduction='none')\n",
    "        if(math.isinf(torch.mean(_cur_loss.detach().cpu()).item())):\n",
    "            print('inf loss!!')\n",
    "            return coc_stack,stacked\n",
    "        loss = loss + lvl_w[i] * _cur_loss.mean()\n",
    "\n",
    "    loss.backward()\n",
    "    torch.nn.utils.clip_grad_norm_(model.parameters(), 0.5)\n",
    "    optimizer.step()\n",
    "    vis = {}\n",
    "    vis['pred'] = stacked[0].detach().cpu()\n",
    "    vis['pred']=torch.unsqueeze(vis['pred'][:,0,:,:],1)\n",
    "    vis['mask'] = mask.type(torch.float).detach().cpu()\n",
    "    lossvalue = loss.data\n",
    "\n",
    "    del stacked\n",
    "    del loss\n",
    "    return lossvalue,vis\n",
    "\n",
    "def valid(img_stack_in,disp, foc_dist,coc_stack):\n",
    "    model.eval()\n",
    "    img_stack = Variable(torch.FloatTensor(img_stack_in))\n",
    "    gt_disp = Variable(torch.FloatTensor(disp))\n",
    "    img_stack,gt_disp,foc_dist,coc_stack=img_stack.cuda(),gt_disp.cuda(),foc_dist.cuda(),coc_stack.cuda()\n",
    "\n",
    "    #---------\n",
    "    mask = gt_disp > 0\n",
    "    mask.detach_()\n",
    "    mask=torch.repeat_interleave(mask,repeats=5,dim=1)\n",
    "    #----\n",
    "\n",
    "    coc_mean=torch.mean(coc_stack,dim=1)\n",
    "    coc_mean=torch.unsqueeze(coc_mean,dim=1)\n",
    "    coc_mean=torch.repeat_interleave(coc_mean,repeats=5,dim=1)\n",
    "\n",
    "    coc_stack_norm=coc_stack/coc_mean\n",
    "\n",
    "    with torch.no_grad():\n",
    "        stacked= model(img_stack, foc_dist)\n",
    "        loss = (F.mse_loss(stacked[0][mask] , coc_stack_norm[mask] , reduction='mean')) # use MSE loss for val\n",
    "\n",
    "    vis = {}\n",
    "    vis['mask'] = mask.type(torch.float).detach().cpu()\n",
    "    vis[\"pred\"] = stacked[0].detach().cpu()\n",
    "    return loss,vis"
   ]
  },
  {
   "cell_type": "code",
   "execution_count": 139,
   "metadata": {},
   "outputs": [
    {
     "data": {
      "text/plain": [
       "6.440893173217773"
      ]
     },
     "execution_count": 139,
     "metadata": {},
     "output_type": "execute_result"
    }
   ],
   "source": [
    "torch.mean(_cur_loss.detach().cpu()).item()"
   ]
  },
  {
   "cell_type": "code",
   "execution_count": 94,
   "metadata": {},
   "outputs": [
    {
     "name": "stdout",
     "output_type": "stream",
     "text": [
      "torch.Size([6, 5, 56, 56])\n",
      "training\n"
     ]
    }
   ],
   "source": [
    "optimizer = optim.Adam(model.parameters(), lr=0.0001, betas=(0.9, 0.999))\n",
    "\n",
    "max_val = torch.where(foc_dist>=100, torch.zeros_like(foc_dist), foc_dist)\n",
    "min_val = torch.where(foc_dist<=0, torch.ones_like(foc_dist)*10, foc_dist)\n",
    "mask = (gt_disp >= min_val.min(dim=1)[0].view(-1,1,1,1)) & (gt_disp <= max_val.max(dim=1)[0].view(-1,1,1,1))\n",
    "mask.detach_()\n",
    "\n",
    "optimizer.zero_grad()\n",
    "beta_scale = 1 # smooth l1 do not have beta in 1.6, so we increase the input to and then scale back -- no significant improve according to our trials\n",
    "stacked = model(img_stack, foc_dist)\n",
    "\n",
    "coc_mean=torch.mean(coc_stack,dim=1)\n",
    "coc_mean=torch.unsqueeze(coc_mean,dim=1)\n",
    "coc_mean=torch.repeat_interleave(coc_mean,repeats=5,dim=1)\n",
    "\n",
    "coc_stack_norm=coc_stack/coc_mean"
   ]
  },
  {
   "cell_type": "code",
   "execution_count": 232,
   "metadata": {},
   "outputs": [
    {
     "data": {
      "text/plain": [
       "tensor([[[[0.5000, 0.5000, 0.5000,  ..., 0.5000, 0.5000, 0.5000],\n",
       "          [0.5000, 0.5000, 0.5000,  ..., 0.5000, 0.5000, 0.5000],\n",
       "          [0.5000, 0.5000, 0.5000,  ..., 0.5000, 0.5000, 0.5000],\n",
       "          ...,\n",
       "          [0.5000, 0.5000, 0.5000,  ..., 0.5000, 0.5000, 0.5000],\n",
       "          [0.5000, 0.5000, 0.5000,  ..., 0.5000, 0.5000, 0.5000],\n",
       "          [0.5000, 0.5000, 0.5000,  ..., 0.5000, 0.5000, 0.5000]],\n",
       "\n",
       "         [[0.5000, 0.5000, 0.5000,  ..., 0.5000, 0.5000, 0.5000],\n",
       "          [0.5000, 0.5000, 0.5000,  ..., 0.5000, 0.5000, 0.5000],\n",
       "          [0.5000, 0.5000, 0.5000,  ..., 0.5000, 0.5000, 0.5000],\n",
       "          ...,\n",
       "          [0.5000, 0.5000, 0.5000,  ..., 0.5000, 0.5000, 0.5000],\n",
       "          [0.5000, 0.5000, 0.5000,  ..., 0.5000, 0.5000, 0.5000],\n",
       "          [0.5000, 0.5000, 0.5000,  ..., 0.5000, 0.5000, 0.5000]],\n",
       "\n",
       "         [[0.5000, 0.5000, 0.5000,  ..., 0.5000, 0.5000, 0.5000],\n",
       "          [0.5000, 0.5000, 0.5000,  ..., 0.5000, 0.5000, 0.5000],\n",
       "          [0.5000, 0.5000, 0.5000,  ..., 0.5000, 0.5000, 0.5000],\n",
       "          ...,\n",
       "          [0.5000, 0.5000, 0.5000,  ..., 0.5000, 0.5000, 0.5000],\n",
       "          [0.5000, 0.5000, 0.5000,  ..., 0.5000, 0.5000, 0.5000],\n",
       "          [0.5000, 0.5000, 0.5000,  ..., 0.5000, 0.5000, 0.5000]],\n",
       "\n",
       "         [[0.5000, 0.5000, 0.5000,  ..., 0.5000, 0.5000, 0.5000],\n",
       "          [0.5000, 0.5000, 0.5000,  ..., 0.5000, 0.5000, 0.5000],\n",
       "          [0.5000, 0.5000, 0.5000,  ..., 0.5000, 0.5000, 0.5000],\n",
       "          ...,\n",
       "          [0.5000, 0.5000, 0.5000,  ..., 0.5000, 0.5000, 0.5000],\n",
       "          [0.5000, 0.5000, 0.5000,  ..., 0.5000, 0.5000, 0.5000],\n",
       "          [0.5000, 0.5000, 0.5000,  ..., 0.5000, 0.5000, 0.5000]],\n",
       "\n",
       "         [[0.5000, 0.5000, 0.5000,  ..., 0.5000, 0.5000, 0.5000],\n",
       "          [0.5000, 0.5000, 0.5000,  ..., 0.5000, 0.5000, 0.5000],\n",
       "          [0.5000, 0.5000, 0.5000,  ..., 0.5000, 0.5000, 0.5000],\n",
       "          ...,\n",
       "          [0.5000, 0.5000, 0.5000,  ..., 0.5000, 0.5000, 0.5000],\n",
       "          [0.5000, 0.5000, 0.5000,  ..., 0.5000, 0.5000, 0.5000],\n",
       "          [0.5000, 0.5000, 0.5000,  ..., 0.5000, 0.5000, 0.5000]]],\n",
       "\n",
       "\n",
       "        [[[0.5000, 0.5000, 0.5000,  ..., 0.5000, 0.5000, 0.5000],\n",
       "          [0.5000, 0.5000, 0.5000,  ..., 0.5000, 0.5000, 0.5000],\n",
       "          [0.5000, 0.5000, 0.5000,  ..., 0.5000, 0.5000, 0.5000],\n",
       "          ...,\n",
       "          [0.5000, 0.5000, 0.5000,  ..., 0.5000, 0.5000, 0.5000],\n",
       "          [0.5000, 0.5000, 0.5000,  ..., 0.5000, 0.5000, 0.5000],\n",
       "          [0.5000, 0.5000, 0.5000,  ..., 0.5000, 0.5000, 0.5000]],\n",
       "\n",
       "         [[0.5000, 0.5000, 0.5000,  ..., 0.5000, 0.5000, 0.5000],\n",
       "          [0.5000, 0.5000, 0.5000,  ..., 0.5000, 0.5000, 0.5000],\n",
       "          [0.5000, 0.5000, 0.5000,  ..., 0.5000, 0.5000, 0.5000],\n",
       "          ...,\n",
       "          [0.5000, 0.5000, 0.5000,  ..., 0.5000, 0.5000, 0.5000],\n",
       "          [0.5000, 0.5000, 0.5000,  ..., 0.5000, 0.5000, 0.5000],\n",
       "          [0.5000, 0.5000, 0.5000,  ..., 0.5000, 0.5000, 0.5000]],\n",
       "\n",
       "         [[0.5000, 0.5000, 0.5000,  ..., 0.5000, 0.5000, 0.5000],\n",
       "          [0.5000, 0.5000, 0.5000,  ..., 0.5000, 0.5000, 0.5000],\n",
       "          [0.5000, 0.5000, 0.5000,  ..., 0.5000, 0.5000, 0.5000],\n",
       "          ...,\n",
       "          [0.5000, 0.5000, 0.5000,  ..., 0.5000, 0.5000, 0.5000],\n",
       "          [0.5000, 0.5000, 0.5000,  ..., 0.5000, 0.5000, 0.5000],\n",
       "          [0.5000, 0.5000, 0.5000,  ..., 0.5000, 0.5000, 0.5000]],\n",
       "\n",
       "         [[0.5000, 0.5000, 0.5000,  ..., 0.5000, 0.5000, 0.5000],\n",
       "          [0.5000, 0.5000, 0.5000,  ..., 0.5000, 0.5000, 0.5000],\n",
       "          [0.5000, 0.5000, 0.5000,  ..., 0.5000, 0.5000, 0.5000],\n",
       "          ...,\n",
       "          [0.5000, 0.5000, 0.5000,  ..., 0.5000, 0.5000, 0.5000],\n",
       "          [0.5000, 0.5000, 0.5000,  ..., 0.5000, 0.5000, 0.5000],\n",
       "          [0.5000, 0.5000, 0.5000,  ..., 0.5000, 0.5000, 0.5000]],\n",
       "\n",
       "         [[0.5000, 0.5000, 0.5000,  ..., 0.5000, 0.5000, 0.5000],\n",
       "          [0.5000, 0.5000, 0.5000,  ..., 0.5000, 0.5000, 0.5000],\n",
       "          [0.5000, 0.5000, 0.5000,  ..., 0.5000, 0.5000, 0.5000],\n",
       "          ...,\n",
       "          [0.5000, 0.5000, 0.5000,  ..., 0.5000, 0.5000, 0.5000],\n",
       "          [0.5000, 0.5000, 0.5000,  ..., 0.5000, 0.5000, 0.5000],\n",
       "          [0.5000, 0.5000, 0.5000,  ..., 0.5000, 0.5000, 0.5000]]],\n",
       "\n",
       "\n",
       "        [[[0.5000, 0.5000, 0.5000,  ..., 0.5000, 0.5000, 0.5000],\n",
       "          [0.5000, 0.5000, 0.5000,  ..., 0.5000, 0.5000, 0.5000],\n",
       "          [0.5000, 0.5000, 0.5000,  ..., 0.5000, 0.5000, 0.5000],\n",
       "          ...,\n",
       "          [0.5000, 0.5000, 0.5000,  ..., 0.5000, 0.5000, 0.5000],\n",
       "          [0.5000, 0.5000, 0.5000,  ..., 0.5000, 0.5000, 0.5000],\n",
       "          [0.5000, 0.5000, 0.5000,  ..., 0.5000, 0.5000, 0.5000]],\n",
       "\n",
       "         [[0.5000, 0.5000, 0.5000,  ..., 0.5000, 0.5000, 0.5000],\n",
       "          [0.5000, 0.5000, 0.5000,  ..., 0.5000, 0.5000, 0.5000],\n",
       "          [0.5000, 0.5000, 0.5000,  ..., 0.5000, 0.5000, 0.5000],\n",
       "          ...,\n",
       "          [0.5000, 0.5000, 0.5000,  ..., 0.5000, 0.5000, 0.5000],\n",
       "          [0.5000, 0.5000, 0.5000,  ..., 0.5000, 0.5000, 0.5000],\n",
       "          [0.5000, 0.5000, 0.5000,  ..., 0.5000, 0.5000, 0.5000]],\n",
       "\n",
       "         [[0.5000, 0.5000, 0.5000,  ..., 0.5000, 0.5000, 0.5000],\n",
       "          [0.5000, 0.5000, 0.5000,  ..., 0.5000, 0.5000, 0.5000],\n",
       "          [0.5000, 0.5000, 0.5000,  ..., 0.5000, 0.5000, 0.5000],\n",
       "          ...,\n",
       "          [0.5000, 0.5000, 0.5000,  ..., 0.5000, 0.5000, 0.5000],\n",
       "          [0.5000, 0.5000, 0.5000,  ..., 0.5000, 0.5000, 0.5000],\n",
       "          [0.5000, 0.5000, 0.5000,  ..., 0.5000, 0.5000, 0.5000]],\n",
       "\n",
       "         [[0.5000, 0.5000, 0.5000,  ..., 0.5000, 0.5000, 0.5000],\n",
       "          [0.5000, 0.5000, 0.5000,  ..., 0.5000, 0.5000, 0.5000],\n",
       "          [0.5000, 0.5000, 0.5000,  ..., 0.5000, 0.5000, 0.5000],\n",
       "          ...,\n",
       "          [0.5000, 0.5000, 0.5000,  ..., 0.5000, 0.5000, 0.5000],\n",
       "          [0.5000, 0.5000, 0.5000,  ..., 0.5000, 0.5000, 0.5000],\n",
       "          [0.5000, 0.5000, 0.5000,  ..., 0.5000, 0.5000, 0.5000]],\n",
       "\n",
       "         [[0.5000, 0.5000, 0.5000,  ..., 0.5000, 0.5000, 0.5000],\n",
       "          [0.5000, 0.5000, 0.5000,  ..., 0.5000, 0.5000, 0.5000],\n",
       "          [0.5000, 0.5000, 0.5000,  ..., 0.5000, 0.5000, 0.5000],\n",
       "          ...,\n",
       "          [0.5000, 0.5000, 0.5000,  ..., 0.5000, 0.5000, 0.5000],\n",
       "          [0.5000, 0.5000, 0.5000,  ..., 0.5000, 0.5000, 0.5000],\n",
       "          [0.5000, 0.5000, 0.5000,  ..., 0.5000, 0.5000, 0.5000]]],\n",
       "\n",
       "\n",
       "        [[[0.5000, 0.5000, 0.5000,  ..., 0.5000, 0.5000, 0.5000],\n",
       "          [0.5000, 0.5000, 0.5000,  ..., 0.5000, 0.5000, 0.5000],\n",
       "          [0.5000, 0.5000, 0.5000,  ..., 0.5000, 0.5000, 0.5000],\n",
       "          ...,\n",
       "          [0.5000, 0.5000, 0.5000,  ..., 0.5000, 0.5000, 0.5000],\n",
       "          [0.5000, 0.5000, 0.5000,  ..., 0.5000, 0.5000, 0.5000],\n",
       "          [0.5000, 0.5000, 0.5000,  ..., 0.5000, 0.5000, 0.5000]],\n",
       "\n",
       "         [[0.5000, 0.5000, 0.5000,  ..., 0.5000, 0.5000, 0.5000],\n",
       "          [0.5000, 0.5000, 0.5000,  ..., 0.5000, 0.5000, 0.5000],\n",
       "          [0.5000, 0.5000, 0.5000,  ..., 0.5000, 0.5000, 0.5000],\n",
       "          ...,\n",
       "          [0.5000, 0.5000, 0.5000,  ..., 0.5000, 0.5000, 0.5000],\n",
       "          [0.5000, 0.5000, 0.5000,  ..., 0.5000, 0.5000, 0.5000],\n",
       "          [0.5000, 0.5000, 0.5000,  ..., 0.5000, 0.5000, 0.5000]],\n",
       "\n",
       "         [[0.5000, 0.5000, 0.5000,  ..., 0.5000, 0.5000, 0.5000],\n",
       "          [0.5000, 0.5000, 0.5000,  ..., 0.5000, 0.5000, 0.5000],\n",
       "          [0.5000, 0.5000, 0.5000,  ..., 0.5000, 0.5000, 0.5000],\n",
       "          ...,\n",
       "          [0.5000, 0.5000, 0.5000,  ..., 0.5000, 0.5000, 0.5000],\n",
       "          [0.5000, 0.5000, 0.5000,  ..., 0.5000, 0.5000, 0.5000],\n",
       "          [0.5000, 0.5000, 0.5000,  ..., 0.5000, 0.5000, 0.5000]],\n",
       "\n",
       "         [[0.5000, 0.5000, 0.5000,  ..., 0.5000, 0.5000, 0.5000],\n",
       "          [0.5000, 0.5000, 0.5000,  ..., 0.5000, 0.5000, 0.5000],\n",
       "          [0.5000, 0.5000, 0.5000,  ..., 0.5000, 0.5000, 0.5000],\n",
       "          ...,\n",
       "          [0.5000, 0.5000, 0.5000,  ..., 0.5000, 0.5000, 0.5000],\n",
       "          [0.5000, 0.5000, 0.5000,  ..., 0.5000, 0.5000, 0.5000],\n",
       "          [0.5000, 0.5000, 0.5000,  ..., 0.5000, 0.5000, 0.5000]],\n",
       "\n",
       "         [[0.5000, 0.5000, 0.5000,  ..., 0.5000, 0.5000, 0.5000],\n",
       "          [0.5000, 0.5000, 0.5000,  ..., 0.5000, 0.5000, 0.5000],\n",
       "          [0.5000, 0.5000, 0.5000,  ..., 0.5000, 0.5000, 0.5000],\n",
       "          ...,\n",
       "          [0.5000, 0.5000, 0.5000,  ..., 0.5000, 0.5000, 0.5000],\n",
       "          [0.5000, 0.5000, 0.5000,  ..., 0.5000, 0.5000, 0.5000],\n",
       "          [0.5000, 0.5000, 0.5000,  ..., 0.5000, 0.5000, 0.5000]]],\n",
       "\n",
       "\n",
       "        [[[0.5000, 0.5000, 0.5000,  ..., 0.5000, 0.5000, 0.5000],\n",
       "          [0.5000, 0.5000, 0.5000,  ..., 0.5000, 0.5000, 0.5000],\n",
       "          [0.5000, 0.5000, 0.5000,  ..., 0.5000, 0.5000, 0.5000],\n",
       "          ...,\n",
       "          [0.5000, 0.5000, 0.5000,  ..., 0.5000, 0.5000, 0.5000],\n",
       "          [0.5000, 0.5000, 0.5000,  ..., 0.5000, 0.5000, 0.5000],\n",
       "          [0.5000, 0.5000, 0.5000,  ..., 0.5000, 0.5000, 0.5000]],\n",
       "\n",
       "         [[0.5000, 0.5000, 0.5000,  ..., 0.5000, 0.5000, 0.5000],\n",
       "          [0.5000, 0.5000, 0.5000,  ..., 0.5000, 0.5000, 0.5000],\n",
       "          [0.5000, 0.5000, 0.5000,  ..., 0.5000, 0.5000, 0.5000],\n",
       "          ...,\n",
       "          [0.5000, 0.5000, 0.5000,  ..., 0.5000, 0.5000, 0.5000],\n",
       "          [0.5000, 0.5000, 0.5000,  ..., 0.5000, 0.5000, 0.5000],\n",
       "          [0.5000, 0.5000, 0.5000,  ..., 0.5000, 0.5000, 0.5000]],\n",
       "\n",
       "         [[0.5000, 0.5000, 0.5000,  ..., 0.5000, 0.5000, 0.5000],\n",
       "          [0.5000, 0.5000, 0.5000,  ..., 0.5000, 0.5000, 0.5000],\n",
       "          [0.5000, 0.5000, 0.5000,  ..., 0.5000, 0.5000, 0.5000],\n",
       "          ...,\n",
       "          [0.5000, 0.5000, 0.5000,  ..., 0.5000, 0.5000, 0.5000],\n",
       "          [0.5000, 0.5000, 0.5000,  ..., 0.5000, 0.5000, 0.5000],\n",
       "          [0.5000, 0.5000, 0.5000,  ..., 0.5000, 0.5000, 0.5000]],\n",
       "\n",
       "         [[0.5000, 0.5000, 0.5000,  ..., 0.5000, 0.5000, 0.5000],\n",
       "          [0.5000, 0.5000, 0.5000,  ..., 0.5000, 0.5000, 0.5000],\n",
       "          [0.5000, 0.5000, 0.5000,  ..., 0.5000, 0.5000, 0.5000],\n",
       "          ...,\n",
       "          [0.5000, 0.5000, 0.5000,  ..., 0.5000, 0.5000, 0.5000],\n",
       "          [0.5000, 0.5000, 0.5000,  ..., 0.5000, 0.5000, 0.5000],\n",
       "          [0.5000, 0.5000, 0.5000,  ..., 0.5000, 0.5000, 0.5000]],\n",
       "\n",
       "         [[0.5000, 0.5000, 0.5000,  ..., 0.5000, 0.5000, 0.5000],\n",
       "          [0.5000, 0.5000, 0.5000,  ..., 0.5000, 0.5000, 0.5000],\n",
       "          [0.5000, 0.5000, 0.5000,  ..., 0.5000, 0.5000, 0.5000],\n",
       "          ...,\n",
       "          [0.5000, 0.5000, 0.5000,  ..., 0.5000, 0.5000, 0.5000],\n",
       "          [0.5000, 0.5000, 0.5000,  ..., 0.5000, 0.5000, 0.5000],\n",
       "          [0.5000, 0.5000, 0.5000,  ..., 0.5000, 0.5000, 0.5000]]],\n",
       "\n",
       "\n",
       "        [[[0.5000, 0.5000, 0.5000,  ..., 0.5000, 0.5000, 0.5000],\n",
       "          [0.5000, 0.5000, 0.5000,  ..., 0.5000, 0.5000, 0.5000],\n",
       "          [0.5000, 0.5000, 0.5000,  ..., 0.5000, 0.5000, 0.5000],\n",
       "          ...,\n",
       "          [0.5000, 0.5000, 0.5000,  ..., 0.5000, 0.5000, 0.5000],\n",
       "          [0.5000, 0.5000, 0.5000,  ..., 0.5000, 0.5000, 0.5000],\n",
       "          [0.5000, 0.5000, 0.5000,  ..., 0.5000, 0.5000, 0.5000]],\n",
       "\n",
       "         [[0.5000, 0.5000, 0.5000,  ..., 0.5000, 0.5000, 0.5000],\n",
       "          [0.5000, 0.5000, 0.5000,  ..., 0.5000, 0.5000, 0.5000],\n",
       "          [0.5000, 0.5000, 0.5000,  ..., 0.5000, 0.5000, 0.5000],\n",
       "          ...,\n",
       "          [0.5000, 0.5000, 0.5000,  ..., 0.5000, 0.5000, 0.5000],\n",
       "          [0.5000, 0.5000, 0.5000,  ..., 0.5000, 0.5000, 0.5000],\n",
       "          [0.5000, 0.5000, 0.5000,  ..., 0.5000, 0.5000, 0.5000]],\n",
       "\n",
       "         [[0.5000, 0.5000, 0.5000,  ..., 0.5000, 0.5000, 0.5000],\n",
       "          [0.5000, 0.5000, 0.5000,  ..., 0.5000, 0.5000, 0.5000],\n",
       "          [0.5000, 0.5000, 0.5000,  ..., 0.5000, 0.5000, 0.5000],\n",
       "          ...,\n",
       "          [0.5000, 0.5000, 0.5000,  ..., 0.5000, 0.5000, 0.5000],\n",
       "          [0.5000, 0.5000, 0.5000,  ..., 0.5000, 0.5000, 0.5000],\n",
       "          [0.5000, 0.5000, 0.5000,  ..., 0.5000, 0.5000, 0.5000]],\n",
       "\n",
       "         [[0.5000, 0.5000, 0.5000,  ..., 0.5000, 0.5000, 0.5000],\n",
       "          [0.5000, 0.5000, 0.5000,  ..., 0.5000, 0.5000, 0.5000],\n",
       "          [0.5000, 0.5000, 0.5000,  ..., 0.5000, 0.5000, 0.5000],\n",
       "          ...,\n",
       "          [0.5000, 0.5000, 0.5000,  ..., 0.5000, 0.5000, 0.5000],\n",
       "          [0.5000, 0.5000, 0.5000,  ..., 0.5000, 0.5000, 0.5000],\n",
       "          [0.5000, 0.5000, 0.5000,  ..., 0.5000, 0.5000, 0.5000]],\n",
       "\n",
       "         [[0.5000, 0.5000, 0.5000,  ..., 0.5000, 0.5000, 0.5000],\n",
       "          [0.5000, 0.5000, 0.5000,  ..., 0.5000, 0.5000, 0.5000],\n",
       "          [0.5000, 0.5000, 0.5000,  ..., 0.5000, 0.5000, 0.5000],\n",
       "          ...,\n",
       "          [0.5000, 0.5000, 0.5000,  ..., 0.5000, 0.5000, 0.5000],\n",
       "          [0.5000, 0.5000, 0.5000,  ..., 0.5000, 0.5000, 0.5000],\n",
       "          [0.5000, 0.5000, 0.5000,  ..., 0.5000, 0.5000, 0.5000]]]],\n",
       "       device='cuda:0')"
      ]
     },
     "execution_count": 232,
     "metadata": {},
     "output_type": "execute_result"
    }
   ],
   "source": [
    "torch.sigmoid(coc_stack)"
   ]
  },
  {
   "cell_type": "code",
   "execution_count": 96,
   "metadata": {},
   "outputs": [],
   "source": [
    "loss.backward()\n",
    "torch.nn.utils.clip_grad_norm_(model.parameters(), 0.5)\n",
    "optimizer.step()\n",
    "\n",
    "vis = {}\n",
    "vis['pred'] = stacked[0].detach().cpu()\n",
    "vis['mask'] = mask.type(torch.float).detach().cpu()\n",
    "lossvalue = loss.data\n",
    "\n",
    "del stacked\n",
    "del loss"
   ]
  },
  {
   "cell_type": "code",
   "execution_count": 79,
   "metadata": {},
   "outputs": [
    {
     "data": {
      "text/plain": [
       "(torch.Size([6, 5, 224, 224]), torch.Size([6, 5, 224, 224]))"
      ]
     },
     "execution_count": 79,
     "metadata": {},
     "output_type": "execute_result"
    }
   ],
   "source": [
    "s_norm.shape,coc_stack_norm.shape"
   ]
  },
  {
   "cell_type": "code",
   "execution_count": 87,
   "metadata": {},
   "outputs": [],
   "source": [
    "_cur_loss=F.smooth_l1_loss(s_norm,coc_stack_norm,reduction='none')"
   ]
  },
  {
   "cell_type": "code",
   "execution_count": 95,
   "metadata": {},
   "outputs": [],
   "source": [
    "lvl_w=[8./15, 4./15, 2./15, 1./15]\n",
    "loss = 0\n",
    "for i, s in enumerate(stacked):\n",
    "    s_mean=torch.mean(s,dim=1)\n",
    "    s_mean=torch.unsqueeze(s_mean,dim=1)\n",
    "    s_mean=torch.repeat_interleave(s_mean,repeats=5,dim=1)\n",
    "    s_norm=s/s_mean\n",
    "    _cur_loss=F.smooth_l1_loss(s_norm,coc_stack_norm,reduction='none')\n",
    "    loss = loss + lvl_w[i] * _cur_loss.mean()"
   ]
  },
  {
   "cell_type": "code",
   "execution_count": 89,
   "metadata": {},
   "outputs": [
    {
     "data": {
      "text/plain": [
       "tensor(16.2244, device='cuda:0', grad_fn=<AddBackward0>)"
      ]
     },
     "execution_count": 89,
     "metadata": {},
     "output_type": "execute_result"
    }
   ],
   "source": [
    "loss"
   ]
  },
  {
   "cell_type": "code",
   "execution_count": 23,
   "metadata": {},
   "outputs": [
    {
     "name": "stdout",
     "output_type": "stream",
     "text": [
      "torch.Size([4, 224, 224])\n",
      "torch.Size([4, 1, 224, 224])\n"
     ]
    },
    {
     "data": {
      "text/plain": [
       "torch.Size([4, 5, 224, 224])"
      ]
     },
     "execution_count": 23,
     "metadata": {},
     "output_type": "execute_result"
    }
   ],
   "source": [
    "coc_mean=torch.mean(coc_stack,dim=1)\n",
    "print(coc_mean.shape)\n",
    "coc_mean=torch.unsqueeze(coc_mean,dim=1)\n",
    "print(coc_mean.shape)\n",
    "coc_mean=torch.repeat_interleave(coc_mean,repeats=5,dim=1)\n",
    "coc_mean.shape"
   ]
  },
  {
   "cell_type": "code",
   "execution_count": 41,
   "metadata": {},
   "outputs": [
    {
     "data": {
      "text/plain": [
       "(tensor(0.), tensor(2.6199), tensor(0.), tensor(8.3566e-05))"
      ]
     },
     "execution_count": 41,
     "metadata": {},
     "output_type": "execute_result"
    }
   ],
   "source": [
    "coc_stack_norm=coc_stack/coc_mean\n",
    "torch.min(coc_stack_norm),torch.max(coc_stack_norm),torch.min(coc_stack),torch.max(coc_stack)"
   ]
  },
  {
   "cell_type": "code",
   "execution_count": null,
   "metadata": {},
   "outputs": [],
   "source": []
  },
  {
   "cell_type": "code",
   "execution_count": 82,
   "metadata": {},
   "outputs": [
    {
     "name": "stderr",
     "output_type": "stream",
     "text": [
      "/opt/conda/lib/python3.7/site-packages/ipykernel_launcher.py:66: DeprecationWarning: The binary mode of fromstring is deprecated, as it behaves surprisingly on unicode inputs. Use frombuffer instead\n",
      "/opt/conda/lib/python3.7/site-packages/ipykernel_launcher.py:66: DeprecationWarning: The binary mode of fromstring is deprecated, as it behaves surprisingly on unicode inputs. Use frombuffer instead\n",
      "/opt/conda/lib/python3.7/site-packages/ipykernel_launcher.py:66: DeprecationWarning: The binary mode of fromstring is deprecated, as it behaves surprisingly on unicode inputs. Use frombuffer instead\n",
      "/opt/conda/lib/python3.7/site-packages/ipykernel_launcher.py:66: DeprecationWarning: The binary mode of fromstring is deprecated, as it behaves surprisingly on unicode inputs. Use frombuffer instead\n"
     ]
    }
   ],
   "source": []
  },
  {
   "cell_type": "code",
   "execution_count": null,
   "metadata": {},
   "outputs": [],
   "source": [
    "loss = 0\n",
    "for i, (pred, std) in enumerate(zip(stacked, stds)):\n",
    "    _cur_loss = F.smooth_l1_loss(pred[mask] * beta_scale, gt_disp[mask]* beta_scale, reduction='none') / beta_scale\n",
    "    loss = loss + args.lvl_w[i] * _cur_loss.mean()"
   ]
  },
  {
   "cell_type": "code",
   "execution_count": 46,
   "metadata": {},
   "outputs": [
    {
     "data": {
      "text/plain": [
       "(torch.Size([4, 5, 224, 224]),\n",
       " torch.Size([4, 5, 3, 224, 224]),\n",
       " torch.Size([4, 1, 224, 224]))"
      ]
     },
     "execution_count": 46,
     "metadata": {},
     "output_type": "execute_result"
    }
   ],
   "source": [
    "coc_stack.shape,img_stack.shape,gt_disp.shape"
   ]
  },
  {
   "cell_type": "code",
   "execution_count": 23,
   "metadata": {},
   "outputs": [
    {
     "data": {
      "text/plain": [
       "tensor(2.8971)"
      ]
     },
     "execution_count": 23,
     "metadata": {},
     "output_type": "execute_result"
    }
   ],
   "source": [
    "torch.max(coc_stack/torch.mean(coc_stack))"
   ]
  },
  {
   "cell_type": "code",
   "execution_count": 48,
   "metadata": {},
   "outputs": [
    {
     "data": {
      "text/plain": [
       "(tensor(0.), tensor(8.3566e-05))"
      ]
     },
     "execution_count": 48,
     "metadata": {},
     "output_type": "execute_result"
    }
   ],
   "source": [
    "torch.min(coc_stack),torch.max(coc_stack)"
   ]
  },
  {
   "cell_type": "code",
   "execution_count": 44,
   "metadata": {},
   "outputs": [
    {
     "data": {
      "text/plain": [
       "<matplotlib.image.AxesImage at 0x7f4eb19df390>"
      ]
     },
     "execution_count": 44,
     "metadata": {},
     "output_type": "execute_result"
    },
    {
     "data": {
      "image/png": "[encoded data removed]",
      "text/plain": [
       "<Figure size 432x288 with 1 Axes>"
      ]
     },
     "metadata": {
      "needs_background": "light"
     },
     "output_type": "display_data"
    }
   ],
   "source": [
    "plt.imshow(img_stack[0,0,1,:,:].cpu().detach().numpy())"
   ]
  },
  {
   "cell_type": "code",
   "execution_count": 45,
   "metadata": {},
   "outputs": [
    {
     "data": {
      "text/plain": [
       "<matplotlib.image.AxesImage at 0x7f4eb195e0d0>"
      ]
     },
     "execution_count": 45,
     "metadata": {},
     "output_type": "execute_result"
    },
    {
     "data": {
      "image/png": "[encoded data removed]",
      "text/plain": [
       "<Figure size 432x288 with 1 Axes>"
      ]
     },
     "metadata": {
      "needs_background": "light"
     },
     "output_type": "display_data"
    }
   ],
   "source": [
    "plt.imshow(coc_stack[0,0,:,:].cpu().detach().numpy())"
   ]
  },
  {
   "cell_type": "code",
   "execution_count": 47,
   "metadata": {},
   "outputs": [
    {
     "data": {
      "text/plain": [
       "<matplotlib.image.AxesImage at 0x7f4eb18cd190>"
      ]
     },
     "execution_count": 47,
     "metadata": {},
     "output_type": "execute_result"
    },
    {
     "data": {
      "image/png": "[encoded data removed]",
      "text/plain": [
       "<Figure size 432x288 with 1 Axes>"
      ]
     },
     "metadata": {
      "needs_background": "light"
     },
     "output_type": "display_data"
    }
   ],
   "source": [
    "plt.imshow(gt_disp[0,0,:,:].cpu().detach().numpy())"
   ]
  },
  {
   "cell_type": "code",
   "execution_count": 24,
   "metadata": {},
   "outputs": [
    {
     "data": {
      "text/plain": [
       "tensor([[[[4.3792e-05, 4.3714e-05, 4.3869e-05,  ..., 6.4834e-05,\n",
       "           6.5059e-05, 6.5266e-05],\n",
       "          [4.3946e-05, 4.3869e-05, 4.3998e-05,  ..., 6.5059e-05,\n",
       "           6.5279e-05, 6.5369e-05],\n",
       "          [4.4100e-05, 4.3998e-05, 4.4151e-05,  ..., 6.5292e-05,\n",
       "           6.5445e-05, 6.5445e-05],\n",
       "          ...,\n",
       "          [7.7251e-05, 7.7231e-05, 7.7207e-05,  ..., 2.4373e-05,\n",
       "           2.4318e-05, 2.4263e-05],\n",
       "          [7.7256e-05, 7.7231e-05, 7.7207e-05,  ..., 2.4318e-05,\n",
       "           2.4263e-05, 2.4209e-05],\n",
       "          [7.7256e-05, 7.7231e-05, 7.7207e-05,  ..., 2.4209e-05,\n",
       "           2.4209e-05, 2.4154e-05]]],\n",
       "\n",
       "\n",
       "        [[[7.7008e-05, 7.7034e-05, 7.7060e-05,  ..., 2.8406e-05,\n",
       "           2.8263e-05, 2.8070e-05],\n",
       "          [7.7003e-05, 7.7029e-05, 7.7055e-05,  ..., 2.8454e-05,\n",
       "           2.8263e-05, 2.8118e-05],\n",
       "          [7.7003e-05, 7.7029e-05, 7.7049e-05,  ..., 2.8502e-05,\n",
       "           2.8311e-05, 2.8167e-05],\n",
       "          ...,\n",
       "          [5.8434e-05, 5.8411e-05, 5.8389e-05,  ..., 7.6833e-05,\n",
       "           7.6839e-05, 7.6849e-05],\n",
       "          [5.8366e-05, 5.8344e-05, 5.8321e-05,  ..., 7.6806e-05,\n",
       "           7.6812e-05, 7.6823e-05],\n",
       "          [5.8299e-05, 5.8276e-05, 5.8253e-05,  ..., 7.6779e-05,\n",
       "           7.6785e-05, 7.6795e-05]]],\n",
       "\n",
       "\n",
       "        [[[7.6239e-05, 7.6226e-05, 7.6214e-05,  ..., 4.2239e-05,\n",
       "           4.2487e-05, 4.2760e-05],\n",
       "          [7.6202e-05, 7.6190e-05, 7.6178e-05,  ..., 4.2267e-05,\n",
       "           4.2515e-05, 4.2787e-05],\n",
       "          [7.6165e-05, 7.6159e-05, 7.6147e-05,  ..., 4.2267e-05,\n",
       "           4.2542e-05, 4.3610e-05],\n",
       "          ...,\n",
       "          [4.8223e-06, 5.2910e-06, 5.9841e-06,  ..., 7.2353e-05,\n",
       "           7.2318e-05, 7.2272e-05],\n",
       "          [4.4910e-06, 5.1977e-06, 5.8924e-06,  ..., 7.2364e-05,\n",
       "           7.2318e-05, 7.2272e-05],\n",
       "          [4.3482e-06, 5.0573e-06, 5.8004e-06,  ..., 7.2376e-05,\n",
       "           7.2330e-05, 7.2284e-05]]],\n",
       "\n",
       "\n",
       "        [[[7.9556e-05, 7.9573e-05, 7.9595e-05,  ..., 2.3711e-05,\n",
       "           2.3487e-05, 2.3261e-05],\n",
       "          [7.9556e-05, 7.9578e-05, 7.9606e-05,  ..., 2.3822e-05,\n",
       "           2.3599e-05, 2.3374e-05],\n",
       "          [7.9567e-05, 7.9601e-05, 7.9628e-05,  ..., 2.3933e-05,\n",
       "           2.3711e-05, 2.3487e-05],\n",
       "          ...,\n",
       "          [7.3305e-05, 7.3315e-05, 7.3325e-05,  ..., 6.3590e-05,\n",
       "           6.3827e-05, 6.4059e-05],\n",
       "          [7.3285e-05, 7.3265e-05, 7.3275e-05,  ..., 6.3768e-05,\n",
       "           6.4001e-05, 6.4229e-05],\n",
       "          [7.3285e-05, 7.3255e-05, 7.3225e-05,  ..., 6.3943e-05,\n",
       "           6.4173e-05, 6.4397e-05]]]], device='cuda:0')"
      ]
     },
     "execution_count": 24,
     "metadata": {},
     "output_type": "execute_result"
    }
   ],
   "source": [
    "camera=CameraLens(2.9*1e-3,f_number=1)\n",
    "camera.get_coc(0.1,gt_disp)"
   ]
  },
  {
   "cell_type": "code",
   "execution_count": 59,
   "metadata": {},
   "outputs": [
    {
     "data": {
      "text/plain": [
       "(tensor(0.1000, device='cuda:0'), tensor(2.8398, device='cuda:0'))"
      ]
     },
     "execution_count": 59,
     "metadata": {},
     "output_type": "execute_result"
    }
   ],
   "source": [
    "torch.min(gt_disp),torch.max(gt_disp)"
   ]
  },
  {
   "cell_type": "code",
   "execution_count": null,
   "metadata": {},
   "outputs": [],
   "source": []
  },
  {
   "cell_type": "code",
   "execution_count": 35,
   "metadata": {},
   "outputs": [
    {
     "name": "stderr",
     "output_type": "stream",
     "text": [
      "/opt/conda/lib/python3.7/site-packages/torch/nn/functional.py:2796: UserWarning: nn.functional.upsample is deprecated. Use nn.functional.interpolate instead.\n",
      "  warnings.warn(\"nn.functional.upsample is deprecated. Use nn.functional.interpolate instead.\")\n",
      "/opt/conda/lib/python3.7/site-packages/torch/nn/functional.py:2973: UserWarning: Default upsampling behavior when mode=bilinear is changed to align_corners=False since 0.4.0. Please specify align_corners=True if the old behavior is desired. See the documentation of nn.Upsample for details.\n",
      "  \"See the documentation of nn.Upsample for details.\".format(mode))\n",
      "/opt/conda/lib/python3.7/site-packages/torch/nn/functional.py:2973: UserWarning: Default upsampling behavior when mode=trilinear is changed to align_corners=False since 0.4.0. Please specify align_corners=True if the old behavior is desired. See the documentation of nn.Upsample for details.\n",
      "  \"See the documentation of nn.Upsample for details.\".format(mode))\n"
     ]
    },
    {
     "name": "stdout",
     "output_type": "stream",
     "text": [
      "torch.Size([4, 5, 56, 56])\n",
      "training\n"
     ]
    }
   ],
   "source": [
    "stacked = model(img_stack, foc_dist)"
   ]
  },
  {
   "cell_type": "code",
   "execution_count": 36,
   "metadata": {},
   "outputs": [
    {
     "data": {
      "text/plain": [
       "torch.Size([4, 5, 224, 224])"
      ]
     },
     "execution_count": 36,
     "metadata": {},
     "output_type": "execute_result"
    }
   ],
   "source": [
    "stacked[3].shape"
   ]
  },
  {
   "cell_type": "code",
   "execution_count": 37,
   "metadata": {},
   "outputs": [
    {
     "data": {
      "text/plain": [
       "4"
      ]
     },
     "execution_count": 37,
     "metadata": {},
     "output_type": "execute_result"
    }
   ],
   "source": [
    "len(stacked[0])"
   ]
  },
  {
   "cell_type": "code",
   "execution_count": 55,
   "metadata": {},
   "outputs": [
    {
     "data": {
      "text/plain": [
       "(torch.Size([3, 16, 5, 56, 56]),\n",
       " torch.Size([3, 32, 5, 28, 28]),\n",
       " torch.Size([3, 64, 5, 14, 14]),\n",
       " torch.Size([3, 128, 5, 7, 7]))"
      ]
     },
     "execution_count": 55,
     "metadata": {},
     "output_type": "execute_result"
    }
   ],
   "source": [
    "vol1.shape,vol2.shape,vol3.shape,vol4.shape"
   ]
  },
  {
   "cell_type": "code",
   "execution_count": 56,
   "metadata": {},
   "outputs": [
    {
     "data": {
      "text/plain": [
       "torch.Size([4, 5, 224, 224])"
      ]
     },
     "execution_count": 56,
     "metadata": {},
     "output_type": "execute_result"
    }
   ],
   "source": [
    "cost3.shape"
   ]
  },
  {
   "cell_type": "code",
   "execution_count": 51,
   "metadata": {},
   "outputs": [
    {
     "data": {
      "text/plain": [
       "<matplotlib.image.AxesImage at 0x7f9c23ebfad0>"
      ]
     },
     "execution_count": 51,
     "metadata": {},
     "output_type": "execute_result"
    },
    {
     "data": {
      "image/png": "[encoded data removed]",
      "text/plain": [
       "<Figure size 432x288 with 1 Axes>"
      ]
     },
     "metadata": {
      "needs_background": "light"
     },
     "output_type": "display_data"
    }
   ],
   "source": [
    "plt.imshow(cost3[0,1,:,:].cpu().detach().numpy())"
   ]
  },
  {
   "cell_type": "code",
   "execution_count": 64,
   "metadata": {},
   "outputs": [
    {
     "data": {
      "text/plain": [
       "1.9814877145742172e-05"
      ]
     },
     "execution_count": 64,
     "metadata": {},
     "output_type": "execute_result"
    }
   ],
   "source": [
    "camera=CameraLens(2.9*1e-3,f_number=1)\n",
    "camera.get_coc(0.3,1.0)"
   ]
  },
  {
   "cell_type": "code",
   "execution_count": null,
   "metadata": {},
   "outputs": [],
   "source": []
  },
  {
   "cell_type": "code",
   "execution_count": 50,
   "metadata": {},
   "outputs": [],
   "source": [
    "def _abs_val(x):\n",
    "    if isinstance(x, np.ndarray) or isinstance(x, float) or isinstance(x, int):\n",
    "        return np.abs(x)\n",
    "    else:\n",
    "        return x.abs()\n",
    "    \n",
    "# to calculate circle of confusion\n",
    "class CameraLens:\n",
    "    def __init__(self, focal_length, sensor_size_full=(0, 0), resolution=(1, 1), aperture_diameter=None, f_number=None, depth_scale=1):\n",
    "        self.focal_length = focal_length\n",
    "        self.depth_scale = depth_scale\n",
    "        self.sensor_size_full = sensor_size_full\n",
    "\n",
    "        if aperture_diameter is not None:\n",
    "            self.aperture_diameter = aperture_diameter\n",
    "            self.f_number = (focal_length / aperture_diameter) if aperture_diameter != 0 else 0\n",
    "        else:\n",
    "            self.f_number = f_number\n",
    "            self.aperture_diameter = focal_length / f_number\n",
    "\n",
    "        if self.sensor_size_full is not None:\n",
    "            self.resolution = resolution\n",
    "            self.aspect_ratio = resolution[0] / resolution[1]\n",
    "            self.sensor_size = [self.sensor_size_full[0], self.sensor_size_full[0] / self.aspect_ratio]\n",
    "        else:\n",
    "            self.resolution = None\n",
    "            self.aspect_ratio = None\n",
    "            self.sensor_size = None\n",
    "            self.fov = None\n",
    "            self.focal_length_pixel = None\n",
    "\n",
    "    def _get_indep_fac(self, focus_distance):\n",
    "        return (self.aperture_diameter * self.focal_length) / (focus_distance - self.focal_length)\n",
    "\n",
    "    def get_coc(self, focus_distance, depth):\n",
    "        if isinstance(focus_distance, torch.Tensor):\n",
    "            for _ in range(len(depth.shape) - len(focus_distance.shape)):\n",
    "                focus_distance = focus_distance.unsqueeze(-1)\n",
    "\n",
    "        return (_abs_val(depth - focus_distance) / depth) * self._get_indep_fac(focus_distance)\n",
    "    \n",
    "import os\n",
    "import numpy as np\n",
    "from torch.utils.data import Dataset\n",
    "import torchvision\n",
    "import torch\n",
    "from PIL import Image\n",
    "\n",
    "from torchvision import transforms\n",
    "import random\n",
    "import numbers\n",
    "import OpenEXR\n",
    "from os import listdir, mkdir\n",
    "from os.path import isfile, join, isdir\n",
    "import cv2\n",
    "\n",
    "\n",
    "# code adopted from https://github.com/soyers/ddff-pytorch/blob/master/python/ddff/dataproviders/datareaders/FocalStackDDFFH5Reader.py\n",
    "\n",
    "def read_dpt(img_dpt_path):\n",
    "    # pt = Imath.PixelType(Imath.PixelType.HALF)  # FLOAT HALF\n",
    "    dpt_img = OpenEXR.InputFile(img_dpt_path)\n",
    "    dw = dpt_img.header()['dataWindow']\n",
    "    size = (dw.max.x - dw.min.x + 1, dw.max.y - dw.min.y + 1)\n",
    "    (r, g, b) = dpt_img.channels(\"RGB\")\n",
    "    dpt = np.fromstring(r, dtype=np.float16)\n",
    "    dpt.shape = (size[1], size[0])\n",
    "    return dpt\n",
    "\n",
    "class ImageDataset(torch.utils.data.Dataset):\n",
    "    \"\"\"Focal place dataset.\"\"\"\n",
    "\n",
    "    def __init__(self, root_dir, img_list, dpth_list,  transform_fnc=None, flag_shuffle=False, img_num=5, data_ratio=0,\n",
    "                 flag_inputs=[True, False], flag_outputs=[False, True], focus_dist=[0.1,.15,.3,0.7,1.5], f_number=0.1, scale=1):\n",
    "        self.root_dir = root_dir\n",
    "        self.transform_fnc = transform_fnc\n",
    "        self.flag_shuffle = flag_shuffle\n",
    "\n",
    "        self.flag_rgb = flag_inputs[0]\n",
    "        self.flag_coc = flag_inputs[1]\n",
    "\n",
    "        self.img_num = img_num\n",
    "        self.data_ratio = data_ratio\n",
    "\n",
    "        self.flag_out_coc = flag_outputs[0]\n",
    "        self.flag_out_depth = flag_outputs[1]\n",
    "\n",
    "        self.focus_dist = focus_dist #torch.tensor(focus_dist) / scale\n",
    "        self.max_n_stack = 5\n",
    "        self.dpth_scale = scale\n",
    "\n",
    "\n",
    "        self.img_mean = np.array([0.485, 0.456, 0.406]).reshape([1,1,3])#[0.278, 0.250, 0.227]\n",
    "        self.img_std= np.array([0.229, 0.224, 0.225]).reshape([1,1,3])#[0.185, 0.178, 0.178]\n",
    "\n",
    "        self.guassian_kernel =  (35,35) # large blur kernel for pad image\n",
    "\n",
    "        ##### Load all images\n",
    "        self.imglist_all = img_list\n",
    "        self.imglist_dpt = dpth_list\n",
    "\n",
    "\n",
    "    def __len__(self):\n",
    "        return int(len(self.imglist_dpt))\n",
    "\n",
    "    def dpth2disp(self, dpth):\n",
    "        disp = 1 / dpth\n",
    "        disp[dpth==0] = 0\n",
    "        return disp\n",
    "\n",
    "    def __getitem__(self, idx):\n",
    "        camera=CameraLens(2.9*1e-3,f_number=1)\n",
    "\n",
    "        ##### Read and process an image\n",
    "        idx_dpt = int(idx)\n",
    "        img_dpt = read_dpt(self.root_dir + self.imglist_dpt[idx_dpt])\n",
    "\n",
    "        foc_dist = self.focus_dist.copy()\n",
    "        mat_dpt = img_dpt.copy()[:, :, np.newaxis]\n",
    "\n",
    "        img_num = min(self.max_n_stack, self.img_num)\n",
    "        ind = idx * img_num\n",
    "\n",
    "        num_list = list(range(self.max_n_stack))\n",
    "\n",
    "        # add RGB, CoC, Depth inputs\n",
    "        mats_input = []\n",
    "        coc_list=[]\n",
    "        mats_output = np.zeros((256, 256, 0))\n",
    "\n",
    "        # load existing image\n",
    "        pad_lst = []\n",
    "        pad_focs = []\n",
    "        for i in range(self.max_n_stack):\n",
    "            if self.flag_rgb:\n",
    "                im = Image.open(self.root_dir + self.imglist_all[ind + num_list[i]])\n",
    "                img_all = np.array(im)\n",
    "                # img Norm\n",
    "                mat_all = img_all.copy() / 255.\n",
    "                mat_all = (mat_all - self.img_mean) / self.img_std\n",
    "                mats_input.append(mat_all)\n",
    "\n",
    "                # pad invalid img in the beginning or the end, keep diff consistent\n",
    "                if self.img_num > self.max_n_stack and len(pad_lst) == 0:\n",
    "                    for j in range(self.img_num-self.max_n_stack):\n",
    "                        pad_lst.append(cv2.GaussianBlur(mat_all, self.guassian_kernel, 0))\n",
    "                        pad_focs.append(0)\n",
    "            #calc CoC images\n",
    "            coc=camera.get_coc(self.focus_dist[i],img_dpt)\n",
    "            coc_list.append(coc)\n",
    "\n",
    "        mats_input = pad_lst + mats_input\n",
    "        foc_dist = pad_focs + foc_dist\n",
    "\n",
    "\n",
    "        mats_input=np.stack(mats_input)\n",
    "        coc_list=np.stack(coc_list)\n",
    "        \n",
    "        if img_num < self.max_n_stack:\n",
    "            if len( self.imglist_all) > 100: # train\n",
    "                rand_idx = np.random.choice(self.max_n_stack, img_num,\n",
    "                                            replace=False)  # this will shuffle order as well\n",
    "                rand_idx = np.sort(rand_idx)\n",
    "            else:\n",
    "                rand_idx = np.linspace(0, self.max_n_stack, img_num)\n",
    "\n",
    "            mats_input = mats_input[rand_idx]\n",
    "            foc_dist = [foc_dist[i] for i in rand_idx]\n",
    "            coc_list=coc_list[rand_idx]\n",
    "\n",
    "        if self.flag_out_depth:\n",
    "            mats_output = np.concatenate((mats_output,(mat_dpt) * self.dpth_scale), axis=2) # first 5 is COC last is depth  self.dpth2disp\n",
    "        \n",
    "        sample = {'input': mats_input, 'output': mats_output,'coc':coc_list}\n",
    "\n",
    "        if self.transform_fnc:\n",
    "            sample = self.transform_fnc(sample)\n",
    "\n",
    "        return sample['input'],sample['output'],sample['coc'],(torch.tensor(foc_dist)) * self.dpth_scale # to match the scale of DDFF12  self.dpth2disp\n",
    "\n",
    "class ToTensor(object):\n",
    "    def __call__(self, sample):\n",
    "        mats_input,mats_output,coc = sample['input'], sample['output'],sample['coc']\n",
    "        mats_input=mats_input.transpose((0, 3, 1, 2))\n",
    "        coc=coc.transpose((0, 1, 2))\n",
    "        mats_output=mats_output.transpose((2, 0, 1))\n",
    "        # print(mats_input.shape, mats_output.shape)\n",
    "        return {'input': torch.from_numpy(mats_input).float(),\n",
    "                'output': torch.from_numpy(mats_output).float(),\n",
    "               'coc':torch.from_numpy(coc).float()}\n",
    "\n",
    "\n",
    "class RandomCrop(object):\n",
    "    \"\"\" Randomly crop images\n",
    "    \"\"\"\n",
    "\n",
    "    def __init__(self, size):\n",
    "        if isinstance(size, numbers.Number):\n",
    "            self.size = (int(size), int(size))\n",
    "        else:\n",
    "            self.size = size\n",
    "\n",
    "    def __call__(self, sample):\n",
    "        inputs,target,coc = sample['input'], sample['output'],sample['coc']\n",
    "        n, h, w, _ = inputs.shape\n",
    "        th, tw = self.size\n",
    "        if w < tw: tw=w\n",
    "        if h < th: th=h\n",
    "\n",
    "        x1 = random.randint(0, w - tw)\n",
    "        y1 = random.randint(0, h - th)\n",
    "        inputs=inputs[:, y1: y1 + th,x1: x1 + tw]\n",
    "        coc=coc[:, y1: y1 + th,x1: x1 + tw]\n",
    "        return {'input':inputs,\n",
    "                'output':target[y1: y1 + th,x1: x1 + tw],\n",
    "                'coc':coc}\n",
    "\n",
    "\n",
    "class RandomFilp(object):\n",
    "    \"\"\" Randomly crop images\n",
    "    \"\"\"\n",
    "\n",
    "    def __init__(self, ratio=0.5):\n",
    "        self.ratio = ratio\n",
    "\n",
    "    def __call__(self, sample):\n",
    "        inputs,target,coc = sample['input'], sample['output'],sample['coc']\n",
    "\n",
    "        # hori filp\n",
    "        if np.random.binomial(1, self.ratio):\n",
    "            inputs=inputs[:,:, ::-1]\n",
    "            target=target[:,::-1]\n",
    "            coc=coc[:,:, ::-1]\n",
    "\n",
    "        # vert flip\n",
    "        if np.random.binomial(1, self.ratio):\n",
    "            inputs=inputs[:, ::-1]\n",
    "            target=target[::-1]\n",
    "            coc=coc[:, ::-1]\n",
    "\n",
    "        return {'input': np.ascontiguousarray(inputs), 'output': np.ascontiguousarray(target),'coc': np.ascontiguousarray(coc)}\n",
    "\n",
    "\n",
    "\n",
    "def FoD500Loader(data_dir, n_stack=5, scale=1, focus_dist=[0.1,.15,.3,0.7,1.5]):\n",
    "\n",
    "    img_train_list = [f for f in listdir(data_dir) if isfile(join(data_dir, f)) and f[-7:] == \"All.tif\" and int(f[:6]) < 400]\n",
    "    dpth_train_list = [f for f in listdir(data_dir) if isfile(join(data_dir, f)) and f[-7:] == \"Dpt.exr\" and int(f[:6]) < 400]\n",
    "\n",
    "    img_train_list.sort()\n",
    "    dpth_train_list.sort()\n",
    "\n",
    "    img_val_list =  [f for f in listdir(data_dir) if isfile(join(data_dir, f)) and f[-7:] == \"All.tif\" and int(f[:6]) >= 400]\n",
    "    dpth_val_list = [f for f in listdir(data_dir) if isfile(join(data_dir, f)) and f[-7:] == \"Dpt.exr\" and int(f[:6]) >=400]\n",
    "\n",
    "    img_val_list.sort()\n",
    "    dpth_val_list.sort()\n",
    "\n",
    "    train_transform = transforms.Compose([\n",
    "                        RandomCrop(224),\n",
    "                        RandomFilp(0.5),\n",
    "                        ToTensor()])\n",
    "    dataset_train = ImageDataset(root_dir=data_dir, img_list=img_train_list, dpth_list=dpth_train_list,\n",
    "                                 transform_fnc=train_transform, img_num=n_stack,  focus_dist=focus_dist, scale=scale)\n",
    "\n",
    "    val_transform = transforms.Compose([ToTensor()])\n",
    "    dataset_valid = ImageDataset(root_dir=data_dir, img_list=img_val_list, dpth_list=dpth_val_list,\n",
    "                                 transform_fnc=val_transform, img_num=n_stack, focus_dist=focus_dist, scale=scale)\n",
    "\n",
    "\n",
    "    return dataset_train, dataset_valid"
   ]
  },
  {
   "cell_type": "code",
   "execution_count": 65,
   "metadata": {},
   "outputs": [],
   "source": [
    "from __future__ import print_function\n",
    "import torch\n",
    "import torch.nn as nn\n",
    "import torch.utils.data\n",
    "from models.submodule import *\n",
    "import pdb\n",
    "from models.featExactor2 import FeatExactor\n",
    "\n",
    "# Ours-FV (use_diff=0) and Ours-DFV (use_diff=1) model\n",
    "\n",
    "class DFFNet(nn.Module):\n",
    "    def __init__(self, clean,level=1, use_diff=1,train_coc=0):\n",
    "        super(DFFNet, self).__init__()\n",
    "\n",
    "        self.clean = clean\n",
    "        self.feature_extraction = FeatExactor()\n",
    "        self.level = level\n",
    "\n",
    "        self.use_diff = use_diff\n",
    "        assert level >= 1 and level <= 4\n",
    "        assert use_diff == 0 or use_diff == 1\n",
    "\n",
    "        if level == 1:\n",
    "            self.decoder3 = decoderBlock(2,16,16, stride=(1,1,1),up=False, nstride=1)\n",
    "        elif level == 2:\n",
    "            self.decoder3 = decoderBlock(2,32,32, stride=(1,1,1),up=False, nstride=1)\n",
    "            self.decoder4 =  decoderBlock(2,32,32, up=True)\n",
    "        elif level == 3:\n",
    "            self.decoder3 = decoderBlock(2, 32, 32, stride=(1, 1, 1), up=False, nstride=1)\n",
    "            self.decoder4 = decoderBlock(2, 64, 32, up=True)\n",
    "            self.decoder5 = decoderBlock(2, 64, 64, up=True, pool=True)\n",
    "        else:\n",
    "            self.decoder3 = decoderBlock(2, 32, 32, stride=(1, 1, 1), up=False, nstride=1)\n",
    "            self.decoder4 = decoderBlock(2, 64, 32,  up=True)\n",
    "            self.decoder5 = decoderBlock(2, 128, 64, up=True, pool=True)\n",
    "            self.decoder6 = decoderBlock(2, 128, 128, up=True, pool=True)\n",
    "\n",
    "        # reg\n",
    "        self.disp_reg = disparityregression(1)\n",
    "\n",
    "\n",
    "    def diff_feat_volume1(self, vol):\n",
    "        vol_out = vol[:,:, :-1] - vol[:, :, 1:]\n",
    "        return torch.cat([vol_out, vol[:,:, -1:]], dim=2) # last elem is  vol[:,:, -1] - 0\n",
    "\n",
    "    def forward(self, stack, focal_dist):\n",
    "        b, n, c, h, w = stack.shape\n",
    "        input_stack = stack.reshape(b*n, c, h , w)\n",
    "\n",
    "        conv4, conv3, conv2, conv1  = self.feature_extraction(input_stack)\n",
    "\n",
    "        # conv3d take b, c, d, h, w\n",
    "        _vol4, _vol3, _vol2, _vol1  = conv4.reshape(b, n, -1, h//32, w//32).permute(0, 2, 1, 3, 4), \\\n",
    "                                 conv3.reshape(b, n, -1, h//16, w//16).permute(0, 2, 1, 3, 4),\\\n",
    "                                 conv2.reshape(b, n, -1, h//8, w//8).permute(0, 2, 1, 3, 4),\\\n",
    "                                 conv1.reshape(b, n, -1, h//4, w//4).permute(0, 2, 1, 3, 4)\n",
    "\n",
    "\n",
    "        if self.use_diff == 1:\n",
    "            vol4, vol3, vol2, vol1 = self.diff_feat_volume1(_vol4), self.diff_feat_volume1(_vol3),\\\n",
    "                                     self.diff_feat_volume1(_vol2), self.diff_feat_volume1(_vol1)\n",
    "        else:\n",
    "            vol4, vol3, vol2, vol1 =  _vol4, _vol3, _vol2, _vol1\n",
    "\n",
    "        if self.level == 1:\n",
    "            _, cost3 = self.decoder3(vol1)\n",
    "\n",
    "        elif self.level == 2:\n",
    "            feat4_2x, cost4 = self.decoder4(vol2)\n",
    "            feat3 = torch.cat((feat4_2x, vol1), dim=1)\n",
    "            _, cost3 = self.decoder3(feat3)\n",
    "\n",
    "        elif self.level == 3:\n",
    "            feat5_2x, cost5 = self.decoder5(vol3)\n",
    "            feat4 = torch.cat((feat5_2x, vol2), dim=1)\n",
    "\n",
    "            feat4_2x, cost4 = self.decoder4(feat4)\n",
    "            feat3 = torch.cat((feat4_2x, vol1), dim=1)\n",
    "            _, cost3 = self.decoder3(feat3)\n",
    "\n",
    "        else:\n",
    "            feat6_2x, cost6 = self.decoder6(vol4)\n",
    "            feat5 = torch.cat((feat6_2x, vol3), dim=1)\n",
    "            feat5_2x, cost5 = self.decoder5(feat5)\n",
    "            feat4 = torch.cat((feat5_2x, vol2), dim=1)\n",
    "\n",
    "            feat4_2x, cost4 = self.decoder4(feat4)\n",
    "            feat3 = torch.cat((feat4_2x, vol1), dim=1)\n",
    "            _, cost3 = self.decoder3(feat3)\n",
    "\n",
    "        cost3 = F.interpolate(cost3, [h, w], mode='bilinear')\n",
    "        cost3=torch.sigmoid(cost3)\n",
    "        #pred3, std3 = self.disp_reg(F.softmax(cost3,1),focal_dist, uncertainty=True)\n",
    "\n",
    "        # different output based on level\n",
    "        stacked = [cost3]\n",
    "        #stds = [std3]\n",
    "        if self.training :\n",
    "            if self.level >= 2:\n",
    "                cost4 = F.interpolate(cost4, [h, w], mode='bilinear')\n",
    "                cost4=torch.sigmoid(cost4)\n",
    "                #pred4, std4 = self.disp_reg(F.softmax(cost4, 1), focal_dist, uncertainty=True)\n",
    "                stacked.append(cost4)\n",
    "                #stds.append(std4)\n",
    "                if self.level >=3 :\n",
    "                    cost5 = F.interpolate((cost5).unsqueeze(1), [focal_dist.shape[1], h, w], mode='trilinear').squeeze(1)\n",
    "                    cost5=torch.sigmoid(cost5)\n",
    "                    #pred5, std5 = self.disp_reg(F.softmax(cost5, 1), focal_dist, uncertainty=True)\n",
    "                    stacked.append(cost5)\n",
    "                    #stds.append(std5)\n",
    "                    if self.level >=4 :\n",
    "                        cost6 = F.interpolate((cost6).unsqueeze(1), [focal_dist.shape[1], h, w], mode='trilinear').squeeze(1)\n",
    "                        cost6=torch.sigmoid(cost6)\n",
    "                        #pred6, std6 = self.disp_reg(F.softmax(cost6, 1), focal_dist, uncertainty=True)\n",
    "                        stacked.append(cost6)\n",
    "                        #stds.append(std6)\n",
    "            return stacked\n",
    "        else:\n",
    "            return stacked"
   ]
  },
  {
   "cell_type": "code",
   "execution_count": null,
   "metadata": {},
   "outputs": [],
   "source": []
  }
 ],
 "metadata": {
  "kernelspec": {
   "display_name": "Python 3",
   "language": "python",
   "name": "python3"
  },
  "language_info": {
   "codemirror_mode": {
    "name": "ipython",
    "version": 3
   },
   "file_extension": ".py",
   "mimetype": "text/x-python",
   "name": "python",
   "nbconvert_exporter": "python",
   "pygments_lexer": "ipython3",
   "version": "3.7.7"
  }
 },
 "nbformat": 4,
 "nbformat_minor": 4
}
